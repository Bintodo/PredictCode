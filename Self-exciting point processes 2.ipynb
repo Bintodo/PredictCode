{
 "cells": [
  {
   "cell_type": "markdown",
   "metadata": {},
   "source": [
    "# A grid based model SEPP model\n",
    "\n",
    "In (1), an explicitly grid-based self-exciting point process (SEPP) model was considered.  The paper (1) is mostly concerned with two field-trials of the SEPP or epidemic-type aftershock sequence (ETAS) type prediction models.  There is no real discussion as to why a grid based model was chosen, compared to the earlier continuous space model using kernel density estimation.\n",
    "\n",
    "### References:\n",
    "\n",
    "1. Mohler et al. \"Randomized Controlled Field Trials of Predictive Policing\". Journal of the American Statistical Association (2015) DOI:10.1080/01621459.2015.1077710\n",
    "2. Lewis, Mohler, \"A Nonparametric EM algorithm for Multiscale Hawkes Processes\", preprint (2011) see http://math.scu.edu/~gmohler/EM_paper.pdf"
   ]
  },
  {
   "cell_type": "markdown",
   "metadata": {},
   "source": [
    "# The model\n",
    "\n",
    "The area of interest is divided into a grid; 150m squares were used in (1).  To quote from (1):\n",
    "\n",
    "> The size of the grid cells on which μ is defined can be estimated by\n",
    "maximum likelihood and in general the optimum size of the grid\n",
    "cell will decrease with increasing data. However, for a fixed area\n",
    "flagged for patrol, a greater number of small hotspots are more\n",
    "difficult to patrol than a small number of large hotspots. The\n",
    "150 × 150 m hotspots were chosen in this study to be the size\n",
    "of a city block in Foothill and were then held constant across all\n",
    "of the experimental regions.\n",
    "\n",
    "The model looks _at each grid cell individually_ and uses what we might recognise as a Hawkes process (in the original form studied by Hawkes, not the more general form).  In grid cell $n$, the conditional intensity $\\lambda_n(t)$ is given by\n",
    "\n",
    "\\begin{equation} \\lambda_n(t) = \\mu_n + \\sum_{t^i_n < t} \\theta \\omega e^{-\\omega(t-t^i_n)}\n",
    "\\tag{eq 1}\n",
    "\\end{equation}\n",
    "\n",
    "where here:\n",
    "\n",
    "- $\\mu_n$ is the background rate in cell $n$.\n",
    "- $\\omega$ and $\\theta$ control the \"near-repeat\" behaviour.  Notice that these do not depend upon $n$.\n",
    "- As always, we sum over events $t^i_n$ which have occurred before the time of interest $t$, and _which have occurred in the same grid cell_.\n",
    "\n",
    "It seems surprising that inter-cell interactions are not considered at all in this model."
   ]
  },
  {
   "cell_type": "markdown",
   "metadata": {},
   "source": [
    "# Model fitting\n",
    "\n",
    "I do not quite understand the paper (1) here.  The following is what I think _should_ have been written.\n",
    "\n",
    "We make initial estimates for $\\mu_n$ (perhaps setting each $\\mu_n$ to be the same) and $\\omega, \\theta$.  Then we alternate the following two steps until convergence:\n",
    "\n",
    "### Expectation step:\n",
    "\n",
    "Compute the upper triangular \"probability matrix\":\n",
    "\n",
    "$$ p^{n}_{ji} \\propto \\theta\\omega e^{-\\omega(t_n^i - t_n^j)}, \\qquad p^n_{ii} \\propto \\mu_n $$\n",
    "\n",
    "where $p^{n}_{ji}$ is the probability, in cell $n$, then event $j$ triggered event $i$.  We set $p^n_{ji} = 0$ if $j > i$ and then normalise so that each column of the matrix sums to $1$ (which is why in the above formula I only give what $p^n_{ji}$ is proportional to).\n",
    "\n",
    "### Maximisation step:\n",
    "\n",
    "We then compute the new parameters:\n",
    "\n",
    "$$ \\omega = \\frac{\\sum_n \\sum_{i<j} p^n_{ij}}{\\sum_n \\sum_{i<j} p^n_{ij}(t_n^j - t_n^i)}, \\qquad\n",
    "\\theta = \\frac{\\sum_n \\sum_{i<j} p^n_{ij}}{\\sum_n \\sum_j 1}, \\qquad \\mu_n = \\frac{\\sum_i p^n_{ii}}{T} $$\n",
    "where $T$ is the time window of data under consideration.\n",
    "\n",
    "(Note here I have given an estimate for $\\mu_n$, whereas (1) seems to sum over $n$ and give an estimate for $\\mu$, the total rate across the study area, but does not specify a suitable estimate for $\\mu_n$.)\n",
    "\n",
    "## In practice\n",
    "\n",
    "The number of cells is likely to be quite large, and for each cell, we end up generating a matrix.  Notice, however, that for each $n$ we only need to know:\n",
    "\n",
    "- $\\sum_{i<j} p^n_{ij}$\n",
    "- $\\sum_{i<j} p^n_{ij}(t_n^j - t_n^i)$\n",
    "- $\\sum_j 1$ the number of events in cell $n$\n",
    "- $\\sum_i p^n_{ii}$"
   ]
  },
  {
   "cell_type": "markdown",
   "metadata": {
    "collapsed": true
   },
   "source": [
    "# Simulation\n",
    "\n",
    "Simulating a process satisfying (eq 1) can be accomplished in the same way as simulating a more general Hawkes-type process.  However, in the simple form we have here, we can find faster simulation methods.\n",
    "\n",
    "1. We simulate the \"branching process\" form.  This can be done on a cell by cell basis.\n",
    "2. So firstly we simulate a homogeneous Poisson process with intensity $\\mu_n$.\n",
    "3. Then each point $i$ gives rise to an independent inhomogeneous Poisson process with intensity $\\theta\\omega e^{-\\omega(t-t_i)}$ where event $i$ occurred at time $t_i$.\n",
    "\n",
    "To simulate the process in 3 we make use of the following result.  If $\\lambda^*$ is the conditional intensity of a process, then the _compensator_ is\n",
    "$$ \\Lambda(t) = \\int_0^t \\lambda^*(s) \\ ds. $$\n",
    "Then we have the following useful result:\n",
    "\n",
    "> If $(t_1,\\cdots,t_k)$ is a realisation of time $[0,T]$ of a point process with conditional intensity $\\lambda^*$ then $\\{\\Lambda(t_1),\\cdots,\\Lambda(t_k)\\}$ is unit rate Poisson process.\n",
    "\n",
    "The converse to this statement is also true.  So, if $\\Lambda$ is invertible, then we may simulate a unit rate Poisson process $\\{s_1,\\cdots,s_k\\}$ and then $t_i  = \\Lambda^{-1}(s_i)$ will be a process with conditional intensity $\\lambda^*$.\n",
    "\n",
    "In our case, $\\lambda^*(t) = \\theta\\omega e^{-\\omega t}$ (translating so that the \"trigger\" event occurs at $t=0$) and so\n",
    "$$ \\Lambda(t) = \\theta \\int_0^t \\omega e^{-\\omega s} \\ ds = \\theta \\Big[ -e^{-\\omega s} \\Big]_0^t\n",
    "= \\theta\\big( 1- e^{-\\omega t} \\big). $$\n",
    "This has inverse $\\Lambda^{-1}(s) = \\omega^{-1} \\log(\\theta / (\\theta - s) )$ defined for $0\\leq s < \\theta$. So\n",
    "\n",
    "- Simulate a unit rate Poisson process $\\{s_1,\\cdots,s_k\\}$ on $[0,\\theta)$ and then set $t_i = \\Lambda^{-1}(s_i)$ to get the \"after-shock\" events.\n",
    "- This allows us to think about the parameters $\\theta$ and $\\omega$.  $\\theta$ controls the rate of the process-- we expect an average of $\\theta$ events.  $\\omega$ controls the scale of the resulting process.\n",
    "- We can speed this up even further.  If we are ultimately only interested in events in $[0,T]$ and the trigger event occurred at time $t_i$, then we only care about $\\Lambda^{-1}(s) \\leq T-t_i$ or $s\\leq \\theta(1-e^{-\\omega(T-t_i)})$."
   ]
  },
  {
   "cell_type": "code",
   "execution_count": 1,
   "metadata": {
    "collapsed": true
   },
   "outputs": [],
   "source": [
    "%matplotlib inline\n",
    "import matplotlib.pyplot as plt\n",
    "import numpy as np"
   ]
  },
  {
   "cell_type": "markdown",
   "metadata": {},
   "source": [
    "# Simulation of the process in a single cell"
   ]
  },
  {
   "cell_type": "code",
   "execution_count": 2,
   "metadata": {
    "collapsed": true
   },
   "outputs": [],
   "source": [
    "import open_cp.sources.sepp as source_sepp"
   ]
  },
  {
   "cell_type": "code",
   "execution_count": 3,
   "metadata": {
    "collapsed": false
   },
   "outputs": [
    {
     "data": {
      "text/plain": [
       "[(-0.1, 0.1), (900, 1000)]"
      ]
     },
     "execution_count": 3,
     "metadata": {},
     "output_type": "execute_result"
    },
    {
     "data": {
      "image/png": "[encoded data removed]",
      "text/plain": [
       "<matplotlib.figure.Figure at 0x2299d04d2b0>"
      ]
     },
     "metadata": {},
     "output_type": "display_data"
    }
   ],
   "source": [
    "process = source_sepp.SelfExcitingPointProcess(\n",
    "    background_sampler = source_sepp.HomogeneousPoissonSampler(rate=0.1),\n",
    "    trigger_sampler = source_sepp.ExponentialDecaySampler(intensity=0.5, exp_rate=10))\n",
    "\n",
    "events = process.sample(0, 1000)\n",
    "\n",
    "fig, ax = plt.subplots(figsize=(18,1))\n",
    "ax.scatter(events, (np.random.random(len(events))-0.5) * 0.03, alpha=.5)\n",
    "ax.set(xlim=[900, 1000], ylim=[-0.1,0.1])"
   ]
  },
  {
   "cell_type": "markdown",
   "metadata": {},
   "source": [
    "## Model fitting for cells with varying background rate\n",
    "\n",
    "We'll create 100 cells with varying background rate, but the same $\\omega, \\theta$"
   ]
  },
  {
   "cell_type": "code",
   "execution_count": 4,
   "metadata": {
    "collapsed": false
   },
   "outputs": [],
   "source": [
    "def simulate(exp_rate=10):\n",
    "    cells = np.empty(100, dtype=np.object)\n",
    "    for i in range(100):\n",
    "        rate = 0.01 + 0.49 * i / 100\n",
    "        process = source_sepp.SelfExcitingPointProcess(\n",
    "            background_sampler = source_sepp.HomogeneousPoissonSampler(rate=rate),\n",
    "            trigger_sampler = source_sepp.ExponentialDecaySampler(intensity=0.5, exp_rate=exp_rate))\n",
    "        events = process.sample(0, 1000)\n",
    "        cells[i] = events[events >= 500]\n",
    "        cells[i] -= cells[i][0]\n",
    "    return cells"
   ]
  },
  {
   "cell_type": "markdown",
   "metadata": {},
   "source": [
    "The number of events in each cell varies quite a lot."
   ]
  },
  {
   "cell_type": "code",
   "execution_count": 5,
   "metadata": {
    "collapsed": false
   },
   "outputs": [
    {
     "data": {
      "text/plain": [
       "(7, 536)"
      ]
     },
     "execution_count": 5,
     "metadata": {},
     "output_type": "execute_result"
    }
   ],
   "source": [
    "cells = simulate()\n",
    "min(len(t) for t in cells), max(len(t) for t in cells)"
   ]
  },
  {
   "cell_type": "code",
   "execution_count": 6,
   "metadata": {
    "collapsed": false
   },
   "outputs": [],
   "source": [
    "import open_cp.seppexp"
   ]
  },
  {
   "cell_type": "code",
   "execution_count": 7,
   "metadata": {
    "collapsed": false
   },
   "outputs": [],
   "source": [
    "def optimise(cells, initial_omega=10, iterations=100):\n",
    "    omega = initial_omega\n",
    "    theta = .5\n",
    "    mu = [.5] * len(cells)\n",
    "\n",
    "    for _ in range(iterations):\n",
    "        omega, theta, mu = open_cp.seppexp.maximisation(cells, omega, theta, mu, 500)\n",
    "    return omega, theta, mu\n",
    "\n",
    "def optimise_corrected(cells, initial_omega=10, iterations=100):\n",
    "    omega = initial_omega\n",
    "    theta = .5\n",
    "    mu = [.5] * len(cells)\n",
    "\n",
    "    for _ in range(iterations):\n",
    "        omega, theta, mu = open_cp.seppexp.maximisation_corrected(cells, omega, theta, mu, 500)\n",
    "    return omega, theta, mu"
   ]
  },
  {
   "cell_type": "code",
   "execution_count": 8,
   "metadata": {
    "collapsed": false
   },
   "outputs": [
    {
     "data": {
      "text/plain": [
       "(9.9180045688999705, 0.5006719121547003)"
      ]
     },
     "execution_count": 8,
     "metadata": {},
     "output_type": "execute_result"
    }
   ],
   "source": [
    "omega, theta, mu = optimise(cells)\n",
    "omega, theta"
   ]
  },
  {
   "cell_type": "code",
   "execution_count": 9,
   "metadata": {
    "collapsed": false
   },
   "outputs": [
    {
     "data": {
      "text/plain": [
       "(9.9173162805334218, 0.50068519443721549)"
      ]
     },
     "execution_count": 9,
     "metadata": {},
     "output_type": "execute_result"
    }
   ],
   "source": [
    "omegac, thetac, muc = optimise_corrected(cells, 0.1, 1000)\n",
    "omegac, thetac"
   ]
  },
  {
   "cell_type": "code",
   "execution_count": 11,
   "metadata": {
    "collapsed": false
   },
   "outputs": [
    {
     "data": {
      "image/png": "[encoded data removed]",
      "text/plain": [
       "<matplotlib.figure.Figure at 0x2299d8019b0>"
      ]
     },
     "metadata": {},
     "output_type": "display_data"
    }
   ],
   "source": [
    "actual_mu = [ 0.01 + 0.49 * i / 100 for i in range(100) ]\n",
    "\n",
    "fig, ax = plt.subplots(ncols=2, figsize=(16,6))\n",
    "ax[0].plot(actual_mu, actual_mu, color=\"red\", linewidth=1, alpha=0.7)\n",
    "ax[0].scatter(actual_mu, mu)\n",
    "ax[0].set(xlim=[0,0.5], ylim=[0,np.max(mu)*1.05], xlabel=\"$\\\\mu$\", ylabel=\"predicted $\\\\mu$\",\n",
    "         title=\"From EM algorithm\")\n",
    "ax[1].plot(actual_mu, actual_mu, color=\"red\", linewidth=1, alpha=0.7)\n",
    "ax[1].scatter(actual_mu, muc)\n",
    "ax[1].set(xlim=[0,0.5], ylim=[0,np.max(mu)*1.05], xlabel=\"$\\\\mu$\", ylabel=\"predicted $\\\\mu$\",\n",
    "         title=\"From EM algorithm with edge corrections\")\n",
    "None"
   ]
  },
  {
   "cell_type": "markdown",
   "metadata": {},
   "source": [
    "Noting that our initial estimate for every $\\mu$ is $0.5$, this is good convergence.\n",
    "\n",
    "However, if we try a rather smaller value of $\\omega$, then the optimisation doesn't find the real parameters, tending to systematically over-estimate the background rate $\\mu$ and under-estimate the aftershock rate."
   ]
  },
  {
   "cell_type": "code",
   "execution_count": 12,
   "metadata": {
    "collapsed": false
   },
   "outputs": [
    {
     "data": {
      "text/plain": [
       "(0.22281847025527352, 0.27779001776550361)"
      ]
     },
     "execution_count": 12,
     "metadata": {},
     "output_type": "execute_result"
    }
   ],
   "source": [
    "cells = simulate(0.1)\n",
    "omega, theta, mu = optimise(cells, 0.1, 1000)\n",
    "omega, theta"
   ]
  },
  {
   "cell_type": "code",
   "execution_count": 13,
   "metadata": {
    "collapsed": false
   },
   "outputs": [
    {
     "data": {
      "text/plain": [
       "(0.14070241893232935, 0.36178527364385754)"
      ]
     },
     "execution_count": 13,
     "metadata": {},
     "output_type": "execute_result"
    }
   ],
   "source": [
    "omegac, thetac, muc = optimise_corrected(cells, 0.1, 1000)\n",
    "omegac, thetac"
   ]
  },
  {
   "cell_type": "code",
   "execution_count": 14,
   "metadata": {
    "collapsed": false
   },
   "outputs": [
    {
     "data": {
      "image/png": "[encoded data removed]",
      "text/plain": [
       "<matplotlib.figure.Figure at 0x2299dc7bcf8>"
      ]
     },
     "metadata": {},
     "output_type": "display_data"
    }
   ],
   "source": [
    "fig, ax = plt.subplots(ncols=2, figsize=(16,6))\n",
    "ax[0].plot(actual_mu, actual_mu, color=\"red\", linewidth=1, alpha=0.7)\n",
    "ax[0].scatter(actual_mu, mu)\n",
    "ax[0].set(xlim=[0,0.5], ylim=[0,np.max(mu)*1.05], xlabel=\"$\\\\mu$\", ylabel=\"predicted $\\\\mu$\",\n",
    "         title=\"From EM algorithm\")\n",
    "ax[1].plot(actual_mu, actual_mu, color=\"red\", linewidth=1, alpha=0.7)\n",
    "ax[1].scatter(actual_mu, muc)\n",
    "ax[1].set(xlim=[0,0.5], ylim=[0,np.max(mu)*1.05], xlabel=\"$\\\\mu$\", ylabel=\"predicted $\\\\mu$\",\n",
    "         title=\"From EM algorithm with edge corrections\")\n",
    "None"
   ]
  },
  {
   "cell_type": "code",
   "execution_count": null,
   "metadata": {
    "collapsed": true
   },
   "outputs": [],
   "source": []
  }
 ],
 "metadata": {
  "kernelspec": {
   "display_name": "Python 3",
   "language": "python",
   "name": "python3"
  },
  "language_info": {
   "codemirror_mode": {
    "name": "ipython",
    "version": 3
   },
   "file_extension": ".py",
   "mimetype": "text/x-python",
   "name": "python",
   "nbconvert_exporter": "python",
   "pygments_lexer": "ipython3",
   "version": "3.6.0"
  }
 },
 "nbformat": 4,
 "nbformat_minor": 2
}
