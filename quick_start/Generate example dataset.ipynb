{
 "cells": [
  {
   "cell_type": "markdown",
   "metadata": {},
   "source": [
    "# Generate example dataset\n",
    "\n",
    "Using our favour source, Chicago: https://data.cityofchicago.org/Public-Safety/Crimes-2001-to-present/ijzp-q8t2\n",
    "\n",
    "Geometry from https://data.cityofchicago.org/Facilities-Geographic-Boundaries/Boundaries-Community-Areas-current-/cauq-8yn6"
   ]
  },
  {
   "cell_type": "code",
   "execution_count": 1,
   "metadata": {
    "collapsed": true
   },
   "outputs": [],
   "source": [
    "import os, csv, lzma\n",
    "import numpy as np\n",
    "import open_cp.sources.chicago\n",
    "import geopandas as gpd\n",
    "import pyproj\n",
    "import shapely.geometry"
   ]
  },
  {
   "cell_type": "markdown",
   "metadata": {},
   "source": [
    "# Get our favourite, the southside"
   ]
  },
  {
   "cell_type": "code",
   "execution_count": 2,
   "metadata": {
    "collapsed": false
   },
   "outputs": [],
   "source": [
    "datadir = os.path.join(\"/media\", \"OTHERDATA\")\n",
    "open_cp.sources.chicago.set_data_directory(datadir)\n",
    "polygon = open_cp.sources.chicago.get_side(\"South\")"
   ]
  },
  {
   "cell_type": "code",
   "execution_count": 3,
   "metadata": {
    "collapsed": false
   },
   "outputs": [
    {
     "data": {
      "text/html": [
       "<div>\n",
       "<table border=\"1\" class=\"dataframe\">\n",
       "  <thead>\n",
       "    <tr style=\"text-align: right;\">\n",
       "      <th></th>\n",
       "      <th>name</th>\n",
       "      <th>geometry</th>\n",
       "    </tr>\n",
       "  </thead>\n",
       "  <tbody>\n",
       "    <tr>\n",
       "      <th>0</th>\n",
       "      <td>South Side</td>\n",
       "      <td>POLYGON ((365647.3845872784 565208.9811670227,...</td>\n",
       "    </tr>\n",
       "  </tbody>\n",
       "</table>\n",
       "</div>"
      ],
      "text/plain": [
       "         name                                           geometry\n",
       "0  South Side  POLYGON ((365647.3845872784 565208.9811670227,..."
      ]
     },
     "execution_count": 3,
     "metadata": {},
     "output_type": "execute_result"
    }
   ],
   "source": [
    "frame = gpd.GeoDataFrame({\"name\":[\"South Side\"]})\n",
    "frame.geometry = [polygon]\n",
    "frame.crs = {\"init\":\"epsg:2790\"}\n",
    "frame"
   ]
  },
  {
   "cell_type": "code",
   "execution_count": 4,
   "metadata": {
    "collapsed": true
   },
   "outputs": [],
   "source": [
    "frame.to_file(\"SouthSide\")"
   ]
  },
  {
   "cell_type": "markdown",
   "metadata": {},
   "source": [
    "# Process the data"
   ]
  },
  {
   "cell_type": "code",
   "execution_count": 7,
   "metadata": {
    "collapsed": false
   },
   "outputs": [
    {
     "name": "stdout",
     "output_type": "stream",
     "text": [
      "['ID', 'Case Number', 'Date', 'Block', 'IUCR', 'Primary Type', 'Description', 'Location Description', 'Arrest', 'Domestic', 'Beat', 'District', 'Ward', 'Community Area', 'FBI Code', 'X Coordinate', 'Y Coordinate', 'Year', 'Updated On', 'Latitude', 'Longitude', 'Location']\n",
      "['4647369', 'HM155213', '01/31/2006 12:13:05 PM', '066XX N BOSWORTH AVE', '1811', 'NARCOTICS', 'POSS: CANNABIS 30GMS OR LESS', 'SCHOOL, PUBLIC, BUILDING', 'true', 'false', '2432', '024', '40', '1', '18', '1164737', '1944193', '2006', '04/15/2016 08:55:02 AM', '42.002478396', '-87.66929687', '(42.002478396, -87.66929687)']\n"
     ]
    }
   ],
   "source": [
    "def gen():\n",
    "    filename = os.path.join(datadir, \"Crimes_-_2001_to_present.csv.xz\")\n",
    "    with lzma.open(filename, \"rt\") as f:\n",
    "        yield from csv.reader(f)\n",
    "        \n",
    "rows = gen()\n",
    "print(next(rows))\n",
    "print(next(rows))"
   ]
  },
  {
   "cell_type": "code",
   "execution_count": 10,
   "metadata": {
    "collapsed": false
   },
   "outputs": [],
   "source": [
    "proj = pyproj.Proj({\"init\":\"epsg:2790\"})\n",
    "rows = gen()\n",
    "header = next(rows)\n",
    "choices = []\n",
    "for row in rows:\n",
    "    if row[19] is \"\":\n",
    "        continue\n",
    "    if row[2][6:10] != \"2016\":\n",
    "        continue\n",
    "    x, y = proj(float(row[20]), float(row[19]))\n",
    "    pt = shapely.geometry.Point(x, y)\n",
    "    if polygon.intersects(pt):\n",
    "        choices.append(row)"
   ]
  },
  {
   "cell_type": "code",
   "execution_count": 11,
   "metadata": {
    "collapsed": false
   },
   "outputs": [],
   "source": [
    "want = np.sort(np.random.choice(len(choices), 1000, replace=False))\n",
    "out = [next(gen())]\n",
    "for i, row in enumerate(choices):\n",
    "    if i in want:\n",
    "        out.append([row[1], row[2], row[3], row[5], row[19], row[20]])"
   ]
  },
  {
   "cell_type": "code",
   "execution_count": 12,
   "metadata": {
    "collapsed": false
   },
   "outputs": [],
   "source": [
    "with open(\"example.csv\", \"w\", newline=\"\") as f:\n",
    "    csv.writer(f).writerows(out)"
   ]
  },
  {
   "cell_type": "code",
   "execution_count": null,
   "metadata": {
    "collapsed": true
   },
   "outputs": [],
   "source": []
  },
  {
   "cell_type": "code",
   "execution_count": 33,
   "metadata": {
    "collapsed": false
   },
   "outputs": [],
   "source": [
    "\n"
   ]
  }
 ],
 "metadata": {
  "kernelspec": {
   "display_name": "Python 3",
   "language": "python",
   "name": "python3"
  },
  "language_info": {
   "codemirror_mode": {
    "name": "ipython",
    "version": 3
   },
   "file_extension": ".py",
   "mimetype": "text/x-python",
   "name": "python",
   "nbconvert_exporter": "python",
   "pygments_lexer": "ipython3",
   "version": "3.6.0"
  }
 },
 "nbformat": 4,
 "nbformat_minor": 2
}
