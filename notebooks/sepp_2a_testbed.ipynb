{
 "cells": [
  {
   "cell_type": "code",
   "execution_count": 1,
   "metadata": {
    "collapsed": true
   },
   "outputs": [],
   "source": [
    "# Allow us to load `open_cp` without installing\n",
    "import sys, os.path\n",
    "sys.path.insert(0, os.path.abspath(\"..\"))"
   ]
  },
  {
   "cell_type": "markdown",
   "metadata": {},
   "source": [
    "# Crime prediction from Hawkes processes\n",
    "\n",
    "Here we continue to explore the EM algorithm for Hawkes processes, but now concentrating upon:\n",
    "\n",
    "1. Mohler et al. \"Randomized Controlled Field Trials of Predictive Policing\". Journal of the American Statistical Association (2015) DOI:10.1080/01621459.2015.1077710"
   ]
  },
  {
   "cell_type": "code",
   "execution_count": 2,
   "metadata": {
    "collapsed": true
   },
   "outputs": [],
   "source": [
    "%matplotlib inline\n",
    "import matplotlib.pyplot as plt\n",
    "import numpy as np"
   ]
  },
  {
   "cell_type": "markdown",
   "metadata": {},
   "source": [
    "# Simulation of the process in a single cell"
   ]
  },
  {
   "cell_type": "code",
   "execution_count": 3,
   "metadata": {
    "collapsed": false
   },
   "outputs": [],
   "source": [
    "import open_cp.sources.sepp as source_sepp"
   ]
  },
  {
   "cell_type": "code",
   "execution_count": 4,
   "metadata": {
    "collapsed": false
   },
   "outputs": [
    {
     "data": {
      "text/plain": [
       "[(-0.1, 0.1), (900, 1000)]"
      ]
     },
     "execution_count": 4,
     "metadata": {},
     "output_type": "execute_result"
    },
    {
     "data": {
      "image/png": "[encoded data removed]",
      "text/plain": [
       "<matplotlib.figure.Figure at 0x7fa8bae14978>"
      ]
     },
     "metadata": {},
     "output_type": "display_data"
    }
   ],
   "source": [
    "process = source_sepp.SelfExcitingPointProcess(\n",
    "    background_sampler = source_sepp.HomogeneousPoissonSampler(rate=0.1),\n",
    "    trigger_sampler = source_sepp.ExponentialDecaySampler(intensity=0.5, exp_rate=10))\n",
    "\n",
    "events = process.sample(0, 1000)\n",
    "\n",
    "fig, ax = plt.subplots(figsize=(18,1))\n",
    "ax.scatter(events, (np.random.random(len(events))-0.5) * 0.03, alpha=.5)\n",
    "ax.set(xlim=[900, 1000], ylim=[-0.1,0.1])"
   ]
  },
  {
   "cell_type": "markdown",
   "metadata": {},
   "source": [
    "## Model fitting for cells with varying background rate\n",
    "\n",
    "We'll create 100 cells with varying background rate, but the same $\\omega, \\theta$.  We use our library to perform this simulation."
   ]
  },
  {
   "cell_type": "code",
   "execution_count": 5,
   "metadata": {
    "collapsed": false
   },
   "outputs": [],
   "source": [
    "rates = [0.01 + 0.49 * i / 100 for i in range(100)]\n",
    "simulation = source_sepp.GridHawkesProcess(rates, 0.5, 10)\n",
    "cells = simulation.sample(0, 1000)"
   ]
  },
  {
   "cell_type": "markdown",
   "metadata": {},
   "source": [
    "To simulate a steady state, we'll discard the first half of time in each cell."
   ]
  },
  {
   "cell_type": "code",
   "execution_count": 6,
   "metadata": {
    "collapsed": false
   },
   "outputs": [],
   "source": [
    "for i in range(100):\n",
    "    times = cells[i]\n",
    "    cells[i] = times[times>=500] - 500"
   ]
  },
  {
   "cell_type": "markdown",
   "metadata": {},
   "source": [
    "The number of events in each cell varies quite a lot."
   ]
  },
  {
   "cell_type": "code",
   "execution_count": 7,
   "metadata": {
    "collapsed": false
   },
   "outputs": [
    {
     "data": {
      "text/plain": [
       "(3, 532)"
      ]
     },
     "execution_count": 7,
     "metadata": {},
     "output_type": "execute_result"
    }
   ],
   "source": [
    "min(len(t) for t in cells), max(len(t) for t in cells)"
   ]
  },
  {
   "cell_type": "code",
   "execution_count": 8,
   "metadata": {
    "collapsed": true
   },
   "outputs": [],
   "source": [
    "### OLLLLDDDDDDDDDDD\n",
    "\n",
    "def simulate(exp_rate=10):\n",
    "    cells = np.empty(100, dtype=np.object)\n",
    "    for i in range(100):\n",
    "        rate = 0.01 + 0.49 * i / 100\n",
    "        process = source_sepp.SelfExcitingPointProcess(\n",
    "            background_sampler = source_sepp.HomogeneousPoissonSampler(rate=rate),\n",
    "            trigger_sampler = source_sepp.ExponentialDecaySampler(intensity=0.5, exp_rate=exp_rate))\n",
    "        events = process.sample(0, 1000)\n",
    "        cells[i] = events[events >= 500]\n",
    "        cells[i] -= cells[i][0]\n",
    "    return cells"
   ]
  },
  {
   "cell_type": "code",
   "execution_count": 9,
   "metadata": {
    "collapsed": true
   },
   "outputs": [],
   "source": [
    "import open_cp.seppexp"
   ]
  },
  {
   "cell_type": "code",
   "execution_count": 10,
   "metadata": {
    "collapsed": true
   },
   "outputs": [],
   "source": [
    "def optimise(cells, initial_omega=10, iterations=100):\n",
    "    omega = initial_omega\n",
    "    theta = .5\n",
    "    mu = [.5] * len(cells)\n",
    "\n",
    "    for _ in range(iterations):\n",
    "        omega, theta, mu = open_cp.seppexp.maximisation(cells, omega, theta, mu, 500)\n",
    "    return omega, theta, mu\n",
    "\n",
    "def optimise_corrected(cells, initial_omega=10, iterations=100):\n",
    "    omega = initial_omega\n",
    "    theta = .5\n",
    "    mu = [.5] * len(cells)\n",
    "\n",
    "    for _ in range(iterations):\n",
    "        omega, theta, mu = open_cp.seppexp.maximisation_corrected(cells, omega, theta, mu, 500)\n",
    "    return omega, theta, mu"
   ]
  },
  {
   "cell_type": "code",
   "execution_count": 11,
   "metadata": {
    "collapsed": false
   },
   "outputs": [
    {
     "data": {
      "text/plain": [
       "(10.012190153980091, 0.49581402922437362)"
      ]
     },
     "execution_count": 11,
     "metadata": {},
     "output_type": "execute_result"
    }
   ],
   "source": [
    "omega, theta, mu = optimise(cells)\n",
    "omega, theta"
   ]
  },
  {
   "cell_type": "code",
   "execution_count": 12,
   "metadata": {
    "collapsed": false
   },
   "outputs": [
    {
     "data": {
      "text/plain": [
       "(10.00854955122975, 0.4959268511094797)"
      ]
     },
     "execution_count": 12,
     "metadata": {},
     "output_type": "execute_result"
    }
   ],
   "source": [
    "omegac, thetac, muc = optimise_corrected(cells, 0.1, 1000)\n",
    "omegac, thetac"
   ]
  },
  {
   "cell_type": "code",
   "execution_count": 13,
   "metadata": {
    "collapsed": false
   },
   "outputs": [
    {
     "data": {
      "image/png": "[encoded data removed]",
      "text/plain": [
       "<matplotlib.figure.Figure at 0x7fa8e03d5320>"
      ]
     },
     "metadata": {},
     "output_type": "display_data"
    }
   ],
   "source": [
    "actual_mu = [ 0.01 + 0.49 * i / 100 for i in range(100) ]\n",
    "\n",
    "fig, ax = plt.subplots(ncols=2, figsize=(16,6))\n",
    "ax[0].plot(actual_mu, actual_mu, color=\"red\", linewidth=1, alpha=0.7)\n",
    "ax[0].scatter(actual_mu, mu)\n",
    "ax[0].set(xlim=[0,0.5], ylim=[0,np.max(mu)*1.05], xlabel=\"$\\\\mu$\", ylabel=\"predicted $\\\\mu$\",\n",
    "         title=\"From EM algorithm\")\n",
    "ax[1].plot(actual_mu, actual_mu, color=\"red\", linewidth=1, alpha=0.7)\n",
    "ax[1].scatter(actual_mu, muc)\n",
    "ax[1].set(xlim=[0,0.5], ylim=[0,np.max(mu)*1.05], xlabel=\"$\\\\mu$\", ylabel=\"predicted $\\\\mu$\",\n",
    "         title=\"From EM algorithm with edge corrections\")\n",
    "None"
   ]
  },
  {
   "cell_type": "markdown",
   "metadata": {},
   "source": [
    "Noting that our initial estimate for every $\\mu$ is $0.5$, this is good convergence.\n",
    "\n",
    "However, if we try a rather smaller value of $\\omega$, then the optimisation doesn't find the real parameters, tending to systematically over-estimate the background rate $\\mu$ and under-estimate the aftershock rate."
   ]
  },
  {
   "cell_type": "code",
   "execution_count": 14,
   "metadata": {
    "collapsed": false
   },
   "outputs": [
    {
     "data": {
      "text/plain": [
       "(0.21362213685143369, 0.29635488525511644)"
      ]
     },
     "execution_count": 14,
     "metadata": {},
     "output_type": "execute_result"
    }
   ],
   "source": [
    "cells = simulate(0.1)\n",
    "omega, theta, mu = optimise(cells, 0.1, 1000)\n",
    "omega, theta"
   ]
  },
  {
   "cell_type": "code",
   "execution_count": 15,
   "metadata": {
    "collapsed": false
   },
   "outputs": [
    {
     "data": {
      "text/plain": [
       "(0.13906657670856143, 0.37841707492438925)"
      ]
     },
     "execution_count": 15,
     "metadata": {},
     "output_type": "execute_result"
    }
   ],
   "source": [
    "omegac, thetac, muc = optimise_corrected(cells, 0.1, 1000)\n",
    "omegac, thetac"
   ]
  },
  {
   "cell_type": "code",
   "execution_count": 16,
   "metadata": {
    "collapsed": false
   },
   "outputs": [
    {
     "data": {
      "image/png": "[encoded data removed]",
      "text/plain": [
       "<matplotlib.figure.Figure at 0x7fa8b81b87b8>"
      ]
     },
     "metadata": {},
     "output_type": "display_data"
    }
   ],
   "source": [
    "fig, ax = plt.subplots(ncols=2, figsize=(16,6))\n",
    "ax[0].plot(actual_mu, actual_mu, color=\"red\", linewidth=1, alpha=0.7)\n",
    "ax[0].scatter(actual_mu, mu)\n",
    "ax[0].set(xlim=[0,0.5], ylim=[0,np.max(mu)*1.05], xlabel=\"$\\\\mu$\", ylabel=\"predicted $\\\\mu$\",\n",
    "         title=\"From EM algorithm\")\n",
    "ax[1].plot(actual_mu, actual_mu, color=\"red\", linewidth=1, alpha=0.7)\n",
    "ax[1].scatter(actual_mu, muc)\n",
    "ax[1].set(xlim=[0,0.5], ylim=[0,np.max(mu)*1.05], xlabel=\"$\\\\mu$\", ylabel=\"predicted $\\\\mu$\",\n",
    "         title=\"From EM algorithm with edge corrections\")\n",
    "None"
   ]
  },
  {
   "cell_type": "code",
   "execution_count": null,
   "metadata": {
    "collapsed": true
   },
   "outputs": [],
   "source": []
  }
 ],
 "metadata": {
  "kernelspec": {
   "display_name": "Python 3",
   "language": "python",
   "name": "python3"
  },
  "language_info": {
   "codemirror_mode": {
    "name": "ipython",
    "version": 3
   },
   "file_extension": ".py",
   "mimetype": "text/x-python",
   "name": "python",
   "nbconvert_exporter": "python",
   "pygments_lexer": "ipython3",
   "version": "3.6.0"
  }
 },
 "nbformat": 4,
 "nbformat_minor": 2
}
