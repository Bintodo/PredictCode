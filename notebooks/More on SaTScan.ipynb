{
 "cells": [
  {
   "cell_type": "code",
   "execution_count": 1,
   "metadata": {
    "collapsed": true
   },
   "outputs": [],
   "source": [
    "# Allow us to load `open_cp` without installing\n",
    "import sys, os.path\n",
    "sys.path.insert(0, os.path.abspath(\"..\"))"
   ]
  },
  {
   "cell_type": "markdown",
   "metadata": {},
   "source": [
    "# Comparison with SaTScan\n",
    "\n",
    "Having discovered further trouble replicating the results of SaTScan, we introduce some more support for reading and writing SaTScan files, and test various corner cases.\n",
    "\n",
    "The class `AbstractSTScan` works with \"generic time\" (so just numbers, now interpretted as some time unit _before_ an epoch time).  This allows us to concentrate on the details.  We also introduce a more complicated rule about cases when the boundary of a disc contains more than one point (see below).\n",
    "\n",
    "The class `STScanNumpy` takes the same data and settings as `AbstractSTScan`, but uses a parallel `numpy` programme style to improve performance.  Like the original implementation, and unlike `AbstractSTScan`, it does nothing special about events which fall on the boundary of disks.\n",
    "\n",
    "In the following, we set the \"population\" limits to 50% (the SaTScan default) and set the maximum radius and time lengths to be effectively infinity, given the inputs.  Hence these results should be directly comparable with the results from SaTScan for a \"Prospective Analyses\" / \"Space-Time\" and \"Space-Time Permutation\" with otherwise default options."
   ]
  },
  {
   "cell_type": "markdown",
   "metadata": {},
   "source": [
    "## Setup\n",
    "\n",
    "- Import what we need\n",
    "- Various functions to build test data and get into the various classes which implement the different algorithms."
   ]
  },
  {
   "cell_type": "code",
   "execution_count": 2,
   "metadata": {
    "collapsed": true
   },
   "outputs": [],
   "source": [
    "%matplotlib inline\n",
    "import matplotlib.pyplot as plt\n",
    "\n",
    "import open_cp.stscan, open_cp.stscan2\n",
    "import numpy as np"
   ]
  },
  {
   "cell_type": "code",
   "execution_count": 3,
   "metadata": {
    "collapsed": false
   },
   "outputs": [],
   "source": [
    "def make_random_data(s=100):\n",
    "    times = np.floor(np.random.random(size=s) * 200)\n",
    "    times.sort()\n",
    "    times = np.flipud(times)\n",
    "    coords = np.random.random(size=(2,s)) * 100\n",
    "    return coords, times\n",
    "\n",
    "def build_ab_scan(coords, times):\n",
    "    ab_scan = open_cp.stscan2.AbstractSTScan(coords, times)\n",
    "    ab_scan.geographic_radius_limit = 1000\n",
    "    ab_scan.geographic_population_limit = 0.5\n",
    "    ab_scan.time_max_interval = 200\n",
    "    ab_scan.time_population_limit = 0.5\n",
    "    return ab_scan\n",
    "\n",
    "def build_stscan_numpy(coords, times):\n",
    "    stsn = open_cp.stscan2.STScanNumpy(coords, times)\n",
    "    stsn.geographic_radius_limit = 1000\n",
    "    stsn.geographic_population_limit = 0.5\n",
    "    stsn.time_max_interval = 200\n",
    "    stsn.time_population_limit = 0.5\n",
    "    return stsn\n",
    "\n",
    "def to_timed_points(coords, times):\n",
    "    \"\"\"Convert to days before 2017-04-01 and use `STSTrainerSlow`.\"\"\"\n",
    "    timestamps = (np.timedelta64(1,\"D\") / np.timedelta64(1,\"s\")) * times * np.timedelta64(1,\"s\")\n",
    "    timestamps = np.datetime64(\"2017-04-01T00:00\") - timestamps\n",
    "    return open_cp.data.TimedPoints(timestamps, coords)\n",
    "\n",
    "def build_trainer(coords, times):\n",
    "    trainer = open_cp.stscan.STSTrainerSlow()\n",
    "    trainer.data = to_timed_points(coords, times)\n",
    "    trainer.time_max_interval = np.timedelta64(200,\"D\")\n",
    "    trainer.time_population_limit = 0.5\n",
    "    trainer.geographic_population_limit = 0.5\n",
    "    trainer.geographic_radius_limit = 1000\n",
    "    return trainer\n",
    "\n",
    "def build_trainer_fast(coords, times):\n",
    "    trainer = open_cp.stscan.STSTrainer()\n",
    "    trainer.data = to_timed_points(coords, times)\n",
    "    trainer.time_max_interval = np.timedelta64(200,\"D\")\n",
    "    trainer.time_population_limit = 0.5\n",
    "    trainer.geographic_population_limit = 0.5\n",
    "    trainer.geographic_radius_limit = 1000\n",
    "    return trainer"
   ]
  },
  {
   "cell_type": "markdown",
   "metadata": {},
   "source": [
    "# Comparison\n",
    "\n",
    "We find that _most_ of the time, we obtain the same clusters.  But sometimes we don't.  This is down to:\n",
    "\n",
    "- Non-deterministic ordering.  If we compare things in different orders, we can break ties in different ways.\n",
    "- As the discs are always centred on events, it is possible for different discs to contain the same events.  As we generate further clusters by finding the next most significant cluster which is _disjoint_ for current clusters, if we again process things in a different order, then we can obtain different disks.\n",
    "\n",
    "From this point of view, obtaining perfect agreement with SaTScan seems an almost hopeless ideal!"
   ]
  },
  {
   "cell_type": "code",
   "execution_count": 4,
   "metadata": {
    "collapsed": false
   },
   "outputs": [
    {
     "name": "stdout",
     "output_type": "stream",
     "text": [
      "[ 11.92115972  43.09277343] 6.89195262409 1.0 4.53631770935\n",
      "[ 31.94937435   4.11588879] 6.56043152592 17.0 2.65052201767\n",
      "[ 89.76972581  47.94338879] 18.6923013299 50.0 2.41322208499\n",
      "[ 57.21397614  96.85464114] 15.2103626296 52.0 1.93458180016\n",
      "[ 68.29370349  77.07218443] 3.97922940838 46.0 1.48054158004\n",
      "[ 10.02630886   9.44112969] 8.90414766417 40.0 1.31617631778\n",
      "[ 67.95258199   2.09667156] 14.0049372144 36.0 1.25419699044\n",
      "[ 44.35257964  59.61860954] 6.37304547626 66.0 1.01785137944\n",
      "[ 30.59721872  76.91932255] 3.91447024333 70.0 0.886403810197\n",
      "[ 77.52654118  94.30266431] 3.1323194023 71.0 0.846430089743\n",
      "[ 64.61408159  23.76970396] 1.35152956261 77.0 0.702947397527\n",
      "[  9.81481701  98.700353  ] 10.9690747002 92.0 0.391361957646\n",
      "[ 49.63081641  36.76676608] 14.9570131065 81.0 0.186850811499\n",
      "[ 91.28441729  79.20475082] 11.0724638377 78.0 0.0471012146402\n",
      "[ 32.87341791  92.29859862] 9.32725097461 86.0 0.0109248357106\n"
     ]
    }
   ],
   "source": [
    "coords, times = make_random_data()\n",
    "ab_scan = build_ab_scan(coords, times)\n",
    "all_clusters = list(ab_scan.find_all_clusters())\n",
    "for c in all_clusters:\n",
    "    print(c.centre, c.radius, c.time, c.statistic)"
   ]
  },
  {
   "cell_type": "code",
   "execution_count": 5,
   "metadata": {
    "collapsed": false
   },
   "outputs": [
    {
     "name": "stdout",
     "output_type": "stream",
     "text": [
      "[ 11.92115972  43.09277343] 6.89195262409 1.0 4.53631770935\n",
      "[ 31.94937435   4.11588879] 6.56043152592 17.0 2.65052201767\n",
      "[ 89.76972581  47.94338879] 18.6923013299 50.0 2.41322208499\n",
      "[ 57.21397614  96.85464114] 15.2103626296 52.0 1.93458180016\n",
      "[ 70.64342397  80.28358293] 3.97922940838 46.0 1.48054158004\n",
      "[ 10.10856222   4.67131531] 12.6416330545 40.0 1.31617631778\n",
      "[ 67.95258199   2.09667156] 14.0049372144 36.0 1.25419699044\n",
      "[ 45.47912456  53.3459223 ] 6.37304547626 66.0 1.01785137944\n",
      "[ 30.59721872  76.91932255] 3.91447024333 70.0 0.886403810197\n",
      "[ 77.52654118  94.30266431] 3.1323194023 71.0 0.846430089743\n",
      "[ 64.61408159  23.76970396] 1.35152956261 77.0 0.702947397527\n",
      "[  9.81481701  98.700353  ] 10.9690747002 92.0 0.391361957646\n",
      "[ 42.03632246  24.12849294] 14.7445680312 82.0 0.169569507969\n",
      "[ 91.28441729  79.20475082] 11.0724638377 78.0 0.0471012146402\n",
      "[ 32.87341791  92.29859862] 9.32725097461 86.0 0.0109248357106\n"
     ]
    }
   ],
   "source": [
    "stsn = build_stscan_numpy(coords, times)\n",
    "all_clusters = list(stsn.find_all_clusters())\n",
    "for c in all_clusters:\n",
    "    print(c.centre, c.radius, c.time, c.statistic)"
   ]
  },
  {
   "cell_type": "code",
   "execution_count": 6,
   "metadata": {
    "collapsed": false
   },
   "outputs": [
    {
     "name": "stdout",
     "output_type": "stream",
     "text": [
      "Cluster(centre=array([ 11.92115972,  43.09277343]), radius=6.8920215436187897) 1.0 4.53631770935\n",
      "Cluster(centre=array([ 25.66594021,   2.22969759]), radius=6.5604971302342046) 17.0 2.65052201767\n",
      "Cluster(centre=array([ 89.76972581,  47.94338879]), radius=18.692488252891842) 50.0 2.41322208499\n",
      "Cluster(centre=array([ 57.21397614,  96.85464114]), radius=15.210514733232648) 52.0 1.93458180016\n",
      "Cluster(centre=array([ 70.64342397,  80.28358293]), radius=3.9792692006741905) 46.0 1.48054158004\n",
      "Cluster(centre=array([ 10.02630886,   9.44112969]), radius=8.9042367056426315) 40.0 1.31617631778\n",
      "Cluster(centre=array([ 67.95258199,   2.09667156]), radius=14.005077263782544) 36.0 1.25419699044\n",
      "Cluster(centre=array([ 44.35257964,  59.61860954]), radius=6.3731092067103123) 66.0 1.01785137944\n",
      "Cluster(centre=array([ 30.59721872,  76.91932255]), radius=3.9145093880280117) 70.0 0.886403810197\n",
      "Cluster(centre=array([ 77.52654118,  94.30266431]), radius=3.1323507254964227) 71.0 0.846430089743\n",
      "Cluster(centre=array([ 64.61408159,  23.76970396]), radius=1.3515430779101612) 77.0 0.702947397527\n",
      "Cluster(centre=array([  9.81481701,  98.700353  ]), radius=10.969184390930076) 92.0 0.391361957646\n",
      "Cluster(centre=array([ 49.63081641,  36.76676608]), radius=14.95716267665294) 81.0 0.186850811499\n",
      "Cluster(centre=array([ 91.28441729,  79.20475082]), radius=11.072574562320312) 78.0 0.0471012146402\n"
     ]
    }
   ],
   "source": [
    "trainer = build_trainer(coords, times)\n",
    "result = trainer.predict(time=np.datetime64(\"2017-04-01T00:00\"))\n",
    "for c, t, s in zip(result.clusters, result.time_ranges, result.statistics):\n",
    "    assert np.datetime64(\"2017-04-01T00:00\") == t[1]\n",
    "    t = (np.datetime64(\"2017-04-01T00:00\") - t[0]) / np.timedelta64(1,\"D\")\n",
    "    print(c, t, s)"
   ]
  },
  {
   "cell_type": "code",
   "execution_count": 7,
   "metadata": {
    "collapsed": false
   },
   "outputs": [
    {
     "name": "stdout",
     "output_type": "stream",
     "text": [
      "Cluster(centre=array([ 11.92115972,  43.09277343]), radius=6.8919526240925482) 1.0 4.53631770935\n",
      "Cluster(centre=array([ 31.94937435,   4.11588879]), radius=6.5604315259189452) 17.0 2.65052201767\n",
      "Cluster(centre=array([ 89.76972581,  47.94338879]), radius=18.692301329878543) 50.0 2.41322208499\n",
      "Cluster(centre=array([ 57.21397614,  96.85464114]), radius=15.210362629606351) 52.0 1.93458180016\n",
      "Cluster(centre=array([ 70.64342397,  80.28358293]), radius=3.9792294083801063) 46.0 1.48054158004\n",
      "Cluster(centre=array([ 10.10856222,   4.67131531]), radius=12.641633054457746) 40.0 1.31617631778\n",
      "Cluster(centre=array([ 67.95258199,   2.09667156]), radius=14.004937214410399) 36.0 1.25419699044\n",
      "Cluster(centre=array([ 45.47912456,  53.3459223 ]), radius=6.3730454762555491) 66.0 1.01785137944\n",
      "Cluster(centre=array([ 30.59721872,  76.91932255]), radius=3.914470243325578) 70.0 0.886403810197\n",
      "Cluster(centre=array([ 77.52654118,  94.30266431]), radius=3.1323194023023992) 71.0 0.846430089743\n",
      "Cluster(centre=array([ 64.61408159,  23.76970396]), radius=1.3515295626145349) 77.0 0.702947397527\n",
      "Cluster(centre=array([  9.81481701,  98.700353  ]), radius=10.969074700183073) 92.0 0.391361957646\n",
      "Cluster(centre=array([ 42.03632246,  24.12849294]), radius=14.74456803121574) 82.0 0.169569507969\n",
      "Cluster(centre=array([ 91.28441729,  79.20475082]), radius=11.072463837681935) 78.0 0.0471012146402\n",
      "Cluster(centre=array([ 32.87341791,  92.29859862]), radius=9.3272509746051213) 86.0 0.0109248357106\n"
     ]
    }
   ],
   "source": [
    "trainer_fast = build_trainer_fast(coords, times)\n",
    "result_fast = trainer_fast.predict(time=np.datetime64(\"2017-04-01T00:00\"))\n",
    "for c, t, s in zip(result_fast.clusters, result_fast.time_ranges, result_fast.statistics):\n",
    "    assert np.datetime64(\"2017-04-01T00:00\") == t[1]\n",
    "    t = (np.datetime64(\"2017-04-01T00:00\") - t[0]) / np.timedelta64(1,\"D\")\n",
    "    print(c, t, s)"
   ]
  },
  {
   "cell_type": "code",
   "execution_count": 8,
   "metadata": {
    "collapsed": false
   },
   "outputs": [
    {
     "data": {
      "image/png": "[encoded data removed]",
      "text/plain": [
       "<matplotlib.figure.Figure at 0x1eaeee99d30>"
      ]
     },
     "metadata": {},
     "output_type": "display_data"
    }
   ],
   "source": [
    "# Plots the old \"trainer\" implementation against the abstract numpy implementation\n",
    "\n",
    "import matplotlib.patches\n",
    "\n",
    "fig, ax = plt.subplots(figsize=(8,8))\n",
    "ax.set(xlim=[-10,110], ylim=[-10,110])\n",
    "for c in result.clusters:\n",
    "    cir = matplotlib.patches.Circle(c.centre, c.radius, alpha=0.5)\n",
    "    ax.add_patch(cir)\n",
    "for c in all_clusters:\n",
    "    cir = matplotlib.patches.Circle(c.centre, c.radius, alpha=0.5, color=\"red\")\n",
    "    ax.add_patch(cir)"
   ]
  },
  {
   "cell_type": "markdown",
   "metadata": {
    "collapsed": true
   },
   "source": [
    "## Timings\n",
    "\n",
    "The newer code in `AbstractSTScan` is a bit quicker.  The Numpy code is definitely quicker."
   ]
  },
  {
   "cell_type": "code",
   "execution_count": 22,
   "metadata": {
    "collapsed": false
   },
   "outputs": [
    {
     "name": "stdout",
     "output_type": "stream",
     "text": [
      "1 loop, best of 3: 2.7 s per loop\n"
     ]
    }
   ],
   "source": [
    "%timeit( list(ab_scan.find_all_clusters()) )"
   ]
  },
  {
   "cell_type": "code",
   "execution_count": 23,
   "metadata": {
    "collapsed": false
   },
   "outputs": [
    {
     "name": "stdout",
     "output_type": "stream",
     "text": [
      "1 loop, best of 3: 177 ms per loop\n"
     ]
    }
   ],
   "source": [
    "%timeit( list(stsn.find_all_clusters()) )"
   ]
  },
  {
   "cell_type": "code",
   "execution_count": 24,
   "metadata": {
    "collapsed": false
   },
   "outputs": [
    {
     "name": "stdout",
     "output_type": "stream",
     "text": [
      "1 loop, best of 3: 3.57 s per loop\n"
     ]
    }
   ],
   "source": [
    "%timeit( trainer.predict() )"
   ]
  },
  {
   "cell_type": "code",
   "execution_count": 25,
   "metadata": {
    "collapsed": false
   },
   "outputs": [
    {
     "name": "stdout",
     "output_type": "stream",
     "text": [
      "1 loop, best of 3: 181 ms per loop\n"
     ]
    }
   ],
   "source": [
    "%timeit( trainer_fast.predict() )"
   ]
  },
  {
   "cell_type": "markdown",
   "metadata": {
    "collapsed": true
   },
   "source": [
    "## Optionally save\n",
    "\n",
    "We can write the data out in SaTScan format for comparison purposes.  Be sure to adjust Advanced Analysis options in SaTScan to reflect the settings we used above (no limit of size of clusters, but a population limit of 50% for both space and time).~"
   ]
  },
  {
   "cell_type": "code",
   "execution_count": null,
   "metadata": {
    "collapsed": false
   },
   "outputs": [],
   "source": [
    "#ab_scan.to_satscan(\"satscan_test2\", 1000)"
   ]
  },
  {
   "cell_type": "markdown",
   "metadata": {},
   "source": [
    "# Grided data\n",
    "\n",
    "Where we have found quite different behaviour from SaTScan is in \"boundary\" behaviour.  Consider the case when a disk's boundary (it's circumference) contains more than one event.  The `STSTrainer` class always considers all events inside or on the edge of the disk.  But SaTScan will _sometimes_ consider events inside the disc, and then only _some_ of the events on the boundary.\n",
    "\n",
    "Notice in particular that we can expect this to happen a lot if the input data is on a regular grid.\n",
    "\n",
    "We try to replicate this behaviour in `AbstractSTScan` by considering all possibilities of events on the boundary being counted or not.  Unfortunately, we then seem to beat SaTScan at its own game, and consider too many subsets, resulting in finding clusters which SaTScan does not.\n",
    "\n",
    "The first example below shows where `AbstractSTScan` is more aggresive than SaTScan.  The 2nd example shows where SaTScan does indeed fail to consider all events in a disc, and gets the same result as `AbstractSTScan`."
   ]
  },
  {
   "cell_type": "markdown",
   "metadata": {},
   "source": [
    "## Generate example random data\n",
    "\n",
    "We use the grid abilities of `STSTrainer`."
   ]
  },
  {
   "cell_type": "code",
   "execution_count": 26,
   "metadata": {
    "collapsed": false
   },
   "outputs": [],
   "source": [
    "def trainer_to_data(trainer):\n",
    "    coords = trainer.data.coords\n",
    "    times = (np.datetime64(\"2017-04-01T00:00\") - trainer.data.timestamps) / np.timedelta64(1,\"s\")\n",
    "    times /= (np.timedelta64(1,\"D\") / np.timedelta64(1,\"s\"))\n",
    "    times = np.floor(times)\n",
    "    \n",
    "    return coords, times\n",
    "\n",
    "np.testing.assert_array_almost_equal(trainer_to_data(trainer)[0], coords)\n",
    "np.testing.assert_array_almost_equal(trainer_to_data(trainer)[1], times)"
   ]
  },
  {
   "cell_type": "code",
   "execution_count": 27,
   "metadata": {
    "collapsed": false
   },
   "outputs": [],
   "source": [
    "trainer = build_trainer(*make_random_data())\n",
    "region = open_cp.RectangularRegion(xmin=0, ymin=0, xmax=100, ymax=100)\n",
    "ab_scan = build_ab_scan( *trainer_to_data( trainer.grid_coords(region, grid_size=20) ) )"
   ]
  },
  {
   "cell_type": "code",
   "execution_count": 28,
   "metadata": {
    "collapsed": false
   },
   "outputs": [
    {
     "name": "stdout",
     "output_type": "stream",
     "text": [
      "[ 30.  70.] 20.0 10.0 3.35205338619\n",
      "[ 50.  10.] 20.0 7.0 2.22714527424\n",
      "[ 90.  90.] 40.0 86.0 2.04912794103\n",
      "[ 10.  10.] 0.0 11.0 1.31450916714\n",
      "[ 10.  30.] 0.0 51.0 0.231871917017\n",
      "[ 10.  90.] 0.0 66.0 0.0608145106305\n"
     ]
    }
   ],
   "source": [
    "all_clusters = list(ab_scan.find_all_clusters())\n",
    "for c in all_clusters:\n",
    "    print(c.centre, c.radius, c.time, c.statistic)"
   ]
  },
  {
   "cell_type": "code",
   "execution_count": null,
   "metadata": {
    "collapsed": true
   },
   "outputs": [],
   "source": [
    "#ab_scan.to_satscan(\"satscan_test1\", 1000)"
   ]
  },
  {
   "cell_type": "markdown",
   "metadata": {},
   "source": [
    "## Reload some data\n",
    "\n",
    "Here's one we prepared earlier.  It shows a case where our aggressive algorithm finds a cluster which SaTScan does not."
   ]
  },
  {
   "cell_type": "code",
   "execution_count": 29,
   "metadata": {
    "collapsed": false
   },
   "outputs": [],
   "source": [
    "def find_satscan_ids_for_mask(in_disc, time):\n",
    "    in_disc &= ab_scan.timestamps <= time\n",
    "    in_disc = set( (x,y) for x,y in ab_scan.coords[:,in_disc].T )\n",
    "    return [i for i in satscan_data.geo if satscan_data.geo[i] in in_disc]\n",
    "\n",
    "def find_mask(centre, radius):\n",
    "    return np.sum((ab_scan.coords - np.array(centre)[:,None])**2, axis=0) <= radius**2\n",
    "\n",
    "def to_our_indexes(sat_scan_indexes):\n",
    "    out = set()\n",
    "    for i in sat_scan_indexes:\n",
    "        x, y = satscan_data.geo[i]\n",
    "        m = (ab_scan.coords[0] == x) & (ab_scan.coords[1] == y)\n",
    "        for j in np.arange(ab_scan.coords.shape[1])[m]:\n",
    "            out.add(j)\n",
    "    return out"
   ]
  },
  {
   "cell_type": "code",
   "execution_count": 30,
   "metadata": {
    "collapsed": false
   },
   "outputs": [
    {
     "name": "stdout",
     "output_type": "stream",
     "text": [
      "[ 50.  30.] 20.0 45 1.78403489846\n",
      "[ 30.  70.] 20.0 13 1.2377140172\n",
      "[ 90.  70.] 0.0 20 0.719563298144\n",
      "[ 10.  30.] 0.0 70 0.532363441331\n",
      "[ 70.  10.] 0.0 55 0.253033910799\n",
      "[ 10.  90.] 0.0 42 0.124080354492\n",
      "[ 70.  70.] 0.0 97 0.0766353331714\n",
      "[ 90.  90.] 0.0 97 0.0766353331714\n",
      "[ 10.  50.] 0.0 46 0.0173811215268\n",
      "[ 90.  30.] 0.0 91 0.0109248357106\n"
     ]
    }
   ],
   "source": [
    "satscan_data = open_cp.stscan2.SaTScanData(\"satscan_test3\", 1000)\n",
    "ab_scan = build_ab_scan( *satscan_data.to_coords_time() )\n",
    "\n",
    "all_clusters = list(ab_scan.find_all_clusters())\n",
    "for c in all_clusters:\n",
    "    print(c.centre, c.radius, c.time, c.statistic)"
   ]
  },
  {
   "cell_type": "code",
   "execution_count": 31,
   "metadata": {
    "collapsed": false
   },
   "outputs": [
    {
     "data": {
      "text/plain": [
       "[6, 11, 21, 22]"
      ]
     },
     "execution_count": 31,
     "metadata": {},
     "output_type": "execute_result"
    }
   ],
   "source": [
    "# Cluster which SaTScan finds -- In this case, seemingly SaTScan includes all events\n",
    "in_disc = find_mask([30,30], 20)\n",
    "find_satscan_ids_for_mask(in_disc, 70)"
   ]
  },
  {
   "cell_type": "code",
   "execution_count": 32,
   "metadata": {
    "collapsed": false
   },
   "outputs": [
    {
     "data": {
      "text/plain": [
       "[2, 7, 9, 11, 21]"
      ]
     },
     "execution_count": 32,
     "metadata": {},
     "output_type": "execute_result"
    }
   ],
   "source": [
    "# Our cluster-- all events in or on the disc\n",
    "in_disc = find_mask([50,30], 20)\n",
    "find_satscan_ids_for_mask(in_disc, 45)"
   ]
  },
  {
   "cell_type": "code",
   "execution_count": 33,
   "metadata": {
    "collapsed": false
   },
   "outputs": [
    {
     "data": {
      "text/plain": [
       "[2, 9, 11, 21]"
      ]
     },
     "execution_count": 33,
     "metadata": {},
     "output_type": "execute_result"
    }
   ],
   "source": [
    "# The subset of events our algorithm chooses to use\n",
    "in_disc = all_clusters[0].mask\n",
    "find_satscan_ids_for_mask(in_disc, 45)"
   ]
  },
  {
   "cell_type": "code",
   "execution_count": 34,
   "metadata": {
    "collapsed": false
   },
   "outputs": [
    {
     "name": "stdout",
     "output_type": "stream",
     "text": [
      "[ 30.  30.] 20.0 70.0 1.62216107924\n",
      "[ 30.  70.] 0.0 13.0 0.928218893946\n",
      "[ 90.  70.] 0.0 20.0 0.719563298144\n",
      "[ 90.  10.] 40.0 1.0 0.670748515888\n",
      "[ 50.  50.] 0.0 92.0 0.528417664973\n",
      "[ 10.  70.] 0.0 33.0 0.444466091444\n",
      "[ 10.  90.] 0.0 42.0 0.124080354492\n",
      "[ 90.  90.] 0.0 97.0 0.0766353331714\n",
      "[ 70.  70.] 0.0 97.0 0.0766353331714\n",
      "[ 50.  70.] 0.0 68.0 0.0700453772522\n",
      "[ 10.  50.] 0.0 46.0 0.0173811215268\n"
     ]
    }
   ],
   "source": [
    "# The numpy code should, mostly, replicate what SaTScan does\n",
    "stsn = build_stscan_numpy( *satscan_data.to_coords_time() )\n",
    "\n",
    "all_clusters = list(stsn.find_all_clusters())\n",
    "for c in all_clusters:\n",
    "    print(c.centre, c.radius, c.time, c.statistic)"
   ]
  },
  {
   "cell_type": "markdown",
   "metadata": {},
   "source": [
    "## 2nd Example\n",
    "\n",
    "This example actually seems to show SaTScan not including all points in a disc.  SaTScan reports:\n",
    "\n",
    "    1.Location IDs included.: 23, 6, 16\n",
    "      Coordinates / radius..: (30,30) / 20.00\n",
    "      Time frame............: 993 to 1000\n",
    "      Number of cases.......: 3\n",
    "      Expected cases........: 0.42\n",
    "      Observed / expected...: 7.14\n",
    "      Test statistic........: 3.352053\n",
    "      P-value...............: 0.202\n",
    "      Recurrence interval...: 5.0 units\n",
    "\n",
    "Now, we note that:\n",
    "- Event 23 occurs at times 967 and 924, which are both _outside_ the time window.\n",
    "- The disc centred at (30,30) of radius 20 contains events 6, 11, 16, 23 and 24.\n",
    "- If we manually compute the statistic for this disk and time, we get the same value as SaTScan (to be precise, if we change the space window to only include events 6, 16 and 23, we obtain the sample \"expected\" count).\n",
    "- The Numpy accelerated code fails to find this cluster, as it includes all events in the disk."
   ]
  },
  {
   "cell_type": "code",
   "execution_count": 35,
   "metadata": {
    "collapsed": false,
    "scrolled": true
   },
   "outputs": [
    {
     "name": "stdout",
     "output_type": "stream",
     "text": [
      "[ 30.  30.] 20.0 7 3.35205338619\n",
      "[ 50.  50.] 0.0 38 2.71560614559\n",
      "[ 90.  70.] 0.0 29 1.09086496593\n",
      "[ 70.  90.] 0.0 27 0.639868972963\n",
      "[ 10.  90.] 0.0 60 0.43341798412\n",
      "[ 90.  90.] 0.0 84 0.367754306996\n",
      "[ 90.  10.] 0.0 42 0.316663808549\n",
      "[ 10.  10.] 0.0 98 0.221514808107\n",
      "[ 70.  10.] 0.0 93 0.166852706468\n",
      "[ 30.  70.] 0.0 63 0.133405703443\n",
      "[ 30.  90.] 0.0 97 0.0871975764851\n",
      "[ 10.  50.] 0.0 34 0.0871975764851\n",
      "[ 50.  70.] 0.0 64 0.0173811215268\n",
      "[ 50.  10.] 0.0 87 0.00689368813393\n"
     ]
    }
   ],
   "source": [
    "satscan_data = open_cp.stscan2.SaTScanData(\"satscan_test1\", 1000)\n",
    "coords, times = satscan_data.to_coords_time()\n",
    "ab_scan = build_ab_scan(coords, times)\n",
    "\n",
    "all_clusters = list(ab_scan.find_all_clusters())\n",
    "for c in all_clusters:\n",
    "    print(c.centre, c.radius, c.time, c.statistic)"
   ]
  },
  {
   "cell_type": "code",
   "execution_count": 36,
   "metadata": {
    "collapsed": false
   },
   "outputs": [
    {
     "data": {
      "text/plain": [
       "[6, 16]"
      ]
     },
     "execution_count": 36,
     "metadata": {},
     "output_type": "execute_result"
    }
   ],
   "source": [
    "in_disc = find_mask([30,30], 20)\n",
    "find_satscan_ids_for_mask(in_disc,7)"
   ]
  },
  {
   "cell_type": "code",
   "execution_count": 37,
   "metadata": {
    "collapsed": false
   },
   "outputs": [
    {
     "data": {
      "text/plain": [
       "[6, 11, 16, 23, 24]"
      ]
     },
     "execution_count": 37,
     "metadata": {},
     "output_type": "execute_result"
    }
   ],
   "source": [
    "in_disc = find_mask([30,30], 20)\n",
    "find_satscan_ids_for_mask(in_disc,10000)"
   ]
  },
  {
   "cell_type": "code",
   "execution_count": 38,
   "metadata": {
    "collapsed": false
   },
   "outputs": [
    {
     "data": {
      "text/plain": [
       "((10.0, 30.0), (30.0, 10.0), (50.0, 30.0), (30.0, 30.0), (30.0, 50.0))"
      ]
     },
     "execution_count": 38,
     "metadata": {},
     "output_type": "execute_result"
    }
   ],
   "source": [
    "satscan_data.geo[6], satscan_data.geo[16], satscan_data.geo[11], satscan_data.geo[23], satscan_data.geo[24]"
   ]
  },
  {
   "cell_type": "code",
   "execution_count": 39,
   "metadata": {
    "collapsed": false
   },
   "outputs": [
    {
     "data": {
      "text/plain": [
       "(3, 0.56999999999999995, 2.5821322730708438)"
      ]
     },
     "execution_count": 39,
     "metadata": {},
     "output_type": "execute_result"
    }
   ],
   "source": [
    "time_mask = times <= 7\n",
    "space_mask = np.sum( (coords - np.array([30,30])[:,None])**2, axis=0) <= 20**2\n",
    "\n",
    "expected = np.sum(space_mask) * np.sum(time_mask) / 100\n",
    "actual = np.sum(space_mask & time_mask)\n",
    "actual, expected, ab_scan._statistic(actual, expected, 100)"
   ]
  },
  {
   "cell_type": "code",
   "execution_count": 40,
   "metadata": {
    "collapsed": false
   },
   "outputs": [
    {
     "data": {
      "text/plain": [
       "0.41999999999999998"
      ]
     },
     "execution_count": 40,
     "metadata": {},
     "output_type": "execute_result"
    }
   ],
   "source": [
    "# The above Statistic is smaller than the one SaTScan finds, because the expected count is too large\n",
    "# But if we limit the spacial region to the ids SaTScan claims, we obtain a perfect match\n",
    "expected = len(to_our_indexes([23, 6, 16])) * np.sum(time_mask) / 100\n",
    "expected"
   ]
  },
  {
   "cell_type": "code",
   "execution_count": 41,
   "metadata": {
    "collapsed": false
   },
   "outputs": [
    {
     "name": "stdout",
     "output_type": "stream",
     "text": [
      "[ 10.  10.] 20.0 7.0 3.00992229396\n",
      "[ 50.  50.] 0.0 38.0 2.71560614559\n",
      "[ 90.  70.] 0.0 29.0 1.09086496593\n",
      "[ 50.  30.] 0.0 52.0 0.96536944933\n",
      "[ 70.  90.] 0.0 27.0 0.639868972963\n",
      "[ 30.  30.] 0.0 76.0 0.581812742761\n",
      "[ 10.  90.] 0.0 60.0 0.43341798412\n",
      "[ 90.  90.] 0.0 84.0 0.367754306996\n",
      "[ 90.  10.] 0.0 42.0 0.316663808549\n",
      "[ 70.  10.] 0.0 93.0 0.166852706468\n",
      "[ 30.  70.] 0.0 63.0 0.133405703443\n",
      "[ 10.  50.] 0.0 34.0 0.0871975764851\n",
      "[ 30.  90.] 0.0 97.0 0.0871975764851\n",
      "[ 50.  70.] 0.0 64.0 0.0173811215268\n",
      "[ 50.  10.] 0.0 87.0 0.00689368813393\n"
     ]
    }
   ],
   "source": [
    "# The numpy accelerated code doesn't find the same clusters\n",
    "stsn = build_stscan_numpy(coords, times)\n",
    "\n",
    "all_clusters = list(stsn.find_all_clusters())\n",
    "for c in all_clusters:\n",
    "    print(c.centre, c.radius, c.time, c.statistic)"
   ]
  },
  {
   "cell_type": "code",
   "execution_count": null,
   "metadata": {
    "collapsed": true
   },
   "outputs": [],
   "source": []
  },
  {
   "cell_type": "code",
   "execution_count": null,
   "metadata": {
    "collapsed": true
   },
   "outputs": [],
   "source": []
  }
 ],
 "metadata": {
  "kernelspec": {
   "display_name": "Python 3",
   "language": "python",
   "name": "python3"
  },
  "language_info": {
   "codemirror_mode": {
    "name": "ipython",
    "version": 3
   },
   "file_extension": ".py",
   "mimetype": "text/x-python",
   "name": "python",
   "nbconvert_exporter": "python",
   "pygments_lexer": "ipython3",
   "version": "3.6.0"
  }
 },
 "nbformat": 4,
 "nbformat_minor": 2
}
