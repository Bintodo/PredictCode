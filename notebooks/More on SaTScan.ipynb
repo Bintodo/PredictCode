{
 "cells": [
  {
   "cell_type": "code",
   "execution_count": 1,
   "metadata": {
    "collapsed": true
   },
   "outputs": [],
   "source": [
    "# Allow us to load `open_cp` without installing\n",
    "import sys, os.path\n",
    "sys.path.insert(0, os.path.abspath(\"..\"))"
   ]
  },
  {
   "cell_type": "code",
   "execution_count": 2,
   "metadata": {
    "collapsed": true
   },
   "outputs": [],
   "source": [
    "import open_cp.stscan, open_cp.stscan2\n",
    "import numpy as np"
   ]
  },
  {
   "cell_type": "code",
   "execution_count": 3,
   "metadata": {
    "collapsed": false
   },
   "outputs": [],
   "source": [
    "times = np.random.random(size=100) * 100\n",
    "times.sort()\n",
    "times = np.flipud(times)\n",
    "coords = np.random.random(size=(2,100)) * 100"
   ]
  },
  {
   "cell_type": "code",
   "execution_count": 4,
   "metadata": {
    "collapsed": false
   },
   "outputs": [],
   "source": [
    "ab_scan = open_cp.stscan2.AbstractSTScan(coords, times)\n",
    "ab_scan.geographic_radius_limit = 50\n",
    "ab_scan.geographic_population_limit =0.5\n",
    "ab_scan.time_max_interval = 28\n",
    "ab_scan.time_population_limit = 0.5\n",
    "#all_clusters = list(ab_scan.score_clusters())\n",
    "all_clusters = list(ab_scan.find_all_clusters())"
   ]
  },
  {
   "cell_type": "code",
   "execution_count": 5,
   "metadata": {
    "collapsed": false
   },
   "outputs": [
    {
     "data": {
      "text/plain": [
       "(Cluster(centre=array([ 96.24443061,  58.03816355]), radius=1.6439413260466178),\n",
       " Cluster(centre=array([ 12.84990428,  77.00261011]), radius=17.861851005229692),\n",
       " Cluster(centre=array([ 67.28118506,  81.78469204]), radius=12.344484980460697),\n",
       " Cluster(centre=array([ 27.86066811,  34.23650746]), radius=9.0300763165114155),\n",
       " Cluster(centre=array([ 83.49364152,  23.31493233]), radius=16.42396217634235),\n",
       " Cluster(centre=array([ 39.82865058,  12.2191009 ]), radius=9.762655169505182),\n",
       " Cluster(centre=array([ 61.85022351,  22.31094411]), radius=4.0901804876204775),\n",
       " Cluster(centre=array([ 57.03743499,  58.30225168]), radius=13.153110076014057))"
      ]
     },
     "execution_count": 5,
     "metadata": {},
     "output_type": "execute_result"
    }
   ],
   "source": [
    "timestamps = (np.timedelta64(1,\"D\") / np.timedelta64(1,\"s\")) * times * np.timedelta64(1,\"s\")\n",
    "timestamps = np.datetime64(\"2017-04-01T00:00\") - timestamps\n",
    "data = open_cp.data.TimedPoints(timestamps, coords)\n",
    "\n",
    "trainer = open_cp.stscan.STSTrainer()\n",
    "trainer.data = data\n",
    "trainer.time_max_interval = np.timedelta64(28,\"D\")\n",
    "trainer.time_population_limit = 0.5\n",
    "trainer.geographic_population_limit = 0.5\n",
    "trainer.geographic_radius_limit = 50\n",
    "result = trainer.predict()\n",
    "result.clusters"
   ]
  },
  {
   "cell_type": "code",
   "execution_count": 6,
   "metadata": {
    "collapsed": false
   },
   "outputs": [
    {
     "data": {
      "text/plain": [
       "(3.4759508864802884,\n",
       " 2.9069518385512527,\n",
       " 2.496144447681738,\n",
       " 2.1776152926951102,\n",
       " 1.7898450485648381,\n",
       " 0.94985298018846942,\n",
       " 0.54128364111198723,\n",
       " 0.47828279048180211)"
      ]
     },
     "execution_count": 6,
     "metadata": {},
     "output_type": "execute_result"
    }
   ],
   "source": [
    "result.statistics"
   ]
  },
  {
   "cell_type": "code",
   "execution_count": 7,
   "metadata": {
    "collapsed": false
   },
   "outputs": [
    {
     "name": "stdout",
     "output_type": "stream",
     "text": [
      "[ 94.60733038  57.88852444] 1.6439248868 3.47595088648\n",
      "[ 12.04720533  69.72996474] 19.0198143885 2.90695183855\n",
      "[ 67.28118506  81.78469204] 12.3443615368 2.49614444768\n",
      "[ 27.86066811  34.23650746] 9.02998601665 2.1776152927\n",
      "[ 83.49364152  23.31493233] 16.4237979384 1.78984504856\n",
      "[ 39.82865058  12.2191009 ] 9.76255754393 0.949852980188\n",
      "[ 57.03743499  58.30225168] 13.1529785462 0.478282790482\n"
     ]
    }
   ],
   "source": [
    "for c in all_clusters:\n",
    "    print(c.centre, c.radius, c.statistic)"
   ]
  },
  {
   "cell_type": "code",
   "execution_count": null,
   "metadata": {
    "collapsed": true
   },
   "outputs": [],
   "source": []
  },
  {
   "cell_type": "code",
   "execution_count": 8,
   "metadata": {
    "collapsed": false
   },
   "outputs": [
    {
     "name": "stdout",
     "output_type": "stream",
     "text": [
      "1 loop, best of 3: 2.63 s per loop\n"
     ]
    }
   ],
   "source": [
    "%timeit( list(ab_scan.find_all_clusters()) )"
   ]
  },
  {
   "cell_type": "code",
   "execution_count": 9,
   "metadata": {
    "collapsed": false
   },
   "outputs": [
    {
     "name": "stdout",
     "output_type": "stream",
     "text": [
      "1 loop, best of 3: 3.51 s per loop\n"
     ]
    }
   ],
   "source": [
    "%timeit( trainer.predict() )"
   ]
  },
  {
   "cell_type": "code",
   "execution_count": 10,
   "metadata": {
    "collapsed": false
   },
   "outputs": [
    {
     "name": "stdout",
     "output_type": "stream",
     "text": [
      "10 loops, best of 3: 179 ms per loop\n"
     ]
    }
   ],
   "source": [
    "%timeit( list(ab_scan.all_discs()) )"
   ]
  },
  {
   "cell_type": "code",
   "execution_count": 11,
   "metadata": {
    "collapsed": false
   },
   "outputs": [
    {
     "data": {
      "text/plain": [
       "3470"
      ]
     },
     "execution_count": 11,
     "metadata": {},
     "output_type": "execute_result"
    }
   ],
   "source": [
    "len(list(ab_scan.all_discs()))"
   ]
  },
  {
   "cell_type": "code",
   "execution_count": 12,
   "metadata": {
    "collapsed": false
   },
   "outputs": [
    {
     "data": {
      "text/plain": [
       "28"
      ]
     },
     "execution_count": 12,
     "metadata": {},
     "output_type": "execute_result"
    }
   ],
   "source": [
    "times, cutoff = ab_scan.build_times_cutoff()\n",
    "len(cutoff)"
   ]
  },
  {
   "cell_type": "code",
   "execution_count": 13,
   "metadata": {
    "collapsed": false
   },
   "outputs": [
    {
     "name": "stdout",
     "output_type": "stream",
     "text": [
      "1 loop, best of 3: 1.67 s per loop\n"
     ]
    }
   ],
   "source": [
    "%timeit( list(ab_scan.score_clusters()) )"
   ]
  },
  {
   "cell_type": "code",
   "execution_count": 14,
   "metadata": {
    "collapsed": false
   },
   "outputs": [
    {
     "data": {
      "text/plain": [
       "30171"
      ]
     },
     "execution_count": 14,
     "metadata": {},
     "output_type": "execute_result"
    }
   ],
   "source": [
    "len(list(ab_scan.score_clusters()))"
   ]
  },
  {
   "cell_type": "code",
   "execution_count": null,
   "metadata": {
    "collapsed": true
   },
   "outputs": [],
   "source": []
  }
 ],
 "metadata": {
  "kernelspec": {
   "display_name": "Python 3",
   "language": "python",
   "name": "python3"
  },
  "language_info": {
   "codemirror_mode": {
    "name": "ipython",
    "version": 3
   },
   "file_extension": ".py",
   "mimetype": "text/x-python",
   "name": "python",
   "nbconvert_exporter": "python",
   "pygments_lexer": "ipython3",
   "version": "3.6.0"
  }
 },
 "nbformat": 4,
 "nbformat_minor": 2
}
