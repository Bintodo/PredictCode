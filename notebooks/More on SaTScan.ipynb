{
 "cells": [
  {
   "cell_type": "code",
   "execution_count": 1,
   "metadata": {
    "collapsed": true
   },
   "outputs": [],
   "source": [
    "# Allow us to load `open_cp` without installing\n",
    "import sys, os.path\n",
    "sys.path.insert(0, os.path.abspath(\"..\"))"
   ]
  },
  {
   "cell_type": "markdown",
   "metadata": {},
   "source": [
    "# Comparison with SaTScan\n",
    "\n",
    "Having discovered further trouble replicating the results of SaTScan, we introduce some more support for reading and writing SaTScan files, and test various corner cases.\n",
    "\n",
    "The class `AbstractSTScan` works with \"generic time\" (so just numbers, now interpretted as some time unit _before_ an epoch time).  This allows us to concentrate on the details.  We also introduce a more complicated rule about cases when the boundary of a disc contains more than one point (see below).\n",
    "\n",
    "The class `STScanNumpy` takes the same data and settings as `AbstractSTScan`, but uses a parallel `numpy` programme style to improve performance.  Like the original implementation, and unlike `AbstractSTScan`, it does nothing special about events which fall on the boundary of disks."
   ]
  },
  {
   "cell_type": "markdown",
   "metadata": {},
   "source": [
    "## Setup"
   ]
  },
  {
   "cell_type": "code",
   "execution_count": 2,
   "metadata": {
    "collapsed": true
   },
   "outputs": [],
   "source": [
    "%matplotlib inline\n",
    "import matplotlib.pyplot as plt\n",
    "\n",
    "import open_cp.stscan, open_cp.stscan2\n",
    "import numpy as np"
   ]
  },
  {
   "cell_type": "code",
   "execution_count": 3,
   "metadata": {
    "collapsed": false
   },
   "outputs": [],
   "source": [
    "def make_random_data(s=100):\n",
    "    times = np.floor(np.random.random(size=s) * 200)\n",
    "    times.sort()\n",
    "    times = np.flipud(times)\n",
    "    coords = np.random.random(size=(2,s)) * 100\n",
    "    return coords, times\n",
    "\n",
    "def build_ab_scan(coords, times):\n",
    "    ab_scan = open_cp.stscan2.AbstractSTScan(coords, times)\n",
    "    ab_scan.geographic_radius_limit = 1000\n",
    "    ab_scan.geographic_population_limit = 0.5\n",
    "    ab_scan.time_max_interval = 200\n",
    "    ab_scan.time_population_limit = 0.5\n",
    "    return ab_scan\n",
    "\n",
    "def build_stscan_numpy(coords, times):\n",
    "    stsn = open_cp.stscan2.STScanNumpy(coords, times)\n",
    "    stsn.geographic_radius_limit = 1000\n",
    "    stsn.geographic_population_limit = 0.5\n",
    "    stsn.time_max_interval = 200\n",
    "    stsn.time_population_limit = 0.5\n",
    "    return stsn\n",
    "\n",
    "def build_trainer(coords, times):\n",
    "    \"\"\"Convert to days before 2017-04-01 and use `STSTrainerSlow`.\"\"\"\n",
    "    timestamps = (np.timedelta64(1,\"D\") / np.timedelta64(1,\"s\")) * times * np.timedelta64(1,\"s\")\n",
    "    timestamps = np.datetime64(\"2017-04-01T00:00\") - timestamps\n",
    "    data = open_cp.data.TimedPoints(timestamps, coords)\n",
    "\n",
    "    trainer = open_cp.stscan.STSTrainerSlow()\n",
    "    trainer.data = data\n",
    "    trainer.time_max_interval = np.timedelta64(200,\"D\")\n",
    "    trainer.time_population_limit = 0.5\n",
    "    trainer.geographic_population_limit = 0.5\n",
    "    trainer.geographic_radius_limit = 1000\n",
    "    return trainer\n",
    "\n",
    "def build_trainer_fast(coords, times):\n",
    "    \"\"\"Convert to days before 2017-04-01 and use `STSTrainer`.\"\"\"\n",
    "    timestamps = (np.timedelta64(1,\"D\") / np.timedelta64(1,\"s\")) * times * np.timedelta64(1,\"s\")\n",
    "    timestamps = np.datetime64(\"2017-04-01T00:00\") - timestamps\n",
    "    data = open_cp.data.TimedPoints(timestamps, coords)\n",
    "\n",
    "    trainer = open_cp.stscan.STSTrainer()\n",
    "    trainer.data = data\n",
    "    trainer.time_max_interval = np.timedelta64(200,\"D\")\n",
    "    trainer.time_population_limit = 0.5\n",
    "    trainer.geographic_population_limit = 0.5\n",
    "    trainer.geographic_radius_limit = 1000\n",
    "    return trainer"
   ]
  },
  {
   "cell_type": "markdown",
   "metadata": {},
   "source": [
    "# Comparison\n",
    "\n",
    "We find that _most_ of the time, we obtain the same clusters.  But sometimes we don't.  This is down to:\n",
    "\n",
    "- Non-deterministic ordering.  If we compare things in different orders, we can break ties in different ways.\n",
    "- As the discs are always centred on events, it is possible for different discs to contain the same events.  As we generate further clusters by finding the next most significant cluster which is _disjoint_ for current clusters, if we again process things in a different order, then we can obtain different disks.\n",
    "\n",
    "From this point of view, obtaining perfect agreement with SaTScan seems an almost hopeless ideal!"
   ]
  },
  {
   "cell_type": "code",
   "execution_count": 4,
   "metadata": {
    "collapsed": false
   },
   "outputs": [
    {
     "name": "stdout",
     "output_type": "stream",
     "text": [
      "[ 83.44944749  78.83457962] 10.4371041119 7.0 5.6761989522\n",
      "[ 73.84306759  31.95788897] 15.7615978017 9.0 2.91561951977\n",
      "[ 40.02438171  14.78764756] 2.93866663859 31.0 1.55389696727\n",
      "[ 67.42867375  93.07261331] 5.40849700151 42.0 1.1694353276\n",
      "[ 45.62187804  61.93097484] 22.0352926124 24.0 1.10478870264\n",
      "[  0.21640715  34.16704274] 24.5349564578 85.0 1.0884017762\n",
      "[  0.87458291  92.12794942] 25.7198471372 84.0 0.759399454025\n",
      "[ 95.36708922  93.00350443] 3.81892494761 86.0 0.455736816583\n",
      "[ 17.17880483   0.1537201 ] 9.44004943012 91.0 0.41197139201\n",
      "[ 90.83989436   0.72739584] 2.44727703358 66.0 0.267989373899\n",
      "[ 84.29579644  58.5209707 ] 9.1492828288 80.0 0.169569507969\n",
      "[ 42.19943424   0.84449253] 10.8273261514 65.0 0.0835849165549\n"
     ]
    }
   ],
   "source": [
    "coords, times = make_random_data()\n",
    "ab_scan = build_ab_scan(coords, times)\n",
    "all_clusters = list(ab_scan.find_all_clusters())\n",
    "for c in all_clusters:\n",
    "    print(c.centre, c.radius, c.time, c.statistic)"
   ]
  },
  {
   "cell_type": "code",
   "execution_count": 5,
   "metadata": {
    "collapsed": false
   },
   "outputs": [
    {
     "name": "stdout",
     "output_type": "stream",
     "text": [
      "[ 83.44944749  78.83457962] 10.4371041119 7.0 5.6761989522\n",
      "[ 74.83951416  23.48506725] 13.2925385226 9.0 2.91561951977\n",
      "[ 40.20234431  11.85437449] 2.93866663859 31.0 1.55389696727\n",
      "[ 67.42867375  93.07261331] 5.40849700151 42.0 1.1694353276\n",
      "[ 45.62187804  61.93097484] 22.0352926124 24.0 1.10478870264\n",
      "[  0.21640715  34.16704274] 24.5349564578 85.0 1.0884017762\n",
      "[  0.87458291  92.12794942] 25.7198471372 84.0 0.759399454025\n",
      "[ 80.4735753   50.20832961] 9.1492828288 80.0 0.554519776247\n",
      "[ 95.36708922  93.00350443] 3.81892494761 86.0 0.455736816583\n",
      "[ 17.17880483   0.1537201 ] 9.44004943012 91.0 0.41197139201\n",
      "[ 91.04337871   2.51221386] 2.79745478906 66.0 0.267989373899\n"
     ]
    }
   ],
   "source": [
    "stsn = build_stscan_numpy(coords, times)\n",
    "all_clusters = list(stsn.find_all_clusters())\n",
    "for c in all_clusters:\n",
    "    print(c.centre, c.radius, c.time, c.statistic)"
   ]
  },
  {
   "cell_type": "code",
   "execution_count": 6,
   "metadata": {
    "collapsed": false
   },
   "outputs": [
    {
     "name": "stdout",
     "output_type": "stream",
     "text": [
      "Cluster(centre=array([ 83.44944749,  78.83457962]), radius=10.437208482949567) 7.0 5.6761989522\n",
      "Cluster(centre=array([ 73.84306759,  31.95788897]), radius=15.76175541770718) 9.0 2.91561951977\n",
      "Cluster(centre=array([ 40.20234431,  11.85437449]), radius=2.9386960252543144) 31.0 1.55389696727\n",
      "Cluster(centre=array([ 67.42867375,  93.07261331]), radius=5.4085510864838655) 42.0 1.1694353276\n",
      "Cluster(centre=array([ 45.62187804,  61.93097484]), radius=22.035512965311028) 24.0 1.10478870264\n",
      "Cluster(centre=array([  0.21640715,  34.16704274]), radius=24.535201807315175) 85.0 1.0884017762\n",
      "Cluster(centre=array([  0.87458291,  92.12794942]), radius=25.720104335628921) 84.0 0.759399454025\n",
      "Cluster(centre=array([ 91.62502382,  93.76582607]), radius=3.8189631368546819) 86.0 0.455736816583\n",
      "Cluster(centre=array([ 17.17880483,   0.1537201 ]), radius=9.4401438306144509) 91.0 0.41197139201\n",
      "Cluster(centre=array([ 90.83989436,   0.72739584]), radius=2.4473015063517352) 66.0 0.267989373899\n",
      "Cluster(centre=array([ 84.29579644,  58.5209707 ]), radius=9.1493743216264285) 80.0 0.169569507969\n"
     ]
    }
   ],
   "source": [
    "trainer = build_trainer(coords, times)\n",
    "result = trainer.predict(time=np.datetime64(\"2017-04-01T00:00\"))\n",
    "for c, t, s in zip(result.clusters, result.time_ranges, result.statistics):\n",
    "    assert np.datetime64(\"2017-04-01T00:00\") == t[1]\n",
    "    t = (np.datetime64(\"2017-04-01T00:00\") - t[0]) / np.timedelta64(1,\"D\")\n",
    "    print(c, t, s)"
   ]
  },
  {
   "cell_type": "code",
   "execution_count": 7,
   "metadata": {
    "collapsed": false
   },
   "outputs": [
    {
     "name": "stdout",
     "output_type": "stream",
     "text": [
      "Cluster(centre=array([ 83.44944749,  78.83457962]), radius=10.437104111908447) 7.0 5.6761989522\n",
      "Cluster(centre=array([ 74.83951416,  23.48506725]), radius=13.292538522576272) 9.0 2.91561951977\n",
      "Cluster(centre=array([ 40.20234431,  11.85437449]), radius=2.9386666385879283) 31.0 1.55389696727\n",
      "Cluster(centre=array([ 67.42867375,  93.07261331]), radius=5.40849700151385) 42.0 1.1694353276\n",
      "Cluster(centre=array([ 45.62187804,  61.93097484]), radius=22.035292612384904) 24.0 1.10478870264\n",
      "Cluster(centre=array([  0.21640715,  34.16704274]), radius=24.534956457750596) 85.0 1.0884017762\n",
      "Cluster(centre=array([  0.87458291,  92.12794942]), radius=25.719847137157547) 84.0 0.759399454025\n",
      "Cluster(centre=array([ 80.4735753 ,  50.20832961]), radius=9.1492828287981407) 80.0 0.554519776247\n",
      "Cluster(centre=array([ 95.36708922,  93.00350443]), radius=3.8189249476052054) 86.0 0.455736816583\n",
      "Cluster(centre=array([ 17.17880483,   0.1537201 ]), radius=9.4400494301201494) 91.0 0.41197139201\n",
      "Cluster(centre=array([ 91.04337871,   2.51221386]), radius=2.797454789062785) 66.0 0.267989373899\n"
     ]
    }
   ],
   "source": [
    "trainer_fast = build_trainer_fast(coords, times)\n",
    "result_fast = trainer_fast.predict(time=np.datetime64(\"2017-04-01T00:00\"))\n",
    "for c, t, s in zip(result_fast.clusters, result_fast.time_ranges, result_fast.statistics):\n",
    "    assert np.datetime64(\"2017-04-01T00:00\") == t[1]\n",
    "    t = (np.datetime64(\"2017-04-01T00:00\") - t[0]) / np.timedelta64(1,\"D\")\n",
    "    print(c, t, s)"
   ]
  },
  {
   "cell_type": "code",
   "execution_count": 8,
   "metadata": {
    "collapsed": false
   },
   "outputs": [
    {
     "data": {
      "image/png": "[encoded data removed]",
      "text/plain": [
       "<matplotlib.figure.Figure at 0x7f0dc2e5b278>"
      ]
     },
     "metadata": {},
     "output_type": "display_data"
    }
   ],
   "source": [
    "import matplotlib.patches\n",
    "\n",
    "fig, ax = plt.subplots(figsize=(8,8))\n",
    "ax.set(xlim=[-10,110], ylim=[-10,110])\n",
    "for c in result.clusters:\n",
    "    cir = matplotlib.patches.Circle(c.centre, c.radius, alpha=0.5)\n",
    "    ax.add_patch(cir)\n",
    "for c in all_clusters:\n",
    "    cir = matplotlib.patches.Circle(c.centre, c.radius, alpha=0.5, color=\"red\")\n",
    "    ax.add_patch(cir)"
   ]
  },
  {
   "cell_type": "markdown",
   "metadata": {
    "collapsed": true
   },
   "source": [
    "## Timings\n",
    "\n",
    "The newer code in `AbstractSTScan` is a bit quicker.  The Numpy code is definitely quicker."
   ]
  },
  {
   "cell_type": "code",
   "execution_count": 9,
   "metadata": {
    "collapsed": false
   },
   "outputs": [
    {
     "name": "stdout",
     "output_type": "stream",
     "text": [
      "1 loop, best of 3: 4.34 s per loop\n"
     ]
    }
   ],
   "source": [
    "%timeit( list(ab_scan.find_all_clusters()) )"
   ]
  },
  {
   "cell_type": "code",
   "execution_count": 10,
   "metadata": {
    "collapsed": false
   },
   "outputs": [
    {
     "name": "stdout",
     "output_type": "stream",
     "text": [
      "10 loops, best of 3: 157 ms per loop\n"
     ]
    }
   ],
   "source": [
    "%timeit( list(stsn.find_all_clusters()) )"
   ]
  },
  {
   "cell_type": "code",
   "execution_count": 11,
   "metadata": {
    "collapsed": false
   },
   "outputs": [
    {
     "name": "stdout",
     "output_type": "stream",
     "text": [
      "1 loop, best of 3: 4.46 s per loop\n"
     ]
    }
   ],
   "source": [
    "%timeit( trainer.predict() )"
   ]
  },
  {
   "cell_type": "code",
   "execution_count": 12,
   "metadata": {
    "collapsed": false
   },
   "outputs": [
    {
     "name": "stdout",
     "output_type": "stream",
     "text": [
      "10 loops, best of 3: 157 ms per loop\n"
     ]
    }
   ],
   "source": [
    "%timeit( trainer_fast.predict() )"
   ]
  },
  {
   "cell_type": "markdown",
   "metadata": {
    "collapsed": true
   },
   "source": [
    "## Optionally save\n",
    "\n",
    "We can write the data out in SaTScan format for comparison purposes.  Be sure to adjust Advanced Analysis options in SaTScan to reflect the settings we used above (no limit of size of clusters, but a population limit of 50% for both space and time).~"
   ]
  },
  {
   "cell_type": "code",
   "execution_count": null,
   "metadata": {
    "collapsed": false
   },
   "outputs": [],
   "source": [
    "#ab_scan.to_satscan(\"satscan_test2\", 1000)"
   ]
  },
  {
   "cell_type": "markdown",
   "metadata": {},
   "source": [
    "# Grided data\n",
    "\n",
    "Where we have found quite different behaviour from SaTScan is in \"boundary\" behaviour.  Consider the case when a disk's boundary (it's circumference) contains more than one event.  The `STSTrainer` class always considers all events inside or on the edge of the disk.  But SaTScan will _sometimes_ consider events inside the disc, and then only _some_ of the events on the boundary.\n",
    "\n",
    "Notice in particular that we can expect this to happen a lot if the input data is on a regular grid.\n",
    "\n",
    "We try to replicate this behaviour in `AbstractSTScan` by considering all possibilities of events on the boundary being counted or not.  Unfortunately, we then seem to beat SaTScan at its own game, and consider too many subsets, resulting in finding clusters which SaTScan does not.\n",
    "\n",
    "The first example below shows where `AbstractSTScan` is more aggresive than SaTScan.  The 2nd example shows where SaTScan does indeed fail to consider all events in a disc, and gets the same result as `AbstractSTScan`."
   ]
  },
  {
   "cell_type": "markdown",
   "metadata": {},
   "source": [
    "## Generate example random data\n",
    "\n",
    "We use the grid abilities of `STSTrainer`."
   ]
  },
  {
   "cell_type": "code",
   "execution_count": null,
   "metadata": {
    "collapsed": false
   },
   "outputs": [],
   "source": [
    "def trainer_to_data(trainer):\n",
    "    coords = trainer.data.coords\n",
    "    times = (np.datetime64(\"2017-04-01T00:00\") - trainer.data.timestamps) / np.timedelta64(1,\"s\")\n",
    "    times /= (np.timedelta64(1,\"D\") / np.timedelta64(1,\"s\"))\n",
    "    times = np.floor(times)\n",
    "    \n",
    "    return coords, times\n",
    "\n",
    "np.testing.assert_array_almost_equal(trainer_to_data(trainer)[0], coords)\n",
    "np.testing.assert_array_almost_equal(trainer_to_data(trainer)[1], times)"
   ]
  },
  {
   "cell_type": "code",
   "execution_count": null,
   "metadata": {
    "collapsed": false
   },
   "outputs": [],
   "source": [
    "trainer = build_trainer(*make_random_data())\n",
    "region = open_cp.RectangularRegion(xmin=0, ymin=0, xmax=100, ymax=100)\n",
    "ab_scan = build_ab_scan( *trainer_to_data( trainer.grid_coords(region, grid_size=20) ) )"
   ]
  },
  {
   "cell_type": "code",
   "execution_count": null,
   "metadata": {
    "collapsed": false
   },
   "outputs": [],
   "source": [
    "all_clusters = list(ab_scan.find_all_clusters())\n",
    "for c in all_clusters:\n",
    "    print(c.centre, c.radius, c.time, c.statistic)"
   ]
  },
  {
   "cell_type": "code",
   "execution_count": null,
   "metadata": {
    "collapsed": true
   },
   "outputs": [],
   "source": [
    "#ab_scan.to_satscan(\"satscan_test1\", 1000)"
   ]
  },
  {
   "cell_type": "markdown",
   "metadata": {},
   "source": [
    "## Reload some data\n",
    "\n",
    "Here's one we prepared earlier.  It shows a case where our aggressive algorithm finds a cluster which SaTScan does not."
   ]
  },
  {
   "cell_type": "code",
   "execution_count": null,
   "metadata": {
    "collapsed": false
   },
   "outputs": [],
   "source": [
    "def find_satscan_ids_for_mask(in_disc, time):\n",
    "    in_disc &= ab_scan.timestamps <= time\n",
    "    in_disc = set( (x,y) for x,y in ab_scan.coords[:,in_disc].T )\n",
    "    return [i for i in satscan_data.geo if satscan_data.geo[i] in in_disc]\n",
    "\n",
    "def find_mask(centre, radius):\n",
    "    return np.sum((ab_scan.coords - np.array(centre)[:,None])**2, axis=0) <= radius**2\n",
    "\n",
    "def to_our_indexes(sat_scan_indexes):\n",
    "    out = set()\n",
    "    for i in sat_scan_indexes:\n",
    "        x, y = satscan_data.geo[i]\n",
    "        m = (ab_scan.coords[0] == x) & (ab_scan.coords[1] == y)\n",
    "        for j in np.arange(ab_scan.coords.shape[1])[m]:\n",
    "            out.add(j)\n",
    "    return out"
   ]
  },
  {
   "cell_type": "code",
   "execution_count": null,
   "metadata": {
    "collapsed": false
   },
   "outputs": [],
   "source": [
    "satscan_data = open_cp.stscan2.SaTScanData(\"satscan_test3\", 1000)\n",
    "ab_scan = build_ab_scan( *satscan_data.to_coords_time() )\n",
    "\n",
    "all_clusters = list(ab_scan.find_all_clusters())\n",
    "for c in all_clusters:\n",
    "    print(c.centre, c.radius, c.time, c.statistic)"
   ]
  },
  {
   "cell_type": "code",
   "execution_count": null,
   "metadata": {
    "collapsed": false
   },
   "outputs": [],
   "source": [
    "# Cluster which SaTScan finds -- In this case, seemingly SaTScan includes all events\n",
    "in_disc = find_mask([30,30], 20)\n",
    "find_satscan_ids_for_mask(in_disc, 70)"
   ]
  },
  {
   "cell_type": "code",
   "execution_count": null,
   "metadata": {
    "collapsed": false
   },
   "outputs": [],
   "source": [
    "# Our cluster-- all events in or on the disc\n",
    "in_disc = find_mask([50,30], 20)\n",
    "find_satscan_ids_for_mask(in_disc, 45)"
   ]
  },
  {
   "cell_type": "code",
   "execution_count": null,
   "metadata": {
    "collapsed": false
   },
   "outputs": [],
   "source": [
    "# The subset of events our algorithm chooses to use\n",
    "in_disc = all_clusters[0].mask\n",
    "find_satscan_ids_for_mask(in_disc, 45)"
   ]
  },
  {
   "cell_type": "code",
   "execution_count": null,
   "metadata": {
    "collapsed": false
   },
   "outputs": [],
   "source": [
    "# The numpy code should, mostly, replicate what SaTScan does\n",
    "stsn = build_stscan_numpy( *satscan_data.to_coords_time() )\n",
    "\n",
    "all_clusters = list(stsn.find_all_clusters())\n",
    "for c in all_clusters:\n",
    "    print(c.centre, c.radius, c.time, c.statistic)"
   ]
  },
  {
   "cell_type": "markdown",
   "metadata": {},
   "source": [
    "## 2nd Example\n",
    "\n",
    "This example actually seems to show SaTScan not including all points in a disc.  SaTScan reports:\n",
    "\n",
    "    1.Location IDs included.: 23, 6, 16\n",
    "      Coordinates / radius..: (30,30) / 20.00\n",
    "      Time frame............: 993 to 1000\n",
    "      Number of cases.......: 3\n",
    "      Expected cases........: 0.42\n",
    "      Observed / expected...: 7.14\n",
    "      Test statistic........: 3.352053\n",
    "      P-value...............: 0.202\n",
    "      Recurrence interval...: 5.0 units\n",
    "\n",
    "Now, we note that:\n",
    "- Event 23 occurs at times 967 and 924, which are both _outside_ the time window.\n",
    "- The disc centred at (30,30) of radius 20 contains events 6, 11, 16, 23 and 24.\n",
    "- If we manually compute the statistic for this disk and time, we get the same value as SaTScan (to be precise, if we change the space window to only include events 6, 16 and 23, we obtain the sample \"expected\" count).\n",
    "- The Numpy accelerated code fails to find this cluster, as it includes all events in the disk."
   ]
  },
  {
   "cell_type": "code",
   "execution_count": null,
   "metadata": {
    "collapsed": false,
    "scrolled": true
   },
   "outputs": [],
   "source": [
    "satscan_data = open_cp.stscan2.SaTScanData(\"satscan_test1\", 1000)\n",
    "coords, times = satscan_data.to_coords_time()\n",
    "ab_scan = build_ab_scan(coords, times)\n",
    "\n",
    "all_clusters = list(ab_scan.find_all_clusters())\n",
    "for c in all_clusters:\n",
    "    print(c.centre, c.radius, c.time, c.statistic)"
   ]
  },
  {
   "cell_type": "code",
   "execution_count": null,
   "metadata": {
    "collapsed": false
   },
   "outputs": [],
   "source": [
    "in_disc = find_mask([30,30], 20)\n",
    "find_satscan_ids_for_mask(in_disc,7)"
   ]
  },
  {
   "cell_type": "code",
   "execution_count": null,
   "metadata": {
    "collapsed": false
   },
   "outputs": [],
   "source": [
    "in_disc = find_mask([30,30], 20)\n",
    "find_satscan_ids_for_mask(in_disc,10000)"
   ]
  },
  {
   "cell_type": "code",
   "execution_count": null,
   "metadata": {
    "collapsed": false
   },
   "outputs": [],
   "source": [
    "satscan_data.geo[6], satscan_data.geo[16], satscan_data.geo[11], satscan_data.geo[23], satscan_data.geo[24]"
   ]
  },
  {
   "cell_type": "code",
   "execution_count": null,
   "metadata": {
    "collapsed": false
   },
   "outputs": [],
   "source": [
    "time_mask = times <= 7\n",
    "space_mask = np.sum( (coords - np.array([30,30])[:,None])**2, axis=0) <= 20**2\n",
    "\n",
    "expected = np.sum(space_mask) * np.sum(time_mask) / 100\n",
    "actual = np.sum(space_mask & time_mask)\n",
    "actual, expected, ab_scan._statistic(actual, expected, 100)"
   ]
  },
  {
   "cell_type": "code",
   "execution_count": null,
   "metadata": {
    "collapsed": false
   },
   "outputs": [],
   "source": [
    "# The above Statistic is smaller than the one SaTScan finds, because the expected count is too large\n",
    "# But if we limit the spacial region to the ids SaTScan claims, we obtain a perfect match\n",
    "expected = len(to_our_indexes([23, 6, 16])) * np.sum(time_mask) / 100\n",
    "expected"
   ]
  },
  {
   "cell_type": "code",
   "execution_count": null,
   "metadata": {
    "collapsed": false
   },
   "outputs": [],
   "source": [
    "# The numpy accelerated code doesn't find the same clusters\n",
    "stsn = build_stscan_numpy(coords, times)\n",
    "\n",
    "all_clusters = list(stsn.find_all_clusters())\n",
    "for c in all_clusters:\n",
    "    print(c.centre, c.radius, c.time, c.statistic)"
   ]
  },
  {
   "cell_type": "code",
   "execution_count": null,
   "metadata": {
    "collapsed": true
   },
   "outputs": [],
   "source": []
  },
  {
   "cell_type": "code",
   "execution_count": null,
   "metadata": {
    "collapsed": true
   },
   "outputs": [],
   "source": []
  }
 ],
 "metadata": {
  "kernelspec": {
   "display_name": "Python 3",
   "language": "python",
   "name": "python3"
  },
  "language_info": {
   "codemirror_mode": {
    "name": "ipython",
    "version": 3
   },
   "file_extension": ".py",
   "mimetype": "text/x-python",
   "name": "python",
   "nbconvert_exporter": "python",
   "pygments_lexer": "ipython3",
   "version": "3.6.0"
  }
 },
 "nbformat": 4,
 "nbformat_minor": 2
}
