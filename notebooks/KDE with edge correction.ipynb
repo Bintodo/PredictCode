{
 "cells": [
  {
   "cell_type": "markdown",
   "metadata": {},
   "source": [
    "# Kernel density estimate with edge correction\n",
    "\n",
    "We follow:\n",
    "\n",
    "Kelsall, Diggle, \"Non-parametric estimation of spatial variation in relative risk\", Statistics in Medicine 14 (1995) 2335--2342\n",
    "\n",
    "The idea is bias the density estimation near the boundary of a study region to reduce \"edge effects\"."
   ]
  },
  {
   "cell_type": "markdown",
   "metadata": {},
   "source": [
    "We assume that we are using a fixed bandwidth, Gaussian KDE, of the form\n",
    "\n",
    "$$ f(x) = \\frac{1}{n} \\sum_{i=1}^n \\frac{1}{|S|^{1/2}} \\frac{1}{h^2} K\\big(h^{-2} (x-x_i)^T S^{-1} (x-x_i)\\big)\n",
    "\\qquad (x\\in\\mathbb R^2), $$\n",
    "where $K(t) = (2\\pi)^{-1} e^{-t/2}$.  This is slightly more general than Kelsall and Diggle, as we allow a \"covariance matrix\" $S$.  The \"edge corrected\" estimate is\n",
    "$$ \\frac{f(x)}{q(x)} \\quad\\text{where}\\quad q(x) = \\int_A \\frac{1}{|S|^{1/2}} \\frac{1}{h^2} K\\big(h^{-2} (x-y)^T S^{-1} (x-y)\\big)\n",
    "dy, $$\n",
    "where $A$ is our study region.\n",
    "\n",
    "Let us first [change variables](https://en.wikipedia.org/wiki/Integration_by_substitution#Substitution_for_multiple_variables)\n",
    "\\begin{align*} q(x) &=\n",
    "\\int_{S^{-1/2}A} \\frac{1}{h^2} K\\big(h^{-2} (x-S^{1/2}z)^T S^{-1} (x-S^{1/2}z)\\big) dz, \\\\\n",
    "&= \\int_{S^{-1/2}A} \\frac{1}{h^2} K\\big(h^{-2} (S^{-1/2}x-z)^T (S^{-1/2}x-z)\\big) dz \\\\\n",
    "&= \\int_{S^{-1/2}A} \\frac{1}{2\\pi h^2} e^{-\\|(S^{-1/2}x-z)/h\\|^2/2} dz.\n",
    "\\end{align*}\n",
    "\n",
    "We can now follow Kelsall and Diggle.  Choose an integer $m$ and $r_1 < r_2 < \\cdots < r_m$ with \n",
    "$$ \\int_{0}^{r_i} \\frac{1}{2\\pi h^2} e^{-(r/h)^2/2} 2\\pi r \\ dr = \\frac{i-1/2}{m}. $$\n",
    "This is, we work in polar coordinates.  Notice that this integral can be evaluated exactly,\n",
    "$$ \\int_{0}^s \\frac{1}{h^2} e^{-(r/h)^2/2} r \\ dr = \\int_{0}^s - \\frac{d}{dr} e^{-(r/h)^2/2} \\ dr\n",
    "= 1 - e^{-(s/h)^2/2}, $$\n",
    "and so\n",
    "$$ r_i^2 = -2h^2 \\log\\Big( \\frac{m - i + 1/2}{m} \\Big). $$\n",
    "\n",
    "Then we consider each circle of radius $r_i$ centred at $S^{-1/2}x$, and consider $k$ evenly spaced points on this circle.  Let $p(S^{-1/2}x, r_i)$ be the number of these $k$ points inside $S^{-1/2}A$.  Then,\n",
    "$$ q(x) \\approx \\frac{1}{m} \\sum_{i=1}^m p(S^{-1/2}x, r_i). $$\n",
    "Recommended values are $m=10, k=100$."
   ]
  },
  {
   "cell_type": "code",
   "execution_count": null,
   "metadata": {
    "collapsed": true
   },
   "outputs": [],
   "source": []
  }
 ],
 "metadata": {
  "kernelspec": {
   "display_name": "Python 3",
   "language": "python",
   "name": "python3"
  },
  "language_info": {
   "codemirror_mode": {
    "name": "ipython",
    "version": 3
   },
   "file_extension": ".py",
   "mimetype": "text/x-python",
   "name": "python",
   "nbconvert_exporter": "python",
   "pygments_lexer": "ipython3",
   "version": "3.6.0"
  }
 },
 "nbformat": 4,
 "nbformat_minor": 2
}
