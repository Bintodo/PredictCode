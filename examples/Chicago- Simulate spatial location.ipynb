{
 "cells": [
  {
   "cell_type": "code",
   "execution_count": 68,
   "metadata": {
    "collapsed": true
   },
   "outputs": [],
   "source": [
    "# Allow us to load `open_cp` without installing\n",
    "import sys, os.path\n",
    "sys.path.insert(0, os.path.abspath(\"..\"))"
   ]
  },
  {
   "cell_type": "markdown",
   "metadata": {},
   "source": [
    "# Resources for address data\n",
    "\n",
    "The [TIGER/Line](https://www.census.gov/geo/maps-data/data/tiger-line.html) dataset from the US Census bureau provides a great resource for getting block-level address data.\n",
    "- [Technical documentation](https://www2.census.gov/geo/pdfs/maps-data/data/tiger/tgrshp2016/TGRSHP2016_TechDoc.pdf)\n",
    "- It is easiest to download the data from the [FTP Site](ftp://ftp2.census.gov/geo/tiger/TIGER2016/ADDRFEAT/)\n",
    "- Here I link to the ADDRFEAT datasets which provide the best geocoding data, according to the tech documentation.\n",
    "- The files are named using the [FIP County Code](https://en.wikipedia.org/wiki/FIPS_county_code).  For chicago this is 17031.\n",
    "- Once downloaded, unzip, and find a standard shape file.  It is interesting to load this, and an extract of the crime data (e.g. by loading into a GeoDataFrame and saving), into QGIS and visualising the result.\n",
    "\n",
    "It is also possible to extract address details from OpenStreetMap.  In particular, for Chicago, there are a very large number of individual buildings, with addresses, available.  However, I have also noticed that the OSM data is not as complete as the US Census dataset (for example, minor roads missing names, even when those roads appear in the crime dataset).\n",
    "\n",
    "The Census data from 2013 seems good to use.  The 2016 data seems to be more \"aggregated\": it is easy to find examples of a single block which is split into, say, 3 paths in the geometry.  In the 2013 data each part will contain a range of addresses, while in the 2016 data, only one part contains all the addresses, the other parts having \"None\" as the address range."
   ]
  },
  {
   "cell_type": "code",
   "execution_count": 33,
   "metadata": {
    "collapsed": false
   },
   "outputs": [],
   "source": [
    "%matplotlib inline\n",
    "import matplotlib.pyplot as plt\n",
    "import geopandas as gpd\n",
    "import os\n",
    "import numpy as np\n",
    "\n",
    "filename = os.path.join(\"/media\", \"disk\", \"tl_2013_17031_edges\", \"tl_2013_17031_edges.shp\")"
   ]
  },
  {
   "cell_type": "code",
   "execution_count": 2,
   "metadata": {
    "collapsed": false
   },
   "outputs": [],
   "source": [
    "edges = gpd.read_file(filename)"
   ]
  },
  {
   "cell_type": "code",
   "execution_count": 157,
   "metadata": {
    "collapsed": false
   },
   "outputs": [
    {
     "data": {
      "text/plain": [
       "{'init': 'epsg:4269'}"
      ]
     },
     "execution_count": 157,
     "metadata": {},
     "output_type": "execute_result"
    }
   ],
   "source": [
    "# Slightly curious, if you look it up.  But lon/lat\n",
    "edges.crs"
   ]
  },
  {
   "cell_type": "code",
   "execution_count": 66,
   "metadata": {
    "collapsed": false
   },
   "outputs": [
    {
     "data": {
      "text/plain": [
       "ARTPATH                                                       N\n",
       "COUNTYFP                                                    031\n",
       "DECKEDROAD                                                    N\n",
       "DIVROAD                                                       N\n",
       "EXTTYP                                                        N\n",
       "FEATCAT                                                       S\n",
       "FULLNAME                                              N Park Dr\n",
       "GCSEFLG                                                       N\n",
       "HYDROFLG                                                      N\n",
       "LFROMADD                                                   None\n",
       "LTOADD                                                     None\n",
       "MTFCC                                                     S1400\n",
       "OFFSETL                                                       N\n",
       "OFFSETR                                                       N\n",
       "OLFFLG                                                        N\n",
       "PASSFLG                                                    None\n",
       "PERSIST                                                    None\n",
       "RAILFLG                                                       N\n",
       "RFROMADD                                                   None\n",
       "ROADFLG                                                       Y\n",
       "RTOADD                                                     None\n",
       "SMID                                                       3204\n",
       "STATEFP                                                      17\n",
       "TFIDL                                                 205046777\n",
       "TFIDR                                                 205048609\n",
       "TLID                                                  111889108\n",
       "TNIDF                                                  66497785\n",
       "TNIDT                                                  66497786\n",
       "TTYP                                                       None\n",
       "ZIPL                                                       None\n",
       "ZIPR                                                       None\n",
       "geometry      LINESTRING (-87.61961199999999 41.890371999999...\n",
       "Name: 12, dtype: object"
      ]
     },
     "execution_count": 66,
     "metadata": {},
     "output_type": "execute_result"
    }
   ],
   "source": [
    "edges.ix[12]"
   ]
  },
  {
   "cell_type": "markdown",
   "metadata": {},
   "source": [
    "We only care about the columns \"geometry\" and \"FULLNAME\" (giving the road name) and LFROMADD, LTOADD, RFROMADD, RTOADD"
   ]
  },
  {
   "cell_type": "code",
   "execution_count": 158,
   "metadata": {
    "collapsed": false
   },
   "outputs": [
    {
     "data": {
      "text/html": [
       "<div>\n",
       "<table border=\"1\" class=\"dataframe\">\n",
       "  <thead>\n",
       "    <tr style=\"text-align: right;\">\n",
       "      <th></th>\n",
       "      <th>FULLNAME</th>\n",
       "      <th>LFROMADD</th>\n",
       "      <th>LTOADD</th>\n",
       "      <th>RFROMADD</th>\n",
       "      <th>RTOADD</th>\n",
       "      <th>geometry</th>\n",
       "    </tr>\n",
       "  </thead>\n",
       "  <tbody>\n",
       "    <tr>\n",
       "      <th>0</th>\n",
       "      <td>None</td>\n",
       "      <td>None</td>\n",
       "      <td>None</td>\n",
       "      <td>None</td>\n",
       "      <td>None</td>\n",
       "      <td>LINESTRING (-87.60164199999998 41.845196, -87....</td>\n",
       "    </tr>\n",
       "    <tr>\n",
       "      <th>1</th>\n",
       "      <td>None</td>\n",
       "      <td>None</td>\n",
       "      <td>None</td>\n",
       "      <td>None</td>\n",
       "      <td>None</td>\n",
       "      <td>LINESTRING (-87.11116199999998 42.149408999999...</td>\n",
       "    </tr>\n",
       "    <tr>\n",
       "      <th>2</th>\n",
       "      <td>None</td>\n",
       "      <td>None</td>\n",
       "      <td>None</td>\n",
       "      <td>None</td>\n",
       "      <td>None</td>\n",
       "      <td>LINESTRING (-87.62505699999998 42.071528, -87....</td>\n",
       "    </tr>\n",
       "    <tr>\n",
       "      <th>3</th>\n",
       "      <td>None</td>\n",
       "      <td>None</td>\n",
       "      <td>None</td>\n",
       "      <td>None</td>\n",
       "      <td>None</td>\n",
       "      <td>LINESTRING (-87.74845399999998 42.152859999999...</td>\n",
       "    </tr>\n",
       "    <tr>\n",
       "      <th>4</th>\n",
       "      <td>None</td>\n",
       "      <td>None</td>\n",
       "      <td>None</td>\n",
       "      <td>None</td>\n",
       "      <td>None</td>\n",
       "      <td>LINESTRING (-87.63278799999999 41.970942, -87....</td>\n",
       "    </tr>\n",
       "  </tbody>\n",
       "</table>\n",
       "</div>"
      ],
      "text/plain": [
       "  FULLNAME LFROMADD LTOADD RFROMADD RTOADD  \\\n",
       "0     None     None   None     None   None   \n",
       "1     None     None   None     None   None   \n",
       "2     None     None   None     None   None   \n",
       "3     None     None   None     None   None   \n",
       "4     None     None   None     None   None   \n",
       "\n",
       "                                            geometry  \n",
       "0  LINESTRING (-87.60164199999998 41.845196, -87....  \n",
       "1  LINESTRING (-87.11116199999998 42.149408999999...  \n",
       "2  LINESTRING (-87.62505699999998 42.071528, -87....  \n",
       "3  LINESTRING (-87.74845399999998 42.152859999999...  \n",
       "4  LINESTRING (-87.63278799999999 41.970942, -87....  "
      ]
     },
     "execution_count": 158,
     "metadata": {},
     "output_type": "execute_result"
    }
   ],
   "source": [
    "want = {\"geometry\", \"FULLNAME\", \"LFROMADD\", \"LTOADD\", \"RFROMADD\", \"RTOADD\"}\n",
    "edges = gpd.GeoDataFrame({key:edges[key] for key in want})\n",
    "edges.head()"
   ]
  },
  {
   "cell_type": "code",
   "execution_count": 93,
   "metadata": {
    "collapsed": true
   },
   "outputs": [],
   "source": [
    "import open_cp.sources.chicago as chicago\n",
    "\n",
    "frame = chicago.load_to_geoDataFrame()\n",
    "frame = frame[frame.geometry.map(lambda pt : pt is not None)]"
   ]
  },
  {
   "cell_type": "markdown",
   "metadata": {},
   "source": [
    "# Pick out one block\n",
    "\n",
    "We'll eventually iterate over each block, but let's just pick one."
   ]
  },
  {
   "cell_type": "code",
   "execution_count": 171,
   "metadata": {
    "collapsed": false
   },
   "outputs": [
    {
     "data": {
      "text/html": [
       "<div>\n",
       "<table border=\"1\" class=\"dataframe\">\n",
       "  <thead>\n",
       "    <tr style=\"text-align: right;\">\n",
       "      <th></th>\n",
       "      <th>address</th>\n",
       "      <th>case</th>\n",
       "      <th>crime</th>\n",
       "      <th>geometry</th>\n",
       "      <th>location</th>\n",
       "      <th>timestamp</th>\n",
       "      <th>type</th>\n",
       "      <th>name</th>\n",
       "    </tr>\n",
       "  </thead>\n",
       "  <tbody>\n",
       "    <tr>\n",
       "      <th>0</th>\n",
       "      <td>010XX N CENTRAL PARK AVE</td>\n",
       "      <td>HZ560767</td>\n",
       "      <td>OTHER OFFENSE</td>\n",
       "      <td>POINT (-87.71645415899999 41.899712716)</td>\n",
       "      <td>APARTMENT</td>\n",
       "      <td>2016-12-22T02:55:00</td>\n",
       "      <td>VIOLATE ORDER OF PROTECTION</td>\n",
       "      <td>N Central Park Ave</td>\n",
       "    </tr>\n",
       "    <tr>\n",
       "      <th>21374</th>\n",
       "      <td>010XX N CENTRAL PARK AVE</td>\n",
       "      <td>JA210311</td>\n",
       "      <td>THEFT</td>\n",
       "      <td>POINT (-87.716462854 41.899954256)</td>\n",
       "      <td>VEHICLE NON-COMMERCIAL</td>\n",
       "      <td>2017-04-01T07:00:00</td>\n",
       "      <td>$500 AND UNDER</td>\n",
       "      <td>N Central Park Ave</td>\n",
       "    </tr>\n",
       "    <tr>\n",
       "      <th>23295</th>\n",
       "      <td>010XX N CENTRAL PARK AVE</td>\n",
       "      <td>JA210493</td>\n",
       "      <td>ASSAULT</td>\n",
       "      <td>POINT (-87.71645193800001 41.899561771)</td>\n",
       "      <td>STREET</td>\n",
       "      <td>2017-04-03T08:03:00</td>\n",
       "      <td>AGGRAVATED: HANDGUN</td>\n",
       "      <td>N Central Park Ave</td>\n",
       "    </tr>\n",
       "    <tr>\n",
       "      <th>24540</th>\n",
       "      <td>010XX N CENTRAL PARK AVE</td>\n",
       "      <td>HZ342785</td>\n",
       "      <td>BATTERY</td>\n",
       "      <td>POINT (-87.716457119 41.899786826)</td>\n",
       "      <td>RESIDENTIAL YARD (FRONT/BACK)</td>\n",
       "      <td>2016-07-09T22:40:00</td>\n",
       "      <td>AGGRAVATED: HANDGUN</td>\n",
       "      <td>N Central Park Ave</td>\n",
       "    </tr>\n",
       "    <tr>\n",
       "      <th>54066</th>\n",
       "      <td>010XX N CENTRAL PARK AVE</td>\n",
       "      <td>HZ259442</td>\n",
       "      <td>NARCOTICS</td>\n",
       "      <td>POINT (-87.716463039 41.899935047)</td>\n",
       "      <td>ALLEY</td>\n",
       "      <td>2016-05-10T20:57:00</td>\n",
       "      <td>POSS: HEROIN(WHITE)</td>\n",
       "      <td>N Central Park Ave</td>\n",
       "    </tr>\n",
       "  </tbody>\n",
       "</table>\n",
       "</div>"
      ],
      "text/plain": [
       "                        address      case          crime  \\\n",
       "0      010XX N CENTRAL PARK AVE  HZ560767  OTHER OFFENSE   \n",
       "21374  010XX N CENTRAL PARK AVE  JA210311          THEFT   \n",
       "23295  010XX N CENTRAL PARK AVE  JA210493        ASSAULT   \n",
       "24540  010XX N CENTRAL PARK AVE  HZ342785        BATTERY   \n",
       "54066  010XX N CENTRAL PARK AVE  HZ259442      NARCOTICS   \n",
       "\n",
       "                                      geometry                       location  \\\n",
       "0      POINT (-87.71645415899999 41.899712716)                      APARTMENT   \n",
       "21374       POINT (-87.716462854 41.899954256)         VEHICLE NON-COMMERCIAL   \n",
       "23295  POINT (-87.71645193800001 41.899561771)                         STREET   \n",
       "24540       POINT (-87.716457119 41.899786826)  RESIDENTIAL YARD (FRONT/BACK)   \n",
       "54066       POINT (-87.716463039 41.899935047)                          ALLEY   \n",
       "\n",
       "                 timestamp                         type                name  \n",
       "0      2016-12-22T02:55:00  VIOLATE ORDER OF PROTECTION  N Central Park Ave  \n",
       "21374  2017-04-01T07:00:00               $500 AND UNDER  N Central Park Ave  \n",
       "23295  2017-04-03T08:03:00          AGGRAVATED: HANDGUN  N Central Park Ave  \n",
       "24540  2016-07-09T22:40:00          AGGRAVATED: HANDGUN  N Central Park Ave  \n",
       "54066  2016-05-10T20:57:00          POSS: HEROIN(WHITE)  N Central Park Ave  "
      ]
     },
     "execution_count": 171,
     "metadata": {},
     "output_type": "execute_result"
    }
   ],
   "source": [
    "one = frame[frame.address == frame.address.unique()[0]].copy()\n",
    "one.head()"
   ]
  },
  {
   "cell_type": "markdown",
   "metadata": {},
   "source": [
    "# Distances"
   ]
  },
  {
   "cell_type": "code",
   "execution_count": 187,
   "metadata": {
    "collapsed": false
   },
   "outputs": [
    {
     "data": {
      "text/html": [
       "<div>\n",
       "<table border=\"1\" class=\"dataframe\">\n",
       "  <thead>\n",
       "    <tr style=\"text-align: right;\">\n",
       "      <th></th>\n",
       "      <th>address</th>\n",
       "      <th>case</th>\n",
       "      <th>crime</th>\n",
       "      <th>geometry</th>\n",
       "      <th>location</th>\n",
       "      <th>timestamp</th>\n",
       "      <th>type</th>\n",
       "      <th>name</th>\n",
       "      <th>edge_index</th>\n",
       "      <th>edge_index1</th>\n",
       "    </tr>\n",
       "  </thead>\n",
       "  <tbody>\n",
       "    <tr>\n",
       "      <th>0</th>\n",
       "      <td>010XX N CENTRAL PARK AVE</td>\n",
       "      <td>HZ560767</td>\n",
       "      <td>OTHER OFFENSE</td>\n",
       "      <td>POINT (-87.71645415899999 41.899712716)</td>\n",
       "      <td>APARTMENT</td>\n",
       "      <td>2016-12-22T02:55:00</td>\n",
       "      <td>VIOLATE ORDER OF PROTECTION</td>\n",
       "      <td>N Central Park Ave</td>\n",
       "      <td>164302</td>\n",
       "      <td>164302</td>\n",
       "    </tr>\n",
       "    <tr>\n",
       "      <th>21374</th>\n",
       "      <td>010XX N CENTRAL PARK AVE</td>\n",
       "      <td>JA210311</td>\n",
       "      <td>THEFT</td>\n",
       "      <td>POINT (-87.716462854 41.899954256)</td>\n",
       "      <td>VEHICLE NON-COMMERCIAL</td>\n",
       "      <td>2017-04-01T07:00:00</td>\n",
       "      <td>$500 AND UNDER</td>\n",
       "      <td>N Central Park Ave</td>\n",
       "      <td>164302</td>\n",
       "      <td>164302</td>\n",
       "    </tr>\n",
       "    <tr>\n",
       "      <th>23295</th>\n",
       "      <td>010XX N CENTRAL PARK AVE</td>\n",
       "      <td>JA210493</td>\n",
       "      <td>ASSAULT</td>\n",
       "      <td>POINT (-87.71645193800001 41.899561771)</td>\n",
       "      <td>STREET</td>\n",
       "      <td>2017-04-03T08:03:00</td>\n",
       "      <td>AGGRAVATED: HANDGUN</td>\n",
       "      <td>N Central Park Ave</td>\n",
       "      <td>164302</td>\n",
       "      <td>164302</td>\n",
       "    </tr>\n",
       "    <tr>\n",
       "      <th>24540</th>\n",
       "      <td>010XX N CENTRAL PARK AVE</td>\n",
       "      <td>HZ342785</td>\n",
       "      <td>BATTERY</td>\n",
       "      <td>POINT (-87.716457119 41.899786826)</td>\n",
       "      <td>RESIDENTIAL YARD (FRONT/BACK)</td>\n",
       "      <td>2016-07-09T22:40:00</td>\n",
       "      <td>AGGRAVATED: HANDGUN</td>\n",
       "      <td>N Central Park Ave</td>\n",
       "      <td>164302</td>\n",
       "      <td>164302</td>\n",
       "    </tr>\n",
       "    <tr>\n",
       "      <th>54066</th>\n",
       "      <td>010XX N CENTRAL PARK AVE</td>\n",
       "      <td>HZ259442</td>\n",
       "      <td>NARCOTICS</td>\n",
       "      <td>POINT (-87.716463039 41.899935047)</td>\n",
       "      <td>ALLEY</td>\n",
       "      <td>2016-05-10T20:57:00</td>\n",
       "      <td>POSS: HEROIN(WHITE)</td>\n",
       "      <td>N Central Park Ave</td>\n",
       "      <td>164302</td>\n",
       "      <td>164302</td>\n",
       "    </tr>\n",
       "  </tbody>\n",
       "</table>\n",
       "</div>"
      ],
      "text/plain": [
       "                        address      case          crime  \\\n",
       "0      010XX N CENTRAL PARK AVE  HZ560767  OTHER OFFENSE   \n",
       "21374  010XX N CENTRAL PARK AVE  JA210311          THEFT   \n",
       "23295  010XX N CENTRAL PARK AVE  JA210493        ASSAULT   \n",
       "24540  010XX N CENTRAL PARK AVE  HZ342785        BATTERY   \n",
       "54066  010XX N CENTRAL PARK AVE  HZ259442      NARCOTICS   \n",
       "\n",
       "                                      geometry                       location  \\\n",
       "0      POINT (-87.71645415899999 41.899712716)                      APARTMENT   \n",
       "21374       POINT (-87.716462854 41.899954256)         VEHICLE NON-COMMERCIAL   \n",
       "23295  POINT (-87.71645193800001 41.899561771)                         STREET   \n",
       "24540       POINT (-87.716457119 41.899786826)  RESIDENTIAL YARD (FRONT/BACK)   \n",
       "54066       POINT (-87.716463039 41.899935047)                          ALLEY   \n",
       "\n",
       "                 timestamp                         type                name  \\\n",
       "0      2016-12-22T02:55:00  VIOLATE ORDER OF PROTECTION  N Central Park Ave   \n",
       "21374  2017-04-01T07:00:00               $500 AND UNDER  N Central Park Ave   \n",
       "23295  2017-04-03T08:03:00          AGGRAVATED: HANDGUN  N Central Park Ave   \n",
       "24540  2016-07-09T22:40:00          AGGRAVATED: HANDGUN  N Central Park Ave   \n",
       "54066  2016-05-10T20:57:00          POSS: HEROIN(WHITE)  N Central Park Ave   \n",
       "\n",
       "       edge_index  edge_index1  \n",
       "0          164302       164302  \n",
       "21374      164302       164302  \n",
       "23295      164302       164302  \n",
       "24540      164302       164302  \n",
       "54066      164302       164302  "
      ]
     },
     "execution_count": 187,
     "metadata": {},
     "output_type": "execute_result"
    }
   ],
   "source": [
    "def find_match_via_distance(point):\n",
    "    dist = edges.geometry.distance(point)\n",
    "    return edges.ix[dist.argmin]\n",
    "\n",
    "def via_distance(one):\n",
    "    return [ find_match_via_distance(point).name for point in one.geometry ]\n",
    "\n",
    "one[\"edge_index\"] = via_distance(one)\n",
    "one.head()"
   ]
  },
  {
   "cell_type": "markdown",
   "metadata": {},
   "source": [
    "# Intersections"
   ]
  },
  {
   "cell_type": "code",
   "execution_count": 189,
   "metadata": {
    "collapsed": false
   },
   "outputs": [
    {
     "data": {
      "text/html": [
       "<div>\n",
       "<table border=\"1\" class=\"dataframe\">\n",
       "  <thead>\n",
       "    <tr style=\"text-align: right;\">\n",
       "      <th></th>\n",
       "      <th>address</th>\n",
       "      <th>case</th>\n",
       "      <th>crime</th>\n",
       "      <th>geometry</th>\n",
       "      <th>location</th>\n",
       "      <th>timestamp</th>\n",
       "      <th>type</th>\n",
       "      <th>name</th>\n",
       "      <th>edge_index</th>\n",
       "      <th>edge_index1</th>\n",
       "    </tr>\n",
       "  </thead>\n",
       "  <tbody>\n",
       "    <tr>\n",
       "      <th>0</th>\n",
       "      <td>010XX N CENTRAL PARK AVE</td>\n",
       "      <td>HZ560767</td>\n",
       "      <td>OTHER OFFENSE</td>\n",
       "      <td>POINT (-87.71645415899999 41.899712716)</td>\n",
       "      <td>APARTMENT</td>\n",
       "      <td>2016-12-22T02:55:00</td>\n",
       "      <td>VIOLATE ORDER OF PROTECTION</td>\n",
       "      <td>N Central Park Ave</td>\n",
       "      <td>164302</td>\n",
       "      <td>164302</td>\n",
       "    </tr>\n",
       "    <tr>\n",
       "      <th>21374</th>\n",
       "      <td>010XX N CENTRAL PARK AVE</td>\n",
       "      <td>JA210311</td>\n",
       "      <td>THEFT</td>\n",
       "      <td>POINT (-87.716462854 41.899954256)</td>\n",
       "      <td>VEHICLE NON-COMMERCIAL</td>\n",
       "      <td>2017-04-01T07:00:00</td>\n",
       "      <td>$500 AND UNDER</td>\n",
       "      <td>N Central Park Ave</td>\n",
       "      <td>164302</td>\n",
       "      <td>164302</td>\n",
       "    </tr>\n",
       "    <tr>\n",
       "      <th>23295</th>\n",
       "      <td>010XX N CENTRAL PARK AVE</td>\n",
       "      <td>JA210493</td>\n",
       "      <td>ASSAULT</td>\n",
       "      <td>POINT (-87.71645193800001 41.899561771)</td>\n",
       "      <td>STREET</td>\n",
       "      <td>2017-04-03T08:03:00</td>\n",
       "      <td>AGGRAVATED: HANDGUN</td>\n",
       "      <td>N Central Park Ave</td>\n",
       "      <td>164302</td>\n",
       "      <td>164302</td>\n",
       "    </tr>\n",
       "    <tr>\n",
       "      <th>24540</th>\n",
       "      <td>010XX N CENTRAL PARK AVE</td>\n",
       "      <td>HZ342785</td>\n",
       "      <td>BATTERY</td>\n",
       "      <td>POINT (-87.716457119 41.899786826)</td>\n",
       "      <td>RESIDENTIAL YARD (FRONT/BACK)</td>\n",
       "      <td>2016-07-09T22:40:00</td>\n",
       "      <td>AGGRAVATED: HANDGUN</td>\n",
       "      <td>N Central Park Ave</td>\n",
       "      <td>164302</td>\n",
       "      <td>164302</td>\n",
       "    </tr>\n",
       "    <tr>\n",
       "      <th>54066</th>\n",
       "      <td>010XX N CENTRAL PARK AVE</td>\n",
       "      <td>HZ259442</td>\n",
       "      <td>NARCOTICS</td>\n",
       "      <td>POINT (-87.716463039 41.899935047)</td>\n",
       "      <td>ALLEY</td>\n",
       "      <td>2016-05-10T20:57:00</td>\n",
       "      <td>POSS: HEROIN(WHITE)</td>\n",
       "      <td>N Central Park Ave</td>\n",
       "      <td>164302</td>\n",
       "      <td>164302</td>\n",
       "    </tr>\n",
       "  </tbody>\n",
       "</table>\n",
       "</div>"
      ],
      "text/plain": [
       "                        address      case          crime  \\\n",
       "0      010XX N CENTRAL PARK AVE  HZ560767  OTHER OFFENSE   \n",
       "21374  010XX N CENTRAL PARK AVE  JA210311          THEFT   \n",
       "23295  010XX N CENTRAL PARK AVE  JA210493        ASSAULT   \n",
       "24540  010XX N CENTRAL PARK AVE  HZ342785        BATTERY   \n",
       "54066  010XX N CENTRAL PARK AVE  HZ259442      NARCOTICS   \n",
       "\n",
       "                                      geometry                       location  \\\n",
       "0      POINT (-87.71645415899999 41.899712716)                      APARTMENT   \n",
       "21374       POINT (-87.716462854 41.899954256)         VEHICLE NON-COMMERCIAL   \n",
       "23295  POINT (-87.71645193800001 41.899561771)                         STREET   \n",
       "24540       POINT (-87.716457119 41.899786826)  RESIDENTIAL YARD (FRONT/BACK)   \n",
       "54066       POINT (-87.716463039 41.899935047)                          ALLEY   \n",
       "\n",
       "                 timestamp                         type                name  \\\n",
       "0      2016-12-22T02:55:00  VIOLATE ORDER OF PROTECTION  N Central Park Ave   \n",
       "21374  2017-04-01T07:00:00               $500 AND UNDER  N Central Park Ave   \n",
       "23295  2017-04-03T08:03:00          AGGRAVATED: HANDGUN  N Central Park Ave   \n",
       "24540  2016-07-09T22:40:00          AGGRAVATED: HANDGUN  N Central Park Ave   \n",
       "54066  2016-05-10T20:57:00          POSS: HEROIN(WHITE)  N Central Park Ave   \n",
       "\n",
       "       edge_index  edge_index1  \n",
       "0          164302       164302  \n",
       "21374      164302       164302  \n",
       "23295      164302       164302  \n",
       "24540      164302       164302  \n",
       "54066      164302       164302  "
      ]
     },
     "execution_count": 189,
     "metadata": {},
     "output_type": "execute_result"
    }
   ],
   "source": [
    "def find_match_via_intersection(point):\n",
    "    possibles = edges[edges.geometry.intersects( point.buffer(0.001) )]\n",
    "    i = possibles.geometry.distance(point).argmin()\n",
    "    return edges.ix[i]\n",
    "\n",
    "def via_intersection(one):\n",
    "    return [ find_match_via_intersection(point).name\n",
    "        for point in one.geometry ]\n",
    "    \n",
    "one[\"edge_index1\"] = via_intersection(one)\n",
    "one.head()"
   ]
  },
  {
   "cell_type": "code",
   "execution_count": 190,
   "metadata": {
    "collapsed": false
   },
   "outputs": [
    {
     "data": {
      "text/plain": [
       "True"
      ]
     },
     "execution_count": 190,
     "metadata": {},
     "output_type": "execute_result"
    }
   ],
   "source": [
    "np.all(one.edge_index == one.edge_index1)"
   ]
  },
  {
   "cell_type": "code",
   "execution_count": 191,
   "metadata": {
    "collapsed": false
   },
   "outputs": [
    {
     "name": "stdout",
     "output_type": "stream",
     "text": [
      "1 loop, best of 3: 1min 2s per loop\n"
     ]
    }
   ],
   "source": [
    "%timeit(via_distance(one))"
   ]
  },
  {
   "cell_type": "code",
   "execution_count": 192,
   "metadata": {
    "collapsed": false
   },
   "outputs": [
    {
     "name": "stdout",
     "output_type": "stream",
     "text": [
      "1 loop, best of 3: 44.5 s per loop\n"
     ]
    }
   ],
   "source": [
    "%timeit(via_intersection(one))"
   ]
  },
  {
   "cell_type": "markdown",
   "metadata": {},
   "source": [
    "# Via rtree\n",
    "\n",
    "Need a bit more testing to be sure, but this seems vastly, vastly (vastly) quicker..."
   ]
  },
  {
   "cell_type": "code",
   "execution_count": 193,
   "metadata": {
    "collapsed": true
   },
   "outputs": [],
   "source": [
    "import rtree"
   ]
  },
  {
   "cell_type": "code",
   "execution_count": 198,
   "metadata": {
    "collapsed": true
   },
   "outputs": [],
   "source": [
    "gap = 0.001\n",
    "\n",
    "def gen():\n",
    "    for i, row in edges.iterrows():\n",
    "        bds = list(row.geometry.bounds)\n",
    "        bds = [bds[0]-gap, bds[1]-gap, bds[2]+gap, bds[3]+gap]\n",
    "        yield i, bds, None\n",
    "        \n",
    "idx = rtree.index.Index(gen())"
   ]
  },
  {
   "cell_type": "code",
   "execution_count": 210,
   "metadata": {
    "collapsed": false
   },
   "outputs": [
    {
     "data": {
      "text/html": [
       "<div>\n",
       "<table border=\"1\" class=\"dataframe\">\n",
       "  <thead>\n",
       "    <tr style=\"text-align: right;\">\n",
       "      <th></th>\n",
       "      <th>address</th>\n",
       "      <th>case</th>\n",
       "      <th>crime</th>\n",
       "      <th>geometry</th>\n",
       "      <th>location</th>\n",
       "      <th>timestamp</th>\n",
       "      <th>type</th>\n",
       "      <th>name</th>\n",
       "      <th>edge_index</th>\n",
       "      <th>edge_index1</th>\n",
       "      <th>edge_index2</th>\n",
       "    </tr>\n",
       "  </thead>\n",
       "  <tbody>\n",
       "    <tr>\n",
       "      <th>0</th>\n",
       "      <td>010XX N CENTRAL PARK AVE</td>\n",
       "      <td>HZ560767</td>\n",
       "      <td>OTHER OFFENSE</td>\n",
       "      <td>POINT (-87.71645415899999 41.899712716)</td>\n",
       "      <td>APARTMENT</td>\n",
       "      <td>2016-12-22T02:55:00</td>\n",
       "      <td>VIOLATE ORDER OF PROTECTION</td>\n",
       "      <td>N Central Park Ave</td>\n",
       "      <td>164302</td>\n",
       "      <td>164302</td>\n",
       "      <td>164302</td>\n",
       "    </tr>\n",
       "    <tr>\n",
       "      <th>21374</th>\n",
       "      <td>010XX N CENTRAL PARK AVE</td>\n",
       "      <td>JA210311</td>\n",
       "      <td>THEFT</td>\n",
       "      <td>POINT (-87.716462854 41.899954256)</td>\n",
       "      <td>VEHICLE NON-COMMERCIAL</td>\n",
       "      <td>2017-04-01T07:00:00</td>\n",
       "      <td>$500 AND UNDER</td>\n",
       "      <td>N Central Park Ave</td>\n",
       "      <td>164302</td>\n",
       "      <td>164302</td>\n",
       "      <td>164302</td>\n",
       "    </tr>\n",
       "    <tr>\n",
       "      <th>23295</th>\n",
       "      <td>010XX N CENTRAL PARK AVE</td>\n",
       "      <td>JA210493</td>\n",
       "      <td>ASSAULT</td>\n",
       "      <td>POINT (-87.71645193800001 41.899561771)</td>\n",
       "      <td>STREET</td>\n",
       "      <td>2017-04-03T08:03:00</td>\n",
       "      <td>AGGRAVATED: HANDGUN</td>\n",
       "      <td>N Central Park Ave</td>\n",
       "      <td>164302</td>\n",
       "      <td>164302</td>\n",
       "      <td>164302</td>\n",
       "    </tr>\n",
       "    <tr>\n",
       "      <th>24540</th>\n",
       "      <td>010XX N CENTRAL PARK AVE</td>\n",
       "      <td>HZ342785</td>\n",
       "      <td>BATTERY</td>\n",
       "      <td>POINT (-87.716457119 41.899786826)</td>\n",
       "      <td>RESIDENTIAL YARD (FRONT/BACK)</td>\n",
       "      <td>2016-07-09T22:40:00</td>\n",
       "      <td>AGGRAVATED: HANDGUN</td>\n",
       "      <td>N Central Park Ave</td>\n",
       "      <td>164302</td>\n",
       "      <td>164302</td>\n",
       "      <td>164302</td>\n",
       "    </tr>\n",
       "    <tr>\n",
       "      <th>54066</th>\n",
       "      <td>010XX N CENTRAL PARK AVE</td>\n",
       "      <td>HZ259442</td>\n",
       "      <td>NARCOTICS</td>\n",
       "      <td>POINT (-87.716463039 41.899935047)</td>\n",
       "      <td>ALLEY</td>\n",
       "      <td>2016-05-10T20:57:00</td>\n",
       "      <td>POSS: HEROIN(WHITE)</td>\n",
       "      <td>N Central Park Ave</td>\n",
       "      <td>164302</td>\n",
       "      <td>164302</td>\n",
       "      <td>164302</td>\n",
       "    </tr>\n",
       "  </tbody>\n",
       "</table>\n",
       "</div>"
      ],
      "text/plain": [
       "                        address      case          crime  \\\n",
       "0      010XX N CENTRAL PARK AVE  HZ560767  OTHER OFFENSE   \n",
       "21374  010XX N CENTRAL PARK AVE  JA210311          THEFT   \n",
       "23295  010XX N CENTRAL PARK AVE  JA210493        ASSAULT   \n",
       "24540  010XX N CENTRAL PARK AVE  HZ342785        BATTERY   \n",
       "54066  010XX N CENTRAL PARK AVE  HZ259442      NARCOTICS   \n",
       "\n",
       "                                      geometry                       location  \\\n",
       "0      POINT (-87.71645415899999 41.899712716)                      APARTMENT   \n",
       "21374       POINT (-87.716462854 41.899954256)         VEHICLE NON-COMMERCIAL   \n",
       "23295  POINT (-87.71645193800001 41.899561771)                         STREET   \n",
       "24540       POINT (-87.716457119 41.899786826)  RESIDENTIAL YARD (FRONT/BACK)   \n",
       "54066       POINT (-87.716463039 41.899935047)                          ALLEY   \n",
       "\n",
       "                 timestamp                         type                name  \\\n",
       "0      2016-12-22T02:55:00  VIOLATE ORDER OF PROTECTION  N Central Park Ave   \n",
       "21374  2017-04-01T07:00:00               $500 AND UNDER  N Central Park Ave   \n",
       "23295  2017-04-03T08:03:00          AGGRAVATED: HANDGUN  N Central Park Ave   \n",
       "24540  2016-07-09T22:40:00          AGGRAVATED: HANDGUN  N Central Park Ave   \n",
       "54066  2016-05-10T20:57:00          POSS: HEROIN(WHITE)  N Central Park Ave   \n",
       "\n",
       "       edge_index  edge_index1  edge_index2  \n",
       "0          164302       164302       164302  \n",
       "21374      164302       164302       164302  \n",
       "23295      164302       164302       164302  \n",
       "24540      164302       164302       164302  \n",
       "54066      164302       164302       164302  "
      ]
     },
     "execution_count": 210,
     "metadata": {},
     "output_type": "execute_result"
    }
   ],
   "source": [
    "def find_match_via_rtee(point):\n",
    "    possibles = edges.ix[list(idx.intersection(point.coords[0]))]\n",
    "    i = possibles.geometry.distance(point).argmin()\n",
    "    return edges.ix[i]\n",
    "\n",
    "def via_rtree(one):\n",
    "    return [ find_match_via_rtee(point).name\n",
    "        for point in one.geometry ]\n",
    "    \n",
    "one[\"edge_index2\"] = via_rtree(one)\n",
    "one.head()"
   ]
  },
  {
   "cell_type": "code",
   "execution_count": 211,
   "metadata": {
    "collapsed": false
   },
   "outputs": [
    {
     "data": {
      "text/plain": [
       "True"
      ]
     },
     "execution_count": 211,
     "metadata": {},
     "output_type": "execute_result"
    }
   ],
   "source": [
    "all(one.edge_index1 == one.edge_index2)"
   ]
  },
  {
   "cell_type": "code",
   "execution_count": 212,
   "metadata": {
    "collapsed": false
   },
   "outputs": [
    {
     "name": "stdout",
     "output_type": "stream",
     "text": [
      "10 loops, best of 3: 19.7 ms per loop\n"
     ]
    }
   ],
   "source": [
    "%timeit(via_rtree(one))"
   ]
  },
  {
   "cell_type": "code",
   "execution_count": null,
   "metadata": {
    "collapsed": true
   },
   "outputs": [],
   "source": []
  }
 ],
 "metadata": {
  "kernelspec": {
   "display_name": "Python 3",
   "language": "python",
   "name": "python3"
  },
  "language_info": {
   "codemirror_mode": {
    "name": "ipython",
    "version": 3
   },
   "file_extension": ".py",
   "mimetype": "text/x-python",
   "name": "python",
   "nbconvert_exporter": "python",
   "pygments_lexer": "ipython3",
   "version": "3.6.0"
  }
 },
 "nbformat": 4,
 "nbformat_minor": 2
}
