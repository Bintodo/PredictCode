{
 "cells": [
  {
   "cell_type": "code",
   "execution_count": 1,
   "metadata": {
    "collapsed": true
   },
   "outputs": [],
   "source": [
    "# Allow us to load `open_cp` without installing\n",
    "import sys, os.path\n",
    "sys.path.insert(0, os.path.abspath(\"..\"))"
   ]
  },
  {
   "cell_type": "markdown",
   "metadata": {},
   "source": [
    "# Explore the geo-coding of the chicago dataset\n",
    "\n",
    "The chicago crime data provides both:\n",
    "\n",
    "- block-level addresses, sanitised to the form \"010XX N CENTRAL PARK AVE\"\n",
    "- location data in \"coordinates\" and \"longitude/latitude\"\n",
    "\n",
    "We shall see that the coordinates and lon/lat data are linked by projecting in EPSG:3435.  However, the relationship between the block-level addresses and the coordinates is complicated, to say the least."
   ]
  },
  {
   "cell_type": "code",
   "execution_count": 2,
   "metadata": {
    "collapsed": true
   },
   "outputs": [],
   "source": [
    "%matplotlib inline\n",
    "import matplotlib.pyplot as plt\n",
    "import numpy as np\n",
    "import pandas as pd\n",
    "import geopandas as gpd\n",
    "\n",
    "import open_cp.sources.chicago as chicago"
   ]
  },
  {
   "cell_type": "markdown",
   "metadata": {},
   "source": [
    "# Check the projection\n",
    "\n",
    "Our library does not return the \"coordinates\", so we shall manually read them from the CSV file and join them.\n",
    "\n",
    "A bit of browsing around lead me to [EPSG 3435](http://spatialreference.org/ref/epsg/3435/) which is \"NAD83 / Illinois East (ftUS)\"\n",
    "\n",
    "- Of note is that this website says the data is in \"US feet\"\n",
    "- Out of the box, this just doesn't work.\n",
    "- But if I manually correct for the units (i.e. convert from meters to US feet) then it gives an exact agreement.\n",
    "\n",
    "Here, by \"exact\" agreement we mean actual equality, once we round to the nearest foot.\n",
    "\n",
    "- Going the other way, and starting with the x/y coords and projecting back to longitude / latitude leads to small rounding errors.\n",
    "\n",
    "This suggests that the lon/lat data is \"primary\", and the coordinates are computed from it."
   ]
  },
  {
   "cell_type": "code",
   "execution_count": 3,
   "metadata": {
    "collapsed": false
   },
   "outputs": [
    {
     "data": {
      "text/html": [
       "<div>\n",
       "<table border=\"1\" class=\"dataframe\">\n",
       "  <thead>\n",
       "    <tr style=\"text-align: right;\">\n",
       "      <th></th>\n",
       "      <th>address</th>\n",
       "      <th>case</th>\n",
       "      <th>crime</th>\n",
       "      <th>geometry</th>\n",
       "      <th>location</th>\n",
       "      <th>timestamp</th>\n",
       "      <th>type</th>\n",
       "    </tr>\n",
       "  </thead>\n",
       "  <tbody>\n",
       "    <tr>\n",
       "      <th>0</th>\n",
       "      <td>010XX N CENTRAL PARK AVE</td>\n",
       "      <td>HZ560767</td>\n",
       "      <td>OTHER OFFENSE</td>\n",
       "      <td>POINT (-87.71645415899999 41.899712716)</td>\n",
       "      <td>APARTMENT</td>\n",
       "      <td>2016-12-22T02:55:00</td>\n",
       "      <td>VIOLATE ORDER OF PROTECTION</td>\n",
       "    </tr>\n",
       "    <tr>\n",
       "      <th>1</th>\n",
       "      <td>051XX S WASHTENAW AVE</td>\n",
       "      <td>HZ561134</td>\n",
       "      <td>BATTERY</td>\n",
       "      <td>POINT (-87.691539994 41.800445234)</td>\n",
       "      <td>RESIDENTIAL YARD (FRONT/BACK)</td>\n",
       "      <td>2016-12-22T11:17:00</td>\n",
       "      <td>AGGRAVATED: OTHER FIREARM</td>\n",
       "    </tr>\n",
       "    <tr>\n",
       "      <th>2</th>\n",
       "      <td>059XX W DIVERSEY AVE</td>\n",
       "      <td>HZ565584</td>\n",
       "      <td>DECEPTIVE PRACTICE</td>\n",
       "      <td>POINT (-87.774165121 41.931166274)</td>\n",
       "      <td>RESIDENCE</td>\n",
       "      <td>2016-12-09T12:00:00</td>\n",
       "      <td>FINANCIAL IDENTITY THEFT $300 AND UNDER</td>\n",
       "    </tr>\n",
       "    <tr>\n",
       "      <th>3</th>\n",
       "      <td>001XX N STATE ST</td>\n",
       "      <td>HZ561772</td>\n",
       "      <td>THEFT</td>\n",
       "      <td>POINT (-87.62787669799999 41.883500187)</td>\n",
       "      <td>DEPARTMENT STORE</td>\n",
       "      <td>2016-12-22T18:50:00</td>\n",
       "      <td>RETAIL THEFT</td>\n",
       "    </tr>\n",
       "    <tr>\n",
       "      <th>4</th>\n",
       "      <td>008XX N MICHIGAN AVE</td>\n",
       "      <td>HZ561969</td>\n",
       "      <td>THEFT</td>\n",
       "      <td>POINT (-87.624095634 41.897982937)</td>\n",
       "      <td>SMALL RETAIL STORE</td>\n",
       "      <td>2016-12-22T19:20:00</td>\n",
       "      <td>RETAIL THEFT</td>\n",
       "    </tr>\n",
       "  </tbody>\n",
       "</table>\n",
       "</div>"
      ],
      "text/plain": [
       "                    address      case               crime  \\\n",
       "0  010XX N CENTRAL PARK AVE  HZ560767       OTHER OFFENSE   \n",
       "1     051XX S WASHTENAW AVE  HZ561134             BATTERY   \n",
       "2      059XX W DIVERSEY AVE  HZ565584  DECEPTIVE PRACTICE   \n",
       "3          001XX N STATE ST  HZ561772               THEFT   \n",
       "4      008XX N MICHIGAN AVE  HZ561969               THEFT   \n",
       "\n",
       "                                  geometry                       location  \\\n",
       "0  POINT (-87.71645415899999 41.899712716)                      APARTMENT   \n",
       "1       POINT (-87.691539994 41.800445234)  RESIDENTIAL YARD (FRONT/BACK)   \n",
       "2       POINT (-87.774165121 41.931166274)                      RESIDENCE   \n",
       "3  POINT (-87.62787669799999 41.883500187)               DEPARTMENT STORE   \n",
       "4       POINT (-87.624095634 41.897982937)             SMALL RETAIL STORE   \n",
       "\n",
       "             timestamp                                     type  \n",
       "0  2016-12-22T02:55:00              VIOLATE ORDER OF PROTECTION  \n",
       "1  2016-12-22T11:17:00                AGGRAVATED: OTHER FIREARM  \n",
       "2  2016-12-09T12:00:00  FINANCIAL IDENTITY THEFT $300 AND UNDER  \n",
       "3  2016-12-22T18:50:00                             RETAIL THEFT  \n",
       "4  2016-12-22T19:20:00                             RETAIL THEFT  "
      ]
     },
     "execution_count": 3,
     "metadata": {},
     "output_type": "execute_result"
    }
   ],
   "source": [
    "# Set \"empty_geometry\" to allow us to re-project; but we cannot save such a file!\n",
    "frame = chicago.load_to_geoDataFrame(empty_geometry=\"empty\")\n",
    "frame.head()"
   ]
  },
  {
   "cell_type": "code",
   "execution_count": 4,
   "metadata": {
    "collapsed": false
   },
   "outputs": [
    {
     "data": {
      "text/html": [
       "<div>\n",
       "<table border=\"1\" class=\"dataframe\">\n",
       "  <thead>\n",
       "    <tr style=\"text-align: right;\">\n",
       "      <th></th>\n",
       "      <th>address</th>\n",
       "      <th>case</th>\n",
       "      <th>crime</th>\n",
       "      <th>geometry</th>\n",
       "      <th>location</th>\n",
       "      <th>timestamp</th>\n",
       "      <th>type</th>\n",
       "      <th>xcoord</th>\n",
       "      <th>ycoord</th>\n",
       "    </tr>\n",
       "  </thead>\n",
       "  <tbody>\n",
       "    <tr>\n",
       "      <th>0</th>\n",
       "      <td>010XX N CENTRAL PARK AVE</td>\n",
       "      <td>HZ560767</td>\n",
       "      <td>OTHER OFFENSE</td>\n",
       "      <td>POINT (-87.71645415899999 41.899712716)</td>\n",
       "      <td>APARTMENT</td>\n",
       "      <td>2016-12-22T02:55:00</td>\n",
       "      <td>VIOLATE ORDER OF PROTECTION</td>\n",
       "      <td>1152189.0</td>\n",
       "      <td>1906649.0</td>\n",
       "    </tr>\n",
       "    <tr>\n",
       "      <th>1</th>\n",
       "      <td>051XX S WASHTENAW AVE</td>\n",
       "      <td>HZ561134</td>\n",
       "      <td>BATTERY</td>\n",
       "      <td>POINT (-87.691539994 41.800445234)</td>\n",
       "      <td>RESIDENTIAL YARD (FRONT/BACK)</td>\n",
       "      <td>2016-12-22T11:17:00</td>\n",
       "      <td>AGGRAVATED: OTHER FIREARM</td>\n",
       "      <td>1159242.0</td>\n",
       "      <td>1870526.0</td>\n",
       "    </tr>\n",
       "    <tr>\n",
       "      <th>2</th>\n",
       "      <td>059XX W DIVERSEY AVE</td>\n",
       "      <td>HZ565584</td>\n",
       "      <td>DECEPTIVE PRACTICE</td>\n",
       "      <td>POINT (-87.774165121 41.931166274)</td>\n",
       "      <td>RESIDENCE</td>\n",
       "      <td>2016-12-09T12:00:00</td>\n",
       "      <td>FINANCIAL IDENTITY THEFT $300 AND UNDER</td>\n",
       "      <td>1136403.0</td>\n",
       "      <td>1918003.0</td>\n",
       "    </tr>\n",
       "    <tr>\n",
       "      <th>3</th>\n",
       "      <td>001XX N STATE ST</td>\n",
       "      <td>HZ561772</td>\n",
       "      <td>THEFT</td>\n",
       "      <td>POINT (-87.62787669799999 41.883500187)</td>\n",
       "      <td>DEPARTMENT STORE</td>\n",
       "      <td>2016-12-22T18:50:00</td>\n",
       "      <td>RETAIL THEFT</td>\n",
       "      <td>1176352.0</td>\n",
       "      <td>1900927.0</td>\n",
       "    </tr>\n",
       "    <tr>\n",
       "      <th>4</th>\n",
       "      <td>008XX N MICHIGAN AVE</td>\n",
       "      <td>HZ561969</td>\n",
       "      <td>THEFT</td>\n",
       "      <td>POINT (-87.624095634 41.897982937)</td>\n",
       "      <td>SMALL RETAIL STORE</td>\n",
       "      <td>2016-12-22T19:20:00</td>\n",
       "      <td>RETAIL THEFT</td>\n",
       "      <td>1177338.0</td>\n",
       "      <td>1906213.0</td>\n",
       "    </tr>\n",
       "  </tbody>\n",
       "</table>\n",
       "</div>"
      ],
      "text/plain": [
       "                    address      case               crime  \\\n",
       "0  010XX N CENTRAL PARK AVE  HZ560767       OTHER OFFENSE   \n",
       "1     051XX S WASHTENAW AVE  HZ561134             BATTERY   \n",
       "2      059XX W DIVERSEY AVE  HZ565584  DECEPTIVE PRACTICE   \n",
       "3          001XX N STATE ST  HZ561772               THEFT   \n",
       "4      008XX N MICHIGAN AVE  HZ561969               THEFT   \n",
       "\n",
       "                                  geometry                       location  \\\n",
       "0  POINT (-87.71645415899999 41.899712716)                      APARTMENT   \n",
       "1       POINT (-87.691539994 41.800445234)  RESIDENTIAL YARD (FRONT/BACK)   \n",
       "2       POINT (-87.774165121 41.931166274)                      RESIDENCE   \n",
       "3  POINT (-87.62787669799999 41.883500187)               DEPARTMENT STORE   \n",
       "4       POINT (-87.624095634 41.897982937)             SMALL RETAIL STORE   \n",
       "\n",
       "             timestamp                                     type     xcoord  \\\n",
       "0  2016-12-22T02:55:00              VIOLATE ORDER OF PROTECTION  1152189.0   \n",
       "1  2016-12-22T11:17:00                AGGRAVATED: OTHER FIREARM  1159242.0   \n",
       "2  2016-12-09T12:00:00  FINANCIAL IDENTITY THEFT $300 AND UNDER  1136403.0   \n",
       "3  2016-12-22T18:50:00                             RETAIL THEFT  1176352.0   \n",
       "4  2016-12-22T19:20:00                             RETAIL THEFT  1177338.0   \n",
       "\n",
       "      ycoord  \n",
       "0  1906649.0  \n",
       "1  1870526.0  \n",
       "2  1918003.0  \n",
       "3  1900927.0  \n",
       "4  1906213.0  "
      ]
     },
     "execution_count": 4,
     "metadata": {},
     "output_type": "execute_result"
    }
   ],
   "source": [
    "import csv\n",
    "\n",
    "xcoords, ycoords = [], []\n",
    "with open(chicago._default_filename, \"rt\") as file:\n",
    "    reader = csv.reader(file)\n",
    "    header = next(reader)\n",
    "    xi = header.index(\"X COORDINATE\")\n",
    "    yi = header.index(\"Y COORDINATE\")\n",
    "    for row in reader:\n",
    "        if row[xi] is not \"\":\n",
    "            xcoords.append(int(row[xi]))\n",
    "            ycoords.append(int(row[yi]))\n",
    "        else:\n",
    "            xcoords.append(None)\n",
    "            ycoords.append(None)\n",
    "\n",
    "frame[\"xcoord\"] = xcoords\n",
    "frame[\"ycoord\"] = ycoords\n",
    "frame.head()"
   ]
  },
  {
   "cell_type": "code",
   "execution_count": 5,
   "metadata": {
    "collapsed": false
   },
   "outputs": [
    {
     "data": {
      "text/plain": [
       "(True, True, 254965)"
      ]
     },
     "execution_count": 5,
     "metadata": {},
     "output_type": "execute_result"
    }
   ],
   "source": [
    "# Check geometry is empty if and only if coords are\n",
    "geo_null = frame.geometry.map(lambda pt : pt.is_empty)\n",
    "np.all(frame.xcoord.isnull() == geo_null), np.all(frame.ycoord.isnull() == geo_null), np.sum(~geo_null)"
   ]
  },
  {
   "cell_type": "code",
   "execution_count": 6,
   "metadata": {
    "collapsed": false
   },
   "outputs": [
    {
     "data": {
      "text/plain": [
       "254965"
      ]
     },
     "execution_count": 6,
     "metadata": {},
     "output_type": "execute_result"
    }
   ],
   "source": [
    "frame = frame.dropna()\n",
    "len(frame)"
   ]
  },
  {
   "cell_type": "code",
   "execution_count": 7,
   "metadata": {
    "collapsed": false
   },
   "outputs": [],
   "source": [
    "# The x/y coordinates are integers in the CSV, so treat them as such\n",
    "frame.xcoord = frame.xcoord.astype(np.int)\n",
    "frame.ycoord = frame.ycoord.astype(np.int)"
   ]
  },
  {
   "cell_type": "code",
   "execution_count": 8,
   "metadata": {
    "collapsed": false
   },
   "outputs": [],
   "source": [
    "# Backup the lon/lat coords and the project\n",
    "frame[\"coords\"] = frame.geometry.copy()\n",
    "frame = frame.to_crs({'init': 'epsg:3435', \"preserve_units\":True})"
   ]
  },
  {
   "cell_type": "code",
   "execution_count": 9,
   "metadata": {
    "collapsed": false
   },
   "outputs": [
    {
     "data": {
      "text/plain": [
       "5.2056829767243174e-08"
      ]
     },
     "execution_count": 9,
     "metadata": {},
     "output_type": "execute_result"
    }
   ],
   "source": [
    "np.max((frame.xcoord - frame.geometry.map(lambda pt : pt.coords[0][0]))**2\n",
    "    + (frame.ycoord - frame.geometry.map(lambda pt : pt.coords[0][1]))**2)"
   ]
  },
  {
   "cell_type": "markdown",
   "metadata": {},
   "source": [
    "### Rounding\n",
    "\n",
    "Suppose we round the projected coordinates to the nearest foot.  We find that we get an _exact_ agreement."
   ]
  },
  {
   "cell_type": "code",
   "execution_count": 10,
   "metadata": {
    "collapsed": false
   },
   "outputs": [
    {
     "data": {
      "text/plain": [
       "True"
      ]
     },
     "execution_count": 10,
     "metadata": {},
     "output_type": "execute_result"
    }
   ],
   "source": [
    "np.all( frame.xcoord - np.round(frame.geometry.map(lambda pt : pt.coords[0][0])) == 0 )"
   ]
  },
  {
   "cell_type": "code",
   "execution_count": 11,
   "metadata": {
    "collapsed": false
   },
   "outputs": [
    {
     "data": {
      "text/plain": [
       "True"
      ]
     },
     "execution_count": 11,
     "metadata": {},
     "output_type": "execute_result"
    }
   ],
   "source": [
    "np.all( frame.ycoord - np.round(frame.geometry.map(lambda pt : pt.coords[0][1])) == 0 )"
   ]
  },
  {
   "cell_type": "markdown",
   "metadata": {},
   "source": [
    "### Starting with projectd coordinates\n",
    "\n",
    "Suppose instead we start with the projected coordinates, and convert these back to lon/lat.  In the CSV file, the lon/lat coords are rounded to 9 decimal places.  We find that there are small rounding errors in this case."
   ]
  },
  {
   "cell_type": "code",
   "execution_count": 12,
   "metadata": {
    "collapsed": false
   },
   "outputs": [],
   "source": [
    "import shapely.geometry\n",
    "\n",
    "frame.geometry = [shapely.geometry.Point(x,y) for x, y in zip(frame.xcoord, frame.ycoord)]"
   ]
  },
  {
   "cell_type": "code",
   "execution_count": 13,
   "metadata": {
    "collapsed": false
   },
   "outputs": [
    {
     "data": {
      "text/html": [
       "<div>\n",
       "<table border=\"1\" class=\"dataframe\">\n",
       "  <thead>\n",
       "    <tr style=\"text-align: right;\">\n",
       "      <th></th>\n",
       "      <th>address</th>\n",
       "      <th>case</th>\n",
       "      <th>crime</th>\n",
       "      <th>geometry</th>\n",
       "      <th>location</th>\n",
       "      <th>timestamp</th>\n",
       "      <th>type</th>\n",
       "      <th>xcoord</th>\n",
       "      <th>ycoord</th>\n",
       "      <th>coords</th>\n",
       "    </tr>\n",
       "  </thead>\n",
       "  <tbody>\n",
       "    <tr>\n",
       "      <th>0</th>\n",
       "      <td>010XX N CENTRAL PARK AVE</td>\n",
       "      <td>HZ560767</td>\n",
       "      <td>OTHER OFFENSE</td>\n",
       "      <td>POINT (-87.71645415873341 41.89971271596254)</td>\n",
       "      <td>APARTMENT</td>\n",
       "      <td>2016-12-22T02:55:00</td>\n",
       "      <td>VIOLATE ORDER OF PROTECTION</td>\n",
       "      <td>1152189</td>\n",
       "      <td>1906649</td>\n",
       "      <td>POINT (-87.71645415899999 41.899712716)</td>\n",
       "    </tr>\n",
       "    <tr>\n",
       "      <th>1</th>\n",
       "      <td>051XX S WASHTENAW AVE</td>\n",
       "      <td>HZ561134</td>\n",
       "      <td>BATTERY</td>\n",
       "      <td>POINT (-87.69153999399755 41.8004452337576)</td>\n",
       "      <td>RESIDENTIAL YARD (FRONT/BACK)</td>\n",
       "      <td>2016-12-22T11:17:00</td>\n",
       "      <td>AGGRAVATED: OTHER FIREARM</td>\n",
       "      <td>1159242</td>\n",
       "      <td>1870526</td>\n",
       "      <td>POINT (-87.691539994 41.800445234)</td>\n",
       "    </tr>\n",
       "    <tr>\n",
       "      <th>2</th>\n",
       "      <td>059XX W DIVERSEY AVE</td>\n",
       "      <td>HZ565584</td>\n",
       "      <td>DECEPTIVE PRACTICE</td>\n",
       "      <td>POINT (-87.77416512059659 41.93116627430756)</td>\n",
       "      <td>RESIDENCE</td>\n",
       "      <td>2016-12-09T12:00:00</td>\n",
       "      <td>FINANCIAL IDENTITY THEFT $300 AND UNDER</td>\n",
       "      <td>1136403</td>\n",
       "      <td>1918003</td>\n",
       "      <td>POINT (-87.774165121 41.931166274)</td>\n",
       "    </tr>\n",
       "    <tr>\n",
       "      <th>3</th>\n",
       "      <td>001XX N STATE ST</td>\n",
       "      <td>HZ561772</td>\n",
       "      <td>THEFT</td>\n",
       "      <td>POINT (-87.62787669753108 41.88350018711407)</td>\n",
       "      <td>DEPARTMENT STORE</td>\n",
       "      <td>2016-12-22T18:50:00</td>\n",
       "      <td>RETAIL THEFT</td>\n",
       "      <td>1176352</td>\n",
       "      <td>1900927</td>\n",
       "      <td>POINT (-87.62787669799999 41.883500187)</td>\n",
       "    </tr>\n",
       "    <tr>\n",
       "      <th>4</th>\n",
       "      <td>008XX N MICHIGAN AVE</td>\n",
       "      <td>HZ561969</td>\n",
       "      <td>THEFT</td>\n",
       "      <td>POINT (-87.62409563378577 41.89798293721393)</td>\n",
       "      <td>SMALL RETAIL STORE</td>\n",
       "      <td>2016-12-22T19:20:00</td>\n",
       "      <td>RETAIL THEFT</td>\n",
       "      <td>1177338</td>\n",
       "      <td>1906213</td>\n",
       "      <td>POINT (-87.624095634 41.897982937)</td>\n",
       "    </tr>\n",
       "  </tbody>\n",
       "</table>\n",
       "</div>"
      ],
      "text/plain": [
       "                    address      case               crime  \\\n",
       "0  010XX N CENTRAL PARK AVE  HZ560767       OTHER OFFENSE   \n",
       "1     051XX S WASHTENAW AVE  HZ561134             BATTERY   \n",
       "2      059XX W DIVERSEY AVE  HZ565584  DECEPTIVE PRACTICE   \n",
       "3          001XX N STATE ST  HZ561772               THEFT   \n",
       "4      008XX N MICHIGAN AVE  HZ561969               THEFT   \n",
       "\n",
       "                                       geometry  \\\n",
       "0  POINT (-87.71645415873341 41.89971271596254)   \n",
       "1   POINT (-87.69153999399755 41.8004452337576)   \n",
       "2  POINT (-87.77416512059659 41.93116627430756)   \n",
       "3  POINT (-87.62787669753108 41.88350018711407)   \n",
       "4  POINT (-87.62409563378577 41.89798293721393)   \n",
       "\n",
       "                        location            timestamp  \\\n",
       "0                      APARTMENT  2016-12-22T02:55:00   \n",
       "1  RESIDENTIAL YARD (FRONT/BACK)  2016-12-22T11:17:00   \n",
       "2                      RESIDENCE  2016-12-09T12:00:00   \n",
       "3               DEPARTMENT STORE  2016-12-22T18:50:00   \n",
       "4             SMALL RETAIL STORE  2016-12-22T19:20:00   \n",
       "\n",
       "                                      type   xcoord   ycoord  \\\n",
       "0              VIOLATE ORDER OF PROTECTION  1152189  1906649   \n",
       "1                AGGRAVATED: OTHER FIREARM  1159242  1870526   \n",
       "2  FINANCIAL IDENTITY THEFT $300 AND UNDER  1136403  1918003   \n",
       "3                             RETAIL THEFT  1176352  1900927   \n",
       "4                             RETAIL THEFT  1177338  1906213   \n",
       "\n",
       "                                    coords  \n",
       "0  POINT (-87.71645415899999 41.899712716)  \n",
       "1       POINT (-87.691539994 41.800445234)  \n",
       "2       POINT (-87.774165121 41.931166274)  \n",
       "3  POINT (-87.62787669799999 41.883500187)  \n",
       "4       POINT (-87.624095634 41.897982937)  "
      ]
     },
     "execution_count": 13,
     "metadata": {},
     "output_type": "execute_result"
    }
   ],
   "source": [
    "frame = frame.to_crs({'init': 'epsg:4326'})\n",
    "frame.head()"
   ]
  },
  {
   "cell_type": "code",
   "execution_count": 14,
   "metadata": {
    "collapsed": false
   },
   "outputs": [
    {
     "data": {
      "text/html": [
       "<div>\n",
       "<table border=\"1\" class=\"dataframe\">\n",
       "  <thead>\n",
       "    <tr style=\"text-align: right;\">\n",
       "      <th></th>\n",
       "      <th>address</th>\n",
       "      <th>case</th>\n",
       "      <th>crime</th>\n",
       "      <th>geometry</th>\n",
       "      <th>location</th>\n",
       "      <th>timestamp</th>\n",
       "      <th>type</th>\n",
       "      <th>xcoord</th>\n",
       "      <th>ycoord</th>\n",
       "      <th>coords</th>\n",
       "    </tr>\n",
       "  </thead>\n",
       "  <tbody>\n",
       "    <tr>\n",
       "      <th>97005</th>\n",
       "      <td>013XX W ANCONA ST</td>\n",
       "      <td>HZ379958</td>\n",
       "      <td>BATTERY</td>\n",
       "      <td>POINT (-87.66050584649999 41.89391280219293)</td>\n",
       "      <td>RESIDENCE PORCH/HALLWAY</td>\n",
       "      <td>2016-08-05T19:55:00</td>\n",
       "      <td>AGGRAVATED: OTHER DANG WEAPON</td>\n",
       "      <td>1167437</td>\n",
       "      <td>1904650</td>\n",
       "      <td>POINT (-87.660505847 41.893912802)</td>\n",
       "    </tr>\n",
       "    <tr>\n",
       "      <th>132485</th>\n",
       "      <td>061XX W EDDY ST</td>\n",
       "      <td>HZ490603</td>\n",
       "      <td>BATTERY</td>\n",
       "      <td>POINT (-87.78022858449999 41.94481522745974)</td>\n",
       "      <td>RESIDENCE</td>\n",
       "      <td>2016-10-26T21:00:00</td>\n",
       "      <td>AGGRAVATED DOMESTIC BATTERY: OTHER DANG WEAPON</td>\n",
       "      <td>1134721</td>\n",
       "      <td>1922966</td>\n",
       "      <td>POINT (-87.780228585 41.944815227)</td>\n",
       "    </tr>\n",
       "    <tr>\n",
       "      <th>137638</th>\n",
       "      <td>013XX W ANCONA ST</td>\n",
       "      <td>JA157851</td>\n",
       "      <td>THEFT</td>\n",
       "      <td>POINT (-87.66050584649999 41.89391280219293)</td>\n",
       "      <td>RESIDENTIAL YARD (FRONT/BACK)</td>\n",
       "      <td>2017-02-16T10:30:00</td>\n",
       "      <td>OVER $500</td>\n",
       "      <td>1167437</td>\n",
       "      <td>1904650</td>\n",
       "      <td>POINT (-87.660505847 41.893912802)</td>\n",
       "    </tr>\n",
       "    <tr>\n",
       "      <th>152276</th>\n",
       "      <td>013XX W ANCONA ST</td>\n",
       "      <td>JA167559</td>\n",
       "      <td>BURGLARY</td>\n",
       "      <td>POINT (-87.66050584649999 41.89391280219293)</td>\n",
       "      <td>RESIDENCE</td>\n",
       "      <td>2017-02-25T19:00:00</td>\n",
       "      <td>UNLAWFUL ENTRY</td>\n",
       "      <td>1167437</td>\n",
       "      <td>1904650</td>\n",
       "      <td>POINT (-87.660505847 41.893912802)</td>\n",
       "    </tr>\n",
       "    <tr>\n",
       "      <th>152867</th>\n",
       "      <td>013XX W ANCONA ST</td>\n",
       "      <td>JA167123</td>\n",
       "      <td>CRIMINAL DAMAGE</td>\n",
       "      <td>POINT (-87.66050584649999 41.89391280219293)</td>\n",
       "      <td>APARTMENT</td>\n",
       "      <td>2017-02-25T17:54:00</td>\n",
       "      <td>TO PROPERTY</td>\n",
       "      <td>1167437</td>\n",
       "      <td>1904650</td>\n",
       "      <td>POINT (-87.660505847 41.893912802)</td>\n",
       "    </tr>\n",
       "  </tbody>\n",
       "</table>\n",
       "</div>"
      ],
      "text/plain": [
       "                  address      case            crime  \\\n",
       "97005   013XX W ANCONA ST  HZ379958          BATTERY   \n",
       "132485    061XX W EDDY ST  HZ490603          BATTERY   \n",
       "137638  013XX W ANCONA ST  JA157851            THEFT   \n",
       "152276  013XX W ANCONA ST  JA167559         BURGLARY   \n",
       "152867  013XX W ANCONA ST  JA167123  CRIMINAL DAMAGE   \n",
       "\n",
       "                                            geometry  \\\n",
       "97005   POINT (-87.66050584649999 41.89391280219293)   \n",
       "132485  POINT (-87.78022858449999 41.94481522745974)   \n",
       "137638  POINT (-87.66050584649999 41.89391280219293)   \n",
       "152276  POINT (-87.66050584649999 41.89391280219293)   \n",
       "152867  POINT (-87.66050584649999 41.89391280219293)   \n",
       "\n",
       "                             location            timestamp  \\\n",
       "97005         RESIDENCE PORCH/HALLWAY  2016-08-05T19:55:00   \n",
       "132485                      RESIDENCE  2016-10-26T21:00:00   \n",
       "137638  RESIDENTIAL YARD (FRONT/BACK)  2017-02-16T10:30:00   \n",
       "152276                      RESIDENCE  2017-02-25T19:00:00   \n",
       "152867                      APARTMENT  2017-02-25T17:54:00   \n",
       "\n",
       "                                                  type   xcoord   ycoord  \\\n",
       "97005                    AGGRAVATED: OTHER DANG WEAPON  1167437  1904650   \n",
       "132485  AGGRAVATED DOMESTIC BATTERY: OTHER DANG WEAPON  1134721  1922966   \n",
       "137638                                       OVER $500  1167437  1904650   \n",
       "152276                                  UNLAWFUL ENTRY  1167437  1904650   \n",
       "152867                                     TO PROPERTY  1167437  1904650   \n",
       "\n",
       "                                    coords  \n",
       "97005   POINT (-87.660505847 41.893912802)  \n",
       "132485  POINT (-87.780228585 41.944815227)  \n",
       "137638  POINT (-87.660505847 41.893912802)  \n",
       "152276  POINT (-87.660505847 41.893912802)  \n",
       "152867  POINT (-87.660505847 41.893912802)  "
      ]
     },
     "execution_count": 14,
     "metadata": {},
     "output_type": "execute_result"
    }
   ],
   "source": [
    "frame[frame.coords.map(lambda pt : pt.coords[0][0]) !=\n",
    "      frame.geometry.map(lambda pt : float(\"{:.9f}\".format(pt.coords[0][0] )))].head()"
   ]
  },
  {
   "cell_type": "markdown",
   "metadata": {
    "collapsed": true
   },
   "source": [
    "# Looking at the distribution of locations by block\n",
    "\n",
    "We'll now (re)load the data, project the same way but in meters.  Then for each block, we'll look at the all coordinates.  We'll then translate these to have zero mean (i.e. measure the distance from the centroid)."
   ]
  },
  {
   "cell_type": "code",
   "execution_count": 15,
   "metadata": {
    "collapsed": false
   },
   "outputs": [],
   "source": [
    "frame = chicago.load_to_geoDataFrame(empty_geometry=\"empty\")"
   ]
  },
  {
   "cell_type": "code",
   "execution_count": 16,
   "metadata": {
    "collapsed": false
   },
   "outputs": [
    {
     "data": {
      "text/html": [
       "<div>\n",
       "<table border=\"1\" class=\"dataframe\">\n",
       "  <thead>\n",
       "    <tr style=\"text-align: right;\">\n",
       "      <th></th>\n",
       "      <th>address</th>\n",
       "      <th>case</th>\n",
       "      <th>crime</th>\n",
       "      <th>geometry</th>\n",
       "      <th>location</th>\n",
       "      <th>timestamp</th>\n",
       "      <th>type</th>\n",
       "    </tr>\n",
       "  </thead>\n",
       "  <tbody>\n",
       "    <tr>\n",
       "      <th>0</th>\n",
       "      <td>010XX N CENTRAL PARK AVE</td>\n",
       "      <td>HZ560767</td>\n",
       "      <td>OTHER OFFENSE</td>\n",
       "      <td>POINT (1152188.999927331 1906649.000013127)</td>\n",
       "      <td>APARTMENT</td>\n",
       "      <td>2016-12-22T02:55:00</td>\n",
       "      <td>VIOLATE ORDER OF PROTECTION</td>\n",
       "    </tr>\n",
       "    <tr>\n",
       "      <th>1</th>\n",
       "      <td>051XX S WASHTENAW AVE</td>\n",
       "      <td>HZ561134</td>\n",
       "      <td>BATTERY</td>\n",
       "      <td>POINT (1159241.999998677 1870526.000088323)</td>\n",
       "      <td>RESIDENTIAL YARD (FRONT/BACK)</td>\n",
       "      <td>2016-12-22T11:17:00</td>\n",
       "      <td>AGGRAVATED: OTHER FIREARM</td>\n",
       "    </tr>\n",
       "    <tr>\n",
       "      <th>2</th>\n",
       "      <td>059XX W DIVERSEY AVE</td>\n",
       "      <td>HZ565584</td>\n",
       "      <td>DECEPTIVE PRACTICE</td>\n",
       "      <td>POINT (1136402.999890962 1918002.999887207)</td>\n",
       "      <td>RESIDENCE</td>\n",
       "      <td>2016-12-09T12:00:00</td>\n",
       "      <td>FINANCIAL IDENTITY THEFT $300 AND UNDER</td>\n",
       "    </tr>\n",
       "    <tr>\n",
       "      <th>3</th>\n",
       "      <td>001XX N STATE ST</td>\n",
       "      <td>HZ561772</td>\n",
       "      <td>THEFT</td>\n",
       "      <td>POINT (1176351.999872658 1900926.999957381)</td>\n",
       "      <td>DEPARTMENT STORE</td>\n",
       "      <td>2016-12-22T18:50:00</td>\n",
       "      <td>RETAIL THEFT</td>\n",
       "    </tr>\n",
       "    <tr>\n",
       "      <th>4</th>\n",
       "      <td>008XX N MICHIGAN AVE</td>\n",
       "      <td>HZ561969</td>\n",
       "      <td>THEFT</td>\n",
       "      <td>POINT (1177337.999942323 1906212.999921561)</td>\n",
       "      <td>SMALL RETAIL STORE</td>\n",
       "      <td>2016-12-22T19:20:00</td>\n",
       "      <td>RETAIL THEFT</td>\n",
       "    </tr>\n",
       "  </tbody>\n",
       "</table>\n",
       "</div>"
      ],
      "text/plain": [
       "                    address      case               crime  \\\n",
       "0  010XX N CENTRAL PARK AVE  HZ560767       OTHER OFFENSE   \n",
       "1     051XX S WASHTENAW AVE  HZ561134             BATTERY   \n",
       "2      059XX W DIVERSEY AVE  HZ565584  DECEPTIVE PRACTICE   \n",
       "3          001XX N STATE ST  HZ561772               THEFT   \n",
       "4      008XX N MICHIGAN AVE  HZ561969               THEFT   \n",
       "\n",
       "                                      geometry                       location  \\\n",
       "0  POINT (1152188.999927331 1906649.000013127)                      APARTMENT   \n",
       "1  POINT (1159241.999998677 1870526.000088323)  RESIDENTIAL YARD (FRONT/BACK)   \n",
       "2  POINT (1136402.999890962 1918002.999887207)                      RESIDENCE   \n",
       "3  POINT (1176351.999872658 1900926.999957381)               DEPARTMENT STORE   \n",
       "4  POINT (1177337.999942323 1906212.999921561)             SMALL RETAIL STORE   \n",
       "\n",
       "             timestamp                                     type  \n",
       "0  2016-12-22T02:55:00              VIOLATE ORDER OF PROTECTION  \n",
       "1  2016-12-22T11:17:00                AGGRAVATED: OTHER FIREARM  \n",
       "2  2016-12-09T12:00:00  FINANCIAL IDENTITY THEFT $300 AND UNDER  \n",
       "3  2016-12-22T18:50:00                             RETAIL THEFT  \n",
       "4  2016-12-22T19:20:00                             RETAIL THEFT  "
      ]
     },
     "execution_count": 16,
     "metadata": {},
     "output_type": "execute_result"
    }
   ],
   "source": [
    "# Meters units and projection suitable for Illinois\n",
    "frame = frame.to_crs({\"init\":\"EPSG:3435\"})\n",
    "frame.head()"
   ]
  },
  {
   "cell_type": "code",
   "execution_count": 17,
   "metadata": {
    "collapsed": false
   },
   "outputs": [
    {
     "data": {
      "text/plain": [
       "array(['APARTMENT', 'RESIDENTIAL YARD (FRONT/BACK)', 'RESIDENCE',\n",
       "       'DEPARTMENT STORE', 'SMALL RETAIL STORE', 'VACANT LOT/LAND',\n",
       "       'HOSPITAL BUILDING/GROUNDS', 'OTHER', 'CHA PARKING LOT/GROUNDS',\n",
       "       'RESIDENCE-GARAGE', 'CHA APARTMENT', 'STREET',\n",
       "       'SCHOOL, PUBLIC, GROUNDS', 'RESTAURANT', 'ALLEY',\n",
       "       'PARKING LOT/GARAGE(NON.RESID.)', 'COMMERCIAL / BUSINESS OFFICE',\n",
       "       'SIDEWALK', 'RESIDENCE PORCH/HALLWAY', '', 'CLEANING STORE',\n",
       "       'NURSING HOME/RETIREMENT HOME', 'ATM (AUTOMATIC TELLER MACHINE)',\n",
       "       'VEHICLE NON-COMMERCIAL', 'SCHOOL, PUBLIC, BUILDING', 'LIBRARY',\n",
       "       'BANK', 'GAS STATION', 'FACTORY/MANUFACTURING BUILDING', 'TAXICAB',\n",
       "       'GROCERY FOOD STORE', 'GOVERNMENT BUILDING/PROPERTY', 'CTA TRAIN',\n",
       "       'BARBERSHOP', 'VEHICLE-COMMERCIAL', 'CTA BUS', 'AIRCRAFT',\n",
       "       'AIRPORT TERMINAL UPPER LEVEL - NON-SECURE AREA', 'ATHLETIC CLUB',\n",
       "       'AIRPORT VENDING ESTABLISHMENT', 'POLICE FACILITY/VEH PARKING LOT',\n",
       "       'DRUG STORE', 'CTA PLATFORM', 'CTA BUS STOP', 'AIRPORT PARKING LOT',\n",
       "       'AIRPORT TERMINAL UPPER LEVEL - SECURE AREA', 'CURRENCY EXCHANGE',\n",
       "       'HOTEL/MOTEL', 'PARK PROPERTY', 'OTHER COMMERCIAL TRANSPORTATION',\n",
       "       'MEDICAL/DENTAL OFFICE', 'BAR OR TAVERN', 'HOUSE',\n",
       "       'CONVENIENCE STORE', 'CTA STATION',\n",
       "       'AIRPORT TERMINAL LOWER LEVEL - NON-SECURE AREA',\n",
       "       'TAVERN/LIQUOR STORE', 'FIRE STATION', 'SCHOOL, PRIVATE, BUILDING',\n",
       "       'ABANDONED BUILDING', 'BOWLING ALLEY',\n",
       "       'CHURCH/SYNAGOGUE/PLACE OF WORSHIP',\n",
       "       'CHA HALLWAY/STAIRWELL/ELEVATOR', 'DRIVEWAY - RESIDENTIAL',\n",
       "       'SPORTS ARENA/STADIUM',\n",
       "       'AIRPORT BUILDING NON-TERMINAL - NON-SECURE AREA', 'CAR WASH',\n",
       "       'VEHICLE - OTHER RIDE SERVICE', 'WAREHOUSE',\n",
       "       'JAIL / LOCK-UP FACILITY', 'CTA GARAGE / OTHER PROPERTY',\n",
       "       'OTHER RAILROAD PROP / TRAIN DEPOT', 'AIRPORT/AIRCRAFT', 'YARD',\n",
       "       'PORCH', 'APPLIANCE STORE', 'AIRPORT TRANSPORTATION SYSTEM (ATS)',\n",
       "       'MOVIE HOUSE/THEATER', 'AUTO', 'CONSTRUCTION SITE',\n",
       "       'DAY CARE CENTER', 'AIRPORT BUILDING NON-TERMINAL - SECURE AREA',\n",
       "       'AIRPORT EXTERIOR - NON-SECURE AREA', 'SCHOOL, PRIVATE, GROUNDS',\n",
       "       'COIN OPERATED MACHINE', 'CHA PARKING LOT', 'SAVINGS AND LOAN',\n",
       "       'COLLEGE/UNIVERSITY GROUNDS', 'GAS STATION DRIVE/PROP.',\n",
       "       'PAWN SHOP', 'AIRPORT TERMINAL LOWER LEVEL - SECURE AREA',\n",
       "       'ANIMAL HOSPITAL', 'AIRPORT TERMINAL MEZZANINE - NON-SECURE AREA',\n",
       "       'OFFICE', 'COLLEGE/UNIVERSITY RESIDENCE HALL',\n",
       "       'AIRPORT EXTERIOR - SECURE AREA', 'POOL ROOM', 'CEMETARY',\n",
       "       'BOAT/WATERCRAFT', 'VACANT LOT', 'BRIDGE',\n",
       "       'LAKEFRONT/WATERFRONT/RIVERBANK', 'HIGHWAY/EXPRESSWAY', 'TAVERN',\n",
       "       'CREDIT UNION', 'FEDERAL BUILDING', 'CLUB', 'NEWSSTAND',\n",
       "       'CHA HALLWAY', 'STAIRWELL', 'NURSING HOME', 'PARKING LOT',\n",
       "       'VEHICLE - DELIVERY TRUCK', 'BARBER SHOP/BEAUTY SALON', 'VESTIBULE',\n",
       "       'HALLWAY', 'CTA TRACKS - RIGHT OF WAY', 'RETAIL STORE',\n",
       "       'SCHOOL YARD', 'FOREST PRESERVE', 'GARAGE',\n",
       "       'AUTO / BOAT / RV DEALERSHIP', 'DRIVEWAY', 'LAGOON',\n",
       "       'CTA \"L\" TRAIN', 'GANGWAY'], dtype=object)"
      ]
     },
     "execution_count": 17,
     "metadata": {},
     "output_type": "execute_result"
    }
   ],
   "source": [
    "frame.location.unique()"
   ]
  },
  {
   "cell_type": "markdown",
   "metadata": {},
   "source": [
    "# Find deltas by block"
   ]
  },
  {
   "cell_type": "code",
   "execution_count": 18,
   "metadata": {
    "collapsed": false
   },
   "outputs": [],
   "source": [
    "import collections\n",
    "\n",
    "by_block = collections.defaultdict(list)\n",
    "for _, row in frame.iterrows():\n",
    "    if row.geometry.is_empty:\n",
    "        continue\n",
    "    #if row.crime not in {\"ROBBERY\", \"THEFT\"}:\n",
    "    #    continue\n",
    "    by_block[row.address].append( list(row.geometry.coords)[0] )"
   ]
  },
  {
   "cell_type": "code",
   "execution_count": 19,
   "metadata": {
    "collapsed": false
   },
   "outputs": [],
   "source": [
    "for key in set(by_block):\n",
    "    x = np.asarray(by_block[key])\n",
    "    x -= np.average(x, axis=0)\n",
    "    by_block[key] = x"
   ]
  },
  {
   "cell_type": "markdown",
   "metadata": {},
   "source": [
    "# Single out north-south\n",
    "\n",
    "We choose just the blocks which seem to be north/south (bases on the deltas) and then normalise each block to be in the range [-1,1]"
   ]
  },
  {
   "cell_type": "code",
   "execution_count": 20,
   "metadata": {
    "collapsed": false
   },
   "outputs": [
    {
     "data": {
      "text/plain": [
       "array([[-0.16666667,  0.33333333],\n",
       "       [-0.5       ,  0.66666667],\n",
       "       [ 0.83333333,  1.        ]])"
      ]
     },
     "execution_count": 20,
     "metadata": {},
     "output_type": "execute_result"
    }
   ],
   "source": [
    "def normalise(x, y):\n",
    "    value = np.vstack([x,y]).T\n",
    "    if min(y) >= 0:\n",
    "        if max(y) == 0:\n",
    "            raise Exception()\n",
    "        v = value / max(y)\n",
    "    elif max(y) <= 0:\n",
    "        if min(y) == 0:\n",
    "            raise Exception()\n",
    "        v = value / (-min(y))\n",
    "    else:\n",
    "        m = max(max(y), -min(y))\n",
    "        if m == 0:\n",
    "            raise Exception()\n",
    "        v = value / m\n",
    "    return v\n",
    "\n",
    "value = np.asarray([[-1,2],[-3,4],[5,6]])\n",
    "normalise(value[:,0], value[:,1])"
   ]
  },
  {
   "cell_type": "code",
   "execution_count": 21,
   "metadata": {
    "collapsed": true
   },
   "outputs": [],
   "source": [
    "ns = []\n",
    "for key, value in by_block.items():\n",
    "    x, y = value[:,0], value[:,1]\n",
    "    if len(x) < 10:\n",
    "        continue\n",
    "    dx = max(x) - min(x)\n",
    "    dy = max(y) - min(y)\n",
    "    if dy > 10 * dx:\n",
    "        ns.append(normalise(x,y))"
   ]
  },
  {
   "cell_type": "markdown",
   "metadata": {},
   "source": [
    "Let's plot all the deltas.  These show a strong north/south bias, as we hope.  They are on an angle, but I believe this is simply because Chicago is aligned not exactly north/south, but also at a slight angle.\n",
    "\n",
    "That the line is somewhat think I cannot account for.\n",
    "\n",
    "The clumps at y=-1 and y=1 are statistical artifacts of rescaling the data to exactly fit into [-1,1]."
   ]
  },
  {
   "cell_type": "code",
   "execution_count": 22,
   "metadata": {
    "collapsed": false
   },
   "outputs": [
    {
     "data": {
      "image/png": "[encoded data removed]",
      "text/plain": [
       "<matplotlib.figure.Figure at 0x25223d13208>"
      ]
     },
     "metadata": {},
     "output_type": "display_data"
    }
   ],
   "source": [
    "x = np.asarray([x for value in ns for x in value])\n",
    "\n",
    "fig, ax = plt.subplots(figsize=(12,12))\n",
    "ax.scatter(x[:,0], x[:,1], alpha=0.002)\n",
    "ax.set_aspect(.1)\n",
    "ax.set(ylim=[-1.1,1.1])\n",
    "None"
   ]
  },
  {
   "cell_type": "code",
   "execution_count": 23,
   "metadata": {
    "collapsed": true
   },
   "outputs": [],
   "source": [
    "import scipy.stats"
   ]
  },
  {
   "cell_type": "markdown",
   "metadata": {},
   "source": [
    "Let's look at the y coordinate only, and use a KDE to estimate the density."
   ]
  },
  {
   "cell_type": "code",
   "execution_count": 24,
   "metadata": {
    "collapsed": false
   },
   "outputs": [
    {
     "data": {
      "text/plain": [
       "[<matplotlib.lines.Line2D at 0x2527d96b8d0>]"
      ]
     },
     "execution_count": 24,
     "metadata": {},
     "output_type": "execute_result"
    },
    {
     "data": {
      "image/png": "[encoded data removed]",
      "text/plain": [
       "<matplotlib.figure.Figure at 0x252676dfb38>"
      ]
     },
     "metadata": {},
     "output_type": "display_data"
    }
   ],
   "source": [
    "y_marginals = x[:,1]\n",
    "kernel = scipy.stats.kde.gaussian_kde(y_marginals)\n",
    "\n",
    "xc = np.linspace(-1,1,100)\n",
    "plt.plot(xc, kernel(xc))"
   ]
  },
  {
   "cell_type": "markdown",
   "metadata": {},
   "source": [
    "# Simulate some data\n",
    "\n",
    "Let's suppose the data really came from a uniform distribution.\n",
    "\n",
    "- For each entry in `ns` we simulate the same number of points from a uniform distribution\n",
    "- Convert to having mean zero\n",
    "- Then re-scale in the same way\n",
    "\n",
    "We also do this with a normal distribution, instead of a uniform distribution.  This shows much better agreement with the real data, suggesting that maybe a normal distribution is used?"
   ]
  },
  {
   "cell_type": "code",
   "execution_count": 25,
   "metadata": {
    "collapsed": false
   },
   "outputs": [],
   "source": [
    "def mean_zero_rescale(values):\n",
    "    values -= np.average(values)\n",
    "    v = normalise(np.zeros_like(values), values)\n",
    "    return v[:,1]\n",
    "\n",
    "def sim(length):\n",
    "    values = np.random.random(length)\n",
    "    return mean_zero_rescale(values)\n",
    "\n",
    "def sim_gaussian(length):\n",
    "    values = np.random.normal(size=length)\n",
    "    return mean_zero_rescale(values)\n",
    "\n",
    "sim_ns = []\n",
    "\n",
    "for value in ns:\n",
    "    length = value.shape[0]\n",
    "    sim_ns.append(sim_gaussian(length))"
   ]
  },
  {
   "cell_type": "code",
   "execution_count": 26,
   "metadata": {
    "collapsed": false
   },
   "outputs": [
    {
     "data": {
      "image/png": "[encoded data removed]",
      "text/plain": [
       "<matplotlib.figure.Figure at 0x252780ea390>"
      ]
     },
     "metadata": {},
     "output_type": "display_data"
    }
   ],
   "source": [
    "sim_x = np.asarray([x for value in sim_ns for x in value])\n",
    "kernel_sim = scipy.stats.kde.gaussian_kde(sim_x)\n",
    "\n",
    "xc = np.linspace(-1,1,100)\n",
    "plt.plot(xc, kernel(xc))\n",
    "plt.plot(xc, kernel_sim(xc))\n",
    "plt.legend([\"Real data\", \"Simulated gaussian data\"])\n",
    "plt.ylim([0,1])\n",
    "None"
   ]
  }
 ],
 "metadata": {
  "kernelspec": {
   "display_name": "Python 3",
   "language": "python",
   "name": "python3"
  },
  "language_info": {
   "codemirror_mode": {
    "name": "ipython",
    "version": 3
   },
   "file_extension": ".py",
   "mimetype": "text/x-python",
   "name": "python",
   "nbconvert_exporter": "python",
   "pygments_lexer": "ipython3",
   "version": "3.6.0"
  }
 },
 "nbformat": 4,
 "nbformat_minor": 2
}
