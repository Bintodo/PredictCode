{
 "cells": [
  {
   "cell_type": "code",
   "execution_count": 1,
   "metadata": {
    "collapsed": true
   },
   "outputs": [],
   "source": [
    "# Allow us to load `open_cp` without installing\n",
    "import sys, os.path\n",
    "sys.path.insert(0, os.path.abspath(\"..\"))"
   ]
  },
  {
   "cell_type": "markdown",
   "metadata": {},
   "source": [
    "# Explore the geo-coding of the chicago dataset\n",
    "\n",
    "The chicago crime data provides both:\n",
    "\n",
    "- block-level addresses, sanitised to the form \"010XX N CENTRAL PARK AVE\"\n",
    "- location data in \"coordinates\" and \"longitude/latitude\"\n",
    "\n",
    "We shall see that the coordinates and lon/lat data are linked by projecting in ???  However, the relationship between the block-level addresses and the coordinates is complicated, to say the least."
   ]
  },
  {
   "cell_type": "code",
   "execution_count": 2,
   "metadata": {
    "collapsed": true
   },
   "outputs": [],
   "source": [
    "%matplotlib inline\n",
    "import matplotlib.pyplot as plt\n",
    "import numpy as np\n",
    "import pandas as pd\n",
    "import geopandas as gpd\n",
    "\n",
    "import open_cp.sources.chicago as chicago"
   ]
  },
  {
   "cell_type": "markdown",
   "metadata": {},
   "source": [
    "# Check the projection\n",
    "\n",
    "Our library does not return the \"coordinates\", so we shall manually read them from the CSV file and join them.\n",
    "\n",
    "A bit of browsing around lead me to [EPSG 3435](http://spatialreference.org/ref/epsg/3435/) which is \"NAD83 / Illinois East (ftUS)\"\n",
    "\n",
    "- Of note is that this website says the data is in \"US feet\"\n",
    "- Out of the box, this just doesn't work.\n",
    "- But if I manually correct for the units (i.e. convert from meters to US feet) then it gives an exact agreement!"
   ]
  },
  {
   "cell_type": "code",
   "execution_count": 4,
   "metadata": {
    "collapsed": true
   },
   "outputs": [],
   "source": [
    "# Set \"empty_geometry\" to allow us to re-project; but we cannot save such a file!\n",
    "frame = chicago.load_to_geoDataFrame(empty_geometry=\"empty\")"
   ]
  },
  {
   "cell_type": "code",
   "execution_count": 13,
   "metadata": {
    "collapsed": false
   },
   "outputs": [],
   "source": [
    "frame = frame.to_crs({'init': 'epsg:3435', \"preserve_units\":True})"
   ]
  },
  {
   "cell_type": "code",
   "execution_count": 20,
   "metadata": {
    "collapsed": false
   },
   "outputs": [],
   "source": [
    "import csv\n",
    "\n",
    "xcoords, ycoords = [], []\n",
    "with open(chicago._default_filename, \"rt\") as file:\n",
    "    reader = csv.reader(file)\n",
    "    header = next(reader)\n",
    "    xi = header.index(\"X COORDINATE\")\n",
    "    yi = header.index(\"Y COORDINATE\")\n",
    "    for row in reader:\n",
    "        if row[xi] is not \"\":\n",
    "            xcoords.append(float(row[xi]))\n",
    "            ycoords.append(float(row[yi]))\n",
    "        else:\n",
    "            xcoords.append(None)\n",
    "            ycoords.append(None)"
   ]
  },
  {
   "cell_type": "code",
   "execution_count": 22,
   "metadata": {
    "collapsed": false
   },
   "outputs": [
    {
     "data": {
      "text/html": [
       "<div>\n",
       "<table border=\"1\" class=\"dataframe\">\n",
       "  <thead>\n",
       "    <tr style=\"text-align: right;\">\n",
       "      <th></th>\n",
       "      <th>address</th>\n",
       "      <th>case</th>\n",
       "      <th>crime</th>\n",
       "      <th>geometry</th>\n",
       "      <th>location</th>\n",
       "      <th>timestamp</th>\n",
       "      <th>type</th>\n",
       "      <th>xcoord</th>\n",
       "      <th>ycoord</th>\n",
       "    </tr>\n",
       "  </thead>\n",
       "  <tbody>\n",
       "    <tr>\n",
       "      <th>0</th>\n",
       "      <td>010XX N CENTRAL PARK AVE</td>\n",
       "      <td>HZ560767</td>\n",
       "      <td>OTHER OFFENSE</td>\n",
       "      <td>POINT (1152188.999927331 1906649.000013127)</td>\n",
       "      <td>APARTMENT</td>\n",
       "      <td>2016-12-22T02:55:00</td>\n",
       "      <td>VIOLATE ORDER OF PROTECTION</td>\n",
       "      <td>1152189.0</td>\n",
       "      <td>1906649.0</td>\n",
       "    </tr>\n",
       "    <tr>\n",
       "      <th>1</th>\n",
       "      <td>051XX S WASHTENAW AVE</td>\n",
       "      <td>HZ561134</td>\n",
       "      <td>BATTERY</td>\n",
       "      <td>POINT (1159241.999998677 1870526.000088323)</td>\n",
       "      <td>RESIDENTIAL YARD (FRONT/BACK)</td>\n",
       "      <td>2016-12-22T11:17:00</td>\n",
       "      <td>AGGRAVATED: OTHER FIREARM</td>\n",
       "      <td>1159242.0</td>\n",
       "      <td>1870526.0</td>\n",
       "    </tr>\n",
       "    <tr>\n",
       "      <th>2</th>\n",
       "      <td>059XX W DIVERSEY AVE</td>\n",
       "      <td>HZ565584</td>\n",
       "      <td>DECEPTIVE PRACTICE</td>\n",
       "      <td>POINT (1136402.999890962 1918002.999887207)</td>\n",
       "      <td>RESIDENCE</td>\n",
       "      <td>2016-12-09T12:00:00</td>\n",
       "      <td>FINANCIAL IDENTITY THEFT $300 AND UNDER</td>\n",
       "      <td>1136403.0</td>\n",
       "      <td>1918003.0</td>\n",
       "    </tr>\n",
       "    <tr>\n",
       "      <th>3</th>\n",
       "      <td>001XX N STATE ST</td>\n",
       "      <td>HZ561772</td>\n",
       "      <td>THEFT</td>\n",
       "      <td>POINT (1176351.999872658 1900926.999957381)</td>\n",
       "      <td>DEPARTMENT STORE</td>\n",
       "      <td>2016-12-22T18:50:00</td>\n",
       "      <td>RETAIL THEFT</td>\n",
       "      <td>1176352.0</td>\n",
       "      <td>1900927.0</td>\n",
       "    </tr>\n",
       "    <tr>\n",
       "      <th>4</th>\n",
       "      <td>008XX N MICHIGAN AVE</td>\n",
       "      <td>HZ561969</td>\n",
       "      <td>THEFT</td>\n",
       "      <td>POINT (1177337.999942323 1906212.999921561)</td>\n",
       "      <td>SMALL RETAIL STORE</td>\n",
       "      <td>2016-12-22T19:20:00</td>\n",
       "      <td>RETAIL THEFT</td>\n",
       "      <td>1177338.0</td>\n",
       "      <td>1906213.0</td>\n",
       "    </tr>\n",
       "  </tbody>\n",
       "</table>\n",
       "</div>"
      ],
      "text/plain": [
       "                    address      case               crime  \\\n",
       "0  010XX N CENTRAL PARK AVE  HZ560767       OTHER OFFENSE   \n",
       "1     051XX S WASHTENAW AVE  HZ561134             BATTERY   \n",
       "2      059XX W DIVERSEY AVE  HZ565584  DECEPTIVE PRACTICE   \n",
       "3          001XX N STATE ST  HZ561772               THEFT   \n",
       "4      008XX N MICHIGAN AVE  HZ561969               THEFT   \n",
       "\n",
       "                                      geometry                       location  \\\n",
       "0  POINT (1152188.999927331 1906649.000013127)                      APARTMENT   \n",
       "1  POINT (1159241.999998677 1870526.000088323)  RESIDENTIAL YARD (FRONT/BACK)   \n",
       "2  POINT (1136402.999890962 1918002.999887207)                      RESIDENCE   \n",
       "3  POINT (1176351.999872658 1900926.999957381)               DEPARTMENT STORE   \n",
       "4  POINT (1177337.999942323 1906212.999921561)             SMALL RETAIL STORE   \n",
       "\n",
       "             timestamp                                     type     xcoord  \\\n",
       "0  2016-12-22T02:55:00              VIOLATE ORDER OF PROTECTION  1152189.0   \n",
       "1  2016-12-22T11:17:00                AGGRAVATED: OTHER FIREARM  1159242.0   \n",
       "2  2016-12-09T12:00:00  FINANCIAL IDENTITY THEFT $300 AND UNDER  1136403.0   \n",
       "3  2016-12-22T18:50:00                             RETAIL THEFT  1176352.0   \n",
       "4  2016-12-22T19:20:00                             RETAIL THEFT  1177338.0   \n",
       "\n",
       "      ycoord  \n",
       "0  1906649.0  \n",
       "1  1870526.0  \n",
       "2  1918003.0  \n",
       "3  1900927.0  \n",
       "4  1906213.0  "
      ]
     },
     "execution_count": 22,
     "metadata": {},
     "output_type": "execute_result"
    }
   ],
   "source": [
    "frame[\"xcoord\"] = xcoords\n",
    "frame[\"ycoord\"] = ycoords\n",
    "frame.head()"
   ]
  },
  {
   "cell_type": "code",
   "execution_count": 33,
   "metadata": {
    "collapsed": false
   },
   "outputs": [
    {
     "data": {
      "text/html": [
       "<div>\n",
       "<table border=\"1\" class=\"dataframe\">\n",
       "  <thead>\n",
       "    <tr style=\"text-align: right;\">\n",
       "      <th></th>\n",
       "      <th>address</th>\n",
       "      <th>case</th>\n",
       "      <th>crime</th>\n",
       "      <th>geometry</th>\n",
       "      <th>location</th>\n",
       "      <th>timestamp</th>\n",
       "      <th>type</th>\n",
       "      <th>xcoord</th>\n",
       "      <th>ycoord</th>\n",
       "      <th>pointx</th>\n",
       "      <th>pointy</th>\n",
       "    </tr>\n",
       "  </thead>\n",
       "  <tbody>\n",
       "    <tr>\n",
       "      <th>0</th>\n",
       "      <td>010XX N CENTRAL PARK AVE</td>\n",
       "      <td>HZ560767</td>\n",
       "      <td>OTHER OFFENSE</td>\n",
       "      <td>POINT (1152188.999927331 1906649.000013127)</td>\n",
       "      <td>APARTMENT</td>\n",
       "      <td>2016-12-22T02:55:00</td>\n",
       "      <td>VIOLATE ORDER OF PROTECTION</td>\n",
       "      <td>1152189.0</td>\n",
       "      <td>1906649.0</td>\n",
       "      <td>1.152189e+06</td>\n",
       "      <td>1.906649e+06</td>\n",
       "    </tr>\n",
       "    <tr>\n",
       "      <th>1</th>\n",
       "      <td>051XX S WASHTENAW AVE</td>\n",
       "      <td>HZ561134</td>\n",
       "      <td>BATTERY</td>\n",
       "      <td>POINT (1159241.999998677 1870526.000088323)</td>\n",
       "      <td>RESIDENTIAL YARD (FRONT/BACK)</td>\n",
       "      <td>2016-12-22T11:17:00</td>\n",
       "      <td>AGGRAVATED: OTHER FIREARM</td>\n",
       "      <td>1159242.0</td>\n",
       "      <td>1870526.0</td>\n",
       "      <td>1.159242e+06</td>\n",
       "      <td>1.870526e+06</td>\n",
       "    </tr>\n",
       "    <tr>\n",
       "      <th>2</th>\n",
       "      <td>059XX W DIVERSEY AVE</td>\n",
       "      <td>HZ565584</td>\n",
       "      <td>DECEPTIVE PRACTICE</td>\n",
       "      <td>POINT (1136402.999890962 1918002.999887207)</td>\n",
       "      <td>RESIDENCE</td>\n",
       "      <td>2016-12-09T12:00:00</td>\n",
       "      <td>FINANCIAL IDENTITY THEFT $300 AND UNDER</td>\n",
       "      <td>1136403.0</td>\n",
       "      <td>1918003.0</td>\n",
       "      <td>1.136403e+06</td>\n",
       "      <td>1.918003e+06</td>\n",
       "    </tr>\n",
       "    <tr>\n",
       "      <th>3</th>\n",
       "      <td>001XX N STATE ST</td>\n",
       "      <td>HZ561772</td>\n",
       "      <td>THEFT</td>\n",
       "      <td>POINT (1176351.999872658 1900926.999957381)</td>\n",
       "      <td>DEPARTMENT STORE</td>\n",
       "      <td>2016-12-22T18:50:00</td>\n",
       "      <td>RETAIL THEFT</td>\n",
       "      <td>1176352.0</td>\n",
       "      <td>1900927.0</td>\n",
       "      <td>1.176352e+06</td>\n",
       "      <td>1.900927e+06</td>\n",
       "    </tr>\n",
       "    <tr>\n",
       "      <th>4</th>\n",
       "      <td>008XX N MICHIGAN AVE</td>\n",
       "      <td>HZ561969</td>\n",
       "      <td>THEFT</td>\n",
       "      <td>POINT (1177337.999942323 1906212.999921561)</td>\n",
       "      <td>SMALL RETAIL STORE</td>\n",
       "      <td>2016-12-22T19:20:00</td>\n",
       "      <td>RETAIL THEFT</td>\n",
       "      <td>1177338.0</td>\n",
       "      <td>1906213.0</td>\n",
       "      <td>1.177338e+06</td>\n",
       "      <td>1.906213e+06</td>\n",
       "    </tr>\n",
       "  </tbody>\n",
       "</table>\n",
       "</div>"
      ],
      "text/plain": [
       "                    address      case               crime  \\\n",
       "0  010XX N CENTRAL PARK AVE  HZ560767       OTHER OFFENSE   \n",
       "1     051XX S WASHTENAW AVE  HZ561134             BATTERY   \n",
       "2      059XX W DIVERSEY AVE  HZ565584  DECEPTIVE PRACTICE   \n",
       "3          001XX N STATE ST  HZ561772               THEFT   \n",
       "4      008XX N MICHIGAN AVE  HZ561969               THEFT   \n",
       "\n",
       "                                      geometry                       location  \\\n",
       "0  POINT (1152188.999927331 1906649.000013127)                      APARTMENT   \n",
       "1  POINT (1159241.999998677 1870526.000088323)  RESIDENTIAL YARD (FRONT/BACK)   \n",
       "2  POINT (1136402.999890962 1918002.999887207)                      RESIDENCE   \n",
       "3  POINT (1176351.999872658 1900926.999957381)               DEPARTMENT STORE   \n",
       "4  POINT (1177337.999942323 1906212.999921561)             SMALL RETAIL STORE   \n",
       "\n",
       "             timestamp                                     type     xcoord  \\\n",
       "0  2016-12-22T02:55:00              VIOLATE ORDER OF PROTECTION  1152189.0   \n",
       "1  2016-12-22T11:17:00                AGGRAVATED: OTHER FIREARM  1159242.0   \n",
       "2  2016-12-09T12:00:00  FINANCIAL IDENTITY THEFT $300 AND UNDER  1136403.0   \n",
       "3  2016-12-22T18:50:00                             RETAIL THEFT  1176352.0   \n",
       "4  2016-12-22T19:20:00                             RETAIL THEFT  1177338.0   \n",
       "\n",
       "      ycoord        pointx        pointy  \n",
       "0  1906649.0  1.152189e+06  1.906649e+06  \n",
       "1  1870526.0  1.159242e+06  1.870526e+06  \n",
       "2  1918003.0  1.136403e+06  1.918003e+06  \n",
       "3  1900927.0  1.176352e+06  1.900927e+06  \n",
       "4  1906213.0  1.177338e+06  1.906213e+06  "
      ]
     },
     "execution_count": 33,
     "metadata": {},
     "output_type": "execute_result"
    }
   ],
   "source": [
    "def point_to_x(point):\n",
    "    if point is None or point.is_empty:\n",
    "        return None\n",
    "    return point.coords[0][0]\n",
    "\n",
    "def point_to_y(point):\n",
    "    if point is None or point.is_empty:\n",
    "        return None\n",
    "    return point.coords[0][1]\n",
    "\n",
    "frame[\"pointx\"] = frame.geometry.map(point_to_x)\n",
    "frame[\"pointy\"] = frame.geometry.map(point_to_y)\n",
    "frame.head()"
   ]
  },
  {
   "cell_type": "code",
   "execution_count": 50,
   "metadata": {
    "collapsed": false
   },
   "outputs": [
    {
     "data": {
      "text/plain": [
       "5.2056829767243174e-08"
      ]
     },
     "execution_count": 50,
     "metadata": {},
     "output_type": "execute_result"
    }
   ],
   "source": [
    "diff = (frame.pointx - frame.xcoord)**2 + (frame.pointy - frame.ycoord)**2\n",
    "diff = diff[~diff.isnull()]\n",
    "max(diff)"
   ]
  },
  {
   "cell_type": "markdown",
   "metadata": {},
   "source": [
    "# Resources for address data\n",
    "\n",
    "- Mention open street map!!\n",
    "\n",
    "The [TIGER/Line](https://www.census.gov/geo/maps-data/data/tiger-line.html) dataset from the US Census bureau provides a great resource for getting block-level address data.\n",
    "- [Technical documentation](https://www2.census.gov/geo/pdfs/maps-data/data/tiger/tgrshp2016/TGRSHP2016_TechDoc.pdf)\n",
    "- It is easiest to download the data from the [FTP Site](ftp://ftp2.census.gov/geo/tiger/TIGER2016/ADDRFEAT/)\n",
    "- Here I link to the ADDRFEAT datasets which provide the best geocoding data, according to the tech documentation.\n",
    "- The files are named using the [FIP County Code](https://en.wikipedia.org/wiki/FIPS_county_code).  For chicago this is 17031.\n",
    "- Once downloaded, unzip, and find a standard shape file.  It is interesting to load this, and an extract of the crime data (e.g. by loading into a GeoDataFrame and saving), into QGIS and visualising the result."
   ]
  },
  {
   "cell_type": "markdown",
   "metadata": {
    "collapsed": true
   },
   "source": [
    "# Looking at the distribution of locations by block\n",
    "\n",
    "We'll now (re)load the data, project the same way but in meters.  Then for each block, we'll look at the all coordinates.  We'll then translate these to have zero mean (i.e. measure the distance from the centroid)."
   ]
  },
  {
   "cell_type": "code",
   "execution_count": 51,
   "metadata": {
    "collapsed": false
   },
   "outputs": [],
   "source": [
    "frame = chicago.load_to_geoDataFrame(empty_geometry=\"empty\")"
   ]
  },
  {
   "cell_type": "code",
   "execution_count": 52,
   "metadata": {
    "collapsed": false
   },
   "outputs": [
    {
     "data": {
      "text/html": [
       "<div>\n",
       "<table border=\"1\" class=\"dataframe\">\n",
       "  <thead>\n",
       "    <tr style=\"text-align: right;\">\n",
       "      <th></th>\n",
       "      <th>address</th>\n",
       "      <th>case</th>\n",
       "      <th>crime</th>\n",
       "      <th>geometry</th>\n",
       "      <th>location</th>\n",
       "      <th>timestamp</th>\n",
       "      <th>type</th>\n",
       "    </tr>\n",
       "  </thead>\n",
       "  <tbody>\n",
       "    <tr>\n",
       "      <th>0</th>\n",
       "      <td>010XX N CENTRAL PARK AVE</td>\n",
       "      <td>HZ560767</td>\n",
       "      <td>OTHER OFFENSE</td>\n",
       "      <td>POINT (1152188.999927331 1906649.000013127)</td>\n",
       "      <td>APARTMENT</td>\n",
       "      <td>2016-12-22T02:55:00</td>\n",
       "      <td>VIOLATE ORDER OF PROTECTION</td>\n",
       "    </tr>\n",
       "    <tr>\n",
       "      <th>1</th>\n",
       "      <td>051XX S WASHTENAW AVE</td>\n",
       "      <td>HZ561134</td>\n",
       "      <td>BATTERY</td>\n",
       "      <td>POINT (1159241.999998677 1870526.000088323)</td>\n",
       "      <td>RESIDENTIAL YARD (FRONT/BACK)</td>\n",
       "      <td>2016-12-22T11:17:00</td>\n",
       "      <td>AGGRAVATED: OTHER FIREARM</td>\n",
       "    </tr>\n",
       "    <tr>\n",
       "      <th>2</th>\n",
       "      <td>059XX W DIVERSEY AVE</td>\n",
       "      <td>HZ565584</td>\n",
       "      <td>DECEPTIVE PRACTICE</td>\n",
       "      <td>POINT (1136402.999890962 1918002.999887207)</td>\n",
       "      <td>RESIDENCE</td>\n",
       "      <td>2016-12-09T12:00:00</td>\n",
       "      <td>FINANCIAL IDENTITY THEFT $300 AND UNDER</td>\n",
       "    </tr>\n",
       "    <tr>\n",
       "      <th>3</th>\n",
       "      <td>001XX N STATE ST</td>\n",
       "      <td>HZ561772</td>\n",
       "      <td>THEFT</td>\n",
       "      <td>POINT (1176351.999872658 1900926.999957381)</td>\n",
       "      <td>DEPARTMENT STORE</td>\n",
       "      <td>2016-12-22T18:50:00</td>\n",
       "      <td>RETAIL THEFT</td>\n",
       "    </tr>\n",
       "    <tr>\n",
       "      <th>4</th>\n",
       "      <td>008XX N MICHIGAN AVE</td>\n",
       "      <td>HZ561969</td>\n",
       "      <td>THEFT</td>\n",
       "      <td>POINT (1177337.999942323 1906212.999921561)</td>\n",
       "      <td>SMALL RETAIL STORE</td>\n",
       "      <td>2016-12-22T19:20:00</td>\n",
       "      <td>RETAIL THEFT</td>\n",
       "    </tr>\n",
       "  </tbody>\n",
       "</table>\n",
       "</div>"
      ],
      "text/plain": [
       "                    address      case               crime  \\\n",
       "0  010XX N CENTRAL PARK AVE  HZ560767       OTHER OFFENSE   \n",
       "1     051XX S WASHTENAW AVE  HZ561134             BATTERY   \n",
       "2      059XX W DIVERSEY AVE  HZ565584  DECEPTIVE PRACTICE   \n",
       "3          001XX N STATE ST  HZ561772               THEFT   \n",
       "4      008XX N MICHIGAN AVE  HZ561969               THEFT   \n",
       "\n",
       "                                      geometry                       location  \\\n",
       "0  POINT (1152188.999927331 1906649.000013127)                      APARTMENT   \n",
       "1  POINT (1159241.999998677 1870526.000088323)  RESIDENTIAL YARD (FRONT/BACK)   \n",
       "2  POINT (1136402.999890962 1918002.999887207)                      RESIDENCE   \n",
       "3  POINT (1176351.999872658 1900926.999957381)               DEPARTMENT STORE   \n",
       "4  POINT (1177337.999942323 1906212.999921561)             SMALL RETAIL STORE   \n",
       "\n",
       "             timestamp                                     type  \n",
       "0  2016-12-22T02:55:00              VIOLATE ORDER OF PROTECTION  \n",
       "1  2016-12-22T11:17:00                AGGRAVATED: OTHER FIREARM  \n",
       "2  2016-12-09T12:00:00  FINANCIAL IDENTITY THEFT $300 AND UNDER  \n",
       "3  2016-12-22T18:50:00                             RETAIL THEFT  \n",
       "4  2016-12-22T19:20:00                             RETAIL THEFT  "
      ]
     },
     "execution_count": 52,
     "metadata": {},
     "output_type": "execute_result"
    }
   ],
   "source": [
    "# Meters units and projection suitable for Illinois\n",
    "frame = frame.to_crs({\"init\":\"EPSG:3435\"})\n",
    "frame.head()"
   ]
  },
  {
   "cell_type": "code",
   "execution_count": 53,
   "metadata": {
    "collapsed": false
   },
   "outputs": [
    {
     "data": {
      "text/plain": [
       "array(['APARTMENT', 'RESIDENTIAL YARD (FRONT/BACK)', 'RESIDENCE',\n",
       "       'DEPARTMENT STORE', 'SMALL RETAIL STORE', 'VACANT LOT/LAND',\n",
       "       'HOSPITAL BUILDING/GROUNDS', 'OTHER', 'CHA PARKING LOT/GROUNDS',\n",
       "       'RESIDENCE-GARAGE', 'CHA APARTMENT', 'STREET',\n",
       "       'SCHOOL, PUBLIC, GROUNDS', 'RESTAURANT', 'ALLEY',\n",
       "       'PARKING LOT/GARAGE(NON.RESID.)', 'COMMERCIAL / BUSINESS OFFICE',\n",
       "       'SIDEWALK', 'RESIDENCE PORCH/HALLWAY', '', 'CLEANING STORE',\n",
       "       'NURSING HOME/RETIREMENT HOME', 'ATM (AUTOMATIC TELLER MACHINE)',\n",
       "       'VEHICLE NON-COMMERCIAL', 'SCHOOL, PUBLIC, BUILDING', 'LIBRARY',\n",
       "       'BANK', 'GAS STATION', 'FACTORY/MANUFACTURING BUILDING', 'TAXICAB',\n",
       "       'GROCERY FOOD STORE', 'GOVERNMENT BUILDING/PROPERTY', 'CTA TRAIN',\n",
       "       'BARBERSHOP', 'VEHICLE-COMMERCIAL', 'CTA BUS', 'AIRCRAFT',\n",
       "       'AIRPORT TERMINAL UPPER LEVEL - NON-SECURE AREA', 'ATHLETIC CLUB',\n",
       "       'AIRPORT VENDING ESTABLISHMENT', 'POLICE FACILITY/VEH PARKING LOT',\n",
       "       'DRUG STORE', 'CTA PLATFORM', 'CTA BUS STOP', 'AIRPORT PARKING LOT',\n",
       "       'AIRPORT TERMINAL UPPER LEVEL - SECURE AREA', 'CURRENCY EXCHANGE',\n",
       "       'HOTEL/MOTEL', 'PARK PROPERTY', 'OTHER COMMERCIAL TRANSPORTATION',\n",
       "       'MEDICAL/DENTAL OFFICE', 'BAR OR TAVERN', 'HOUSE',\n",
       "       'CONVENIENCE STORE', 'CTA STATION',\n",
       "       'AIRPORT TERMINAL LOWER LEVEL - NON-SECURE AREA',\n",
       "       'TAVERN/LIQUOR STORE', 'FIRE STATION', 'SCHOOL, PRIVATE, BUILDING',\n",
       "       'ABANDONED BUILDING', 'BOWLING ALLEY',\n",
       "       'CHURCH/SYNAGOGUE/PLACE OF WORSHIP',\n",
       "       'CHA HALLWAY/STAIRWELL/ELEVATOR', 'DRIVEWAY - RESIDENTIAL',\n",
       "       'SPORTS ARENA/STADIUM',\n",
       "       'AIRPORT BUILDING NON-TERMINAL - NON-SECURE AREA', 'CAR WASH',\n",
       "       'VEHICLE - OTHER RIDE SERVICE', 'WAREHOUSE',\n",
       "       'JAIL / LOCK-UP FACILITY', 'CTA GARAGE / OTHER PROPERTY',\n",
       "       'OTHER RAILROAD PROP / TRAIN DEPOT', 'AIRPORT/AIRCRAFT', 'YARD',\n",
       "       'PORCH', 'APPLIANCE STORE', 'AIRPORT TRANSPORTATION SYSTEM (ATS)',\n",
       "       'MOVIE HOUSE/THEATER', 'AUTO', 'CONSTRUCTION SITE',\n",
       "       'DAY CARE CENTER', 'AIRPORT BUILDING NON-TERMINAL - SECURE AREA',\n",
       "       'AIRPORT EXTERIOR - NON-SECURE AREA', 'SCHOOL, PRIVATE, GROUNDS',\n",
       "       'COIN OPERATED MACHINE', 'CHA PARKING LOT', 'SAVINGS AND LOAN',\n",
       "       'COLLEGE/UNIVERSITY GROUNDS', 'GAS STATION DRIVE/PROP.',\n",
       "       'PAWN SHOP', 'AIRPORT TERMINAL LOWER LEVEL - SECURE AREA',\n",
       "       'ANIMAL HOSPITAL', 'AIRPORT TERMINAL MEZZANINE - NON-SECURE AREA',\n",
       "       'OFFICE', 'COLLEGE/UNIVERSITY RESIDENCE HALL',\n",
       "       'AIRPORT EXTERIOR - SECURE AREA', 'POOL ROOM', 'CEMETARY',\n",
       "       'BOAT/WATERCRAFT', 'VACANT LOT', 'BRIDGE',\n",
       "       'LAKEFRONT/WATERFRONT/RIVERBANK', 'HIGHWAY/EXPRESSWAY', 'TAVERN',\n",
       "       'CREDIT UNION', 'FEDERAL BUILDING', 'CLUB', 'NEWSSTAND',\n",
       "       'CHA HALLWAY', 'STAIRWELL', 'NURSING HOME', 'PARKING LOT',\n",
       "       'VEHICLE - DELIVERY TRUCK', 'BARBER SHOP/BEAUTY SALON', 'VESTIBULE',\n",
       "       'HALLWAY', 'CTA TRACKS - RIGHT OF WAY', 'RETAIL STORE',\n",
       "       'SCHOOL YARD', 'FOREST PRESERVE', 'GARAGE',\n",
       "       'AUTO / BOAT / RV DEALERSHIP', 'DRIVEWAY', 'LAGOON',\n",
       "       'CTA \"L\" TRAIN', 'GANGWAY'], dtype=object)"
      ]
     },
     "execution_count": 53,
     "metadata": {},
     "output_type": "execute_result"
    }
   ],
   "source": [
    "frame.location.unique()"
   ]
  },
  {
   "cell_type": "markdown",
   "metadata": {},
   "source": [
    "# Find deltas by block"
   ]
  },
  {
   "cell_type": "code",
   "execution_count": 54,
   "metadata": {
    "collapsed": false
   },
   "outputs": [],
   "source": [
    "import collections\n",
    "\n",
    "by_block = collections.defaultdict(list)\n",
    "for _, row in frame.iterrows():\n",
    "    if row.geometry.is_empty:\n",
    "        continue\n",
    "    #if row.crime not in {\"ROBBERY\", \"THEFT\"}:\n",
    "    #    continue\n",
    "    by_block[row.address].append( list(row.geometry.coords)[0] )"
   ]
  },
  {
   "cell_type": "code",
   "execution_count": 55,
   "metadata": {
    "collapsed": false
   },
   "outputs": [],
   "source": [
    "for key in set(by_block):\n",
    "    x = np.asarray(by_block[key])\n",
    "    x -= np.average(x, axis=0)\n",
    "    by_block[key] = x"
   ]
  },
  {
   "cell_type": "markdown",
   "metadata": {},
   "source": [
    "# Single out north-south\n",
    "\n",
    "We choose just the blocks which seem to be north/south (bases on the deltas) and then normalise each block to be in the range [-1,1]"
   ]
  },
  {
   "cell_type": "code",
   "execution_count": 56,
   "metadata": {
    "collapsed": false
   },
   "outputs": [
    {
     "data": {
      "text/plain": [
       "array([[-0.16666667,  0.33333333],\n",
       "       [-0.5       ,  0.66666667],\n",
       "       [ 0.83333333,  1.        ]])"
      ]
     },
     "execution_count": 56,
     "metadata": {},
     "output_type": "execute_result"
    }
   ],
   "source": [
    "def normalise(x, y):\n",
    "    value = np.vstack([x,y]).T\n",
    "    if min(y) >= 0:\n",
    "        if max(y) == 0:\n",
    "            raise Exception()\n",
    "        v = value / max(y)\n",
    "    elif max(y) <= 0:\n",
    "        if min(y) == 0:\n",
    "            raise Exception()\n",
    "        v = value / (-min(y))\n",
    "    else:\n",
    "        m = max(max(y), -min(y))\n",
    "        if m == 0:\n",
    "            raise Exception()\n",
    "        v = value / m\n",
    "    return v\n",
    "\n",
    "value = np.asarray([[-1,2],[-3,4],[5,6]])\n",
    "normalise(value[:,0], value[:,1])"
   ]
  },
  {
   "cell_type": "code",
   "execution_count": 57,
   "metadata": {
    "collapsed": true
   },
   "outputs": [],
   "source": [
    "ns = []\n",
    "for key, value in by_block.items():\n",
    "    x, y = value[:,0], value[:,1]\n",
    "    if len(x) < 10:\n",
    "        continue\n",
    "    dx = max(x) - min(x)\n",
    "    dy = max(y) - min(y)\n",
    "    if dy > 10 * dx:\n",
    "        ns.append(normalise(x,y))"
   ]
  },
  {
   "cell_type": "markdown",
   "metadata": {},
   "source": [
    "Let's plot all the deltas.  These show a strong north/south bias, as we hope.  They are on an angle, but I believe this is simply because Chicago is aligned not exactly north/south, but also at a slight angle.\n",
    "\n",
    "That the line is somewhat think I cannot account for.\n",
    "\n",
    "The clumps at y=-1 and y=1 are statistical artifacts of rescaling the data to exactly fit into [-1,1]."
   ]
  },
  {
   "cell_type": "code",
   "execution_count": 58,
   "metadata": {
    "collapsed": false
   },
   "outputs": [
    {
     "data": {
      "image/png": "[encoded data removed]",
      "text/plain": [
       "<matplotlib.figure.Figure at 0x7fa88e215f60>"
      ]
     },
     "metadata": {},
     "output_type": "display_data"
    }
   ],
   "source": [
    "x = np.asarray([x for value in ns for x in value])\n",
    "\n",
    "fig, ax = plt.subplots(figsize=(12,12))\n",
    "ax.scatter(x[:,0], x[:,1], alpha=0.002)\n",
    "ax.set_aspect(.1)\n",
    "ax.set(ylim=[-1.1,1.1])\n",
    "None"
   ]
  },
  {
   "cell_type": "code",
   "execution_count": 59,
   "metadata": {
    "collapsed": true
   },
   "outputs": [],
   "source": [
    "import scipy.stats"
   ]
  },
  {
   "cell_type": "markdown",
   "metadata": {},
   "source": [
    "Let's look at the y coordinate only, and use a KDE to estimate the density."
   ]
  },
  {
   "cell_type": "code",
   "execution_count": 60,
   "metadata": {
    "collapsed": false
   },
   "outputs": [
    {
     "data": {
      "text/plain": [
       "[<matplotlib.lines.Line2D at 0x7fa8bc98fc50>]"
      ]
     },
     "execution_count": 60,
     "metadata": {},
     "output_type": "execute_result"
    },
    {
     "data": {
      "image/png": "[encoded data removed]",
      "text/plain": [
       "<matplotlib.figure.Figure at 0x7fa8c6960ac8>"
      ]
     },
     "metadata": {},
     "output_type": "display_data"
    }
   ],
   "source": [
    "y_marginals = x[:,1]\n",
    "kernel = scipy.stats.kde.gaussian_kde(y_marginals)\n",
    "\n",
    "xc = np.linspace(-1,1,100)\n",
    "plt.plot(xc, kernel(xc))"
   ]
  },
  {
   "cell_type": "markdown",
   "metadata": {},
   "source": [
    "# Simulate some data\n",
    "\n",
    "Let's suppose the data really came from a uniform distribution.\n",
    "\n",
    "- For each entry in `ns` we simulate the same number of points from a uniform distribution\n",
    "- Convert to having mean zero\n",
    "- Then re-scale in the same way\n",
    "\n",
    "We also do this with a normal distribution, instead of a uniform distribution.  This shows much better agreement with the real data, suggesting that maybe a normal distribution is used?"
   ]
  },
  {
   "cell_type": "code",
   "execution_count": 61,
   "metadata": {
    "collapsed": false
   },
   "outputs": [],
   "source": [
    "def mean_zero_rescale(values):\n",
    "    values -= np.average(values)\n",
    "    v = normalise(np.zeros_like(values), values)\n",
    "    return v[:,1]\n",
    "\n",
    "def sim(length):\n",
    "    values = np.random.random(length)\n",
    "    return mean_zero_rescale(values)\n",
    "\n",
    "def sim_gaussian(length):\n",
    "    values = np.random.normal(size=length)\n",
    "    return mean_zero_rescale(values)\n",
    "\n",
    "sim_ns = []\n",
    "\n",
    "for value in ns:\n",
    "    length = value.shape[0]\n",
    "    sim_ns.append(sim_gaussian(length))"
   ]
  },
  {
   "cell_type": "code",
   "execution_count": 62,
   "metadata": {
    "collapsed": false
   },
   "outputs": [
    {
     "data": {
      "image/png": "[encoded data removed]",
      "text/plain": [
       "<matplotlib.figure.Figure at 0x7fa8c917c828>"
      ]
     },
     "metadata": {},
     "output_type": "display_data"
    }
   ],
   "source": [
    "sim_x = np.asarray([x for value in sim_ns for x in value])\n",
    "kernel_sim = scipy.stats.kde.gaussian_kde(sim_x)\n",
    "\n",
    "xc = np.linspace(-1,1,100)\n",
    "plt.plot(xc, kernel(xc))\n",
    "plt.plot(xc, kernel_sim(xc))\n",
    "plt.legend([\"Real data\", \"Simulated gaussian data\"])\n",
    "plt.ylim([0,1])\n",
    "None"
   ]
  }
 ],
 "metadata": {
  "kernelspec": {
   "display_name": "Python 3",
   "language": "python",
   "name": "python3"
  },
  "language_info": {
   "codemirror_mode": {
    "name": "ipython",
    "version": 3
   },
   "file_extension": ".py",
   "mimetype": "text/x-python",
   "name": "python",
   "nbconvert_exporter": "python",
   "pygments_lexer": "ipython3",
   "version": "3.6.0"
  }
 },
 "nbformat": 4,
 "nbformat_minor": 2
}
