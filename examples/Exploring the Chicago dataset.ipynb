{
 "cells": [
  {
   "cell_type": "code",
   "execution_count": 3,
   "metadata": {
    "collapsed": true
   },
   "outputs": [],
   "source": [
    "# Allow us to load `open_cp` without installing\n",
    "import sys, os.path\n",
    "sys.path.insert(0, os.path.abspath(\"..\"))"
   ]
  },
  {
   "cell_type": "markdown",
   "metadata": {},
   "source": [
    "# Chicago data and simulating address-level data\n",
    "\n",
    "The Chicago data is anonymised by moving obscuring address points etc etc.\n",
    "\n",
    "- The data can be downloaded from https://catalog.data.gov/dataset/crimes-2001-to-present-398a4 (see the module docstring of `open_cp.sources.chicago`  See also https://data.cityofchicago.org/Public-Safety/Crimes-2001-to-present/ijzp-q8t2\n",
    "\n",
    "In this notebook, we quickly look at the data, check that the data agrees between both sources, and demo some of the library features provided for loading the data.\n",
    "\n",
    "In another notebook, we will look closely at how the location data corresponds (or doesn't!) to the block addresses given."
   ]
  },
  {
   "cell_type": "code",
   "execution_count": 4,
   "metadata": {
    "collapsed": false
   },
   "outputs": [],
   "source": [
    "%matplotlib inline\n",
    "import matplotlib.pyplot as plt\n",
    "import numpy as np\n",
    "import PIL\n",
    "import pandas as pd\n",
    "import geopandas as gpd\n",
    "\n",
    "import open_cp.sources.chicago as chicago\n",
    "\n",
    "import sys, os, csv, lzma\n",
    "filename = os.path.join(\"..\", \"open_cp\", \"sources\", \"chicago.csv\")\n",
    "filename_all = os.path.join(\"..\", \"open_cp\", \"sources\", \"chicago_all.csv.xz\")\n",
    "filename_all1 = os.path.join(\"..\", \"open_cp\", \"sources\", \"chicago_all1.csv.xz\")"
   ]
  },
  {
   "cell_type": "markdown",
   "metadata": {},
   "source": [
    "Let us look at the snapshot of the last year, vs the total dataset.  The data appears to be the same, though the exact format changes."
   ]
  },
  {
   "cell_type": "code",
   "execution_count": 3,
   "metadata": {
    "collapsed": false
   },
   "outputs": [
    {
     "name": "stdout",
     "output_type": "stream",
     "text": [
      "['CASE#', 'DATE  OF OCCURRENCE', 'BLOCK', ' IUCR', ' PRIMARY DESCRIPTION', ' SECONDARY DESCRIPTION', ' LOCATION DESCRIPTION', 'ARREST', 'DOMESTIC', 'BEAT', 'WARD', 'FBI CD', 'X COORDINATE', 'Y COORDINATE', 'LATITUDE', 'LONGITUDE', 'LOCATION']\n",
      "['HZ560767', '12/22/2016 02:55:00 AM', '010XX N CENTRAL PARK AVE', '4387', 'OTHER OFFENSE', 'VIOLATE ORDER OF PROTECTION', 'APARTMENT', 'N', 'Y', '1112', '27', '26', '1152189', '1906649', '41.899712716', '-87.716454159', '(41.899712716, -87.716454159)']\n"
     ]
    }
   ],
   "source": [
    "with open(filename, \"rt\") as file:\n",
    "    reader = csv.reader(file)\n",
    "    print(next(reader))\n",
    "    print(next(reader))"
   ]
  },
  {
   "cell_type": "code",
   "execution_count": 4,
   "metadata": {
    "collapsed": false
   },
   "outputs": [
    {
     "name": "stdout",
     "output_type": "stream",
     "text": [
      "['ID', 'Case Number', 'Date', 'Block', 'IUCR', 'Primary Type', 'Description', 'Location Description', 'Arrest', 'Domestic', 'Beat', 'District', 'Ward', 'Community Area', 'FBI Code', 'X Coordinate', 'Y Coordinate', 'Year', 'Updated On', 'Latitude', 'Longitude', 'Location']\n",
      "['8651563', 'HV322174', '06/05/2012 11:00:00 AM', '022XX N CANNON DR', '0810', 'THEFT', 'OVER $500', 'STREET', 'false', 'false', '1814', '018', '43', '7', '06', '1175057', '1915111', '2012', '02/04/2016 06:33:39 AM', '41.922450893', '-87.632206293', '(41.922450893, -87.632206293)']\n"
     ]
    }
   ],
   "source": [
    "with lzma.open(filename_all, \"rt\") as file:\n",
    "    reader = csv.reader(file)\n",
    "    print(next(reader))\n",
    "    print(next(reader))"
   ]
  },
  {
   "cell_type": "markdown",
   "metadata": {},
   "source": [
    "As well as loading data directly into a `TimedPoints` class, we can process a sub-set of the data to GeoJSON, or straight to a geopandas dataframe (if geopandas is installed)."
   ]
  },
  {
   "cell_type": "code",
   "execution_count": 5,
   "metadata": {
    "collapsed": false
   },
   "outputs": [
    {
     "data": {
      "text/plain": [
       "{'geometry': {'coordinates': [-87.716454159, 41.899712716], 'type': 'Point'},\n",
       " 'properties': {'address': '010XX N CENTRAL PARK AVE',\n",
       "  'case': 'HZ560767',\n",
       "  'crime': 'OTHER OFFENSE',\n",
       "  'location': 'APARTMENT',\n",
       "  'timestamp': '2016-12-22T02:55:00',\n",
       "  'type': 'VIOLATE ORDER OF PROTECTION'},\n",
       " 'type': 'Feature'}"
      ]
     },
     "execution_count": 5,
     "metadata": {},
     "output_type": "execute_result"
    }
   ],
   "source": [
    "geo_data = chicago.load_to_GeoJSON()\n",
    "geo_data[0]"
   ]
  },
  {
   "cell_type": "code",
   "execution_count": 6,
   "metadata": {
    "collapsed": false
   },
   "outputs": [
    {
     "data": {
      "text/html": [
       "<div>\n",
       "<table border=\"1\" class=\"dataframe\">\n",
       "  <thead>\n",
       "    <tr style=\"text-align: right;\">\n",
       "      <th></th>\n",
       "      <th>address</th>\n",
       "      <th>case</th>\n",
       "      <th>crime</th>\n",
       "      <th>geometry</th>\n",
       "      <th>location</th>\n",
       "      <th>timestamp</th>\n",
       "      <th>type</th>\n",
       "    </tr>\n",
       "  </thead>\n",
       "  <tbody>\n",
       "    <tr>\n",
       "      <th>0</th>\n",
       "      <td>010XX N CENTRAL PARK AVE</td>\n",
       "      <td>HZ560767</td>\n",
       "      <td>OTHER OFFENSE</td>\n",
       "      <td>POINT (-87.71645415899999 41.899712716)</td>\n",
       "      <td>APARTMENT</td>\n",
       "      <td>2016-12-22T02:55:00</td>\n",
       "      <td>VIOLATE ORDER OF PROTECTION</td>\n",
       "    </tr>\n",
       "    <tr>\n",
       "      <th>1</th>\n",
       "      <td>051XX S WASHTENAW AVE</td>\n",
       "      <td>HZ561134</td>\n",
       "      <td>BATTERY</td>\n",
       "      <td>POINT (-87.691539994 41.800445234)</td>\n",
       "      <td>RESIDENTIAL YARD (FRONT/BACK)</td>\n",
       "      <td>2016-12-22T11:17:00</td>\n",
       "      <td>AGGRAVATED: OTHER FIREARM</td>\n",
       "    </tr>\n",
       "    <tr>\n",
       "      <th>2</th>\n",
       "      <td>059XX W DIVERSEY AVE</td>\n",
       "      <td>HZ565584</td>\n",
       "      <td>DECEPTIVE PRACTICE</td>\n",
       "      <td>POINT (-87.774165121 41.931166274)</td>\n",
       "      <td>RESIDENCE</td>\n",
       "      <td>2016-12-09T12:00:00</td>\n",
       "      <td>FINANCIAL IDENTITY THEFT $300 AND UNDER</td>\n",
       "    </tr>\n",
       "    <tr>\n",
       "      <th>3</th>\n",
       "      <td>001XX N STATE ST</td>\n",
       "      <td>HZ561772</td>\n",
       "      <td>THEFT</td>\n",
       "      <td>POINT (-87.62787669799999 41.883500187)</td>\n",
       "      <td>DEPARTMENT STORE</td>\n",
       "      <td>2016-12-22T18:50:00</td>\n",
       "      <td>RETAIL THEFT</td>\n",
       "    </tr>\n",
       "    <tr>\n",
       "      <th>4</th>\n",
       "      <td>008XX N MICHIGAN AVE</td>\n",
       "      <td>HZ561969</td>\n",
       "      <td>THEFT</td>\n",
       "      <td>POINT (-87.624095634 41.897982937)</td>\n",
       "      <td>SMALL RETAIL STORE</td>\n",
       "      <td>2016-12-22T19:20:00</td>\n",
       "      <td>RETAIL THEFT</td>\n",
       "    </tr>\n",
       "  </tbody>\n",
       "</table>\n",
       "</div>"
      ],
      "text/plain": [
       "                    address      case               crime  \\\n",
       "0  010XX N CENTRAL PARK AVE  HZ560767       OTHER OFFENSE   \n",
       "1     051XX S WASHTENAW AVE  HZ561134             BATTERY   \n",
       "2      059XX W DIVERSEY AVE  HZ565584  DECEPTIVE PRACTICE   \n",
       "3          001XX N STATE ST  HZ561772               THEFT   \n",
       "4      008XX N MICHIGAN AVE  HZ561969               THEFT   \n",
       "\n",
       "                                  geometry                       location  \\\n",
       "0  POINT (-87.71645415899999 41.899712716)                      APARTMENT   \n",
       "1       POINT (-87.691539994 41.800445234)  RESIDENTIAL YARD (FRONT/BACK)   \n",
       "2       POINT (-87.774165121 41.931166274)                      RESIDENCE   \n",
       "3  POINT (-87.62787669799999 41.883500187)               DEPARTMENT STORE   \n",
       "4       POINT (-87.624095634 41.897982937)             SMALL RETAIL STORE   \n",
       "\n",
       "             timestamp                                     type  \n",
       "0  2016-12-22T02:55:00              VIOLATE ORDER OF PROTECTION  \n",
       "1  2016-12-22T11:17:00                AGGRAVATED: OTHER FIREARM  \n",
       "2  2016-12-09T12:00:00  FINANCIAL IDENTITY THEFT $300 AND UNDER  \n",
       "3  2016-12-22T18:50:00                             RETAIL THEFT  \n",
       "4  2016-12-22T19:20:00                             RETAIL THEFT  "
      ]
     },
     "execution_count": 6,
     "metadata": {},
     "output_type": "execute_result"
    }
   ],
   "source": [
    "frame = chicago.load_to_geoDataFrame()\n",
    "frame.head()"
   ]
  },
  {
   "cell_type": "markdown",
   "metadata": {},
   "source": [
    "## Explore with QGIS\n",
    "\n",
    "If geoPandas is installed, we can save the dataframe to a shape-file which can be viewed in e.g. QGIS.\n",
    "\n",
    "To explore the spatial-distribution, I would recommend using an interactive GIS package.  Using QGIS (free and open source) you can easily add a basemap using GoogleMaps or OpenStreetMap, etc.  See http://maps.cga.harvard.edu/qgis/wkshop/basemap.php\n",
    "\n",
    "I found this to be slightly buggy.  On Windows, QGIS 2.18.7 I found that the following worked:\n",
    "- First open the `chicago.shp` file produced from the line above.\n",
    "- Select the Coordinate reference system \"WGS 84 / EPSG:4326\"\n",
    "- Now go to the menu \"Web\" -> \"OpenLayers plugin\" -> Whatever\n",
    "- The projection should change to EPSG:3857.  The basemap will obscure the point map, so in the \"Layers Panel\" drag the basemap to the bottom.\n",
    "- Selecting EPSG:3857 at import time doesn't seem to work (which is different to the instructions..!)"
   ]
  },
  {
   "cell_type": "code",
   "execution_count": null,
   "metadata": {
    "collapsed": false
   },
   "outputs": [],
   "source": [
    "frame.to_file(\"chicago\")"
   ]
  },
  {
   "cell_type": "markdown",
   "metadata": {},
   "source": [
    "## Check the total data sets agree\n",
    "\n",
    "The files `filename` and `filename1` were downloaded from, respectively, the US Gov website, and the Chicago site.  They are slightly different in size, but appear to contain the same data.  (This can be checked!)\n",
    "\n",
    "The files `filename_all` and `filename_all1` were also downloaded from, respectively, the US Gov website, and the Chicago site.  While they are the same size (uncompressed), and have the same headers, the data appears, at least naively, to be different."
   ]
  },
  {
   "cell_type": "code",
   "execution_count": 3,
   "metadata": {
    "collapsed": false
   },
   "outputs": [
    {
     "name": "stdout",
     "output_type": "stream",
     "text": [
      "ID,Case Number,Date,Block,IUCR,Primary Type,Description,Location Description,Arrest,Domestic,Beat,District,Ward,Community Area,FBI Code,X Coordinate,Y Coordinate,Year,Updated On,Latitude,Longitude,Location\n",
      "\n",
      "ID,Case Number,Date,Block,IUCR,Primary Type,Description,Location Description,Arrest,Domestic,Beat,District,Ward,Community Area,FBI Code,X Coordinate,Y Coordinate,Year,Updated On,Latitude,Longitude,Location\n",
      "\n"
     ]
    }
   ],
   "source": [
    "with lzma.open(filename_all, \"rt\") as file:\n",
    "    print(next(file))\n",
    "with lzma.open(filename_all1, \"rt\") as file:\n",
    "    print(next(file))    "
   ]
  },
  {
   "cell_type": "code",
   "execution_count": 4,
   "metadata": {
    "collapsed": false
   },
   "outputs": [
    {
     "name": "stdout",
     "output_type": "stream",
     "text": [
      "8651563,HV322174,06/05/2012 11:00:00 AM,022XX N CANNON DR,0810,THEFT,OVER $500,STREET,false,false,1814,018,43,7,06,1175057,1915111,2012,02/04/2016 06:33:39 AM,41.922450893,-87.632206293,\"(41.922450893, -87.632206293)\"\n",
      "\n",
      "9257701,HW403120,08/11/2013 12:40:00 PM,039XX W WILCOX ST,2024,NARCOTICS,POSS: HEROIN(WHITE),ALLEY,true,false,1122,011,28,26,18,1150094,1899044,2013,02/04/2016 06:33:39 AM,41.878884869,-87.724347406,\"(41.878884869, -87.724347406)\"\n",
      "\n"
     ]
    }
   ],
   "source": [
    "with lzma.open(filename_all, \"rt\") as file:\n",
    "    next(file); print(next(file))\n",
    "with lzma.open(filename_all1, \"rt\") as file:\n",
    "    next(file); print(next(file))  "
   ]
  },
  {
   "cell_type": "code",
   "execution_count": 5,
   "metadata": {
    "collapsed": false
   },
   "outputs": [],
   "source": [
    "def load_as_tuples(f):\n",
    "    events = []\n",
    "    for feature in chicago.generate_GeoJSON_Features(f, type=\"all\"):\n",
    "        props = feature[\"properties\"]\n",
    "        if props[\"crime\"] == \"HOMICIDE\":\n",
    "            continue\n",
    "        coords = feature[\"geometry\"]\n",
    "        if coords is None:\n",
    "            coords = (-1, -1)\n",
    "        else:\n",
    "            coords = coords[\"coordinates\"]\n",
    "        event = (props[\"case\"], props[\"crime\"], props[\"type\"], props[\"location\"],\n",
    "                 props[\"timestamp\"], props[\"address\"], coords[0], coords[1])\n",
    "        events.append(event)\n",
    "    return events\n",
    "\n",
    "def load_as_dict_to_lists(f):\n",
    "    events = dict()\n",
    "    for feature in chicago.generate_GeoJSON_Features(f, type=\"all\"):\n",
    "        props = feature[\"properties\"]\n",
    "        if props[\"crime\"] == \"HOMICIDE\":\n",
    "            continue\n",
    "        coords = feature[\"geometry\"]\n",
    "        if coords is None:\n",
    "            coords = (-1, -1)\n",
    "        else:\n",
    "            coords = coords[\"coordinates\"]\n",
    "        case = props[\"case\"]\n",
    "        if case not in events:\n",
    "            events[case] = []\n",
    "        event = (props[\"crime\"], props[\"type\"], props[\"location\"],\n",
    "                 props[\"timestamp\"], props[\"address\"], coords[0], coords[1])\n",
    "        events[case].append(event)\n",
    "    return events    "
   ]
  },
  {
   "cell_type": "code",
   "execution_count": 6,
   "metadata": {
    "collapsed": false
   },
   "outputs": [
    {
     "name": "stdout",
     "output_type": "stream",
     "text": [
      "events: 6320160\n",
      "events: 6320160\n"
     ]
    }
   ],
   "source": [
    "with lzma.open(filename_all, \"rt\") as file:\n",
    "    events = load_as_dict_to_lists(file)\n",
    "    print(\"events:\", len(events))\n",
    "with lzma.open(filename_all1, \"rt\") as file:\n",
    "    events1 = load_as_dict_to_lists(file)\n",
    "    print(\"events:\", len(events1))"
   ]
  },
  {
   "cell_type": "code",
   "execution_count": 7,
   "metadata": {
    "collapsed": false
   },
   "outputs": [],
   "source": [
    "diffs = dict()\n",
    "\n",
    "for case in set(events.keys()):\n",
    "    if len(events[case]) == 1 and case in events1 and len(events1[case])==1:\n",
    "        if not events[case] == events1[case]:\n",
    "            diffs[case] = (events[case], events1[case])\n",
    "        del events[case]\n",
    "        del events1[case]"
   ]
  },
  {
   "cell_type": "code",
   "execution_count": 8,
   "metadata": {
    "collapsed": false
   },
   "outputs": [
    {
     "data": {
      "text/plain": [
       "0"
      ]
     },
     "execution_count": 8,
     "metadata": {},
     "output_type": "execute_result"
    }
   ],
   "source": [
    "len(diffs)"
   ]
  },
  {
   "cell_type": "code",
   "execution_count": 9,
   "metadata": {
    "collapsed": false
   },
   "outputs": [
    {
     "data": {
      "text/plain": [
       "True"
      ]
     },
     "execution_count": 9,
     "metadata": {},
     "output_type": "execute_result"
    }
   ],
   "source": [
    "events.keys() == events1.keys()"
   ]
  },
  {
   "cell_type": "code",
   "execution_count": 10,
   "metadata": {
    "collapsed": false
   },
   "outputs": [],
   "source": [
    "for key in events:\n",
    "    assert set(events['']) == set(events1[''])"
   ]
  },
  {
   "cell_type": "markdown",
   "metadata": {},
   "source": [
    "# A geoPandas example\n",
    "\n",
    "Let's use the \"generator of GeoJSON\" option shown above to pick out only BURGLARY crimes from the 2001-- dataset (which is too large to easily load into a dataframe in one go)."
   ]
  },
  {
   "cell_type": "code",
   "execution_count": 5,
   "metadata": {
    "collapsed": false,
    "scrolled": true
   },
   "outputs": [
    {
     "data": {
      "text/html": [
       "<div>\n",
       "<table border=\"1\" class=\"dataframe\">\n",
       "  <thead>\n",
       "    <tr style=\"text-align: right;\">\n",
       "      <th></th>\n",
       "      <th>address</th>\n",
       "      <th>case</th>\n",
       "      <th>crime</th>\n",
       "      <th>geometry</th>\n",
       "      <th>location</th>\n",
       "      <th>timestamp</th>\n",
       "      <th>type</th>\n",
       "    </tr>\n",
       "  </thead>\n",
       "  <tbody>\n",
       "    <tr>\n",
       "      <th>0</th>\n",
       "      <td>003XX W 94TH PL</td>\n",
       "      <td>HV327134</td>\n",
       "      <td>BURGLARY</td>\n",
       "      <td>POINT (-87.632356731 41.723006487)</td>\n",
       "      <td>RESIDENCE</td>\n",
       "      <td>2012-06-09T23:30:00</td>\n",
       "      <td>FORCIBLE ENTRY</td>\n",
       "    </tr>\n",
       "    <tr>\n",
       "      <th>1</th>\n",
       "      <td>011XX N HERMITAGE AVE</td>\n",
       "      <td>HV327217</td>\n",
       "      <td>BURGLARY</td>\n",
       "      <td>POINT (-87.671145473 41.902514714)</td>\n",
       "      <td>RESIDENCE</td>\n",
       "      <td>2012-06-06T12:00:00</td>\n",
       "      <td>FORCIBLE ENTRY</td>\n",
       "    </tr>\n",
       "    <tr>\n",
       "      <th>2</th>\n",
       "      <td>047XX W WEST END AVE</td>\n",
       "      <td>HV327110</td>\n",
       "      <td>BURGLARY</td>\n",
       "      <td>POINT (-87.743935241 41.883144607)</td>\n",
       "      <td>RESIDENCE</td>\n",
       "      <td>2012-06-09T01:30:00</td>\n",
       "      <td>FORCIBLE ENTRY</td>\n",
       "    </tr>\n",
       "    <tr>\n",
       "      <th>3</th>\n",
       "      <td>038XX S SACRAMENTO AVE</td>\n",
       "      <td>HV327153</td>\n",
       "      <td>BURGLARY</td>\n",
       "      <td>POINT (-87.69951882399999 41.823319195)</td>\n",
       "      <td>APARTMENT</td>\n",
       "      <td>2012-06-09T12:00:00</td>\n",
       "      <td>UNLAWFUL ENTRY</td>\n",
       "    </tr>\n",
       "    <tr>\n",
       "      <th>4</th>\n",
       "      <td>013XX W 91ST ST</td>\n",
       "      <td>HV327223</td>\n",
       "      <td>BURGLARY</td>\n",
       "      <td>POINT (-87.65724045 41.72858934)</td>\n",
       "      <td>RESIDENCE</td>\n",
       "      <td>2012-06-09T02:00:00</td>\n",
       "      <td>FORCIBLE ENTRY</td>\n",
       "    </tr>\n",
       "  </tbody>\n",
       "</table>\n",
       "</div>"
      ],
      "text/plain": [
       "                  address      case     crime  \\\n",
       "0         003XX W 94TH PL  HV327134  BURGLARY   \n",
       "1   011XX N HERMITAGE AVE  HV327217  BURGLARY   \n",
       "2    047XX W WEST END AVE  HV327110  BURGLARY   \n",
       "3  038XX S SACRAMENTO AVE  HV327153  BURGLARY   \n",
       "4         013XX W 91ST ST  HV327223  BURGLARY   \n",
       "\n",
       "                                  geometry   location            timestamp  \\\n",
       "0       POINT (-87.632356731 41.723006487)  RESIDENCE  2012-06-09T23:30:00   \n",
       "1       POINT (-87.671145473 41.902514714)  RESIDENCE  2012-06-06T12:00:00   \n",
       "2       POINT (-87.743935241 41.883144607)  RESIDENCE  2012-06-09T01:30:00   \n",
       "3  POINT (-87.69951882399999 41.823319195)  APARTMENT  2012-06-09T12:00:00   \n",
       "4         POINT (-87.65724045 41.72858934)  RESIDENCE  2012-06-09T02:00:00   \n",
       "\n",
       "             type  \n",
       "0  FORCIBLE ENTRY  \n",
       "1  FORCIBLE ENTRY  \n",
       "2  FORCIBLE ENTRY  \n",
       "3  UNLAWFUL ENTRY  \n",
       "4  FORCIBLE ENTRY  "
      ]
     },
     "execution_count": 5,
     "metadata": {},
     "output_type": "execute_result"
    }
   ],
   "source": [
    "with lzma.open(filename_all, \"rt\") as file:\n",
    "    features = [ event for event in chicago.generate_GeoJSON_Features(file, type=\"all\")\n",
    "                if event[\"properties\"][\"crime\"] == \"BURGLARY\" ]\n",
    "\n",
    "frame = gpd.GeoDataFrame.from_features(features)\n",
    "frame.crs = {\"init\":\"EPSG:4326\"} # Lon/Lat native coords\n",
    "frame.head()"
   ]
  },
  {
   "cell_type": "code",
   "execution_count": 6,
   "metadata": {
    "collapsed": false
   },
   "outputs": [
    {
     "data": {
      "text/plain": [
       "array(['FORCIBLE ENTRY', 'UNLAWFUL ENTRY', 'ATTEMPT FORCIBLE ENTRY',\n",
       "       'HOME INVASION'], dtype=object)"
      ]
     },
     "execution_count": 6,
     "metadata": {},
     "output_type": "execute_result"
    }
   ],
   "source": [
    "frame[\"type\"].unique()"
   ]
  },
  {
   "cell_type": "code",
   "execution_count": 7,
   "metadata": {
    "collapsed": false,
    "scrolled": true
   },
   "outputs": [
    {
     "data": {
      "text/plain": [
       "array(['RESIDENCE', 'APARTMENT', 'DEPARTMENT STORE', 'RESIDENCE-GARAGE',\n",
       "       'SCHOOL, PUBLIC, BUILDING', 'SMALL RETAIL STORE',\n",
       "       'CONSTRUCTION SITE', 'CHA PARKING LOT/GROUNDS',\n",
       "       'CHURCH/SYNAGOGUE/PLACE OF WORSHIP', 'APPLIANCE STORE',\n",
       "       'RESTAURANT', 'CHA APARTMENT', 'CLEANING STORE',\n",
       "       'GROCERY FOOD STORE', 'OTHER', 'DAY CARE CENTER',\n",
       "       'RESIDENTIAL YARD (FRONT/BACK)', 'COMMERCIAL / BUSINESS OFFICE',\n",
       "       'ABANDONED BUILDING', 'BARBERSHOP',\n",
       "       'PARKING LOT/GARAGE(NON.RESID.)', 'WAREHOUSE', 'VACANT LOT/LAND',\n",
       "       'BAR OR TAVERN', 'PARK PROPERTY', 'CTA GARAGE / OTHER PROPERTY',\n",
       "       'RESIDENCE PORCH/HALLWAY', 'BANK', 'FEDERAL BUILDING', 'STREET',\n",
       "       'OTHER RAILROAD PROP / TRAIN DEPOT', 'GAS STATION',\n",
       "       'MEDICAL/DENTAL OFFICE', 'CAR WASH', 'MOVIE HOUSE/THEATER',\n",
       "       'CONVENIENCE STORE', 'HOTEL/MOTEL', 'DRIVEWAY - RESIDENTIAL',\n",
       "       'SCHOOL, PRIVATE, BUILDING', 'ALLEY', 'SCHOOL, PUBLIC, GROUNDS',\n",
       "       'CURRENCY EXCHANGE', 'HOSPITAL BUILDING/GROUNDS',\n",
       "       'COLLEGE/UNIVERSITY GROUNDS', 'FACTORY/MANUFACTURING BUILDING',\n",
       "       'TAVERN/LIQUOR STORE', 'GOVERNMENT BUILDING/PROPERTY',\n",
       "       'VEHICLE NON-COMMERCIAL', 'LIBRARY', 'VEHICLE-COMMERCIAL',\n",
       "       'POOL ROOM', 'SCHOOL, PRIVATE, GROUNDS',\n",
       "       'LAKEFRONT/WATERFRONT/RIVERBANK', 'DRUG STORE', 'CEMETARY',\n",
       "       'NURSING HOME/RETIREMENT HOME', 'SIDEWALK',\n",
       "       'COLLEGE/UNIVERSITY RESIDENCE HALL', 'ATHLETIC CLUB',\n",
       "       'BOAT/WATERCRAFT', 'ANIMAL HOSPITAL', 'COIN OPERATED MACHINE',\n",
       "       'FIRE STATION', 'CHA HALLWAY/STAIRWELL/ELEVATOR', 'FOREST PRESERVE',\n",
       "       'OTHER COMMERCIAL TRANSPORTATION', 'PAWN SHOP',\n",
       "       'SPORTS ARENA/STADIUM', 'BOWLING ALLEY',\n",
       "       'POLICE FACILITY/VEH PARKING LOT', 'SAVINGS AND LOAN',\n",
       "       'CTA PLATFORM', 'CREDIT UNION', 'ATM (AUTOMATIC TELLER MACHINE)',\n",
       "       'NEWSSTAND', 'CTA TRACKS - RIGHT OF WAY', 'CTA STATION', '',\n",
       "       'HIGHWAY/EXPRESSWAY', 'AIRPORT/AIRCRAFT', 'BRIDGE',\n",
       "       'DELIVERY TRUCK', 'AIRPORT TERMINAL UPPER LEVEL - SECURE AREA',\n",
       "       'CTA BUS', 'TAXICAB', 'VEHICLE - OTHER RIDE SERVICE',\n",
       "       'AIRPORT TERMINAL LOWER LEVEL - NON-SECURE AREA', 'CTA BUS STOP',\n",
       "       'CTA TRAIN', 'AIRPORT EXTERIOR - NON-SECURE AREA'], dtype=object)"
      ]
     },
     "execution_count": 7,
     "metadata": {},
     "output_type": "execute_result"
    }
   ],
   "source": [
    "frame[\"location\"].unique()"
   ]
  },
  {
   "cell_type": "code",
   "execution_count": 23,
   "metadata": {
    "collapsed": false
   },
   "outputs": [],
   "source": [
    "frame.to_file(\"chicago_all_burglary\")"
   ]
  },
  {
   "cell_type": "markdown",
   "metadata": {},
   "source": [
    "Upon loading into QGIS to visualise, we find that the 2001 data seems to be geocoded in a different way...  The events are not on the road, and the distribution looks less artificial.  Let's extract the 2001 burglary data, and then the all the 2001 data, and save."
   ]
  },
  {
   "cell_type": "code",
   "execution_count": 9,
   "metadata": {
    "collapsed": false
   },
   "outputs": [],
   "source": [
    "frame2001 = frame[frame.timestamp.map(lambda s : s.startswith(\"2001\"))]"
   ]
  },
  {
   "cell_type": "code",
   "execution_count": 10,
   "metadata": {
    "collapsed": true
   },
   "outputs": [],
   "source": [
    "frame2001.to_file(\"chicago_2001_burglary\")"
   ]
  },
  {
   "cell_type": "code",
   "execution_count": 12,
   "metadata": {
    "collapsed": false
   },
   "outputs": [
    {
     "data": {
      "text/html": [
       "<div>\n",
       "<table border=\"1\" class=\"dataframe\">\n",
       "  <thead>\n",
       "    <tr style=\"text-align: right;\">\n",
       "      <th></th>\n",
       "      <th>address</th>\n",
       "      <th>case</th>\n",
       "      <th>crime</th>\n",
       "      <th>geometry</th>\n",
       "      <th>location</th>\n",
       "      <th>timestamp</th>\n",
       "      <th>type</th>\n",
       "    </tr>\n",
       "  </thead>\n",
       "  <tbody>\n",
       "    <tr>\n",
       "      <th>0</th>\n",
       "      <td>079XX S CAMPBELL AVE</td>\n",
       "      <td>G397434</td>\n",
       "      <td>HOMICIDE</td>\n",
       "      <td>POINT (-87.685268108 41.749135591)</td>\n",
       "      <td>STREET</td>\n",
       "      <td>2001-08-09T19:30:00</td>\n",
       "      <td>FIRST DEGREE MURDER</td>\n",
       "    </tr>\n",
       "    <tr>\n",
       "      <th>1</th>\n",
       "      <td>048XX W KAMERLING AVE</td>\n",
       "      <td>G473112</td>\n",
       "      <td>HOMICIDE</td>\n",
       "      <td>POINT (-87.746889161 41.905072512)</td>\n",
       "      <td>STREET</td>\n",
       "      <td>2001-08-10T01:04:00</td>\n",
       "      <td>FIRST DEGREE MURDER</td>\n",
       "    </tr>\n",
       "    <tr>\n",
       "      <th>2</th>\n",
       "      <td>009XX N LAMON AVE</td>\n",
       "      <td>G477463</td>\n",
       "      <td>HOMICIDE</td>\n",
       "      <td>POINT (-87.74830887500001 41.897236716)</td>\n",
       "      <td>STREET</td>\n",
       "      <td>2001-08-11T23:06:00</td>\n",
       "      <td>FIRST DEGREE MURDER</td>\n",
       "    </tr>\n",
       "    <tr>\n",
       "      <th>3</th>\n",
       "      <td>036XX W OHIO ST</td>\n",
       "      <td>G476774</td>\n",
       "      <td>HOMICIDE</td>\n",
       "      <td>POINT (-87.717959287 41.891770726)</td>\n",
       "      <td>APARTMENT</td>\n",
       "      <td>2001-08-12T18:17:00</td>\n",
       "      <td>FIRST DEGREE MURDER</td>\n",
       "    </tr>\n",
       "    <tr>\n",
       "      <th>4</th>\n",
       "      <td>019XX S RACINE AVE</td>\n",
       "      <td>G477822</td>\n",
       "      <td>HOMICIDE</td>\n",
       "      <td>POINT (-87.656374568 41.85626764)</td>\n",
       "      <td>AUTO</td>\n",
       "      <td>2001-08-12T04:35:00</td>\n",
       "      <td>FIRST DEGREE MURDER</td>\n",
       "    </tr>\n",
       "  </tbody>\n",
       "</table>\n",
       "</div>"
      ],
      "text/plain": [
       "                 address     case     crime  \\\n",
       "0   079XX S CAMPBELL AVE  G397434  HOMICIDE   \n",
       "1  048XX W KAMERLING AVE  G473112  HOMICIDE   \n",
       "2      009XX N LAMON AVE  G477463  HOMICIDE   \n",
       "3        036XX W OHIO ST  G476774  HOMICIDE   \n",
       "4     019XX S RACINE AVE  G477822  HOMICIDE   \n",
       "\n",
       "                                  geometry   location            timestamp  \\\n",
       "0       POINT (-87.685268108 41.749135591)     STREET  2001-08-09T19:30:00   \n",
       "1       POINT (-87.746889161 41.905072512)     STREET  2001-08-10T01:04:00   \n",
       "2  POINT (-87.74830887500001 41.897236716)     STREET  2001-08-11T23:06:00   \n",
       "3       POINT (-87.717959287 41.891770726)  APARTMENT  2001-08-12T18:17:00   \n",
       "4        POINT (-87.656374568 41.85626764)       AUTO  2001-08-12T04:35:00   \n",
       "\n",
       "                  type  \n",
       "0  FIRST DEGREE MURDER  \n",
       "1  FIRST DEGREE MURDER  \n",
       "2  FIRST DEGREE MURDER  \n",
       "3  FIRST DEGREE MURDER  \n",
       "4  FIRST DEGREE MURDER  "
      ]
     },
     "execution_count": 12,
     "metadata": {},
     "output_type": "execute_result"
    }
   ],
   "source": [
    "with lzma.open(filename_all, \"rt\") as file:\n",
    "    features = [ event for event in chicago.generate_GeoJSON_Features(file, type=\"all\")\n",
    "                if event[\"properties\"][\"timestamp\"].startswith(\"2001\") ]\n",
    "\n",
    "frame = gpd.GeoDataFrame.from_features(features)\n",
    "frame.crs = {\"init\":\"EPSG:4326\"} # Lon/Lat native coords\n",
    "frame.head()"
   ]
  },
  {
   "cell_type": "code",
   "execution_count": 13,
   "metadata": {
    "collapsed": true
   },
   "outputs": [],
   "source": [
    "frame.to_file(\"chicago_2001\")"
   ]
  },
  {
   "cell_type": "code",
   "execution_count": null,
   "metadata": {
    "collapsed": true
   },
   "outputs": [],
   "source": []
  }
 ],
 "metadata": {
  "kernelspec": {
   "display_name": "Python 3",
   "language": "python",
   "name": "python3"
  },
  "language_info": {
   "codemirror_mode": {
    "name": "ipython",
    "version": 3
   },
   "file_extension": ".py",
   "mimetype": "text/x-python",
   "name": "python",
   "nbconvert_exporter": "python",
   "pygments_lexer": "ipython3",
   "version": "3.6.0"
  }
 },
 "nbformat": 4,
 "nbformat_minor": 2
}
