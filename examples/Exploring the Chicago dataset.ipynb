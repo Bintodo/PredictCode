{
 "cells": [
  {
   "cell_type": "code",
   "execution_count": 1,
   "metadata": {
    "collapsed": true
   },
   "outputs": [],
   "source": [
    "# Allow us to load `open_cp` without installing\n",
    "import sys, os.path\n",
    "sys.path.insert(0, os.path.abspath(\"..\"))"
   ]
  },
  {
   "cell_type": "markdown",
   "metadata": {},
   "source": [
    "# Chicago data and simulating address-level data\n",
    "\n",
    "The Chicago data is anonymised by moving obscuring address points etc etc.\n",
    "\n",
    "- The data can be downloaded from https://catalog.data.gov/dataset/crimes-2001-to-present-398a4 (see the module docstring of `open_cp.sources.chicago`  See also https://data.cityofchicago.org/Public-Safety/Crimes-2001-to-present/ijzp-q8t2\n",
    "\n",
    "In this notebook, we quickly look at the data, check that the data agrees between both sources, and demo some of the library features provided for loading the data.\n",
    "\n",
    "In another notebook, we will look closely at how the location data corresponds (or doesn't!) to the block addresses given."
   ]
  },
  {
   "cell_type": "code",
   "execution_count": 2,
   "metadata": {
    "collapsed": false
   },
   "outputs": [],
   "source": [
    "%matplotlib inline\n",
    "import matplotlib.pyplot as plt\n",
    "import numpy as np\n",
    "import PIL\n",
    "import pandas as pd\n",
    "import geopandas as gpd\n",
    "\n",
    "import open_cp.sources.chicago as chicago\n",
    "\n",
    "import sys, os, csv, lzma\n",
    "filename = os.path.join(\"..\", \"open_cp\", \"sources\", \"chicago.csv\")\n",
    "filename_all = os.path.join(\"..\", \"open_cp\", \"sources\", \"chicago_all.csv.xz\")\n",
    "filename_all1 = os.path.join(\"..\", \"open_cp\", \"sources\", \"chicago_all1.csv.xz\")"
   ]
  },
  {
   "cell_type": "markdown",
   "metadata": {},
   "source": [
    "Let us look at the snapshot of the last year, vs the total dataset.  The data appears to be the same, though the exact format changes."
   ]
  },
  {
   "cell_type": "code",
   "execution_count": 3,
   "metadata": {
    "collapsed": false
   },
   "outputs": [
    {
     "name": "stdout",
     "output_type": "stream",
     "text": [
      "['CASE#', 'DATE  OF OCCURRENCE', 'BLOCK', ' IUCR', ' PRIMARY DESCRIPTION', ' SECONDARY DESCRIPTION', ' LOCATION DESCRIPTION', 'ARREST', 'DOMESTIC', 'BEAT', 'WARD', 'FBI CD', 'X COORDINATE', 'Y COORDINATE', 'LATITUDE', 'LONGITUDE', 'LOCATION']\n",
      "['HZ560767', '12/22/2016 02:55:00 AM', '010XX N CENTRAL PARK AVE', '4387', 'OTHER OFFENSE', 'VIOLATE ORDER OF PROTECTION', 'APARTMENT', 'N', 'Y', '1112', '27', '26', '1152189', '1906649', '41.899712716', '-87.716454159', '(41.899712716, -87.716454159)']\n"
     ]
    }
   ],
   "source": [
    "with open(filename, \"rt\") as file:\n",
    "    reader = csv.reader(file)\n",
    "    print(next(reader))\n",
    "    print(next(reader))"
   ]
  },
  {
   "cell_type": "code",
   "execution_count": 4,
   "metadata": {
    "collapsed": false
   },
   "outputs": [
    {
     "name": "stdout",
     "output_type": "stream",
     "text": [
      "['ID', 'Case Number', 'Date', 'Block', 'IUCR', 'Primary Type', 'Description', 'Location Description', 'Arrest', 'Domestic', 'Beat', 'District', 'Ward', 'Community Area', 'FBI Code', 'X Coordinate', 'Y Coordinate', 'Year', 'Updated On', 'Latitude', 'Longitude', 'Location']\n",
      "['8651563', 'HV322174', '06/05/2012 11:00:00 AM', '022XX N CANNON DR', '0810', 'THEFT', 'OVER $500', 'STREET', 'false', 'false', '1814', '018', '43', '7', '06', '1175057', '1915111', '2012', '02/04/2016 06:33:39 AM', '41.922450893', '-87.632206293', '(41.922450893, -87.632206293)']\n"
     ]
    }
   ],
   "source": [
    "with lzma.open(filename_all, \"rt\") as file:\n",
    "    reader = csv.reader(file)\n",
    "    print(next(reader))\n",
    "    print(next(reader))"
   ]
  },
  {
   "cell_type": "markdown",
   "metadata": {},
   "source": [
    "As well as loading data directly into a `TimedPoints` class, we can process a sub-set of the data to GeoJSON, or straight to a geopandas dataframe (if geopandas is installed)."
   ]
  },
  {
   "cell_type": "code",
   "execution_count": 5,
   "metadata": {
    "collapsed": false
   },
   "outputs": [
    {
     "data": {
      "text/plain": [
       "{'geometry': {'coordinates': [-87.716454159, 41.899712716], 'type': 'Point'},\n",
       " 'properties': {'address': '010XX N CENTRAL PARK AVE',\n",
       "  'case': 'HZ560767',\n",
       "  'crime': 'OTHER OFFENSE',\n",
       "  'location': 'APARTMENT',\n",
       "  'timestamp': '2016-12-22T02:55:00',\n",
       "  'type': 'VIOLATE ORDER OF PROTECTION'},\n",
       " 'type': 'Feature'}"
      ]
     },
     "execution_count": 5,
     "metadata": {},
     "output_type": "execute_result"
    }
   ],
   "source": [
    "geo_data = chicago.load_to_GeoJSON()\n",
    "geo_data[0]"
   ]
  },
  {
   "cell_type": "code",
   "execution_count": 6,
   "metadata": {
    "collapsed": false
   },
   "outputs": [
    {
     "data": {
      "text/html": [
       "<div>\n",
       "<table border=\"1\" class=\"dataframe\">\n",
       "  <thead>\n",
       "    <tr style=\"text-align: right;\">\n",
       "      <th></th>\n",
       "      <th>address</th>\n",
       "      <th>case</th>\n",
       "      <th>crime</th>\n",
       "      <th>geometry</th>\n",
       "      <th>location</th>\n",
       "      <th>timestamp</th>\n",
       "      <th>type</th>\n",
       "    </tr>\n",
       "  </thead>\n",
       "  <tbody>\n",
       "    <tr>\n",
       "      <th>0</th>\n",
       "      <td>010XX N CENTRAL PARK AVE</td>\n",
       "      <td>HZ560767</td>\n",
       "      <td>OTHER OFFENSE</td>\n",
       "      <td>POINT (-87.71645415899999 41.899712716)</td>\n",
       "      <td>APARTMENT</td>\n",
       "      <td>2016-12-22T02:55:00</td>\n",
       "      <td>VIOLATE ORDER OF PROTECTION</td>\n",
       "    </tr>\n",
       "    <tr>\n",
       "      <th>1</th>\n",
       "      <td>051XX S WASHTENAW AVE</td>\n",
       "      <td>HZ561134</td>\n",
       "      <td>BATTERY</td>\n",
       "      <td>POINT (-87.691539994 41.800445234)</td>\n",
       "      <td>RESIDENTIAL YARD (FRONT/BACK)</td>\n",
       "      <td>2016-12-22T11:17:00</td>\n",
       "      <td>AGGRAVATED: OTHER FIREARM</td>\n",
       "    </tr>\n",
       "    <tr>\n",
       "      <th>2</th>\n",
       "      <td>059XX W DIVERSEY AVE</td>\n",
       "      <td>HZ565584</td>\n",
       "      <td>DECEPTIVE PRACTICE</td>\n",
       "      <td>POINT (-87.774165121 41.931166274)</td>\n",
       "      <td>RESIDENCE</td>\n",
       "      <td>2016-12-09T12:00:00</td>\n",
       "      <td>FINANCIAL IDENTITY THEFT $300 AND UNDER</td>\n",
       "    </tr>\n",
       "    <tr>\n",
       "      <th>3</th>\n",
       "      <td>001XX N STATE ST</td>\n",
       "      <td>HZ561772</td>\n",
       "      <td>THEFT</td>\n",
       "      <td>POINT (-87.62787669799999 41.883500187)</td>\n",
       "      <td>DEPARTMENT STORE</td>\n",
       "      <td>2016-12-22T18:50:00</td>\n",
       "      <td>RETAIL THEFT</td>\n",
       "    </tr>\n",
       "    <tr>\n",
       "      <th>4</th>\n",
       "      <td>008XX N MICHIGAN AVE</td>\n",
       "      <td>HZ561969</td>\n",
       "      <td>THEFT</td>\n",
       "      <td>POINT (-87.624095634 41.897982937)</td>\n",
       "      <td>SMALL RETAIL STORE</td>\n",
       "      <td>2016-12-22T19:20:00</td>\n",
       "      <td>RETAIL THEFT</td>\n",
       "    </tr>\n",
       "  </tbody>\n",
       "</table>\n",
       "</div>"
      ],
      "text/plain": [
       "                    address      case               crime  \\\n",
       "0  010XX N CENTRAL PARK AVE  HZ560767       OTHER OFFENSE   \n",
       "1     051XX S WASHTENAW AVE  HZ561134             BATTERY   \n",
       "2      059XX W DIVERSEY AVE  HZ565584  DECEPTIVE PRACTICE   \n",
       "3          001XX N STATE ST  HZ561772               THEFT   \n",
       "4      008XX N MICHIGAN AVE  HZ561969               THEFT   \n",
       "\n",
       "                                  geometry                       location  \\\n",
       "0  POINT (-87.71645415899999 41.899712716)                      APARTMENT   \n",
       "1       POINT (-87.691539994 41.800445234)  RESIDENTIAL YARD (FRONT/BACK)   \n",
       "2       POINT (-87.774165121 41.931166274)                      RESIDENCE   \n",
       "3  POINT (-87.62787669799999 41.883500187)               DEPARTMENT STORE   \n",
       "4       POINT (-87.624095634 41.897982937)             SMALL RETAIL STORE   \n",
       "\n",
       "             timestamp                                     type  \n",
       "0  2016-12-22T02:55:00              VIOLATE ORDER OF PROTECTION  \n",
       "1  2016-12-22T11:17:00                AGGRAVATED: OTHER FIREARM  \n",
       "2  2016-12-09T12:00:00  FINANCIAL IDENTITY THEFT $300 AND UNDER  \n",
       "3  2016-12-22T18:50:00                             RETAIL THEFT  \n",
       "4  2016-12-22T19:20:00                             RETAIL THEFT  "
      ]
     },
     "execution_count": 6,
     "metadata": {},
     "output_type": "execute_result"
    }
   ],
   "source": [
    "frame = chicago.load_to_geoDataFrame()\n",
    "frame.head()"
   ]
  },
  {
   "cell_type": "markdown",
   "metadata": {},
   "source": [
    "## Explore with QGIS\n",
    "\n",
    "If geoPandas is installed, we can save the dataframe to a shape-file which can be viewed in e.g. QGIS.\n",
    "\n",
    "To explore the spatial-distribution, I would recommend using an interactive GIS package.  Using QGIS (free and open source) you can easily add a basemap using GoogleMaps or OpenStreetMap, etc.  See http://maps.cga.harvard.edu/qgis/wkshop/basemap.php\n",
    "\n",
    "I found this to be slightly buggy.  On Windows, QGIS 2.18.7 I found that the following worked:\n",
    "- First open the `chicago.shp` file produced from the line above.\n",
    "- Select the Coordinate reference system \"WGS 84 / EPSG:4326\"\n",
    "- Now go to the menu \"Web\" -> \"OpenLayers plugin\" -> Whatever\n",
    "- The projection should change to EPSG:3857.  The basemap will obscure the point map, so in the \"Layers Panel\" drag the basemap to the bottom.\n",
    "- Selecting EPSG:3857 at import time doesn't seem to work (which is different to the instructions..!)"
   ]
  },
  {
   "cell_type": "code",
   "execution_count": 7,
   "metadata": {
    "collapsed": false
   },
   "outputs": [],
   "source": [
    "frame.to_file(\"chicago\")"
   ]
  },
  {
   "cell_type": "markdown",
   "metadata": {},
   "source": [
    "## Check the total data sets agree\n",
    "\n",
    "The files `filename` and `filename1` were downloaded from, respectively, the US Gov website, and the Chicago site.  They are slightly different in size, but appear to contain the same data.  (This can be checked!)\n",
    "\n",
    "The files `filename_all` and `filename_all1` were also downloaded from, respectively, the US Gov website, and the Chicago site.  While they are the same size (uncompressed), and have the same headers, the data appears, at least naively, to be different."
   ]
  },
  {
   "cell_type": "code",
   "execution_count": 8,
   "metadata": {
    "collapsed": false
   },
   "outputs": [
    {
     "name": "stdout",
     "output_type": "stream",
     "text": [
      "ID,Case Number,Date,Block,IUCR,Primary Type,Description,Location Description,Arrest,Domestic,Beat,District,Ward,Community Area,FBI Code,X Coordinate,Y Coordinate,Year,Updated On,Latitude,Longitude,Location\n",
      "\n",
      "ID,Case Number,Date,Block,IUCR,Primary Type,Description,Location Description,Arrest,Domestic,Beat,District,Ward,Community Area,FBI Code,X Coordinate,Y Coordinate,Year,Updated On,Latitude,Longitude,Location\n",
      "\n"
     ]
    }
   ],
   "source": [
    "with lzma.open(filename_all, \"rt\") as file:\n",
    "    print(next(file))\n",
    "with lzma.open(filename_all1, \"rt\") as file:\n",
    "    print(next(file))    "
   ]
  },
  {
   "cell_type": "code",
   "execution_count": 9,
   "metadata": {
    "collapsed": false
   },
   "outputs": [
    {
     "name": "stdout",
     "output_type": "stream",
     "text": [
      "8651563,HV322174,06/05/2012 11:00:00 AM,022XX N CANNON DR,0810,THEFT,OVER $500,STREET,false,false,1814,018,43,7,06,1175057,1915111,2012,02/04/2016 06:33:39 AM,41.922450893,-87.632206293,\"(41.922450893, -87.632206293)\"\n",
      "\n",
      "9257701,HW403120,08/11/2013 12:40:00 PM,039XX W WILCOX ST,2024,NARCOTICS,POSS: HEROIN(WHITE),ALLEY,true,false,1122,011,28,26,18,1150094,1899044,2013,02/04/2016 06:33:39 AM,41.878884869,-87.724347406,\"(41.878884869, -87.724347406)\"\n",
      "\n"
     ]
    }
   ],
   "source": [
    "with lzma.open(filename_all, \"rt\") as file:\n",
    "    next(file); print(next(file))\n",
    "with lzma.open(filename_all1, \"rt\") as file:\n",
    "    next(file); print(next(file))  "
   ]
  },
  {
   "cell_type": "code",
   "execution_count": 4,
   "metadata": {
    "collapsed": false
   },
   "outputs": [],
   "source": [
    "# NB: These methods encode a missing geometry and (-1, -1)\n",
    "\n",
    "def load_as_tuples(f):\n",
    "    events = []\n",
    "    for feature in chicago.generate_GeoJSON_Features(f, type=\"all\"):\n",
    "        props = feature[\"properties\"]\n",
    "        if props[\"crime\"] == \"HOMICIDE\":\n",
    "            continue\n",
    "        coords = feature[\"geometry\"]\n",
    "        if coords is None:\n",
    "            coords = (-1, -1)\n",
    "        else:\n",
    "            coords = coords[\"coordinates\"]\n",
    "        event = (props[\"case\"], props[\"crime\"], props[\"type\"], props[\"location\"],\n",
    "                 props[\"timestamp\"], props[\"address\"], coords[0], coords[1])\n",
    "        events.append(event)\n",
    "    return events\n",
    "\n",
    "def load_as_dict_to_lists(f):\n",
    "    events = dict()\n",
    "    for feature in chicago.generate_GeoJSON_Features(f, type=\"all\"):\n",
    "        props = feature[\"properties\"]\n",
    "        if props[\"crime\"] == \"HOMICIDE\":\n",
    "            continue\n",
    "        coords = feature[\"geometry\"]\n",
    "        if coords is None:\n",
    "            coords = (-1, -1)\n",
    "        else:\n",
    "            coords = coords[\"coordinates\"]\n",
    "        case = props[\"case\"]\n",
    "        if case not in events:\n",
    "            events[case] = []\n",
    "        event = (props[\"crime\"], props[\"type\"], props[\"location\"],\n",
    "                 props[\"timestamp\"], props[\"address\"], coords[0], coords[1])\n",
    "        events[case].append(event)\n",
    "    return events    "
   ]
  },
  {
   "cell_type": "code",
   "execution_count": 11,
   "metadata": {
    "collapsed": false
   },
   "outputs": [
    {
     "name": "stdout",
     "output_type": "stream",
     "text": [
      "events: 6320160\n",
      "events: 6320160\n"
     ]
    }
   ],
   "source": [
    "with lzma.open(filename_all, \"rt\") as file:\n",
    "    events = load_as_dict_to_lists(file)\n",
    "    print(\"events:\", len(events))\n",
    "with lzma.open(filename_all1, \"rt\") as file:\n",
    "    events1 = load_as_dict_to_lists(file)\n",
    "    print(\"events:\", len(events1))"
   ]
  },
  {
   "cell_type": "code",
   "execution_count": 12,
   "metadata": {
    "collapsed": false
   },
   "outputs": [],
   "source": [
    "diffs = dict()\n",
    "\n",
    "for case in set(events.keys()):\n",
    "    if len(events[case]) == 1 and case in events1 and len(events1[case])==1:\n",
    "        if not events[case] == events1[case]:\n",
    "            diffs[case] = (events[case], events1[case])\n",
    "        del events[case]\n",
    "        del events1[case]"
   ]
  },
  {
   "cell_type": "code",
   "execution_count": 13,
   "metadata": {
    "collapsed": false
   },
   "outputs": [
    {
     "data": {
      "text/plain": [
       "0"
      ]
     },
     "execution_count": 13,
     "metadata": {},
     "output_type": "execute_result"
    }
   ],
   "source": [
    "len(diffs)"
   ]
  },
  {
   "cell_type": "code",
   "execution_count": 14,
   "metadata": {
    "collapsed": false
   },
   "outputs": [
    {
     "data": {
      "text/plain": [
       "True"
      ]
     },
     "execution_count": 14,
     "metadata": {},
     "output_type": "execute_result"
    }
   ],
   "source": [
    "events.keys() == events1.keys()"
   ]
  },
  {
   "cell_type": "code",
   "execution_count": 15,
   "metadata": {
    "collapsed": false
   },
   "outputs": [],
   "source": [
    "for key in events:\n",
    "    assert set(events['']) == set(events1[''])"
   ]
  },
  {
   "cell_type": "markdown",
   "metadata": {},
   "source": [
    "# A geoPandas example\n",
    "\n",
    "Let's use the \"generator of GeoJSON\" option shown above to pick out only BURGLARY crimes from the 2001-- dataset (which is too large to easily load into a dataframe in one go)."
   ]
  },
  {
   "cell_type": "code",
   "execution_count": 77,
   "metadata": {
    "collapsed": false
   },
   "outputs": [
    {
     "data": {
      "text/html": [
       "<div>\n",
       "<table border=\"1\" class=\"dataframe\">\n",
       "  <thead>\n",
       "    <tr style=\"text-align: right;\">\n",
       "      <th></th>\n",
       "      <th>address</th>\n",
       "      <th>case</th>\n",
       "      <th>crime</th>\n",
       "      <th>geometry</th>\n",
       "      <th>location</th>\n",
       "      <th>timestamp</th>\n",
       "      <th>type</th>\n",
       "    </tr>\n",
       "  </thead>\n",
       "  <tbody>\n",
       "    <tr>\n",
       "      <th>0</th>\n",
       "      <td>022XX N CANNON DR</td>\n",
       "      <td>HV322174</td>\n",
       "      <td>THEFT</td>\n",
       "      <td>POINT (-87.632206293 41.922450893)</td>\n",
       "      <td>STREET</td>\n",
       "      <td>2012-06-05T11:00:00</td>\n",
       "      <td>OVER $500</td>\n",
       "    </tr>\n",
       "    <tr>\n",
       "      <th>1</th>\n",
       "      <td>077XX S EUCLID AVE</td>\n",
       "      <td>HV326989</td>\n",
       "      <td>THEFT</td>\n",
       "      <td>POINT (-87.57727330199999 41.754642143)</td>\n",
       "      <td>RESIDENCE</td>\n",
       "      <td>2012-05-01T01:00:00</td>\n",
       "      <td>AGG: FINANCIAL ID THEFT</td>\n",
       "    </tr>\n",
       "    <tr>\n",
       "      <th>2</th>\n",
       "      <td>068XX S WASHTENAW AVE</td>\n",
       "      <td>HV326720</td>\n",
       "      <td>THEFT</td>\n",
       "      <td>POINT (-87.690703078 41.769306564)</td>\n",
       "      <td>APARTMENT</td>\n",
       "      <td>2012-06-09T02:00:00</td>\n",
       "      <td>FROM BUILDING</td>\n",
       "    </tr>\n",
       "    <tr>\n",
       "      <th>3</th>\n",
       "      <td>019XX N CICERO AVE</td>\n",
       "      <td>HV326202</td>\n",
       "      <td>THEFT</td>\n",
       "      <td>POINT (-87.746056778 41.915729613)</td>\n",
       "      <td>DEPARTMENT STORE</td>\n",
       "      <td>2012-06-08T16:30:00</td>\n",
       "      <td>$500 AND UNDER</td>\n",
       "    </tr>\n",
       "    <tr>\n",
       "      <th>4</th>\n",
       "      <td>034XX N HALSTED ST</td>\n",
       "      <td>HV327230</td>\n",
       "      <td>THEFT</td>\n",
       "      <td>POINT (-87.64941621200001 41.944953005)</td>\n",
       "      <td>BAR OR TAVERN</td>\n",
       "      <td>2012-06-10T02:30:00</td>\n",
       "      <td>POCKET-PICKING</td>\n",
       "    </tr>\n",
       "  </tbody>\n",
       "</table>\n",
       "</div>"
      ],
      "text/plain": [
       "                 address      case  crime  \\\n",
       "0      022XX N CANNON DR  HV322174  THEFT   \n",
       "1     077XX S EUCLID AVE  HV326989  THEFT   \n",
       "2  068XX S WASHTENAW AVE  HV326720  THEFT   \n",
       "3     019XX N CICERO AVE  HV326202  THEFT   \n",
       "4     034XX N HALSTED ST  HV327230  THEFT   \n",
       "\n",
       "                                  geometry          location  \\\n",
       "0       POINT (-87.632206293 41.922450893)            STREET   \n",
       "1  POINT (-87.57727330199999 41.754642143)         RESIDENCE   \n",
       "2       POINT (-87.690703078 41.769306564)         APARTMENT   \n",
       "3       POINT (-87.746056778 41.915729613)  DEPARTMENT STORE   \n",
       "4  POINT (-87.64941621200001 41.944953005)     BAR OR TAVERN   \n",
       "\n",
       "             timestamp                     type  \n",
       "0  2012-06-05T11:00:00                OVER $500  \n",
       "1  2012-05-01T01:00:00  AGG: FINANCIAL ID THEFT  \n",
       "2  2012-06-09T02:00:00            FROM BUILDING  \n",
       "3  2012-06-08T16:30:00           $500 AND UNDER  \n",
       "4  2012-06-10T02:30:00           POCKET-PICKING  "
      ]
     },
     "execution_count": 77,
     "metadata": {},
     "output_type": "execute_result"
    }
   ],
   "source": [
    "with lzma.open(filename_all, \"rt\") as file:\n",
    "    features = [ event for event in chicago.generate_GeoJSON_Features(file, type=\"all\")\n",
    "                if event[\"properties\"][\"crime\"] == \"THEFT\" ]\n",
    "    \n",
    "frame = gpd.GeoDataFrame.from_features(features)\n",
    "frame.crs = {\"init\":\"EPSG:4326\"} # Lon/Lat native coords\n",
    "frame.head()"
   ]
  },
  {
   "cell_type": "code",
   "execution_count": 82,
   "metadata": {
    "collapsed": false
   },
   "outputs": [],
   "source": [
    "frame.to_file(\"chicago_all_theft\")"
   ]
  },
  {
   "cell_type": "code",
   "execution_count": 62,
   "metadata": {
    "collapsed": false,
    "scrolled": true
   },
   "outputs": [
    {
     "data": {
      "text/html": [
       "<div>\n",
       "<table border=\"1\" class=\"dataframe\">\n",
       "  <thead>\n",
       "    <tr style=\"text-align: right;\">\n",
       "      <th></th>\n",
       "      <th>address</th>\n",
       "      <th>case</th>\n",
       "      <th>crime</th>\n",
       "      <th>geometry</th>\n",
       "      <th>location</th>\n",
       "      <th>timestamp</th>\n",
       "      <th>type</th>\n",
       "    </tr>\n",
       "  </thead>\n",
       "  <tbody>\n",
       "    <tr>\n",
       "      <th>0</th>\n",
       "      <td>003XX W 94TH PL</td>\n",
       "      <td>HV327134</td>\n",
       "      <td>BURGLARY</td>\n",
       "      <td>POINT (-87.632356731 41.723006487)</td>\n",
       "      <td>RESIDENCE</td>\n",
       "      <td>2012-06-09T23:30:00</td>\n",
       "      <td>FORCIBLE ENTRY</td>\n",
       "    </tr>\n",
       "    <tr>\n",
       "      <th>1</th>\n",
       "      <td>011XX N HERMITAGE AVE</td>\n",
       "      <td>HV327217</td>\n",
       "      <td>BURGLARY</td>\n",
       "      <td>POINT (-87.671145473 41.902514714)</td>\n",
       "      <td>RESIDENCE</td>\n",
       "      <td>2012-06-06T12:00:00</td>\n",
       "      <td>FORCIBLE ENTRY</td>\n",
       "    </tr>\n",
       "    <tr>\n",
       "      <th>2</th>\n",
       "      <td>047XX W WEST END AVE</td>\n",
       "      <td>HV327110</td>\n",
       "      <td>BURGLARY</td>\n",
       "      <td>POINT (-87.743935241 41.883144607)</td>\n",
       "      <td>RESIDENCE</td>\n",
       "      <td>2012-06-09T01:30:00</td>\n",
       "      <td>FORCIBLE ENTRY</td>\n",
       "    </tr>\n",
       "    <tr>\n",
       "      <th>3</th>\n",
       "      <td>038XX S SACRAMENTO AVE</td>\n",
       "      <td>HV327153</td>\n",
       "      <td>BURGLARY</td>\n",
       "      <td>POINT (-87.69951882399999 41.823319195)</td>\n",
       "      <td>APARTMENT</td>\n",
       "      <td>2012-06-09T12:00:00</td>\n",
       "      <td>UNLAWFUL ENTRY</td>\n",
       "    </tr>\n",
       "    <tr>\n",
       "      <th>4</th>\n",
       "      <td>013XX W 91ST ST</td>\n",
       "      <td>HV327223</td>\n",
       "      <td>BURGLARY</td>\n",
       "      <td>POINT (-87.65724045 41.72858934)</td>\n",
       "      <td>RESIDENCE</td>\n",
       "      <td>2012-06-09T02:00:00</td>\n",
       "      <td>FORCIBLE ENTRY</td>\n",
       "    </tr>\n",
       "  </tbody>\n",
       "</table>\n",
       "</div>"
      ],
      "text/plain": [
       "                  address      case     crime  \\\n",
       "0         003XX W 94TH PL  HV327134  BURGLARY   \n",
       "1   011XX N HERMITAGE AVE  HV327217  BURGLARY   \n",
       "2    047XX W WEST END AVE  HV327110  BURGLARY   \n",
       "3  038XX S SACRAMENTO AVE  HV327153  BURGLARY   \n",
       "4         013XX W 91ST ST  HV327223  BURGLARY   \n",
       "\n",
       "                                  geometry   location            timestamp  \\\n",
       "0       POINT (-87.632356731 41.723006487)  RESIDENCE  2012-06-09T23:30:00   \n",
       "1       POINT (-87.671145473 41.902514714)  RESIDENCE  2012-06-06T12:00:00   \n",
       "2       POINT (-87.743935241 41.883144607)  RESIDENCE  2012-06-09T01:30:00   \n",
       "3  POINT (-87.69951882399999 41.823319195)  APARTMENT  2012-06-09T12:00:00   \n",
       "4         POINT (-87.65724045 41.72858934)  RESIDENCE  2012-06-09T02:00:00   \n",
       "\n",
       "             type  \n",
       "0  FORCIBLE ENTRY  \n",
       "1  FORCIBLE ENTRY  \n",
       "2  FORCIBLE ENTRY  \n",
       "3  UNLAWFUL ENTRY  \n",
       "4  FORCIBLE ENTRY  "
      ]
     },
     "execution_count": 62,
     "metadata": {},
     "output_type": "execute_result"
    }
   ],
   "source": [
    "with lzma.open(filename_all, \"rt\") as file:\n",
    "    features = [ event for event in chicago.generate_GeoJSON_Features(file, type=\"all\")\n",
    "                if event[\"properties\"][\"crime\"] == \"BURGLARY\" ]\n",
    "\n",
    "frame = gpd.GeoDataFrame.from_features(features)\n",
    "frame.crs = {\"init\":\"EPSG:4326\"} # Lon/Lat native coords\n",
    "frame.head()"
   ]
  },
  {
   "cell_type": "code",
   "execution_count": 17,
   "metadata": {
    "collapsed": false
   },
   "outputs": [
    {
     "data": {
      "text/plain": [
       "array(['FORCIBLE ENTRY', 'UNLAWFUL ENTRY', 'ATTEMPT FORCIBLE ENTRY',\n",
       "       'HOME INVASION'], dtype=object)"
      ]
     },
     "execution_count": 17,
     "metadata": {},
     "output_type": "execute_result"
    }
   ],
   "source": [
    "frame[\"type\"].unique()"
   ]
  },
  {
   "cell_type": "code",
   "execution_count": 18,
   "metadata": {
    "collapsed": false,
    "scrolled": true
   },
   "outputs": [
    {
     "data": {
      "text/plain": [
       "array(['RESIDENCE', 'APARTMENT', 'DEPARTMENT STORE', 'RESIDENCE-GARAGE',\n",
       "       'SCHOOL, PUBLIC, BUILDING', 'SMALL RETAIL STORE',\n",
       "       'CONSTRUCTION SITE', 'CHA PARKING LOT/GROUNDS',\n",
       "       'CHURCH/SYNAGOGUE/PLACE OF WORSHIP', 'APPLIANCE STORE',\n",
       "       'RESTAURANT', 'CHA APARTMENT', 'CLEANING STORE',\n",
       "       'GROCERY FOOD STORE', 'OTHER', 'DAY CARE CENTER',\n",
       "       'RESIDENTIAL YARD (FRONT/BACK)', 'COMMERCIAL / BUSINESS OFFICE',\n",
       "       'ABANDONED BUILDING', 'BARBERSHOP',\n",
       "       'PARKING LOT/GARAGE(NON.RESID.)', 'WAREHOUSE', 'VACANT LOT/LAND',\n",
       "       'BAR OR TAVERN', 'PARK PROPERTY', 'CTA GARAGE / OTHER PROPERTY',\n",
       "       'RESIDENCE PORCH/HALLWAY', 'BANK', 'FEDERAL BUILDING', 'STREET',\n",
       "       'OTHER RAILROAD PROP / TRAIN DEPOT', 'GAS STATION',\n",
       "       'MEDICAL/DENTAL OFFICE', 'CAR WASH', 'MOVIE HOUSE/THEATER',\n",
       "       'CONVENIENCE STORE', 'HOTEL/MOTEL', 'DRIVEWAY - RESIDENTIAL',\n",
       "       'SCHOOL, PRIVATE, BUILDING', 'ALLEY', 'SCHOOL, PUBLIC, GROUNDS',\n",
       "       'CURRENCY EXCHANGE', 'HOSPITAL BUILDING/GROUNDS',\n",
       "       'COLLEGE/UNIVERSITY GROUNDS', 'FACTORY/MANUFACTURING BUILDING',\n",
       "       'TAVERN/LIQUOR STORE', 'GOVERNMENT BUILDING/PROPERTY',\n",
       "       'VEHICLE NON-COMMERCIAL', 'LIBRARY', 'VEHICLE-COMMERCIAL',\n",
       "       'POOL ROOM', 'SCHOOL, PRIVATE, GROUNDS',\n",
       "       'LAKEFRONT/WATERFRONT/RIVERBANK', 'DRUG STORE', 'CEMETARY',\n",
       "       'NURSING HOME/RETIREMENT HOME', 'SIDEWALK',\n",
       "       'COLLEGE/UNIVERSITY RESIDENCE HALL', 'ATHLETIC CLUB',\n",
       "       'BOAT/WATERCRAFT', 'ANIMAL HOSPITAL', 'COIN OPERATED MACHINE',\n",
       "       'FIRE STATION', 'CHA HALLWAY/STAIRWELL/ELEVATOR', 'FOREST PRESERVE',\n",
       "       'OTHER COMMERCIAL TRANSPORTATION', 'PAWN SHOP',\n",
       "       'SPORTS ARENA/STADIUM', 'BOWLING ALLEY',\n",
       "       'POLICE FACILITY/VEH PARKING LOT', 'SAVINGS AND LOAN',\n",
       "       'CTA PLATFORM', 'CREDIT UNION', 'ATM (AUTOMATIC TELLER MACHINE)',\n",
       "       'NEWSSTAND', 'CTA TRACKS - RIGHT OF WAY', 'CTA STATION', '',\n",
       "       'HIGHWAY/EXPRESSWAY', 'AIRPORT/AIRCRAFT', 'BRIDGE',\n",
       "       'DELIVERY TRUCK', 'AIRPORT TERMINAL UPPER LEVEL - SECURE AREA',\n",
       "       'CTA BUS', 'TAXICAB', 'VEHICLE - OTHER RIDE SERVICE',\n",
       "       'AIRPORT TERMINAL LOWER LEVEL - NON-SECURE AREA', 'CTA BUS STOP',\n",
       "       'CTA TRAIN', 'AIRPORT EXTERIOR - NON-SECURE AREA'], dtype=object)"
      ]
     },
     "execution_count": 18,
     "metadata": {},
     "output_type": "execute_result"
    }
   ],
   "source": [
    "frame[\"location\"].unique()"
   ]
  },
  {
   "cell_type": "code",
   "execution_count": 19,
   "metadata": {
    "collapsed": false
   },
   "outputs": [],
   "source": [
    "frame.to_file(\"chicago_all_burglary\")"
   ]
  },
  {
   "cell_type": "markdown",
   "metadata": {},
   "source": [
    "Upon loading into QGIS to visualise, we find that the 2001 data seems to be geocoded in a different way...  The events are not on the road, and the distribution looks less artificial.  Let's extract the 2001 burglary data, and then the all the 2001 data, and save."
   ]
  },
  {
   "cell_type": "code",
   "execution_count": 20,
   "metadata": {
    "collapsed": false
   },
   "outputs": [],
   "source": [
    "frame2001 = frame[frame.timestamp.map(lambda s : s.startswith(\"2001\"))]"
   ]
  },
  {
   "cell_type": "code",
   "execution_count": 21,
   "metadata": {
    "collapsed": true
   },
   "outputs": [],
   "source": [
    "frame2001.to_file(\"chicago_2001_burglary\")"
   ]
  },
  {
   "cell_type": "code",
   "execution_count": 22,
   "metadata": {
    "collapsed": false
   },
   "outputs": [
    {
     "data": {
      "text/html": [
       "<div>\n",
       "<table border=\"1\" class=\"dataframe\">\n",
       "  <thead>\n",
       "    <tr style=\"text-align: right;\">\n",
       "      <th></th>\n",
       "      <th>address</th>\n",
       "      <th>case</th>\n",
       "      <th>crime</th>\n",
       "      <th>geometry</th>\n",
       "      <th>location</th>\n",
       "      <th>timestamp</th>\n",
       "      <th>type</th>\n",
       "    </tr>\n",
       "  </thead>\n",
       "  <tbody>\n",
       "    <tr>\n",
       "      <th>0</th>\n",
       "      <td>079XX S CAMPBELL AVE</td>\n",
       "      <td>G397434</td>\n",
       "      <td>HOMICIDE</td>\n",
       "      <td>POINT (-87.685268108 41.749135591)</td>\n",
       "      <td>STREET</td>\n",
       "      <td>2001-08-09T19:30:00</td>\n",
       "      <td>FIRST DEGREE MURDER</td>\n",
       "    </tr>\n",
       "    <tr>\n",
       "      <th>1</th>\n",
       "      <td>048XX W KAMERLING AVE</td>\n",
       "      <td>G473112</td>\n",
       "      <td>HOMICIDE</td>\n",
       "      <td>POINT (-87.746889161 41.905072512)</td>\n",
       "      <td>STREET</td>\n",
       "      <td>2001-08-10T01:04:00</td>\n",
       "      <td>FIRST DEGREE MURDER</td>\n",
       "    </tr>\n",
       "    <tr>\n",
       "      <th>2</th>\n",
       "      <td>009XX N LAMON AVE</td>\n",
       "      <td>G477463</td>\n",
       "      <td>HOMICIDE</td>\n",
       "      <td>POINT (-87.74830887500001 41.897236716)</td>\n",
       "      <td>STREET</td>\n",
       "      <td>2001-08-11T23:06:00</td>\n",
       "      <td>FIRST DEGREE MURDER</td>\n",
       "    </tr>\n",
       "    <tr>\n",
       "      <th>3</th>\n",
       "      <td>036XX W OHIO ST</td>\n",
       "      <td>G476774</td>\n",
       "      <td>HOMICIDE</td>\n",
       "      <td>POINT (-87.717959287 41.891770726)</td>\n",
       "      <td>APARTMENT</td>\n",
       "      <td>2001-08-12T18:17:00</td>\n",
       "      <td>FIRST DEGREE MURDER</td>\n",
       "    </tr>\n",
       "    <tr>\n",
       "      <th>4</th>\n",
       "      <td>019XX S RACINE AVE</td>\n",
       "      <td>G477822</td>\n",
       "      <td>HOMICIDE</td>\n",
       "      <td>POINT (-87.656374568 41.85626764)</td>\n",
       "      <td>AUTO</td>\n",
       "      <td>2001-08-12T04:35:00</td>\n",
       "      <td>FIRST DEGREE MURDER</td>\n",
       "    </tr>\n",
       "  </tbody>\n",
       "</table>\n",
       "</div>"
      ],
      "text/plain": [
       "                 address     case     crime  \\\n",
       "0   079XX S CAMPBELL AVE  G397434  HOMICIDE   \n",
       "1  048XX W KAMERLING AVE  G473112  HOMICIDE   \n",
       "2      009XX N LAMON AVE  G477463  HOMICIDE   \n",
       "3        036XX W OHIO ST  G476774  HOMICIDE   \n",
       "4     019XX S RACINE AVE  G477822  HOMICIDE   \n",
       "\n",
       "                                  geometry   location            timestamp  \\\n",
       "0       POINT (-87.685268108 41.749135591)     STREET  2001-08-09T19:30:00   \n",
       "1       POINT (-87.746889161 41.905072512)     STREET  2001-08-10T01:04:00   \n",
       "2  POINT (-87.74830887500001 41.897236716)     STREET  2001-08-11T23:06:00   \n",
       "3       POINT (-87.717959287 41.891770726)  APARTMENT  2001-08-12T18:17:00   \n",
       "4        POINT (-87.656374568 41.85626764)       AUTO  2001-08-12T04:35:00   \n",
       "\n",
       "                  type  \n",
       "0  FIRST DEGREE MURDER  \n",
       "1  FIRST DEGREE MURDER  \n",
       "2  FIRST DEGREE MURDER  \n",
       "3  FIRST DEGREE MURDER  \n",
       "4  FIRST DEGREE MURDER  "
      ]
     },
     "execution_count": 22,
     "metadata": {},
     "output_type": "execute_result"
    }
   ],
   "source": [
    "with lzma.open(filename_all, \"rt\") as file:\n",
    "    features = [ event for event in chicago.generate_GeoJSON_Features(file, type=\"all\")\n",
    "                if event[\"properties\"][\"timestamp\"].startswith(\"2001\") ]\n",
    "\n",
    "frame = gpd.GeoDataFrame.from_features(features)\n",
    "frame.crs = {\"init\":\"EPSG:4326\"} # Lon/Lat native coords\n",
    "frame.head()"
   ]
  },
  {
   "cell_type": "code",
   "execution_count": 23,
   "metadata": {
    "collapsed": true
   },
   "outputs": [],
   "source": [
    "frame.to_file(\"chicago_2001\")"
   ]
  },
  {
   "cell_type": "markdown",
   "metadata": {
    "collapsed": true
   },
   "source": [
    "# Explore rounding errors\n",
    "\n",
    "We check the following:\n",
    "- The X and Y COORDINATES fields (which we'll see, in a different notebook, at longitude / latitude coordinates projected in EPSG:3435 in feet) are always whole numbers.\n",
    "- The longitude and latitude data contains at most 9 decimals places of accuracy.\n",
    "\n",
    "In the other notebook, we look at map projections.  The data is most consistent with the longitude / latitude coordinates being the primary source, and the X/Y projected coordinates being computed and rounded to the nearest integer."
   ]
  },
  {
   "cell_type": "code",
   "execution_count": 24,
   "metadata": {
    "collapsed": false
   },
   "outputs": [
    {
     "name": "stdout",
     "output_type": "stream",
     "text": [
      "['CASE#', 'DATE  OF OCCURRENCE', 'BLOCK', ' IUCR', ' PRIMARY DESCRIPTION', ' SECONDARY DESCRIPTION', ' LOCATION DESCRIPTION', 'ARREST', 'DOMESTIC', 'BEAT', 'WARD', 'FBI CD', 'X COORDINATE', 'Y COORDINATE', 'LATITUDE', 'LONGITUDE', 'LOCATION']\n"
     ]
    }
   ],
   "source": [
    "longs, lats = [], []\n",
    "xcs, ycs = [], []\n",
    "\n",
    "with open(filename, \"rt\") as file:\n",
    "    reader = csv.reader(file)\n",
    "    header = next(reader)\n",
    "    print(header)\n",
    "    for row in reader:\n",
    "        if len(row[14]) > 0:\n",
    "            longs.append(row[14])\n",
    "            lats.append(row[15])\n",
    "            xcs.append(row[12])\n",
    "            ycs.append(row[13])"
   ]
  },
  {
   "cell_type": "code",
   "execution_count": 25,
   "metadata": {
    "collapsed": false
   },
   "outputs": [
    {
     "data": {
      "text/plain": [
       "({8, 9, 10, 11, 12}, {8, 9, 10, 11, 12, 13})"
      ]
     },
     "execution_count": 25,
     "metadata": {},
     "output_type": "execute_result"
    }
   ],
   "source": [
    "set(len(x) for x in longs), set(len(x) for x in lats)"
   ]
  },
  {
   "cell_type": "code",
   "execution_count": 26,
   "metadata": {
    "collapsed": false
   },
   "outputs": [
    {
     "data": {
      "text/plain": [
       "(False, False)"
      ]
     },
     "execution_count": 26,
     "metadata": {},
     "output_type": "execute_result"
    }
   ],
   "source": [
    "any(x.find('.') >= 0 for x in xcs), any(y.find('.') >= 0 for y in ycs)"
   ]
  },
  {
   "cell_type": "markdown",
   "metadata": {},
   "source": [
    "# Compare the full dataset with the extract\n",
    "\n",
    "Let us compare the last 12 months data with the full dataset.\n",
    "\n",
    "There are a few differences, but they really are \"few\" compared to the size of the complete dataset.  There appears to be no pattern in the differences."
   ]
  },
  {
   "cell_type": "code",
   "execution_count": 5,
   "metadata": {
    "collapsed": false
   },
   "outputs": [],
   "source": [
    "with lzma.open(filename_all, \"rt\") as file:\n",
    "    all_events = load_as_dict_to_lists(file)"
   ]
  },
  {
   "cell_type": "code",
   "execution_count": 10,
   "metadata": {
    "collapsed": true
   },
   "outputs": [],
   "source": [
    "frame = chicago.load_to_geoDataFrame()"
   ]
  },
  {
   "cell_type": "code",
   "execution_count": 11,
   "metadata": {
    "collapsed": false
   },
   "outputs": [
    {
     "data": {
      "text/html": [
       "<div>\n",
       "<table border=\"1\" class=\"dataframe\">\n",
       "  <thead>\n",
       "    <tr style=\"text-align: right;\">\n",
       "      <th></th>\n",
       "      <th>address</th>\n",
       "      <th>case</th>\n",
       "      <th>crime</th>\n",
       "      <th>geometry</th>\n",
       "      <th>location</th>\n",
       "      <th>timestamp</th>\n",
       "      <th>type</th>\n",
       "    </tr>\n",
       "  </thead>\n",
       "  <tbody>\n",
       "    <tr>\n",
       "      <th>0</th>\n",
       "      <td>010XX N CENTRAL PARK AVE</td>\n",
       "      <td>HZ560767</td>\n",
       "      <td>OTHER OFFENSE</td>\n",
       "      <td>POINT (-87.71645415899999 41.899712716)</td>\n",
       "      <td>APARTMENT</td>\n",
       "      <td>2016-12-22T02:55:00</td>\n",
       "      <td>VIOLATE ORDER OF PROTECTION</td>\n",
       "    </tr>\n",
       "    <tr>\n",
       "      <th>1</th>\n",
       "      <td>051XX S WASHTENAW AVE</td>\n",
       "      <td>HZ561134</td>\n",
       "      <td>BATTERY</td>\n",
       "      <td>POINT (-87.691539994 41.800445234)</td>\n",
       "      <td>RESIDENTIAL YARD (FRONT/BACK)</td>\n",
       "      <td>2016-12-22T11:17:00</td>\n",
       "      <td>AGGRAVATED: OTHER FIREARM</td>\n",
       "    </tr>\n",
       "    <tr>\n",
       "      <th>2</th>\n",
       "      <td>059XX W DIVERSEY AVE</td>\n",
       "      <td>HZ565584</td>\n",
       "      <td>DECEPTIVE PRACTICE</td>\n",
       "      <td>POINT (-87.774165121 41.931166274)</td>\n",
       "      <td>RESIDENCE</td>\n",
       "      <td>2016-12-09T12:00:00</td>\n",
       "      <td>FINANCIAL IDENTITY THEFT $300 AND UNDER</td>\n",
       "    </tr>\n",
       "    <tr>\n",
       "      <th>3</th>\n",
       "      <td>001XX N STATE ST</td>\n",
       "      <td>HZ561772</td>\n",
       "      <td>THEFT</td>\n",
       "      <td>POINT (-87.62787669799999 41.883500187)</td>\n",
       "      <td>DEPARTMENT STORE</td>\n",
       "      <td>2016-12-22T18:50:00</td>\n",
       "      <td>RETAIL THEFT</td>\n",
       "    </tr>\n",
       "    <tr>\n",
       "      <th>4</th>\n",
       "      <td>008XX N MICHIGAN AVE</td>\n",
       "      <td>HZ561969</td>\n",
       "      <td>THEFT</td>\n",
       "      <td>POINT (-87.624095634 41.897982937)</td>\n",
       "      <td>SMALL RETAIL STORE</td>\n",
       "      <td>2016-12-22T19:20:00</td>\n",
       "      <td>RETAIL THEFT</td>\n",
       "    </tr>\n",
       "  </tbody>\n",
       "</table>\n",
       "</div>"
      ],
      "text/plain": [
       "                    address      case               crime  \\\n",
       "0  010XX N CENTRAL PARK AVE  HZ560767       OTHER OFFENSE   \n",
       "1     051XX S WASHTENAW AVE  HZ561134             BATTERY   \n",
       "2      059XX W DIVERSEY AVE  HZ565584  DECEPTIVE PRACTICE   \n",
       "3          001XX N STATE ST  HZ561772               THEFT   \n",
       "4      008XX N MICHIGAN AVE  HZ561969               THEFT   \n",
       "\n",
       "                                  geometry                       location  \\\n",
       "0  POINT (-87.71645415899999 41.899712716)                      APARTMENT   \n",
       "1       POINT (-87.691539994 41.800445234)  RESIDENTIAL YARD (FRONT/BACK)   \n",
       "2       POINT (-87.774165121 41.931166274)                      RESIDENCE   \n",
       "3  POINT (-87.62787669799999 41.883500187)               DEPARTMENT STORE   \n",
       "4       POINT (-87.624095634 41.897982937)             SMALL RETAIL STORE   \n",
       "\n",
       "             timestamp                                     type  \n",
       "0  2016-12-22T02:55:00              VIOLATE ORDER OF PROTECTION  \n",
       "1  2016-12-22T11:17:00                AGGRAVATED: OTHER FIREARM  \n",
       "2  2016-12-09T12:00:00  FINANCIAL IDENTITY THEFT $300 AND UNDER  \n",
       "3  2016-12-22T18:50:00                             RETAIL THEFT  \n",
       "4  2016-12-22T19:20:00                             RETAIL THEFT  "
      ]
     },
     "execution_count": 11,
     "metadata": {},
     "output_type": "execute_result"
    }
   ],
   "source": [
    "frame.head()"
   ]
  },
  {
   "cell_type": "code",
   "execution_count": 55,
   "metadata": {
    "collapsed": false
   },
   "outputs": [],
   "source": [
    "known_diffs = {\"JA233208\", \"JA228951\", \"JA249656\", \"JA256373\", \"JA256594\", \"JA256838\"}\n",
    "\n",
    "not_found = []\n",
    "\n",
    "for index, row in frame.iterrows():\n",
    "    if row.crime == \"HOMICIDE\":\n",
    "        continue\n",
    "    if row.case in known_diffs:\n",
    "        continue\n",
    "    if row.case not in all_events:\n",
    "        not_found.append(row.case)\n",
    "        continue\n",
    "    event = all_events[row.case]\n",
    "    if len(event) > 1:\n",
    "        print(\"Doubled, skipping:\", row.case)\n",
    "        continue\n",
    "    event = event[0]\n",
    "    assert(row.address == event[4])\n",
    "    assert(row.crime == event[0])\n",
    "    assert(row.location == event[2])\n",
    "    assert(row.timestamp == event[3])\n",
    "    assert(row.type == event[1])\n",
    "    if row.geometry is not None:\n",
    "        assert(row.geometry.coords[0][0] == event[5])\n",
    "        assert(row.geometry.coords[0][1] == event[6])"
   ]
  },
  {
   "cell_type": "code",
   "execution_count": 56,
   "metadata": {
    "collapsed": false
   },
   "outputs": [
    {
     "data": {
      "text/plain": [
       "['JA197904',\n",
       " 'JA232083',\n",
       " 'JA237583',\n",
       " 'JA235170',\n",
       " 'JA241113',\n",
       " 'JA244734',\n",
       " 'JA246071',\n",
       " 'JA253065',\n",
       " 'JA248547',\n",
       " 'JA247984',\n",
       " 'JA256655',\n",
       " 'JA108097',\n",
       " 'JA124851',\n",
       " 'HZ483229',\n",
       " 'JA177600']"
      ]
     },
     "execution_count": 56,
     "metadata": {},
     "output_type": "execute_result"
    }
   ],
   "source": [
    "not_found"
   ]
  },
  {
   "cell_type": "code",
   "execution_count": 61,
   "metadata": {
    "collapsed": false
   },
   "outputs": [
    {
     "data": {
      "text/html": [
       "<div>\n",
       "<table border=\"1\" class=\"dataframe\">\n",
       "  <thead>\n",
       "    <tr style=\"text-align: right;\">\n",
       "      <th></th>\n",
       "      <th>address</th>\n",
       "      <th>case</th>\n",
       "      <th>crime</th>\n",
       "      <th>geometry</th>\n",
       "      <th>location</th>\n",
       "      <th>timestamp</th>\n",
       "      <th>type</th>\n",
       "    </tr>\n",
       "  </thead>\n",
       "  <tbody>\n",
       "    <tr>\n",
       "      <th>13245</th>\n",
       "      <td>075XX S PULASKI RD</td>\n",
       "      <td>JA197904</td>\n",
       "      <td>OFFENSE INVOLVING CHILDREN</td>\n",
       "      <td>POINT (-87.722175346 41.756772166)</td>\n",
       "      <td>SCHOOL, PUBLIC, BUILDING</td>\n",
       "      <td>2017-03-21T10:00:00</td>\n",
       "      <td>CHILD ABUSE</td>\n",
       "    </tr>\n",
       "    <tr>\n",
       "      <th>34695</th>\n",
       "      <td>005XX W 100TH ST</td>\n",
       "      <td>JA232083</td>\n",
       "      <td>ROBBERY</td>\n",
       "      <td>POINT (-87.636001768 41.712482243)</td>\n",
       "      <td>STREET</td>\n",
       "      <td>2017-04-19T19:00:00</td>\n",
       "      <td>ARMED: HANDGUN</td>\n",
       "    </tr>\n",
       "    <tr>\n",
       "      <th>35805</th>\n",
       "      <td>006XX N MC CLURG CT</td>\n",
       "      <td>JA237583</td>\n",
       "      <td>THEFT</td>\n",
       "      <td>POINT (-87.61772141100001 41.892841858)</td>\n",
       "      <td>RESIDENCE</td>\n",
       "      <td>2017-04-03T15:00:00</td>\n",
       "      <td>OVER $500</td>\n",
       "    </tr>\n",
       "    <tr>\n",
       "      <th>35822</th>\n",
       "      <td>020XX S STATE ST</td>\n",
       "      <td>JA235170</td>\n",
       "      <td>KIDNAPPING</td>\n",
       "      <td>POINT (-87.627133239 41.854963672)</td>\n",
       "      <td>RESIDENCE PORCH/HALLWAY</td>\n",
       "      <td>2017-04-20T13:00:00</td>\n",
       "      <td>UNLAWFUL RESTRAINT</td>\n",
       "    </tr>\n",
       "    <tr>\n",
       "      <th>41107</th>\n",
       "      <td>059XX S ASHLAND AVE</td>\n",
       "      <td>JA241113</td>\n",
       "      <td>OTHER OFFENSE</td>\n",
       "      <td>POINT (-87.664380792 41.786088606)</td>\n",
       "      <td>OTHER</td>\n",
       "      <td>2017-04-27T11:00:00</td>\n",
       "      <td>SEX OFFENDER: FAIL REG NEW ADD</td>\n",
       "    </tr>\n",
       "    <tr>\n",
       "      <th>43696</th>\n",
       "      <td>028XX W MEDILL AVE</td>\n",
       "      <td>JA244734</td>\n",
       "      <td>MOTOR VEHICLE THEFT</td>\n",
       "      <td>None</td>\n",
       "      <td>STREET</td>\n",
       "      <td>2017-04-30T02:45:00</td>\n",
       "      <td>AUTOMOBILE</td>\n",
       "    </tr>\n",
       "    <tr>\n",
       "      <th>44309</th>\n",
       "      <td>012XX W 14TH ST</td>\n",
       "      <td>JA246071</td>\n",
       "      <td>OTHER OFFENSE</td>\n",
       "      <td>POINT (-87.657433623 41.863408939)</td>\n",
       "      <td>RESIDENCE</td>\n",
       "      <td>2017-05-01T10:07:00</td>\n",
       "      <td>VIOLATE ORDER OF PROTECTION</td>\n",
       "    </tr>\n",
       "    <tr>\n",
       "      <th>44804</th>\n",
       "      <td>013XX N ASTOR ST</td>\n",
       "      <td>JA253065</td>\n",
       "      <td>MOTOR VEHICLE THEFT</td>\n",
       "      <td>POINT (-87.627371143 41.90606842)</td>\n",
       "      <td>STREET</td>\n",
       "      <td>2017-04-26T15:00:00</td>\n",
       "      <td>AUTOMOBILE</td>\n",
       "    </tr>\n",
       "    <tr>\n",
       "      <th>44918</th>\n",
       "      <td>030XX S DR MARTIN LUTHER KING JR DR</td>\n",
       "      <td>JA248547</td>\n",
       "      <td>MOTOR VEHICLE THEFT</td>\n",
       "      <td>POINT (-87.617141911 41.83981113)</td>\n",
       "      <td>STREET</td>\n",
       "      <td>2017-05-02T19:00:00</td>\n",
       "      <td>AUTOMOBILE</td>\n",
       "    </tr>\n",
       "    <tr>\n",
       "      <th>45318</th>\n",
       "      <td>078XX S ESSEX AVE</td>\n",
       "      <td>JA247984</td>\n",
       "      <td>OTHER OFFENSE</td>\n",
       "      <td>POINT (-87.563826173 41.752845913)</td>\n",
       "      <td>RESIDENCE</td>\n",
       "      <td>2017-05-02T16:49:00</td>\n",
       "      <td>SEX OFFENDER: FAIL TO REGISTER</td>\n",
       "    </tr>\n",
       "    <tr>\n",
       "      <th>46123</th>\n",
       "      <td>007XX S HALSTED ST</td>\n",
       "      <td>JA256655</td>\n",
       "      <td>DECEPTIVE PRACTICE</td>\n",
       "      <td>None</td>\n",
       "      <td>RESIDENCE</td>\n",
       "      <td>2017-05-03T00:01:00</td>\n",
       "      <td>FINANCIAL IDENTITY THEFT $300 AND UNDER</td>\n",
       "    </tr>\n",
       "    <tr>\n",
       "      <th>93871</th>\n",
       "      <td>062XX S EBERHART AVE</td>\n",
       "      <td>JA108097</td>\n",
       "      <td>OTHER OFFENSE</td>\n",
       "      <td>POINT (-87.613228531 41.781311657)</td>\n",
       "      <td>OTHER</td>\n",
       "      <td>2017-01-08T09:17:00</td>\n",
       "      <td>SEX OFFENDER: FAIL REG NEW ADD</td>\n",
       "    </tr>\n",
       "    <tr>\n",
       "      <th>99335</th>\n",
       "      <td>003XX S CALIFORNIA AVE</td>\n",
       "      <td>JA124851</td>\n",
       "      <td>BATTERY</td>\n",
       "      <td>POINT (-87.696179693 41.876997681)</td>\n",
       "      <td>STREET</td>\n",
       "      <td>2017-01-21T20:08:00</td>\n",
       "      <td>AGGRAVATED: HANDGUN</td>\n",
       "    </tr>\n",
       "    <tr>\n",
       "      <th>117964</th>\n",
       "      <td>030XX S MILLARD AVE</td>\n",
       "      <td>HZ483229</td>\n",
       "      <td>MOTOR VEHICLE THEFT</td>\n",
       "      <td>POINT (-87.715834351 41.837810001)</td>\n",
       "      <td>ALLEY</td>\n",
       "      <td>2016-10-20T21:00:00</td>\n",
       "      <td>AUTOMOBILE</td>\n",
       "    </tr>\n",
       "    <tr>\n",
       "      <th>165705</th>\n",
       "      <td>018XX S KILDARE AVE</td>\n",
       "      <td>JA177600</td>\n",
       "      <td>BURGLARY</td>\n",
       "      <td>POINT (-87.73255360500001 41.85622487)</td>\n",
       "      <td>RESIDENCE</td>\n",
       "      <td>2017-03-06T20:32:00</td>\n",
       "      <td>HOME INVASION</td>\n",
       "    </tr>\n",
       "  </tbody>\n",
       "</table>\n",
       "</div>"
      ],
      "text/plain": [
       "                                    address      case  \\\n",
       "13245                    075XX S PULASKI RD  JA197904   \n",
       "34695                      005XX W 100TH ST  JA232083   \n",
       "35805                   006XX N MC CLURG CT  JA237583   \n",
       "35822                      020XX S STATE ST  JA235170   \n",
       "41107                   059XX S ASHLAND AVE  JA241113   \n",
       "43696                    028XX W MEDILL AVE  JA244734   \n",
       "44309                       012XX W 14TH ST  JA246071   \n",
       "44804                      013XX N ASTOR ST  JA253065   \n",
       "44918   030XX S DR MARTIN LUTHER KING JR DR  JA248547   \n",
       "45318                     078XX S ESSEX AVE  JA247984   \n",
       "46123                    007XX S HALSTED ST  JA256655   \n",
       "93871                  062XX S EBERHART AVE  JA108097   \n",
       "99335                003XX S CALIFORNIA AVE  JA124851   \n",
       "117964                  030XX S MILLARD AVE  HZ483229   \n",
       "165705                  018XX S KILDARE AVE  JA177600   \n",
       "\n",
       "                             crime                                 geometry  \\\n",
       "13245   OFFENSE INVOLVING CHILDREN       POINT (-87.722175346 41.756772166)   \n",
       "34695                      ROBBERY       POINT (-87.636001768 41.712482243)   \n",
       "35805                        THEFT  POINT (-87.61772141100001 41.892841858)   \n",
       "35822                   KIDNAPPING       POINT (-87.627133239 41.854963672)   \n",
       "41107                OTHER OFFENSE       POINT (-87.664380792 41.786088606)   \n",
       "43696          MOTOR VEHICLE THEFT                                     None   \n",
       "44309                OTHER OFFENSE       POINT (-87.657433623 41.863408939)   \n",
       "44804          MOTOR VEHICLE THEFT        POINT (-87.627371143 41.90606842)   \n",
       "44918          MOTOR VEHICLE THEFT        POINT (-87.617141911 41.83981113)   \n",
       "45318                OTHER OFFENSE       POINT (-87.563826173 41.752845913)   \n",
       "46123           DECEPTIVE PRACTICE                                     None   \n",
       "93871                OTHER OFFENSE       POINT (-87.613228531 41.781311657)   \n",
       "99335                      BATTERY       POINT (-87.696179693 41.876997681)   \n",
       "117964         MOTOR VEHICLE THEFT       POINT (-87.715834351 41.837810001)   \n",
       "165705                    BURGLARY   POINT (-87.73255360500001 41.85622487)   \n",
       "\n",
       "                        location            timestamp  \\\n",
       "13245   SCHOOL, PUBLIC, BUILDING  2017-03-21T10:00:00   \n",
       "34695                     STREET  2017-04-19T19:00:00   \n",
       "35805                  RESIDENCE  2017-04-03T15:00:00   \n",
       "35822    RESIDENCE PORCH/HALLWAY  2017-04-20T13:00:00   \n",
       "41107                      OTHER  2017-04-27T11:00:00   \n",
       "43696                     STREET  2017-04-30T02:45:00   \n",
       "44309                  RESIDENCE  2017-05-01T10:07:00   \n",
       "44804                     STREET  2017-04-26T15:00:00   \n",
       "44918                     STREET  2017-05-02T19:00:00   \n",
       "45318                  RESIDENCE  2017-05-02T16:49:00   \n",
       "46123                  RESIDENCE  2017-05-03T00:01:00   \n",
       "93871                      OTHER  2017-01-08T09:17:00   \n",
       "99335                     STREET  2017-01-21T20:08:00   \n",
       "117964                     ALLEY  2016-10-20T21:00:00   \n",
       "165705                 RESIDENCE  2017-03-06T20:32:00   \n",
       "\n",
       "                                           type  \n",
       "13245                               CHILD ABUSE  \n",
       "34695                            ARMED: HANDGUN  \n",
       "35805                                 OVER $500  \n",
       "35822                        UNLAWFUL RESTRAINT  \n",
       "41107            SEX OFFENDER: FAIL REG NEW ADD  \n",
       "43696                                AUTOMOBILE  \n",
       "44309               VIOLATE ORDER OF PROTECTION  \n",
       "44804                                AUTOMOBILE  \n",
       "44918                                AUTOMOBILE  \n",
       "45318            SEX OFFENDER: FAIL TO REGISTER  \n",
       "46123   FINANCIAL IDENTITY THEFT $300 AND UNDER  \n",
       "93871            SEX OFFENDER: FAIL REG NEW ADD  \n",
       "99335                       AGGRAVATED: HANDGUN  \n",
       "117964                               AUTOMOBILE  \n",
       "165705                            HOME INVASION  "
      ]
     },
     "execution_count": 61,
     "metadata": {},
     "output_type": "execute_result"
    }
   ],
   "source": [
    "frame[frame.case.map(lambda x : x in not_found)]"
   ]
  },
  {
   "cell_type": "code",
   "execution_count": null,
   "metadata": {
    "collapsed": true
   },
   "outputs": [],
   "source": []
  }
 ],
 "metadata": {
  "kernelspec": {
   "display_name": "Python 3",
   "language": "python",
   "name": "python3"
  },
  "language_info": {
   "codemirror_mode": {
    "name": "ipython",
    "version": 3
   },
   "file_extension": ".py",
   "mimetype": "text/x-python",
   "name": "python",
   "nbconvert_exporter": "python",
   "pygments_lexer": "ipython3",
   "version": "3.6.0"
  }
 },
 "nbformat": 4,
 "nbformat_minor": 2
}
