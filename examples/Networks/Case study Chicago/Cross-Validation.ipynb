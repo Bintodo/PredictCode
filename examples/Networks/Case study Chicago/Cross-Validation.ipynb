{
 "cells": [
  {
   "cell_type": "code",
   "execution_count": 1,
   "metadata": {
    "collapsed": true
   },
   "outputs": [],
   "source": [
    "import sys, os\n",
    "sys.path.insert(0, os.path.join(\"..\", \"..\", \"..\"))"
   ]
  },
  {
   "cell_type": "markdown",
   "metadata": {},
   "source": [
    "# Cross-Validation\n",
    "\n",
    "We follow Rosser et al. and use a maximum-likelihood approach to finding the \"best\" parameters for the time and space bandwidths.\n",
    "\n",
    "- Use a \"training\" dataset of 180 days\n",
    "- For each of the next 60 days we compute the \"risk\" using from the start of the 180 days to before the current day.\n",
    "- Then for the current day, we compute the log likelihood using the actual events which occurred.\n",
    "- Following Rosser et al. if an event occurs at a location which had 0 risk, we convert this to (log value) -27.6"
   ]
  },
  {
   "cell_type": "code",
   "execution_count": 2,
   "metadata": {
    "collapsed": true
   },
   "outputs": [],
   "source": [
    "%matplotlib inline\n",
    "import matplotlib.pyplot as plt\n",
    "import matplotlib.collections\n",
    "import numpy as np\n",
    "\n",
    "import open_cp.network\n",
    "import open_cp.geometry\n",
    "import open_cp.network_hotspot\n",
    "import open_cp.logger\n",
    "open_cp.logger.log_to_true_stdout()"
   ]
  },
  {
   "cell_type": "code",
   "execution_count": 3,
   "metadata": {
    "collapsed": false
   },
   "outputs": [],
   "source": [
    "import pickle, lzma\n",
    "with lzma.open(\"input_old.pic.xz\", \"rb\") as f:\n",
    "    timed_points = pickle.load(f)\n",
    "with open(\"input.graph\", \"rb\") as f:\n",
    "    graph = open_cp.network.PlanarGraph.from_bytes(f.read())"
   ]
  },
  {
   "cell_type": "code",
   "execution_count": 4,
   "metadata": {
    "collapsed": true
   },
   "outputs": [],
   "source": [
    "trainer = open_cp.network_hotspot.Trainer()\n",
    "trainer.graph = graph\n",
    "trainer.maximum_edge_length = 20\n",
    "trainer.data = timed_points\n",
    "predictor = trainer.compile()"
   ]
  },
  {
   "cell_type": "code",
   "execution_count": 5,
   "metadata": {
    "collapsed": false
   },
   "outputs": [],
   "source": [
    "def log_likelihood(result, network_timed_points):\n",
    "    logli = 0\n",
    "    for s, e in zip(network_timed_points.start_keys, network_timed_points.end_keys):\n",
    "        edge_index, _ = result.graph.find_edge(s,e)\n",
    "        if result.risks[edge_index] == 0:\n",
    "            logli -= 27.6\n",
    "        else:\n",
    "            logli += np.log(result.risks[edge_index])\n",
    "    return logli"
   ]
  },
  {
   "cell_type": "code",
   "execution_count": 6,
   "metadata": {
    "collapsed": false
   },
   "outputs": [
    {
     "data": {
      "text/plain": [
       "(numpy.datetime64('2001-01-01T11:30:00.000'),\n",
       " numpy.datetime64('2014-05-24T18:00:00.000'))"
      ]
     },
     "execution_count": 6,
     "metadata": {},
     "output_type": "execute_result"
    }
   ],
   "source": [
    "timed_points.time_range"
   ]
  },
  {
   "cell_type": "code",
   "execution_count": 7,
   "metadata": {
    "collapsed": false
   },
   "outputs": [],
   "source": [
    "tstart = np.datetime64(\"2013-01-01\")\n",
    "tend = np.datetime64(\"2013-01-01\") + np.timedelta64(180, \"D\")\n",
    "\n",
    "def score(predictor):\n",
    "    out = 0\n",
    "    for day in range(60):\n",
    "        start = tend + np.timedelta64(1, \"D\") * day\n",
    "        end = tend + np.timedelta64(1, \"D\") * (day + 1)\n",
    "        result = predictor.predict(cutoff_time=tstart, predict_time=start)\n",
    "        ntp = predictor.network_timed_points\n",
    "        mask = (ntp.timestamps > start) & (ntp.timestamps <= end)\n",
    "        ntp = ntp[mask]\n",
    "        out += log_likelihood(result, ntp)\n",
    "    return out"
   ]
  },
  {
   "cell_type": "markdown",
   "metadata": {},
   "source": [
    "# With the \"fast\" exact caching predictor\n",
    "\n",
    "Uses a lot of memory..."
   ]
  },
  {
   "cell_type": "code",
   "execution_count": 8,
   "metadata": {
    "collapsed": true
   },
   "outputs": [],
   "source": [
    "predictor = open_cp.network_hotspot.FastPredictor(predictor, 2000)"
   ]
  },
  {
   "cell_type": "code",
   "execution_count": 9,
   "metadata": {
    "collapsed": true
   },
   "outputs": [],
   "source": [
    "time_lengths = list(range(5,100,5))\n",
    "space_lengths = list(range(50, 2000, 50))"
   ]
  },
  {
   "cell_type": "code",
   "execution_count": 10,
   "metadata": {
    "collapsed": false
   },
   "outputs": [],
   "source": [
    "results = dict()\n",
    "\n",
    "for sl in space_lengths:\n",
    "    predictor.kernel = open_cp.network_hotspot.TriangleKernel(sl)\n",
    "    for tl in time_lengths:\n",
    "        predictor.time_kernel = open_cp.network_hotspot.ExponentialTimeKernel(tl)\n",
    "        results[ (sl, tl) ] = score(predictor)"
   ]
  },
  {
   "cell_type": "code",
   "execution_count": 11,
   "metadata": {
    "collapsed": false
   },
   "outputs": [],
   "source": [
    "with open(\"cross_validate.pic\", \"wb\") as f:\n",
    "    pickle.dump(results, f)"
   ]
  },
  {
   "cell_type": "markdown",
   "metadata": {
    "collapsed": true
   },
   "source": [
    "# With the approximate predictor"
   ]
  },
  {
   "cell_type": "code",
   "execution_count": 8,
   "metadata": {
    "collapsed": true
   },
   "outputs": [],
   "source": [
    "pred = open_cp.network_hotspot.ApproxPredictorCaching(predictor)\n",
    "time_lengths = list(range(5,100,5))\n",
    "space_lengths = list(range(50, 2000, 50))"
   ]
  },
  {
   "cell_type": "code",
   "execution_count": null,
   "metadata": {
    "collapsed": false
   },
   "outputs": [],
   "source": [
    "results = dict()\n",
    "\n",
    "for sl in space_lengths:\n",
    "    pred.kernel = open_cp.network_hotspot.TriangleKernel(sl)\n",
    "    for tl in time_lengths:\n",
    "        pred.time_kernel = open_cp.network_hotspot.ExponentialTimeKernel(tl)\n",
    "        results[ (sl, tl) ] = score(pred)"
   ]
  },
  {
   "cell_type": "code",
   "execution_count": null,
   "metadata": {
    "collapsed": true
   },
   "outputs": [],
   "source": [
    "with open(\"cross_validate_approx.pic\", \"wb\") as f:\n",
    "    pickle.dump(results, f)"
   ]
  },
  {
   "cell_type": "code",
   "execution_count": null,
   "metadata": {
    "collapsed": true
   },
   "outputs": [],
   "source": []
  }
 ],
 "metadata": {
  "kernelspec": {
   "display_name": "Python 3",
   "language": "python",
   "name": "python3"
  },
  "language_info": {
   "codemirror_mode": {
    "name": "ipython",
    "version": 3
   },
   "file_extension": ".py",
   "mimetype": "text/x-python",
   "name": "python",
   "nbconvert_exporter": "python",
   "pygments_lexer": "ipython3",
   "version": "3.6.0"
  }
 },
 "nbformat": 4,
 "nbformat_minor": 2
}
