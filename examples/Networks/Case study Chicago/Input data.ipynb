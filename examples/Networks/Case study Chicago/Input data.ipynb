{
 "cells": [
  {
   "cell_type": "code",
   "execution_count": 1,
   "metadata": {
    "collapsed": true
   },
   "outputs": [],
   "source": [
    "import sys, os\n",
    "sys.path.insert(0, os.path.join(\"..\", \"..\", \"..\"))"
   ]
  },
  {
   "cell_type": "markdown",
   "metadata": {},
   "source": [
    "# Input data\n",
    "\n",
    "In this notebook we collect the geometry and event datasets we need."
   ]
  },
  {
   "cell_type": "code",
   "execution_count": 2,
   "metadata": {
    "collapsed": true
   },
   "outputs": [],
   "source": [
    "%matplotlib inline\n",
    "import matplotlib.pyplot as plt\n",
    "import matplotlib.collections\n",
    "import geopandas as gpd\n",
    "\n",
    "import open_cp.network\n",
    "import open_cp.sources.chicago\n",
    "import open_cp.geometry"
   ]
  },
  {
   "cell_type": "code",
   "execution_count": 3,
   "metadata": {
    "collapsed": true
   },
   "outputs": [],
   "source": [
    "data_path = os.path.join(\"/media\", \"disk\", \"Data\")\n",
    "#data_path = os.path.join(\"..\", \"..\", \"..\", \"..\", \"..\", \"..\", \"Data\")\n",
    "open_cp.sources.chicago.set_data_directory(data_path)"
   ]
  },
  {
   "cell_type": "markdown",
   "metadata": {},
   "source": [
    "## Geometry\n",
    "\n",
    "- We use the TIGER/Line® Shapefiles\n",
    "- https://www.census.gov/geo/maps-data/data/tiger-line.html\n",
    "\n",
    "We load this into a `geoPandas` data frame, and then convert each geometry `LINESTRING` into nodes and edges in a graph."
   ]
  },
  {
   "cell_type": "code",
   "execution_count": 4,
   "metadata": {
    "collapsed": false
   },
   "outputs": [
    {
     "data": {
      "text/html": [
       "<div>\n",
       "<table border=\"1\" class=\"dataframe\">\n",
       "  <thead>\n",
       "    <tr style=\"text-align: right;\">\n",
       "      <th></th>\n",
       "      <th>FULLNAME</th>\n",
       "      <th>LINEARID</th>\n",
       "      <th>MTFCC</th>\n",
       "      <th>RTTYP</th>\n",
       "      <th>geometry</th>\n",
       "    </tr>\n",
       "  </thead>\n",
       "  <tbody>\n",
       "    <tr>\n",
       "      <th>0</th>\n",
       "      <td>47th Pl Exd</td>\n",
       "      <td>110380277026</td>\n",
       "      <td>S1400</td>\n",
       "      <td>M</td>\n",
       "      <td>LINESTRING (361283.8098974457 571774.357903373...</td>\n",
       "    </tr>\n",
       "    <tr>\n",
       "      <th>1</th>\n",
       "      <td>Golden Spr</td>\n",
       "      <td>110380298305</td>\n",
       "      <td>S1400</td>\n",
       "      <td>M</td>\n",
       "      <td>LINESTRING (334283.9373028304 555952.566653928...</td>\n",
       "    </tr>\n",
       "    <tr>\n",
       "      <th>2</th>\n",
       "      <td>Edens Expy Spr</td>\n",
       "      <td>1104259027148</td>\n",
       "      <td>S1100</td>\n",
       "      <td>M</td>\n",
       "      <td>LINESTRING (338674.4822622131 608835.390285893...</td>\n",
       "    </tr>\n",
       "    <tr>\n",
       "      <th>3</th>\n",
       "      <td>Edens Expy Spr</td>\n",
       "      <td>1104259564382</td>\n",
       "      <td>S1100</td>\n",
       "      <td>M</td>\n",
       "      <td>LINESTRING (341418.6466204406 608352.224489629...</td>\n",
       "    </tr>\n",
       "    <tr>\n",
       "      <th>4</th>\n",
       "      <td>Edens Expy Spr</td>\n",
       "      <td>1104472109755</td>\n",
       "      <td>S1100</td>\n",
       "      <td>M</td>\n",
       "      <td>LINESTRING (337922.7936322958 609174.983032155...</td>\n",
       "    </tr>\n",
       "  </tbody>\n",
       "</table>\n",
       "</div>"
      ],
      "text/plain": [
       "         FULLNAME       LINEARID  MTFCC RTTYP  \\\n",
       "0     47th Pl Exd   110380277026  S1400     M   \n",
       "1      Golden Spr   110380298305  S1400     M   \n",
       "2  Edens Expy Spr  1104259027148  S1100     M   \n",
       "3  Edens Expy Spr  1104259564382  S1100     M   \n",
       "4  Edens Expy Spr  1104472109755  S1100     M   \n",
       "\n",
       "                                            geometry  \n",
       "0  LINESTRING (361283.8098974457 571774.357903373...  \n",
       "1  LINESTRING (334283.9373028304 555952.566653928...  \n",
       "2  LINESTRING (338674.4822622131 608835.390285893...  \n",
       "3  LINESTRING (341418.6466204406 608352.224489629...  \n",
       "4  LINESTRING (337922.7936322958 609174.983032155...  "
      ]
     },
     "execution_count": 4,
     "metadata": {},
     "output_type": "execute_result"
    }
   ],
   "source": [
    "tiger_path = os.path.join(\"/media\", \"disk\", \"TIGER Data\")\n",
    "#tiger_path = os.path.join(\"..\", \"..\", \"..\", \"..\", \"..\", \"..\", \"Data\", \"TIGER Data\")\n",
    "filename = os.path.join(tiger_path, \"tl_2016_17031_roads\")\n",
    "tiger_frame = gpd.GeoDataFrame.from_file(filename)\n",
    "chicago = tiger_frame.to_crs({\"init\":\"epsg:3528\"})\n",
    "chicago.head()"
   ]
  },
  {
   "cell_type": "code",
   "execution_count": 5,
   "metadata": {
    "collapsed": false
   },
   "outputs": [
    {
     "data": {
      "text/html": [
       "<div>\n",
       "<table border=\"1\" class=\"dataframe\">\n",
       "  <thead>\n",
       "    <tr style=\"text-align: right;\">\n",
       "      <th></th>\n",
       "      <th>FULLNAME</th>\n",
       "      <th>LINEARID</th>\n",
       "      <th>MTFCC</th>\n",
       "      <th>RTTYP</th>\n",
       "      <th>geometry</th>\n",
       "    </tr>\n",
       "  </thead>\n",
       "  <tbody>\n",
       "    <tr>\n",
       "      <th>0</th>\n",
       "      <td>47th Pl Exd</td>\n",
       "      <td>110380277026</td>\n",
       "      <td>S1400</td>\n",
       "      <td>M</td>\n",
       "      <td>LINESTRING (361283.8098974457 571774.357903373...</td>\n",
       "    </tr>\n",
       "    <tr>\n",
       "      <th>165</th>\n",
       "      <td>1600 E</td>\n",
       "      <td>1105061303958</td>\n",
       "      <td>S1400</td>\n",
       "      <td>M</td>\n",
       "      <td>LINESTRING (362110.9642602603 567096.099052547...</td>\n",
       "    </tr>\n",
       "    <tr>\n",
       "      <th>166</th>\n",
       "      <td>1900 E</td>\n",
       "      <td>1105061304601</td>\n",
       "      <td>S1400</td>\n",
       "      <td>M</td>\n",
       "      <td>LINESTRING (362692.8161491767 566407.620341512...</td>\n",
       "    </tr>\n",
       "    <tr>\n",
       "      <th>190</th>\n",
       "      <td>1800 E</td>\n",
       "      <td>1105061313221</td>\n",
       "      <td>S1400</td>\n",
       "      <td>M</td>\n",
       "      <td>LINESTRING (362556.3002138953 565662.441309207...</td>\n",
       "    </tr>\n",
       "    <tr>\n",
       "      <th>191</th>\n",
       "      <td>1832 E</td>\n",
       "      <td>1105061295289</td>\n",
       "      <td>S1400</td>\n",
       "      <td>M</td>\n",
       "      <td>LINESTRING (362591.5173405203 566389.960697010...</td>\n",
       "    </tr>\n",
       "  </tbody>\n",
       "</table>\n",
       "</div>"
      ],
      "text/plain": [
       "        FULLNAME       LINEARID  MTFCC RTTYP  \\\n",
       "0    47th Pl Exd   110380277026  S1400     M   \n",
       "165       1600 E  1105061303958  S1400     M   \n",
       "166       1900 E  1105061304601  S1400     M   \n",
       "190       1800 E  1105061313221  S1400     M   \n",
       "191       1832 E  1105061295289  S1400     M   \n",
       "\n",
       "                                              geometry  \n",
       "0    LINESTRING (361283.8098974457 571774.357903373...  \n",
       "165  LINESTRING (362110.9642602603 567096.099052547...  \n",
       "166  LINESTRING (362692.8161491767 566407.620341512...  \n",
       "190  LINESTRING (362556.3002138953 565662.441309207...  \n",
       "191  LINESTRING (362591.5173405203 566389.960697010...  "
      ]
     },
     "execution_count": 5,
     "metadata": {},
     "output_type": "execute_result"
    }
   ],
   "source": [
    "south_side = open_cp.sources.chicago.get_side(\"South\")\n",
    "mask = chicago.geometry.map(lambda x : x.intersects(south_side))\n",
    "frame = chicago[mask]\n",
    "frame.head()"
   ]
  },
  {
   "cell_type": "code",
   "execution_count": 6,
   "metadata": {
    "collapsed": false
   },
   "outputs": [],
   "source": [
    "all_nodes = []\n",
    "for geo in frame.geometry:\n",
    "    for pt in geo.coords:\n",
    "        all_nodes.append(pt)\n",
    "\n",
    "b = open_cp.network.PlanarGraphNodeOneShot(all_nodes)\n",
    "for geo in frame.geometry:\n",
    "    path = list(geo.coords)\n",
    "    b.add_path(path)\n",
    "\n",
    "graph = b.build()"
   ]
  },
  {
   "cell_type": "code",
   "execution_count": 7,
   "metadata": {
    "collapsed": false
   },
   "outputs": [
    {
     "ename": "AssertionError",
     "evalue": "31096",
     "output_type": "error",
     "traceback": [
      "\u001b[0;31m---------------------------------------------------------------------------\u001b[0m",
      "\u001b[0;31mAssertionError\u001b[0m                            Traceback (most recent call last)",
      "\u001b[0;32m<ipython-input-7-c91190fc9093>\u001b[0m in \u001b[0;36m<module>\u001b[0;34m()\u001b[0m\n\u001b[0;32m----> 1\u001b[0;31m \u001b[0mreduced\u001b[0m \u001b[0;34m=\u001b[0m \u001b[0mopen_cp\u001b[0m\u001b[0;34m.\u001b[0m\u001b[0mnetwork\u001b[0m\u001b[0;34m.\u001b[0m\u001b[0mreduce_graph\u001b[0m\u001b[0;34m(\u001b[0m\u001b[0mgraph\u001b[0m\u001b[0;34m)\u001b[0m\u001b[0;34m\u001b[0m\u001b[0m\n\u001b[0m",
      "\u001b[0;32m/nfs/see-fs-02_users/matmdpd/Crime Predict Project/PredictCode/open_cp/network.py\u001b[0m in \u001b[0;36mreduce_graph\u001b[0;34m(graph)\u001b[0m\n\u001b[1;32m    922\u001b[0m       \u001b[0;31m`\u001b[0m\u001b[0mgraph\u001b[0m\u001b[0;34m.\u001b[0m\u001b[0medges\u001b[0m\u001b[0;31m`\u001b[0m \u001b[0mgiving\u001b[0m \u001b[0mthe\u001b[0m \u001b[0mtotal\u001b[0m \u001b[0mpath\u001b[0m \u001b[0;32min\u001b[0m \u001b[0mthe\u001b[0m \u001b[0moriginal\u001b[0m \u001b[0mgraph\u001b[0m\u001b[0;34m.\u001b[0m\u001b[0;34m\u001b[0m\u001b[0m\n\u001b[1;32m    923\u001b[0m     \"\"\"\n\u001b[0;32m--> 924\u001b[0;31m     \u001b[0msegments\u001b[0m \u001b[0;34m=\u001b[0m \u001b[0mlist\u001b[0m\u001b[0;34m(\u001b[0m\u001b[0mgraph\u001b[0m\u001b[0;34m.\u001b[0m\u001b[0mpartition_by_segments\u001b[0m\u001b[0;34m(\u001b[0m\u001b[0;34m)\u001b[0m\u001b[0;34m)\u001b[0m\u001b[0;34m\u001b[0m\u001b[0m\n\u001b[0m\u001b[1;32m    925\u001b[0m     \u001b[0msegments\u001b[0m\u001b[0;34m.\u001b[0m\u001b[0msort\u001b[0m\u001b[0;34m(\u001b[0m\u001b[0mkey\u001b[0m \u001b[0;34m=\u001b[0m \u001b[0;32mlambda\u001b[0m \u001b[0mx\u001b[0m \u001b[0;34m:\u001b[0m \u001b[0mlen\u001b[0m\u001b[0;34m(\u001b[0m\u001b[0mx\u001b[0m\u001b[0;34m)\u001b[0m\u001b[0;34m)\u001b[0m\u001b[0;34m\u001b[0m\u001b[0m\n\u001b[1;32m    926\u001b[0m     \u001b[0mbuilder\u001b[0m \u001b[0;34m=\u001b[0m \u001b[0mGraphBuilder\u001b[0m\u001b[0;34m(\u001b[0m\u001b[0;34m)\u001b[0m\u001b[0;34m\u001b[0m\u001b[0m\n",
      "\u001b[0;32m/nfs/see-fs-02_users/matmdpd/Crime Predict Project/PredictCode/open_cp/network.py\u001b[0m in \u001b[0;36mpartition_by_segments\u001b[0;34m(self)\u001b[0m\n\u001b[1;32m    588\u001b[0m                     \u001b[0mnhood\u001b[0m \u001b[0;34m=\u001b[0m \u001b[0mset\u001b[0m\u001b[0;34m(\u001b[0m\u001b[0mself\u001b[0m\u001b[0;34m.\u001b[0m\u001b[0mneighbours\u001b[0m\u001b[0;34m(\u001b[0m\u001b[0msegment\u001b[0m\u001b[0;34m[\u001b[0m\u001b[0;34m-\u001b[0m\u001b[0;36m1\u001b[0m\u001b[0;34m]\u001b[0m\u001b[0;34m)\u001b[0m\u001b[0;34m)\u001b[0m\u001b[0;34m\u001b[0m\u001b[0m\n\u001b[1;32m    589\u001b[0m                     \u001b[0;32mif\u001b[0m \u001b[0;32mnot\u001b[0m \u001b[0mlen\u001b[0m\u001b[0;34m(\u001b[0m\u001b[0mnhood\u001b[0m\u001b[0;34m)\u001b[0m \u001b[0;34m==\u001b[0m \u001b[0;36m2\u001b[0m\u001b[0;34m:\u001b[0m\u001b[0;34m\u001b[0m\u001b[0m\n\u001b[0;32m--> 590\u001b[0;31m                         \u001b[0;32mraise\u001b[0m \u001b[0mAssertionError\u001b[0m\u001b[0;34m(\u001b[0m\u001b[0msegment\u001b[0m\u001b[0;34m[\u001b[0m\u001b[0;34m-\u001b[0m\u001b[0;36m1\u001b[0m\u001b[0;34m]\u001b[0m\u001b[0;34m)\u001b[0m\u001b[0;34m\u001b[0m\u001b[0m\n\u001b[0m\u001b[1;32m    591\u001b[0m                     \u001b[0mnhood\u001b[0m\u001b[0;34m.\u001b[0m\u001b[0mdiscard\u001b[0m\u001b[0;34m(\u001b[0m\u001b[0msegment\u001b[0m\u001b[0;34m[\u001b[0m\u001b[0;34m-\u001b[0m\u001b[0;36m2\u001b[0m\u001b[0;34m]\u001b[0m\u001b[0;34m)\u001b[0m\u001b[0;34m\u001b[0m\u001b[0m\n\u001b[1;32m    592\u001b[0m                     \u001b[0mkey\u001b[0m \u001b[0;34m=\u001b[0m \u001b[0mnhood\u001b[0m\u001b[0;34m.\u001b[0m\u001b[0mpop\u001b[0m\u001b[0;34m(\u001b[0m\u001b[0;34m)\u001b[0m\u001b[0;34m\u001b[0m\u001b[0m\n",
      "\u001b[0;31mAssertionError\u001b[0m: 31096"
     ]
    }
   ],
   "source": [
    "reduced = open_cp.network.reduce_graph(graph)"
   ]
  },
  {
   "cell_type": "code",
   "execution_count": 8,
   "metadata": {
    "collapsed": false
   },
   "outputs": [
    {
     "data": {
      "text/plain": [
       "[1479]"
      ]
     },
     "execution_count": 8,
     "metadata": {},
     "output_type": "execute_result"
    }
   ],
   "source": [
    "graph.neighbours(31096)"
   ]
  },
  {
   "cell_type": "code",
   "execution_count": 9,
   "metadata": {
    "collapsed": false
   },
   "outputs": [
    {
     "data": {
      "text/plain": [
       "[18464, 21288]"
      ]
     },
     "execution_count": 9,
     "metadata": {},
     "output_type": "execute_result"
    }
   ],
   "source": [
    "graph.neighbourhood_edges(31096)"
   ]
  },
  {
   "cell_type": "code",
   "execution_count": 10,
   "metadata": {
    "collapsed": false
   },
   "outputs": [
    {
     "data": {
      "text/plain": [
       "((1479, 31096), (1479, 31096))"
      ]
     },
     "execution_count": 10,
     "metadata": {},
     "output_type": "execute_result"
    }
   ],
   "source": [
    "graph.edges[18464], graph.edges[21288]"
   ]
  },
  {
   "cell_type": "markdown",
   "metadata": {},
   "source": [
    "# Event data\n",
    "\n",
    "- CSV file available from https://catalog.data.gov/dataset/crimes-one-year-prior-to-present-e171f\n",
    "\n",
    "This (freely available) file is geocoded so that each event lies on the midpoint of a road."
   ]
  },
  {
   "cell_type": "code",
   "execution_count": null,
   "metadata": {
    "collapsed": false
   },
   "outputs": [],
   "source": [
    "filename = open_cp.sources.chicago.get_default_filename()\n",
    "timed_points = open_cp.sources.chicago.load(filename, [\"BURGLARY\"])\n",
    "timed_points.number_data_points"
   ]
  },
  {
   "cell_type": "code",
   "execution_count": null,
   "metadata": {
    "collapsed": false
   },
   "outputs": [],
   "source": [
    "timed_points = open_cp.geometry.intersect_timed_points(timed_points, south_side)\n",
    "timed_points.number_data_points"
   ]
  },
  {
   "cell_type": "code",
   "execution_count": null,
   "metadata": {
    "collapsed": false
   },
   "outputs": [],
   "source": [
    "fig, ax = plt.subplots(figsize=(12,12))\n",
    "\n",
    "lc = matplotlib.collections.LineCollection(graph.as_lines(), color=\"black\", linewidth=0.5)\n",
    "ax.add_collection(lc)\n",
    "\n",
    "ax.scatter(timed_points.xcoords, timed_points.ycoords)\n",
    "\n",
    "xmin, ymin, xmax, ymax = *timed_points.bounding_box.min, *timed_points.bounding_box.max\n",
    "xd, yd = xmax - xmin, ymax - ymin\n",
    "ax.set(xlim=(xmin-xd/20, xmax+xd/20), ylim=(ymin-yd/20, ymax+yd/20))\n",
    "None"
   ]
  },
  {
   "cell_type": "code",
   "execution_count": null,
   "metadata": {
    "collapsed": false
   },
   "outputs": [],
   "source": [
    "fig, axes = plt.subplots(ncols=2, figsize=(18,8))\n",
    "\n",
    "for ax in axes:\n",
    "    lc = matplotlib.collections.LineCollection(graph.as_lines(), color=\"black\", linewidth=0.5)\n",
    "    ax.add_collection(lc)\n",
    "    ax.scatter(timed_points.xcoords, timed_points.ycoords)\n",
    "\n",
    "axes[0].set(xlim=[358000, 360000], ylim=[570000, 572000])\n",
    "axes[1].set(xlim=[362000, 364000], ylim=[565000, 567000])"
   ]
  },
  {
   "cell_type": "markdown",
   "metadata": {},
   "source": [
    "## Save for later\n",
    "\n",
    "We'll save using `pickle` for use in other notebooks"
   ]
  },
  {
   "cell_type": "code",
   "execution_count": null,
   "metadata": {
    "collapsed": true
   },
   "outputs": [],
   "source": [
    "import pickle, lzma\n",
    "with lzma.open(\"input.pic.xz\", \"wb\") as f:\n",
    "    pickle.dump(graph, f)\n",
    "    pickle.dump(timed_points, f)"
   ]
  },
  {
   "cell_type": "markdown",
   "metadata": {},
   "source": [
    "## With old data\n",
    "\n",
    "Older data (which is no longer publically available, sadly) is more accurately geocoded."
   ]
  },
  {
   "cell_type": "code",
   "execution_count": null,
   "metadata": {
    "collapsed": false
   },
   "outputs": [],
   "source": [
    "filename = os.path.join(data_path, \"chicago_all_old.csv\")\n",
    "timed_points = open_cp.sources.chicago.load(filename, [\"BURGLARY\"], type=\"all\")\n",
    "timed_points.number_data_points"
   ]
  },
  {
   "cell_type": "code",
   "execution_count": null,
   "metadata": {
    "collapsed": false
   },
   "outputs": [],
   "source": [
    "timed_points = open_cp.geometry.intersect_timed_points(timed_points, south_side)\n",
    "timed_points.number_data_points"
   ]
  },
  {
   "cell_type": "code",
   "execution_count": null,
   "metadata": {
    "collapsed": true
   },
   "outputs": [],
   "source": [
    "import pickle, lzma\n",
    "with lzma.open(\"input_old.pic.xz\", \"wb\") as f:\n",
    "    pickle.dump(graph, f)\n",
    "    pickle.dump(timed_points, f)"
   ]
  },
  {
   "cell_type": "code",
   "execution_count": null,
   "metadata": {
    "collapsed": true
   },
   "outputs": [],
   "source": []
  }
 ],
 "metadata": {
  "kernelspec": {
   "display_name": "Python 3",
   "language": "python",
   "name": "python3"
  },
  "language_info": {
   "codemirror_mode": {
    "name": "ipython",
    "version": 3
   },
   "file_extension": ".py",
   "mimetype": "text/x-python",
   "name": "python",
   "nbconvert_exporter": "python",
   "pygments_lexer": "ipython3",
   "version": "3.6.0"
  }
 },
 "nbformat": 4,
 "nbformat_minor": 2
}
