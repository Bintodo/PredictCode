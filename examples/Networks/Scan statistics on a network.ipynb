{
 "cells": [
  {
   "cell_type": "markdown",
   "metadata": {},
   "source": [
    "# Scan statistics on a network\n",
    "\n",
    "A place-holder, for now.\n",
    "\n",
    "1. Shiode, Shiode, \"Microscale Prediction of Near-Future Crime Concentrations with Street-Level Geosurveillance\" Geographical Analysis (2014) 46 435–455 https://doi.org/10.1111/gean.12065"
   ]
  },
  {
   "cell_type": "code",
   "execution_count": null,
   "metadata": {
    "collapsed": true
   },
   "outputs": [],
   "source": []
  }
 ],
 "metadata": {
  "kernelspec": {
   "display_name": "Python 3",
   "language": "python",
   "name": "python3"
  },
  "language_info": {
   "codemirror_mode": {
    "name": "ipython",
    "version": 3
   },
   "file_extension": ".py",
   "mimetype": "text/x-python",
   "name": "python",
   "nbconvert_exporter": "python",
   "pygments_lexer": "ipython3",
   "version": "3.6.0"
  }
 },
 "nbformat": 4,
 "nbformat_minor": 2
}
