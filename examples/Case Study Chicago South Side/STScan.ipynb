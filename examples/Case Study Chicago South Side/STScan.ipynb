{
 "cells": [
  {
   "cell_type": "markdown",
   "metadata": {},
   "source": [
    "# Space Time Scan"
   ]
  },
  {
   "cell_type": "code",
   "execution_count": null,
   "metadata": {
    "collapsed": true
   },
   "outputs": [],
   "source": []
  },
  {
   "cell_type": "markdown",
   "metadata": {},
   "source": [
    "# Using SatScan\n",
    "\n",
    "- Start SaTScan and make a new session\n",
    "- Under the \"Input\" tab:\n",
    "    - Set the \"Case File\" to \"chicago.cas\"\n",
    "    - Set the \"Coordinates Files\" to \"chicago.geo\"\n",
    "    - Set \"Coordinates\" to \"Cartesian\"\n",
    "    - Set \"Time Precision\" to Day\n",
    "    - Set the \"Study Period\" from 2011-03-01 to 2011-09-27 (or whatever)\n",
    "- Under the \"Analysis\" tab:\n",
    "    - Select \"Propsective Analysis\" -> \"Space-Time\"\n",
    "    - Select \"Probability Model\" -> \"Space-Time Permutation\"\n",
    "    - Select \"Time Aggregation\" -> \"1 Day\"\n",
    "- Under the \"Output\" tab:\n",
    "    - Select the \"Main Results File\" to whatever\n",
    "    \n",
    "*Optionally* change the spatial and temporal window:\n",
    "\n",
    "- Under \"Analysis\", click \"Advanced\":\n",
    "    - Under \"Spatial Window\", select \"is a circle with a ...\"\n",
    "    - Under \"Temporal Window\", select \"Maximum Temporal Cluster Size\" is ... days"
   ]
  },
  {
   "cell_type": "code",
   "execution_count": null,
   "metadata": {
    "collapsed": true
   },
   "outputs": [],
   "source": []
  },
  {
   "cell_type": "code",
   "execution_count": 1,
   "metadata": {
    "collapsed": true
   },
   "outputs": [],
   "source": [
    "%matplotlib inline\n",
    "from common import *\n",
    "datadir = os.path.join(\"//media\", \"disk\", \"Data\")\n",
    "south_side, points = load_data(datadir)"
   ]
  }
 ],
 "metadata": {
  "kernelspec": {
   "display_name": "Python 3",
   "language": "python",
   "name": "python3"
  },
  "language_info": {
   "codemirror_mode": {
    "name": "ipython",
    "version": 3
   },
   "file_extension": ".py",
   "mimetype": "text/x-python",
   "name": "python",
   "nbconvert_exporter": "python",
   "pygments_lexer": "ipython3",
   "version": "3.6.0"
  }
 },
 "nbformat": 4,
 "nbformat_minor": 2
}
