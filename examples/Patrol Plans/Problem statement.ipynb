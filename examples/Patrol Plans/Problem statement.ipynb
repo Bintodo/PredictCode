{
 "cells": [
  {
   "cell_type": "markdown",
   "metadata": {},
   "source": [
    "# Statement of the problem\n",
    "\n",
    "## On a grid\n",
    "\n",
    "We are given a grid of risks.\n",
    "\n",
    "- We wish to find $N$ hotspots (typically $N$ is fixed, say $N=5$, or at least bounded above, say $N<=8$).\n",
    "- Each hotspot is of a maxmimum size (number of grid cells).  Or the total coverage is limited.\n",
    "- At the very least, a \"hotspot\" must be a contiguous selections of cells.\n",
    "- We might wish to further constrain what we mean by a \"hotspot\".\n",
    "\n",
    "This thus becomes an optimisation problem, not really connected to criminology.  I wonder if it has been studied in computer science?\n",
    "\n",
    "## On a network\n",
    "\n",
    "We are given an assignment of risk to each edge of the network.\n",
    "\n",
    "- We wish to find $N$ hotspots (typically $N$ is fixed, say $N=5$, or at least bounded above, say $N<=8$).\n",
    "- Each hotspot is of a maxmimum size (shortest _walk_ which covers all edges in the hotspot).  Or the total coverage is limited.\n",
    "- At the very least, a \"hotspot\" must be a contiguous selections of edges.\n",
    "- We might wish to further constrain what we mean by a \"hotspot\".\n",
    "\n",
    "## Maximisation\n",
    "\n",
    "In either case, our goal is to find the selection of cells (or edges) which satisfies the above constraints, and subject to this constraint, maximises the sum of risks.  This is probably computationally intractible, and so algorithms which get close to the maximum will be sought."
   ]
  },
  {
   "cell_type": "markdown",
   "metadata": {},
   "source": [
    "# Goals\n",
    "\n",
    "- Can we find simple sets of additional constraints which give rise to \"nice\" hotspots?\n",
    "- E.g. we might bias in favour of \"compact\" hotspots (meaning the ratio of the perimeter to area is low).\n",
    "- Can we find efficient algorithms?\n",
    "- What sort of \"hit rate\" do the different methods / different risk algorithms give?"
   ]
  },
  {
   "cell_type": "markdown",
   "metadata": {},
   "source": [
    "# Simple example: \"greedy grid\"\n",
    "\n",
    "Grid based, will produce $\\leq N$ hotspots of a certain total size $M$.  Only constraint is that each \"hotspot\" is a connected collection of cells.  Iterative:\n",
    "\n",
    "- If the current number of hotspots is $<N$, select the cell with the highest risk.\n",
    "- Otherwise, select the cell with the highest risk which is adjacent to a current hotspot.\n",
    "- Stop if we have selected $M$ cells, otherwise continue.\n",
    "\n",
    "Advantages:\n",
    "\n",
    "- $\\mathcal O(nM)$ where $n$ is the number of grid cells, in the naivest implementation.\n",
    "\n",
    "Problems:\n",
    "\n",
    "- No guarantee of producing \"compact\" hotspots.\n",
    "- No guarantee of solving the maximisation problem: this can happen if there are say $N$ isolated cells with high risk, surrounds by very low risk cells, and disjoint to these a large number of medium risk cells, with $M$ much larger than $N$  (so an optimal solution is to choose many medium risk cells; the algorithm chooses the high risk cells and then add very low risk cells)."
   ]
  },
  {
   "cell_type": "code",
   "execution_count": null,
   "metadata": {
    "collapsed": true
   },
   "outputs": [],
   "source": []
  }
 ],
 "metadata": {
  "kernelspec": {
   "display_name": "Python 3",
   "language": "python",
   "name": "python3"
  },
  "language_info": {
   "codemirror_mode": {
    "name": "ipython",
    "version": 3
   },
   "file_extension": ".py",
   "mimetype": "text/x-python",
   "name": "python",
   "nbconvert_exporter": "python",
   "pygments_lexer": "ipython3",
   "version": "3.6.0"
  }
 },
 "nbformat": 4,
 "nbformat_minor": 2
}
