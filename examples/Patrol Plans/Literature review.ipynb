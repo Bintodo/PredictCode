{
 "cells": [
  {
   "cell_type": "markdown",
   "metadata": {},
   "source": [
    "# Literature review\n",
    "\n",
    "## Daily patrol planning\n",
    "\n",
    "1. Chen, H.; Cheng, T.; Wise, S. \"Designing Daily Patrol Routes for Policing Based on ANT Colony Algorithm\"  ISPRS Ann. Photogramm. Remote Sens. Spatial Inf. Sci., II-4/W2, 103-109, https://doi.org/10.5194/isprsannals-II-4-W2-103-2015, 2015. \n",
    "\n",
    "See this (open access) paper for further literature.\n",
    "\n",
    "Here the task is that we are _already given_ hotspots, and we wish to (dynamically) route patrols to these hotspots, in an efficient way.  This is a different task to that which we're interested in."
   ]
  },
  {
   "cell_type": "markdown",
   "metadata": {},
   "source": [
    "## Forming hotspots\n",
    "\n",
    "1. Chawathe, S. S. \"Organizing Hot-Spot Police Patrol Routes\"  DOI: 10.1109/ISI.2007.379538 \n",
    "\n",
    "This does address our problem, but makes a (large) number of simplifications before presenting a solution, making it not directly applicable."
   ]
  },
  {
   "cell_type": "code",
   "execution_count": null,
   "metadata": {
    "collapsed": true
   },
   "outputs": [],
   "source": []
  }
 ],
 "metadata": {
  "kernelspec": {
   "display_name": "Python 3",
   "language": "python",
   "name": "python3"
  },
  "language_info": {
   "codemirror_mode": {
    "name": "ipython",
    "version": 3
   },
   "file_extension": ".py",
   "mimetype": "text/x-python",
   "name": "python",
   "nbconvert_exporter": "python",
   "pygments_lexer": "ipython3",
   "version": "3.6.0"
  }
 },
 "nbformat": 4,
 "nbformat_minor": 2
}
