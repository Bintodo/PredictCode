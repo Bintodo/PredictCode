{
 "cells": [
  {
   "cell_type": "code",
   "execution_count": 1,
   "metadata": {
    "collapsed": false
   },
   "outputs": [],
   "source": [
    "# Allow us to load `open_cp` without installing\n",
    "import sys, os.path\n",
    "sys.path.insert(0, os.path.abspath(os.path.join(\"..\", \"..\")))"
   ]
  },
  {
   "cell_type": "markdown",
   "metadata": {},
   "source": [
    "# Chicago data\n",
    "\n",
    "The data can be downloaded from https://catalog.data.gov/dataset/crimes-2001-to-present-398a4 (see the module docstring of `open_cp.sources.chicago`  See also https://data.cityofchicago.org/Public-Safety/Crimes-2001-to-present/ijzp-q8t2\n",
    "\n",
    "In this notebook, we quickly look at the data, check that the data agrees between both sources, and demo some of the library features provided for loading the data."
   ]
  },
  {
   "cell_type": "code",
   "execution_count": 2,
   "metadata": {
    "collapsed": false
   },
   "outputs": [],
   "source": [
    "import open_cp.sources.chicago as chicago\n",
    "import geopandas as gpd\n",
    "\n",
    "import sys, os, csv, lzma\n",
    "filename = os.path.join(\"..\", \"..\", \"open_cp\", \"sources\", \"chicago.csv\")\n",
    "filename_all = os.path.join(\"..\", \"..\", \"open_cp\", \"sources\", \"chicago_all.csv.xz\")\n",
    "filename_all1 = os.path.join(\"..\", \"..\", \"open_cp\", \"sources\", \"chicago_all1.csv.xz\")"
   ]
  },
  {
   "cell_type": "markdown",
   "metadata": {},
   "source": [
    "Let us look at the snapshot of the last year, vs the total dataset.  The data appears to be the same, though the exact format changes."
   ]
  },
  {
   "cell_type": "code",
   "execution_count": 3,
   "metadata": {
    "collapsed": false
   },
   "outputs": [
    {
     "name": "stdout",
     "output_type": "stream",
     "text": [
      "['CASE#', 'DATE  OF OCCURRENCE', 'BLOCK', ' IUCR', ' PRIMARY DESCRIPTION', ' SECONDARY DESCRIPTION', ' LOCATION DESCRIPTION', 'ARREST', 'DOMESTIC', 'BEAT', 'WARD', 'FBI CD', 'X COORDINATE', 'Y COORDINATE', 'LATITUDE', 'LONGITUDE', 'LOCATION']\n",
      "['HZ560767', '12/22/2016 02:55:00 AM', '010XX N CENTRAL PARK AVE', '4387', 'OTHER OFFENSE', 'VIOLATE ORDER OF PROTECTION', 'APARTMENT', 'N', 'Y', '1112', '27', '26', '1152189', '1906649', '41.899712716', '-87.716454159', '(41.899712716, -87.716454159)']\n"
     ]
    }
   ],
   "source": [
    "with open(filename, \"rt\") as file:\n",
    "    reader = csv.reader(file)\n",
    "    print(next(reader))\n",
    "    print(next(reader))"
   ]
  },
  {
   "cell_type": "code",
   "execution_count": 4,
   "metadata": {
    "collapsed": false
   },
   "outputs": [
    {
     "name": "stdout",
     "output_type": "stream",
     "text": [
      "['ID', 'Case Number', 'Date', 'Block', 'IUCR', 'Primary Type', 'Description', 'Location Description', 'Arrest', 'Domestic', 'Beat', 'District', 'Ward', 'Community Area', 'FBI Code', 'X Coordinate', 'Y Coordinate', 'Year', 'Updated On', 'Latitude', 'Longitude', 'Location']\n",
      "['4652043', 'HL594701', '09/06/2005 12:06:44 PM', '004XX E 61ST ST', '1811', 'NARCOTICS', 'POSS: CANNABIS 30GMS OR LESS', 'OTHER', 'true', 'false', '0313', '003', '20', '42', '18', '1180151', '1864661', '2005', '04/15/2016 08:55:02 AM', '41.783897141', '-87.61504023', '(41.783897141, -87.61504023)']\n"
     ]
    }
   ],
   "source": [
    "with lzma.open(filename_all, \"rt\") as file:\n",
    "    reader = csv.reader(file)\n",
    "    print(next(reader))\n",
    "    print(next(reader))"
   ]
  },
  {
   "cell_type": "markdown",
   "metadata": {},
   "source": [
    "As well as loading data directly into a `TimedPoints` class, we can process a sub-set of the data to GeoJSON, or straight to a geopandas dataframe (if geopandas is installed)."
   ]
  },
  {
   "cell_type": "code",
   "execution_count": 5,
   "metadata": {
    "collapsed": false
   },
   "outputs": [
    {
     "data": {
      "text/plain": [
       "{'geometry': {'coordinates': [-87.716454159, 41.899712716], 'type': 'Point'},\n",
       " 'properties': {'address': '010XX N CENTRAL PARK AVE',\n",
       "  'case': 'HZ560767',\n",
       "  'crime': 'OTHER OFFENSE',\n",
       "  'location': 'APARTMENT',\n",
       "  'timestamp': '2016-12-22T02:55:00',\n",
       "  'type': 'VIOLATE ORDER OF PROTECTION'},\n",
       " 'type': 'Feature'}"
      ]
     },
     "execution_count": 5,
     "metadata": {},
     "output_type": "execute_result"
    }
   ],
   "source": [
    "geo_data = chicago.load_to_GeoJSON()\n",
    "geo_data[0]"
   ]
  },
  {
   "cell_type": "code",
   "execution_count": 6,
   "metadata": {
    "collapsed": false
   },
   "outputs": [
    {
     "data": {
      "text/html": [
       "<div>\n",
       "<table border=\"1\" class=\"dataframe\">\n",
       "  <thead>\n",
       "    <tr style=\"text-align: right;\">\n",
       "      <th></th>\n",
       "      <th>address</th>\n",
       "      <th>case</th>\n",
       "      <th>crime</th>\n",
       "      <th>geometry</th>\n",
       "      <th>location</th>\n",
       "      <th>timestamp</th>\n",
       "      <th>type</th>\n",
       "    </tr>\n",
       "  </thead>\n",
       "  <tbody>\n",
       "    <tr>\n",
       "      <th>0</th>\n",
       "      <td>010XX N CENTRAL PARK AVE</td>\n",
       "      <td>HZ560767</td>\n",
       "      <td>OTHER OFFENSE</td>\n",
       "      <td>POINT (-87.71645415899999 41.899712716)</td>\n",
       "      <td>APARTMENT</td>\n",
       "      <td>2016-12-22T02:55:00</td>\n",
       "      <td>VIOLATE ORDER OF PROTECTION</td>\n",
       "    </tr>\n",
       "    <tr>\n",
       "      <th>1</th>\n",
       "      <td>051XX S WASHTENAW AVE</td>\n",
       "      <td>HZ561134</td>\n",
       "      <td>BATTERY</td>\n",
       "      <td>POINT (-87.691539994 41.800445234)</td>\n",
       "      <td>RESIDENTIAL YARD (FRONT/BACK)</td>\n",
       "      <td>2016-12-22T11:17:00</td>\n",
       "      <td>AGGRAVATED: OTHER FIREARM</td>\n",
       "    </tr>\n",
       "    <tr>\n",
       "      <th>2</th>\n",
       "      <td>059XX W DIVERSEY AVE</td>\n",
       "      <td>HZ565584</td>\n",
       "      <td>DECEPTIVE PRACTICE</td>\n",
       "      <td>POINT (-87.774165121 41.931166274)</td>\n",
       "      <td>RESIDENCE</td>\n",
       "      <td>2016-12-09T12:00:00</td>\n",
       "      <td>FINANCIAL IDENTITY THEFT $300 AND UNDER</td>\n",
       "    </tr>\n",
       "    <tr>\n",
       "      <th>3</th>\n",
       "      <td>001XX N STATE ST</td>\n",
       "      <td>HZ561772</td>\n",
       "      <td>THEFT</td>\n",
       "      <td>POINT (-87.62787669799999 41.883500187)</td>\n",
       "      <td>DEPARTMENT STORE</td>\n",
       "      <td>2016-12-22T18:50:00</td>\n",
       "      <td>RETAIL THEFT</td>\n",
       "    </tr>\n",
       "    <tr>\n",
       "      <th>4</th>\n",
       "      <td>008XX N MICHIGAN AVE</td>\n",
       "      <td>HZ561969</td>\n",
       "      <td>THEFT</td>\n",
       "      <td>POINT (-87.624095634 41.897982937)</td>\n",
       "      <td>SMALL RETAIL STORE</td>\n",
       "      <td>2016-12-22T19:20:00</td>\n",
       "      <td>RETAIL THEFT</td>\n",
       "    </tr>\n",
       "  </tbody>\n",
       "</table>\n",
       "</div>"
      ],
      "text/plain": [
       "                    address      case               crime  \\\n",
       "0  010XX N CENTRAL PARK AVE  HZ560767       OTHER OFFENSE   \n",
       "1     051XX S WASHTENAW AVE  HZ561134             BATTERY   \n",
       "2      059XX W DIVERSEY AVE  HZ565584  DECEPTIVE PRACTICE   \n",
       "3          001XX N STATE ST  HZ561772               THEFT   \n",
       "4      008XX N MICHIGAN AVE  HZ561969               THEFT   \n",
       "\n",
       "                                  geometry                       location  \\\n",
       "0  POINT (-87.71645415899999 41.899712716)                      APARTMENT   \n",
       "1       POINT (-87.691539994 41.800445234)  RESIDENTIAL YARD (FRONT/BACK)   \n",
       "2       POINT (-87.774165121 41.931166274)                      RESIDENCE   \n",
       "3  POINT (-87.62787669799999 41.883500187)               DEPARTMENT STORE   \n",
       "4       POINT (-87.624095634 41.897982937)             SMALL RETAIL STORE   \n",
       "\n",
       "             timestamp                                     type  \n",
       "0  2016-12-22T02:55:00              VIOLATE ORDER OF PROTECTION  \n",
       "1  2016-12-22T11:17:00                AGGRAVATED: OTHER FIREARM  \n",
       "2  2016-12-09T12:00:00  FINANCIAL IDENTITY THEFT $300 AND UNDER  \n",
       "3  2016-12-22T18:50:00                             RETAIL THEFT  \n",
       "4  2016-12-22T19:20:00                             RETAIL THEFT  "
      ]
     },
     "execution_count": 6,
     "metadata": {},
     "output_type": "execute_result"
    }
   ],
   "source": [
    "frame = chicago.load_to_geoDataFrame()\n",
    "frame.head()"
   ]
  },
  {
   "cell_type": "markdown",
   "metadata": {},
   "source": [
    "## Explore with QGIS\n",
    "\n",
    "We can save the dataframe to a shape-file which can be viewed in e.g. QGIS.\n",
    "\n",
    "To explore the spatial-distribution, I would recommend using an interactive GIS package.  Using QGIS (free and open source) you can easily add a basemap using GoogleMaps or OpenStreetMap, etc.  See http://maps.cga.harvard.edu/qgis/wkshop/basemap.php\n",
    "\n",
    "I found this to be slightly buggy.  On Windows, QGIS 2.18.7 I found that the following worked:\n",
    "- First open the `chicago.shp` file produced from the line above.\n",
    "- Select the Coordinate reference system \"WGS 84 / EPSG:4326\"\n",
    "- Now go to the menu \"Web\" -> \"OpenLayers plugin\" -> Whatever\n",
    "- The projection should change to EPSG:3857.  The basemap will obscure the point map, so in the \"Layers Panel\" drag the basemap to the bottom.\n",
    "- Selecting EPSG:3857 at import time doesn't seem to work (which is different to the instructions..!)"
   ]
  },
  {
   "cell_type": "code",
   "execution_count": 7,
   "metadata": {
    "collapsed": false
   },
   "outputs": [],
   "source": [
    "# On my Windows install, if I don't do this, I get a GDAL error in\n",
    "# the Jupyter console, and the resulting \".prj\" file is empty.\n",
    "# This isn't critical, but it confuses QGIS, and you end up having to\n",
    "# choose a projection when loading the shape-file.\n",
    "import os\n",
    "os.environ[\"GDAL_DATA\"] = \"C:\\\\Users\\\\Matthew\\\\Anaconda3\\\\Library\\\\share\\\\gdal\\\\\"\n",
    "\n",
    "frame.to_file(\"chicago\")"
   ]
  },
  {
   "cell_type": "markdown",
   "metadata": {},
   "source": [
    "# A geoPandas example\n",
    "\n",
    "Let's use the \"generator of GeoJSON\" option shown above to pick out only BURGLARY crimes from the 2001-- dataset (which is too large to easily load into a dataframe in one go)."
   ]
  },
  {
   "cell_type": "code",
   "execution_count": 8,
   "metadata": {
    "collapsed": false
   },
   "outputs": [
    {
     "data": {
      "text/html": [
       "<div>\n",
       "<table border=\"1\" class=\"dataframe\">\n",
       "  <thead>\n",
       "    <tr style=\"text-align: right;\">\n",
       "      <th></th>\n",
       "      <th>address</th>\n",
       "      <th>case</th>\n",
       "      <th>crime</th>\n",
       "      <th>geometry</th>\n",
       "      <th>location</th>\n",
       "      <th>timestamp</th>\n",
       "      <th>type</th>\n",
       "    </tr>\n",
       "  </thead>\n",
       "  <tbody>\n",
       "    <tr>\n",
       "      <th>0</th>\n",
       "      <td>007XX N MICHIGAN AVE</td>\n",
       "      <td>HM251023</td>\n",
       "      <td>THEFT</td>\n",
       "      <td>POINT (-87.624279065 41.896010965)</td>\n",
       "      <td>DEPARTMENT STORE</td>\n",
       "      <td>2006-03-24T19:00:00</td>\n",
       "      <td>RETAIL THEFT</td>\n",
       "    </tr>\n",
       "    <tr>\n",
       "      <th>1</th>\n",
       "      <td>038XX W DIVERSEY AVE</td>\n",
       "      <td>HM250171</td>\n",
       "      <td>THEFT</td>\n",
       "      <td>POINT (-87.722811197 41.931845968)</td>\n",
       "      <td>VEHICLE NON-COMMERCIAL</td>\n",
       "      <td>2006-03-24T12:25:00</td>\n",
       "      <td>$500 AND UNDER</td>\n",
       "    </tr>\n",
       "    <tr>\n",
       "      <th>2</th>\n",
       "      <td>011XX W THORNDALE AVE</td>\n",
       "      <td>HM250827</td>\n",
       "      <td>THEFT</td>\n",
       "      <td>POINT (-87.659104566 41.990039942)</td>\n",
       "      <td>SMALL RETAIL STORE</td>\n",
       "      <td>2006-03-24T17:30:00</td>\n",
       "      <td>RETAIL THEFT</td>\n",
       "    </tr>\n",
       "    <tr>\n",
       "      <th>3</th>\n",
       "      <td>073XX N CLARK ST</td>\n",
       "      <td>HM250039</td>\n",
       "      <td>THEFT</td>\n",
       "      <td>POINT (-87.674962947 42.014588191)</td>\n",
       "      <td>SIDEWALK</td>\n",
       "      <td>2006-03-23T21:00:00</td>\n",
       "      <td>OVER $500</td>\n",
       "    </tr>\n",
       "    <tr>\n",
       "      <th>4</th>\n",
       "      <td>019XX E 79TH ST</td>\n",
       "      <td>HL796548</td>\n",
       "      <td>THEFT</td>\n",
       "      <td>POINT (-87.57686194999999 41.751596008)</td>\n",
       "      <td>SMALL RETAIL STORE</td>\n",
       "      <td>2005-12-18T14:27:52</td>\n",
       "      <td>RETAIL THEFT</td>\n",
       "    </tr>\n",
       "  </tbody>\n",
       "</table>\n",
       "</div>"
      ],
      "text/plain": [
       "                 address      case  crime  \\\n",
       "0   007XX N MICHIGAN AVE  HM251023  THEFT   \n",
       "1   038XX W DIVERSEY AVE  HM250171  THEFT   \n",
       "2  011XX W THORNDALE AVE  HM250827  THEFT   \n",
       "3       073XX N CLARK ST  HM250039  THEFT   \n",
       "4        019XX E 79TH ST  HL796548  THEFT   \n",
       "\n",
       "                                  geometry                location  \\\n",
       "0       POINT (-87.624279065 41.896010965)        DEPARTMENT STORE   \n",
       "1       POINT (-87.722811197 41.931845968)  VEHICLE NON-COMMERCIAL   \n",
       "2       POINT (-87.659104566 41.990039942)      SMALL RETAIL STORE   \n",
       "3       POINT (-87.674962947 42.014588191)                SIDEWALK   \n",
       "4  POINT (-87.57686194999999 41.751596008)      SMALL RETAIL STORE   \n",
       "\n",
       "             timestamp            type  \n",
       "0  2006-03-24T19:00:00    RETAIL THEFT  \n",
       "1  2006-03-24T12:25:00  $500 AND UNDER  \n",
       "2  2006-03-24T17:30:00    RETAIL THEFT  \n",
       "3  2006-03-23T21:00:00       OVER $500  \n",
       "4  2005-12-18T14:27:52    RETAIL THEFT  "
      ]
     },
     "execution_count": 8,
     "metadata": {},
     "output_type": "execute_result"
    }
   ],
   "source": [
    "with lzma.open(filename_all, \"rt\") as file:\n",
    "    features = [ event for event in chicago.generate_GeoJSON_Features(file, type=\"all\")\n",
    "                if event[\"properties\"][\"crime\"] == \"THEFT\" ]\n",
    "    \n",
    "frame = gpd.GeoDataFrame.from_features(features)\n",
    "frame.crs = {\"init\":\"EPSG:4326\"} # Lon/Lat native coords\n",
    "frame.head()"
   ]
  },
  {
   "cell_type": "code",
   "execution_count": 9,
   "metadata": {
    "collapsed": false
   },
   "outputs": [],
   "source": [
    "frame.to_file(\"chicago_all_theft\")"
   ]
  },
  {
   "cell_type": "code",
   "execution_count": 10,
   "metadata": {
    "collapsed": false,
    "scrolled": true
   },
   "outputs": [
    {
     "data": {
      "text/html": [
       "<div>\n",
       "<table border=\"1\" class=\"dataframe\">\n",
       "  <thead>\n",
       "    <tr style=\"text-align: right;\">\n",
       "      <th></th>\n",
       "      <th>address</th>\n",
       "      <th>case</th>\n",
       "      <th>crime</th>\n",
       "      <th>geometry</th>\n",
       "      <th>location</th>\n",
       "      <th>timestamp</th>\n",
       "      <th>type</th>\n",
       "    </tr>\n",
       "  </thead>\n",
       "  <tbody>\n",
       "    <tr>\n",
       "      <th>0</th>\n",
       "      <td>049XX S MARSHFIELD AVE</td>\n",
       "      <td>HM246722</td>\n",
       "      <td>BURGLARY</td>\n",
       "      <td>POINT (-87.66607344800001 41.804251898)</td>\n",
       "      <td>RESIDENCE</td>\n",
       "      <td>2006-03-22T13:00:00</td>\n",
       "      <td>FORCIBLE ENTRY</td>\n",
       "    </tr>\n",
       "    <tr>\n",
       "      <th>1</th>\n",
       "      <td>059XX W LAWRENCE AVE</td>\n",
       "      <td>HM250229</td>\n",
       "      <td>BURGLARY</td>\n",
       "      <td>POINT (-87.775482272 41.967676276)</td>\n",
       "      <td>COMMERCIAL / BUSINESS OFFICE</td>\n",
       "      <td>2006-03-23T20:00:00</td>\n",
       "      <td>UNLAWFUL ENTRY</td>\n",
       "    </tr>\n",
       "    <tr>\n",
       "      <th>2</th>\n",
       "      <td>023XX W JACKSON BLVD</td>\n",
       "      <td>HM250645</td>\n",
       "      <td>BURGLARY</td>\n",
       "      <td>POINT (-87.684893829 41.877565688)</td>\n",
       "      <td>APARTMENT</td>\n",
       "      <td>2006-03-24T10:00:00</td>\n",
       "      <td>FORCIBLE ENTRY</td>\n",
       "    </tr>\n",
       "    <tr>\n",
       "      <th>3</th>\n",
       "      <td>102XX S RACINE AVE</td>\n",
       "      <td>HL816910</td>\n",
       "      <td>BURGLARY</td>\n",
       "      <td>POINT (-87.65259514500001 41.708116723)</td>\n",
       "      <td>RESIDENCE</td>\n",
       "      <td>2005-12-30T09:22:37</td>\n",
       "      <td>FORCIBLE ENTRY</td>\n",
       "    </tr>\n",
       "    <tr>\n",
       "      <th>4</th>\n",
       "      <td>001XX W 112TH ST</td>\n",
       "      <td>HM246476</td>\n",
       "      <td>BURGLARY</td>\n",
       "      <td>POINT (-87.62658922200001 41.690730834)</td>\n",
       "      <td>RESIDENCE</td>\n",
       "      <td>2006-03-22T14:44:00</td>\n",
       "      <td>FORCIBLE ENTRY</td>\n",
       "    </tr>\n",
       "  </tbody>\n",
       "</table>\n",
       "</div>"
      ],
      "text/plain": [
       "                  address      case     crime  \\\n",
       "0  049XX S MARSHFIELD AVE  HM246722  BURGLARY   \n",
       "1    059XX W LAWRENCE AVE  HM250229  BURGLARY   \n",
       "2    023XX W JACKSON BLVD  HM250645  BURGLARY   \n",
       "3      102XX S RACINE AVE  HL816910  BURGLARY   \n",
       "4        001XX W 112TH ST  HM246476  BURGLARY   \n",
       "\n",
       "                                  geometry                      location  \\\n",
       "0  POINT (-87.66607344800001 41.804251898)                     RESIDENCE   \n",
       "1       POINT (-87.775482272 41.967676276)  COMMERCIAL / BUSINESS OFFICE   \n",
       "2       POINT (-87.684893829 41.877565688)                     APARTMENT   \n",
       "3  POINT (-87.65259514500001 41.708116723)                     RESIDENCE   \n",
       "4  POINT (-87.62658922200001 41.690730834)                     RESIDENCE   \n",
       "\n",
       "             timestamp            type  \n",
       "0  2006-03-22T13:00:00  FORCIBLE ENTRY  \n",
       "1  2006-03-23T20:00:00  UNLAWFUL ENTRY  \n",
       "2  2006-03-24T10:00:00  FORCIBLE ENTRY  \n",
       "3  2005-12-30T09:22:37  FORCIBLE ENTRY  \n",
       "4  2006-03-22T14:44:00  FORCIBLE ENTRY  "
      ]
     },
     "execution_count": 10,
     "metadata": {},
     "output_type": "execute_result"
    }
   ],
   "source": [
    "with lzma.open(filename_all, \"rt\") as file:\n",
    "    features = [ event for event in chicago.generate_GeoJSON_Features(file, type=\"all\")\n",
    "                if event[\"properties\"][\"crime\"] == \"BURGLARY\" ]\n",
    "\n",
    "frame = gpd.GeoDataFrame.from_features(features)\n",
    "frame.crs = {\"init\":\"EPSG:4326\"} # Lon/Lat native coords\n",
    "frame.head()"
   ]
  },
  {
   "cell_type": "code",
   "execution_count": 11,
   "metadata": {
    "collapsed": true
   },
   "outputs": [],
   "source": [
    "frame.to_file(\"chicago_all_burglary\")"
   ]
  },
  {
   "cell_type": "code",
   "execution_count": 12,
   "metadata": {
    "collapsed": false
   },
   "outputs": [
    {
     "data": {
      "text/plain": [
       "array(['FORCIBLE ENTRY', 'UNLAWFUL ENTRY', 'ATTEMPT FORCIBLE ENTRY',\n",
       "       'HOME INVASION'], dtype=object)"
      ]
     },
     "execution_count": 12,
     "metadata": {},
     "output_type": "execute_result"
    }
   ],
   "source": [
    "frame[\"type\"].unique()"
   ]
  },
  {
   "cell_type": "code",
   "execution_count": 13,
   "metadata": {
    "collapsed": false,
    "scrolled": true
   },
   "outputs": [
    {
     "data": {
      "text/plain": [
       "array(['RESIDENCE', 'COMMERCIAL / BUSINESS OFFICE', 'APARTMENT',\n",
       "       'RESIDENCE-GARAGE', 'CONSTRUCTION SITE', 'SCHOOL, PUBLIC, BUILDING',\n",
       "       'OTHER', 'DEPARTMENT STORE', 'APPLIANCE STORE',\n",
       "       'SMALL RETAIL STORE', 'GROCERY FOOD STORE', 'CHA APARTMENT',\n",
       "       'FACTORY/MANUFACTURING BUILDING', 'PARKING LOT/GARAGE(NON.RESID.)',\n",
       "       'WAREHOUSE', 'MEDICAL/DENTAL OFFICE', 'RESTAURANT',\n",
       "       'RESIDENCE PORCH/HALLWAY', 'VACANT LOT/LAND', 'BARBERSHOP',\n",
       "       'GOVERNMENT BUILDING/PROPERTY', 'SCHOOL, PRIVATE, BUILDING',\n",
       "       'HOTEL/MOTEL', 'GAS STATION', 'ALLEY', 'DRUG STORE', 'CAR WASH',\n",
       "       'TAVERN/LIQUOR STORE', 'CLEANING STORE', 'PARK PROPERTY',\n",
       "       'CHURCH/SYNAGOGUE/PLACE OF WORSHIP', 'SCHOOL, PUBLIC, GROUNDS',\n",
       "       'MOVIE HOUSE/THEATER', 'CTA PLATFORM',\n",
       "       'OTHER RAILROAD PROP / TRAIN DEPOT', 'HOSPITAL BUILDING/GROUNDS',\n",
       "       'ABANDONED BUILDING', 'STREET', 'BAR OR TAVERN',\n",
       "       'CONVENIENCE STORE', 'POLICE FACILITY/VEH PARKING LOT',\n",
       "       'CURRENCY EXCHANGE', 'CTA GARAGE / OTHER PROPERTY',\n",
       "       'DAY CARE CENTER', 'NURSING HOME/RETIREMENT HOME', 'BRIDGE',\n",
       "       'SIDEWALK', 'RESIDENTIAL YARD (FRONT/BACK)', 'LIBRARY',\n",
       "       'COLLEGE/UNIVERSITY RESIDENCE HALL', 'COIN OPERATED MACHINE',\n",
       "       'FIRE STATION', 'COLLEGE/UNIVERSITY GROUNDS',\n",
       "       'VEHICLE NON-COMMERCIAL', 'BANK', 'CHA PARKING LOT/GROUNDS',\n",
       "       'DRIVEWAY - RESIDENTIAL', 'BOAT/WATERCRAFT',\n",
       "       'SCHOOL, PRIVATE, GROUNDS', 'ANIMAL HOSPITAL', 'NEWSSTAND',\n",
       "       'FEDERAL BUILDING', 'SAVINGS AND LOAN', 'BOWLING ALLEY',\n",
       "       'ATHLETIC CLUB', 'AIRPORT/AIRCRAFT',\n",
       "       'OTHER COMMERCIAL TRANSPORTATION', 'PAWN SHOP', 'DELIVERY TRUCK',\n",
       "       'CHA HALLWAY/STAIRWELL/ELEVATOR', 'CEMETARY', 'VEHICLE-COMMERCIAL',\n",
       "       'TAXICAB', 'SPORTS ARENA/STADIUM', 'POOL ROOM', 'CREDIT UNION',\n",
       "       'LAKEFRONT/WATERFRONT/RIVERBANK', 'CTA TRAIN',\n",
       "       'ATM (AUTOMATIC TELLER MACHINE)', 'FOREST PRESERVE', 'CTA BUS STOP',\n",
       "       'AIRPORT EXTERIOR - NON-SECURE AREA', '',\n",
       "       'CTA TRACKS - RIGHT OF WAY', 'CTA STATION', 'HIGHWAY/EXPRESSWAY',\n",
       "       'AIRPORT TERMINAL UPPER LEVEL - SECURE AREA', 'CTA BUS',\n",
       "       'VEHICLE - OTHER RIDE SERVICE',\n",
       "       'AIRPORT TERMINAL LOWER LEVEL - NON-SECURE AREA'], dtype=object)"
      ]
     },
     "execution_count": 13,
     "metadata": {},
     "output_type": "execute_result"
    }
   ],
   "source": [
    "frame[\"location\"].unique()"
   ]
  },
  {
   "cell_type": "markdown",
   "metadata": {},
   "source": [
    "Upon loading into QGIS to visualise, we find that the 2001 data seems to be geocoded in a different way...  The events are not on the road, and the distribution looks less artificial.  Let's extract the 2001 burglary data, and then the all the 2001 data, and save."
   ]
  },
  {
   "cell_type": "code",
   "execution_count": 14,
   "metadata": {
    "collapsed": false
   },
   "outputs": [
    {
     "data": {
      "text/html": [
       "<div>\n",
       "<table border=\"1\" class=\"dataframe\">\n",
       "  <thead>\n",
       "    <tr style=\"text-align: right;\">\n",
       "      <th></th>\n",
       "      <th>address</th>\n",
       "      <th>case</th>\n",
       "      <th>crime</th>\n",
       "      <th>geometry</th>\n",
       "      <th>location</th>\n",
       "      <th>timestamp</th>\n",
       "      <th>type</th>\n",
       "    </tr>\n",
       "  </thead>\n",
       "  <tbody>\n",
       "    <tr>\n",
       "      <th>0</th>\n",
       "      <td>069XX W 64TH ST</td>\n",
       "      <td>HM376257</td>\n",
       "      <td>THEFT</td>\n",
       "      <td>POINT (-87.79442148699999 41.775545301)</td>\n",
       "      <td>RESIDENCE</td>\n",
       "      <td>2001-05-15T12:00:00</td>\n",
       "      <td>FINANCIAL ID THEFT:$300 &amp;UNDER</td>\n",
       "    </tr>\n",
       "    <tr>\n",
       "      <th>1</th>\n",
       "      <td>016XX N CENTRAL PARK AVE</td>\n",
       "      <td>HM243576</td>\n",
       "      <td>OFFENSE INVOLVING CHILDREN</td>\n",
       "      <td>POINT (-87.716721957 41.910820079)</td>\n",
       "      <td>RESIDENCE</td>\n",
       "      <td>2001-01-01T00:01:00</td>\n",
       "      <td>AGG SEX ASSLT OF CHILD FAM MBR</td>\n",
       "    </tr>\n",
       "    <tr>\n",
       "      <th>2</th>\n",
       "      <td>048XX S KENWOOD AVE</td>\n",
       "      <td>HM381863</td>\n",
       "      <td>OFFENSE INVOLVING CHILDREN</td>\n",
       "      <td>POINT (-87.593706931 41.807274768)</td>\n",
       "      <td>RESIDENCE</td>\n",
       "      <td>2001-01-01T00:00:00</td>\n",
       "      <td>SEX ASSLT OF CHILD BY FAM MBR</td>\n",
       "    </tr>\n",
       "    <tr>\n",
       "      <th>3</th>\n",
       "      <td>048XX N PAULINA ST</td>\n",
       "      <td>HM384838</td>\n",
       "      <td>THEFT</td>\n",
       "      <td>POINT (-87.67092233299999 41.970613961)</td>\n",
       "      <td>RESIDENCE</td>\n",
       "      <td>2001-01-01T00:01:00</td>\n",
       "      <td>FINANCIAL ID THEFT: OVER $300</td>\n",
       "    </tr>\n",
       "    <tr>\n",
       "      <th>4</th>\n",
       "      <td>010XX E 73RD ST</td>\n",
       "      <td>HM388575</td>\n",
       "      <td>THEFT</td>\n",
       "      <td>POINT (-87.599210982 41.762408071)</td>\n",
       "      <td>RESIDENCE</td>\n",
       "      <td>2001-03-31T00:00:00</td>\n",
       "      <td>FINANCIAL ID THEFT: OVER $300</td>\n",
       "    </tr>\n",
       "  </tbody>\n",
       "</table>\n",
       "</div>"
      ],
      "text/plain": [
       "                    address      case                       crime  \\\n",
       "0           069XX W 64TH ST  HM376257                       THEFT   \n",
       "1  016XX N CENTRAL PARK AVE  HM243576  OFFENSE INVOLVING CHILDREN   \n",
       "2       048XX S KENWOOD AVE  HM381863  OFFENSE INVOLVING CHILDREN   \n",
       "3        048XX N PAULINA ST  HM384838                       THEFT   \n",
       "4           010XX E 73RD ST  HM388575                       THEFT   \n",
       "\n",
       "                                  geometry   location            timestamp  \\\n",
       "0  POINT (-87.79442148699999 41.775545301)  RESIDENCE  2001-05-15T12:00:00   \n",
       "1       POINT (-87.716721957 41.910820079)  RESIDENCE  2001-01-01T00:01:00   \n",
       "2       POINT (-87.593706931 41.807274768)  RESIDENCE  2001-01-01T00:00:00   \n",
       "3  POINT (-87.67092233299999 41.970613961)  RESIDENCE  2001-01-01T00:01:00   \n",
       "4       POINT (-87.599210982 41.762408071)  RESIDENCE  2001-03-31T00:00:00   \n",
       "\n",
       "                             type  \n",
       "0  FINANCIAL ID THEFT:$300 &UNDER  \n",
       "1  AGG SEX ASSLT OF CHILD FAM MBR  \n",
       "2   SEX ASSLT OF CHILD BY FAM MBR  \n",
       "3   FINANCIAL ID THEFT: OVER $300  \n",
       "4   FINANCIAL ID THEFT: OVER $300  "
      ]
     },
     "execution_count": 14,
     "metadata": {},
     "output_type": "execute_result"
    }
   ],
   "source": [
    "with lzma.open(filename_all, \"rt\") as file:\n",
    "    features = [ event for event in chicago.generate_GeoJSON_Features(file, type=\"all\")\n",
    "                if event[\"properties\"][\"timestamp\"].startswith(\"2001\") ]\n",
    "\n",
    "frame = gpd.GeoDataFrame.from_features(features)\n",
    "frame.crs = {\"init\":\"EPSG:4326\"} # Lon/Lat native coords\n",
    "frame.head()"
   ]
  },
  {
   "cell_type": "code",
   "execution_count": 15,
   "metadata": {
    "collapsed": true
   },
   "outputs": [],
   "source": [
    "frame.to_file(\"chicago_2001\")"
   ]
  },
  {
   "cell_type": "markdown",
   "metadata": {
    "collapsed": true
   },
   "source": [
    "# Explore rounding errors\n",
    "\n",
    "We check the following:\n",
    "- The X and Y COORDINATES fields (which we'll see, in a different notebook, at longitude / latitude coordinates projected in EPSG:3435 in feet) are always whole numbers.\n",
    "- The longitude and latitude data contains at most 9 decimals places of accuracy.\n",
    "\n",
    "In the other notebook, we look at map projections.  The data is most consistent with the longitude / latitude coordinates being the primary source, and the X/Y projected coordinates being computed and rounded to the nearest integer."
   ]
  },
  {
   "cell_type": "code",
   "execution_count": 16,
   "metadata": {
    "collapsed": false
   },
   "outputs": [
    {
     "name": "stdout",
     "output_type": "stream",
     "text": [
      "['CASE#', 'DATE  OF OCCURRENCE', 'BLOCK', ' IUCR', ' PRIMARY DESCRIPTION', ' SECONDARY DESCRIPTION', ' LOCATION DESCRIPTION', 'ARREST', 'DOMESTIC', 'BEAT', 'WARD', 'FBI CD', 'X COORDINATE', 'Y COORDINATE', 'LATITUDE', 'LONGITUDE', 'LOCATION']\n"
     ]
    }
   ],
   "source": [
    "longs, lats = [], []\n",
    "xcs, ycs = [], []\n",
    "\n",
    "with open(filename, \"rt\") as file:\n",
    "    reader = csv.reader(file)\n",
    "    header = next(reader)\n",
    "    print(header)\n",
    "    for row in reader:\n",
    "        if len(row[14]) > 0:\n",
    "            longs.append(row[14])\n",
    "            lats.append(row[15])\n",
    "            xcs.append(row[12])\n",
    "            ycs.append(row[13])"
   ]
  },
  {
   "cell_type": "code",
   "execution_count": 17,
   "metadata": {
    "collapsed": false
   },
   "outputs": [
    {
     "data": {
      "text/plain": [
       "({8, 9, 10, 11, 12}, {8, 9, 10, 11, 12, 13})"
      ]
     },
     "execution_count": 17,
     "metadata": {},
     "output_type": "execute_result"
    }
   ],
   "source": [
    "set(len(x) for x in longs), set(len(x) for x in lats)"
   ]
  },
  {
   "cell_type": "code",
   "execution_count": 18,
   "metadata": {
    "collapsed": false
   },
   "outputs": [
    {
     "data": {
      "text/plain": [
       "(False, False)"
      ]
     },
     "execution_count": 18,
     "metadata": {},
     "output_type": "execute_result"
    }
   ],
   "source": [
    "any(x.find('.') >= 0 for x in xcs), any(y.find('.') >= 0 for y in ycs)"
   ]
  },
  {
   "cell_type": "code",
   "execution_count": null,
   "metadata": {
    "collapsed": true
   },
   "outputs": [],
   "source": []
  }
 ],
 "metadata": {
  "kernelspec": {
   "display_name": "Python 3",
   "language": "python",
   "name": "python3"
  },
  "language_info": {
   "codemirror_mode": {
    "name": "ipython",
    "version": 3
   },
   "file_extension": ".py",
   "mimetype": "text/x-python",
   "name": "python",
   "nbconvert_exporter": "python",
   "pygments_lexer": "ipython3",
   "version": "3.6.0"
  }
 },
 "nbformat": 4,
 "nbformat_minor": 2
}
