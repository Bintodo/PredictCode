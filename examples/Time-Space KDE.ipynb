{
 "cells": [
  {
   "cell_type": "markdown",
   "metadata": {},
   "source": [
    "# Time / Space KDE algorithms\n",
    "\n",
    "These are a general class of prediction algorithms which are motivated by the \"pro-hotspot\" algorithm, but which work in continuous space and time and so remove the annoying problem of choosing how to compute distances in a grid etc.  In principle, this algorithm, with well-chosen kernels, should out perform all the \"classical\" algorithms.  Unfortunently, the extensive use of KDEs means that this algorithm can be a little slow.\n",
    "\n",
    "## References\n",
    "\n",
    "1. Bowers, Johnson, Pease, \"Prospective hot-spotting: The future of crime mapping?\", Brit. J. Criminol. (2004) 44 641--658.  doi:10.1093/bjc/azh036\n",
    "2. Rosser et al. \"Predictive Crime Mapping: Arbitrary Grids or Street Networks?\" Journal of Quantitative Criminology 33 (2017) 569--594 [10.1007/s10940-016-9321-x](https://link.springer.com/article/10.1007/s10940-016-9321-x)\n",
    "\n",
    "(1) is motivation, and (2) contains an example of this class of algorithm (see page 11, equation (2) of that paper, for example)."
   ]
  },
  {
   "cell_type": "markdown",
   "metadata": {},
   "source": [
    "## Algorithm\n",
    "\n",
    "A grid is only used right at the end to produce the final prediction.\n",
    "\n",
    "### Aim of the algorithm\n",
    "\n",
    "We estimate a relative \"risk\" at the current time, and at location $x$ (a two dimensional vector) by\n",
    "$$ r(x) = \\sum_i f(t_i) g(x-x_i) $$\n",
    "where we have events which occurred $t_i$ time units in the past, and at location $x_i$.  This is hence a combined time and space KDE method.\n",
    "\n",
    "We then compute the average of $r$ in each grid cell to obtain the prediction (in practise we use a monte-carlo approach, and sample $r$ at random locations in each grid cell).\n",
    "\n",
    "Our code allows complete freedom in choosing $f$ and $g$; we provide some common choices.  For the time component $f$:\n",
    "\n",
    "- $f(t)=1$ for all $t$.  So take no account of time.\n",
    "- $f(t) = e^{-\\beta t}$ exponential decay.\n",
    "- $f(t) = ( 1 + (x/\\beta)^2 )^{-1}$ quadratic decay.\n",
    "\n",
    "For space we use a classical KDE method:\n",
    "\n",
    "- Either a general Gaussian KDE method, as implemented by our class `GaussianBase` (which with default parameters replicates the behaviour of the `scipy` KDE method.\n",
    "- A variable bandwidth nearest neighbour estimator.  This tends to produce \"clusters\" which look more realistic."
   ]
  },
  {
   "cell_type": "code",
   "execution_count": 1,
   "metadata": {
    "collapsed": true
   },
   "outputs": [],
   "source": [
    "%matplotlib inline\n",
    "import matplotlib.pyplot as plt\n",
    "import numpy as np\n",
    "import open_cp\n",
    "import open_cp.kde as kde"
   ]
  },
  {
   "cell_type": "code",
   "execution_count": 2,
   "metadata": {
    "collapsed": true
   },
   "outputs": [],
   "source": [
    "# Generate some random data\n",
    "import datetime\n",
    "times = [datetime.datetime(2017,3,10) + datetime.timedelta(days=np.random.randint(0,10)) for _ in range(20)]\n",
    "times.sort()\n",
    "xc = np.random.random(size=20) * 500\n",
    "yc = np.random.random(size=20) * 500\n",
    "points = open_cp.TimedPoints.from_coords(times, xc, yc)"
   ]
  },
  {
   "cell_type": "code",
   "execution_count": 7,
   "metadata": {
    "collapsed": true
   },
   "outputs": [],
   "source": [
    "region = open_cp.RectangularRegion(0,500, 0,500)\n",
    "predictor = kde.KDE(region=region, grid_size=50)\n",
    "predictor.time_kernel = kde.ExponentialTimeKernel(1)\n",
    "predictor.space_kernel = kde.GaussianBaseProvider()\n",
    "predictor.data = points\n",
    "gridpred = predictor.predict(samples=20)"
   ]
  },
  {
   "cell_type": "code",
   "execution_count": 12,
   "metadata": {
    "collapsed": false
   },
   "outputs": [
    {
     "data": {
      "image/png": "[encoded data removed]",
      "text/plain": [
       "<matplotlib.figure.Figure at 0x7f5fa52ab940>"
      ]
     },
     "metadata": {},
     "output_type": "display_data"
    }
   ],
   "source": [
    "fig, ax = plt.subplots(figsize=(10,10))\n",
    "\n",
    "m = ax.pcolor(*gridpred.mesh_data(), gridpred.intensity_matrix)\n",
    "ax.scatter(points.xcoords, points.ycoords, marker=\"+\", color=\"black\")\n",
    "cb = plt.colorbar(m, ax=ax)\n",
    "cb.set_label(\"Relative risk\")\n",
    "None"
   ]
  },
  {
   "cell_type": "code",
   "execution_count": 15,
   "metadata": {
    "collapsed": false
   },
   "outputs": [
    {
     "data": {
      "text/plain": [
       "array(['2017-03-10T00:00:00.000', '2017-03-11T00:00:00.000',\n",
       "       '2017-03-11T00:00:00.000', '2017-03-12T00:00:00.000',\n",
       "       '2017-03-13T00:00:00.000', '2017-03-13T00:00:00.000',\n",
       "       '2017-03-14T00:00:00.000', '2017-03-14T00:00:00.000',\n",
       "       '2017-03-14T00:00:00.000', '2017-03-14T00:00:00.000',\n",
       "       '2017-03-15T00:00:00.000', '2017-03-15T00:00:00.000',\n",
       "       '2017-03-16T00:00:00.000', '2017-03-16T00:00:00.000',\n",
       "       '2017-03-16T00:00:00.000', '2017-03-18T00:00:00.000',\n",
       "       '2017-03-18T00:00:00.000', '2017-03-18T00:00:00.000',\n",
       "       '2017-03-18T00:00:00.000', '2017-03-19T00:00:00.000'], dtype='datetime64[ms]')"
      ]
     },
     "execution_count": 15,
     "metadata": {},
     "output_type": "execute_result"
    }
   ],
   "source": [
    "points.timestamps"
   ]
  },
  {
   "cell_type": "code",
   "execution_count": 16,
   "metadata": {
    "collapsed": false
   },
   "outputs": [
    {
     "data": {
      "text/plain": [
       "(array([ 379.3287302 ,   51.84512867,  447.21634659,  320.62114003,\n",
       "         488.04289289,  112.27385836,   22.04512279,   87.55356624,\n",
       "          91.57232048,  158.77916961,   90.39027207,   20.75979297,\n",
       "         152.8479768 ,    3.11483594,  478.5092347 ,  161.16859732,\n",
       "         451.29942286,  158.20811483,   34.20631481,  448.46687399]),\n",
       " array([  20.2223569 ,  332.93604979,  327.85381792,   76.82587455,\n",
       "         349.33619248,  112.81885325,  420.29730398,  143.55804079,\n",
       "         199.95493334,  438.01600574,   81.9967736 ,  186.0964125 ,\n",
       "         496.32844678,  299.85234479,  496.47724818,  303.75840881,\n",
       "         235.6819393 ,  129.52545513,  417.73805162,  439.63753049]))"
      ]
     },
     "execution_count": 16,
     "metadata": {},
     "output_type": "execute_result"
    }
   ],
   "source": [
    "points.xcoords, points.ycoords"
   ]
  },
  {
   "cell_type": "markdown",
   "metadata": {},
   "source": [
    "You can see the dependence on time: the most recent event gives much more total risk than an event far in the past."
   ]
  },
  {
   "cell_type": "code",
   "execution_count": null,
   "metadata": {
    "collapsed": true
   },
   "outputs": [],
   "source": []
  }
 ],
 "metadata": {
  "kernelspec": {
   "display_name": "Python 3",
   "language": "python",
   "name": "python3"
  },
  "language_info": {
   "codemirror_mode": {
    "name": "ipython",
    "version": 3
   },
   "file_extension": ".py",
   "mimetype": "text/x-python",
   "name": "python",
   "nbconvert_exporter": "python",
   "pygments_lexer": "ipython3",
   "version": "3.6.0"
  }
 },
 "nbformat": 4,
 "nbformat_minor": 2
}
